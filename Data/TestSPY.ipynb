{
 "cells": [
  {
   "cell_type": "code",
   "execution_count": 21,
   "metadata": {},
   "outputs": [],
   "source": [
    "# General import to be needed\n",
    "import numpy as np\n",
    "import pandas as pd\n",
    "from datetime import datetime, timedelta\n",
    "import matplotlib.pyplot as plt\n",
    "%matplotlib inline\n",
    "import hvplot.pandas\n",
    "\n",
    "# import yfinance\n",
    "import yfinance as yf\n",
    "\n",
    "\n",
    "# Import warning\n",
    "import warnings\n",
    "warnings.filterwarnings('ignore')"
   ]
  },
  {
   "cell_type": "code",
   "execution_count": 22,
   "metadata": {},
   "outputs": [
    {
     "name": "stdout",
     "output_type": "stream",
     "text": [
      "[*********************100%***********************]  1 of 1 completed\n"
     ]
    },
    {
     "data": {
      "text/html": [
       "<div>\n",
       "<style scoped>\n",
       "    .dataframe tbody tr th:only-of-type {\n",
       "        vertical-align: middle;\n",
       "    }\n",
       "\n",
       "    .dataframe tbody tr th {\n",
       "        vertical-align: top;\n",
       "    }\n",
       "\n",
       "    .dataframe thead th {\n",
       "        text-align: right;\n",
       "    }\n",
       "</style>\n",
       "<table border=\"1\" class=\"dataframe\">\n",
       "  <thead>\n",
       "    <tr style=\"text-align: right;\">\n",
       "      <th></th>\n",
       "      <th>Open</th>\n",
       "      <th>High</th>\n",
       "      <th>Low</th>\n",
       "      <th>Close</th>\n",
       "      <th>Adj Close</th>\n",
       "      <th>Volume</th>\n",
       "    </tr>\n",
       "    <tr>\n",
       "      <th>Date</th>\n",
       "      <th></th>\n",
       "      <th></th>\n",
       "      <th></th>\n",
       "      <th></th>\n",
       "      <th></th>\n",
       "      <th></th>\n",
       "    </tr>\n",
       "  </thead>\n",
       "  <tbody>\n",
       "    <tr>\n",
       "      <th>2017-01-20</th>\n",
       "      <td>226.699997</td>\n",
       "      <td>227.309998</td>\n",
       "      <td>225.970001</td>\n",
       "      <td>226.740005</td>\n",
       "      <td>210.286606</td>\n",
       "      <td>129168600</td>\n",
       "    </tr>\n",
       "    <tr>\n",
       "      <th>2017-01-23</th>\n",
       "      <td>226.740005</td>\n",
       "      <td>226.809998</td>\n",
       "      <td>225.270004</td>\n",
       "      <td>226.149994</td>\n",
       "      <td>209.739395</td>\n",
       "      <td>75061600</td>\n",
       "    </tr>\n",
       "    <tr>\n",
       "      <th>2017-01-24</th>\n",
       "      <td>226.399994</td>\n",
       "      <td>228.080002</td>\n",
       "      <td>226.270004</td>\n",
       "      <td>227.600006</td>\n",
       "      <td>211.084198</td>\n",
       "      <td>95555300</td>\n",
       "    </tr>\n",
       "    <tr>\n",
       "      <th>2017-01-25</th>\n",
       "      <td>228.699997</td>\n",
       "      <td>229.570007</td>\n",
       "      <td>228.509995</td>\n",
       "      <td>229.570007</td>\n",
       "      <td>212.911209</td>\n",
       "      <td>84437700</td>\n",
       "    </tr>\n",
       "    <tr>\n",
       "      <th>2017-01-26</th>\n",
       "      <td>229.399994</td>\n",
       "      <td>229.710007</td>\n",
       "      <td>229.009995</td>\n",
       "      <td>229.330002</td>\n",
       "      <td>212.688675</td>\n",
       "      <td>59970700</td>\n",
       "    </tr>\n",
       "  </tbody>\n",
       "</table>\n",
       "</div>"
      ],
      "text/plain": [
       "                  Open        High         Low       Close   Adj Close  \\\n",
       "Date                                                                     \n",
       "2017-01-20  226.699997  227.309998  225.970001  226.740005  210.286606   \n",
       "2017-01-23  226.740005  226.809998  225.270004  226.149994  209.739395   \n",
       "2017-01-24  226.399994  228.080002  226.270004  227.600006  211.084198   \n",
       "2017-01-25  228.699997  229.570007  228.509995  229.570007  212.911209   \n",
       "2017-01-26  229.399994  229.710007  229.009995  229.330002  212.688675   \n",
       "\n",
       "               Volume  \n",
       "Date                   \n",
       "2017-01-20  129168600  \n",
       "2017-01-23   75061600  \n",
       "2017-01-24   95555300  \n",
       "2017-01-25   84437700  \n",
       "2017-01-26   59970700  "
      ]
     },
     "execution_count": 22,
     "metadata": {},
     "output_type": "execute_result"
    }
   ],
   "source": [
    "#Get SPY Data for last 1172 days\n",
    "data = yf.download(\"SPY\", start=\"2017-01-20\", end=\"2020-04-06\")\n",
    "# Put into Pandas DataFrame\n",
    "spy = pd.DataFrame(data)\n",
    "spy.head()"
   ]
  },
  {
   "cell_type": "code",
   "execution_count": 23,
   "metadata": {},
   "outputs": [
    {
     "data": {
      "text/html": [
       "<div>\n",
       "<style scoped>\n",
       "    .dataframe tbody tr th:only-of-type {\n",
       "        vertical-align: middle;\n",
       "    }\n",
       "\n",
       "    .dataframe tbody tr th {\n",
       "        vertical-align: top;\n",
       "    }\n",
       "\n",
       "    .dataframe thead th {\n",
       "        text-align: right;\n",
       "    }\n",
       "</style>\n",
       "<table border=\"1\" class=\"dataframe\">\n",
       "  <thead>\n",
       "    <tr style=\"text-align: right;\">\n",
       "      <th></th>\n",
       "      <th>SPY Close</th>\n",
       "    </tr>\n",
       "    <tr>\n",
       "      <th>Date</th>\n",
       "      <th></th>\n",
       "    </tr>\n",
       "  </thead>\n",
       "  <tbody>\n",
       "    <tr>\n",
       "      <th>2017-01-20</th>\n",
       "      <td>210.286606</td>\n",
       "    </tr>\n",
       "    <tr>\n",
       "      <th>2017-01-23</th>\n",
       "      <td>209.739395</td>\n",
       "    </tr>\n",
       "    <tr>\n",
       "      <th>2017-01-24</th>\n",
       "      <td>211.084198</td>\n",
       "    </tr>\n",
       "    <tr>\n",
       "      <th>2017-01-25</th>\n",
       "      <td>212.911209</td>\n",
       "    </tr>\n",
       "    <tr>\n",
       "      <th>2017-01-26</th>\n",
       "      <td>212.688675</td>\n",
       "    </tr>\n",
       "  </tbody>\n",
       "</table>\n",
       "</div>"
      ],
      "text/plain": [
       "             SPY Close\n",
       "Date                  \n",
       "2017-01-20  210.286606\n",
       "2017-01-23  209.739395\n",
       "2017-01-24  211.084198\n",
       "2017-01-25  212.911209\n",
       "2017-01-26  212.688675"
      ]
     },
     "execution_count": 23,
     "metadata": {},
     "output_type": "execute_result"
    }
   ],
   "source": [
    "# Clean Data and Drop non-essential columns\n",
    "spy_data= spy.drop(columns=[\"High\", \"Low\", \"Open\", \"Volume\", \"Close\"])\n",
    "spy_data.columns = [\"SPY Close\"]\n",
    "spy_data.head()"
   ]
  },
  {
   "cell_type": "code",
   "execution_count": 24,
   "metadata": {},
   "outputs": [
    {
     "data": {
      "text/html": [
       "<div>\n",
       "<style scoped>\n",
       "    .dataframe tbody tr th:only-of-type {\n",
       "        vertical-align: middle;\n",
       "    }\n",
       "\n",
       "    .dataframe tbody tr th {\n",
       "        vertical-align: top;\n",
       "    }\n",
       "\n",
       "    .dataframe thead th {\n",
       "        text-align: right;\n",
       "    }\n",
       "</style>\n",
       "<table border=\"1\" class=\"dataframe\">\n",
       "  <thead>\n",
       "    <tr style=\"text-align: right;\">\n",
       "      <th></th>\n",
       "      <th>SPY Close</th>\n",
       "      <th>Daily Returns</th>\n",
       "      <th>Cumulative Returns</th>\n",
       "    </tr>\n",
       "    <tr>\n",
       "      <th>Date</th>\n",
       "      <th></th>\n",
       "      <th></th>\n",
       "      <th></th>\n",
       "    </tr>\n",
       "  </thead>\n",
       "  <tbody>\n",
       "    <tr>\n",
       "      <th>2017-01-20</th>\n",
       "      <td>210.286606</td>\n",
       "      <td>NaN</td>\n",
       "      <td>NaN</td>\n",
       "    </tr>\n",
       "    <tr>\n",
       "      <th>2017-01-23</th>\n",
       "      <td>209.739395</td>\n",
       "      <td>-0.002602</td>\n",
       "      <td>-0.002602</td>\n",
       "    </tr>\n",
       "    <tr>\n",
       "      <th>2017-01-24</th>\n",
       "      <td>211.084198</td>\n",
       "      <td>0.006412</td>\n",
       "      <td>0.003793</td>\n",
       "    </tr>\n",
       "    <tr>\n",
       "      <th>2017-01-25</th>\n",
       "      <td>212.911209</td>\n",
       "      <td>0.008655</td>\n",
       "      <td>0.012481</td>\n",
       "    </tr>\n",
       "    <tr>\n",
       "      <th>2017-01-26</th>\n",
       "      <td>212.688675</td>\n",
       "      <td>-0.001045</td>\n",
       "      <td>0.011423</td>\n",
       "    </tr>\n",
       "  </tbody>\n",
       "</table>\n",
       "</div>"
      ],
      "text/plain": [
       "             SPY Close  Daily Returns  Cumulative Returns\n",
       "Date                                                     \n",
       "2017-01-20  210.286606            NaN                 NaN\n",
       "2017-01-23  209.739395      -0.002602           -0.002602\n",
       "2017-01-24  211.084198       0.006412            0.003793\n",
       "2017-01-25  212.911209       0.008655            0.012481\n",
       "2017-01-26  212.688675      -0.001045            0.011423"
      ]
     },
     "execution_count": 24,
     "metadata": {},
     "output_type": "execute_result"
    }
   ],
   "source": [
    "# Calculate the portfolio daily returns\n",
    "spy_data[\"Daily Returns\"] = spy_data[\"SPY Close\"].pct_change()\n",
    "\n",
    "\n",
    "# Calculate the Cumulative returns\n",
    "spy_data[\"Cumulative Returns\"]= (1+ spy_data[\"Daily Returns\"]).cumprod()-1\n",
    "\n",
    "# Validate Data\n",
    "spy_data.head()"
   ]
  },
  {
   "cell_type": "markdown",
   "metadata": {},
   "source": [
    "# Prepare Dataframe to Determine Benchmarks"
   ]
  },
  {
   "cell_type": "code",
   "execution_count": 25,
   "metadata": {},
   "outputs": [
    {
     "data": {
      "text/html": [
       "<div>\n",
       "<style scoped>\n",
       "    .dataframe tbody tr th:only-of-type {\n",
       "        vertical-align: middle;\n",
       "    }\n",
       "\n",
       "    .dataframe tbody tr th {\n",
       "        vertical-align: top;\n",
       "    }\n",
       "\n",
       "    .dataframe thead th {\n",
       "        text-align: right;\n",
       "    }\n",
       "</style>\n",
       "<table border=\"1\" class=\"dataframe\">\n",
       "  <thead>\n",
       "    <tr style=\"text-align: right;\">\n",
       "      <th></th>\n",
       "      <th>Backtest</th>\n",
       "    </tr>\n",
       "  </thead>\n",
       "  <tbody>\n",
       "    <tr>\n",
       "      <th>Annual Return</th>\n",
       "      <td>0.067645</td>\n",
       "    </tr>\n",
       "    <tr>\n",
       "      <th>Cumulative Returns</th>\n",
       "      <td>0.165423</td>\n",
       "    </tr>\n",
       "    <tr>\n",
       "      <th>Annual Volatility</th>\n",
       "      <td>0.198038</td>\n",
       "    </tr>\n",
       "    <tr>\n",
       "      <th>Sharpe Ratio</th>\n",
       "      <td>0.341575</td>\n",
       "    </tr>\n",
       "    <tr>\n",
       "      <th>Sortino Ratio</th>\n",
       "      <td>0.454415</td>\n",
       "    </tr>\n",
       "  </tbody>\n",
       "</table>\n",
       "</div>"
      ],
      "text/plain": [
       "                    Backtest\n",
       "Annual Return       0.067645\n",
       "Cumulative Returns  0.165423\n",
       "Annual Volatility   0.198038\n",
       "Sharpe Ratio        0.341575\n",
       "Sortino Ratio       0.454415"
      ]
     },
     "execution_count": 25,
     "metadata": {},
     "output_type": "execute_result"
    }
   ],
   "source": [
    "# Prepare DataFrame for metrics\n",
    "metrics = [\n",
    "    'Annual Return',\n",
    "    'Cumulative Returns',\n",
    "    'Annual Volatility',\n",
    "    'Sharpe Ratio',\n",
    "    'Sortino Ratio']\n",
    "\n",
    "columns = ['Backtest']\n",
    "\n",
    "# Initialize the DataFrame with index set to evaluation metrics and column as `Backtest` (just like PyFolio)\n",
    "spy_evaluation_df = pd.DataFrame(index=metrics, columns=columns)\n",
    "\n",
    "\n",
    "# Annualized Returns\n",
    "spy_evaluation_df.loc['Annual Return'] = (\n",
    "    spy_data['Daily Returns'].mean() * 252\n",
    ")\n",
    "\n",
    "# Calculate cumulative return\n",
    "spy_evaluation_df.loc[\"Cumulative Returns\"] =  (spy_data['Cumulative Returns'])\n",
    "\n",
    "# Calculate annual volatility\n",
    "spy_evaluation_df.loc['Annual Volatility'] = (\n",
    "    spy_data['Daily Returns'].std() * np.sqrt(252)\n",
    ")\n",
    "\n",
    "# Calculate Sharpe Ratio \n",
    "spy_evaluation_df.loc['Sharpe Ratio'] = (\n",
    "    spy_data['Daily Returns'].mean() * 252) / (\n",
    "    spy_data['Daily Returns'].std() * np.sqrt(252)\n",
    ")\n",
    "\n",
    "# Calculate cumulative return\n",
    "spy_evaluation_df.loc['Cumulative Returns'] = spy_data['Cumulative Returns'][-1]\n",
    "\n",
    "# Calculate Downside Return\n",
    "sortino_ratio_df = spy_data[['Daily Returns']]\n",
    "sortino_ratio_df.loc[:,'Downside Returns'] = 0\n",
    "sortino_ratio_df.head()\n",
    "\n",
    "target = 0\n",
    "mask = sortino_ratio_df['Daily Returns'] < target\n",
    "sortino_ratio_df.loc[mask, 'Downside Returns'] = sortino_ratio_df['Daily Returns']**2\n",
    "\n",
    "# Calculate Sortino Ratio\n",
    "down_stdev = np.sqrt(sortino_ratio_df['Downside Returns'].mean()) * np.sqrt(252)\n",
    "expected_return = sortino_ratio_df['Daily Returns'].mean() * 252\n",
    "sortino_ratio = expected_return/down_stdev\n",
    "\n",
    "spy_evaluation_df.loc['Sortino Ratio'] = sortino_ratio\n",
    "\n",
    "spy_evaluation_df"
   ]
  },
  {
   "cell_type": "code",
   "execution_count": 26,
   "metadata": {},
   "outputs": [
    {
     "data": {
      "text/plain": [
       "<AxesSubplot:xlabel='Date'>"
      ]
     },
     "execution_count": 26,
     "metadata": {},
     "output_type": "execute_result"
    },
    {
     "data": {
      "image/png": "[encoded data removed]",
      "text/plain": [
       "<Figure size 432x288 with 1 Axes>"
      ]
     },
     "metadata": {
      "needs_background": "light"
     },
     "output_type": "display_data"
    }
   ],
   "source": [
    "# Create Simple Plot of SPY Closing Prices\n",
    "spy_data['SPY Close'].plot()"
   ]
  },
  {
   "cell_type": "code",
   "execution_count": 27,
   "metadata": {},
   "outputs": [
    {
     "data": {
      "application/vnd.holoviews_exec.v0+json": "",
      "text/html": [
       "<div id='2444'>\n",
       "\n",
       "\n",
       "\n",
       "\n",
       "\n",
       "  <div class=\"bk-root\" id=\"9d898eb7-e63d-4e5c-9afe-fa72a16c7722\" data-root-id=\"2444\"></div>\n",
       "</div>\n",
       "<script type=\"application/javascript\">(function(root) {\n",
       "  function embed_document(root) {\n",
       "    var docs_json = {\"a5cbfc9c-8c20-4525-951c-f42966c14d0e\":{\"roots\":{\"references\":[{\"attributes\":{\"data_source\":{\"id\":\"2479\"},\"glyph\":{\"id\":\"2482\"},\"hover_glyph\":null,\"muted_glyph\":{\"id\":\"2484\"},\"nonselection_glyph\":{\"id\":\"2483\"},\"selection_glyph\":null,\"view\":{\"id\":\"2486\"}},\"id\":\"2485\",\"type\":\"GlyphRenderer\"},{\"attributes\":{\"source\":{\"id\":\"2479\"}},\"id\":\"2486\",\"type\":\"CDSView\"},{\"attributes\":{\"months\":[0,4,8]},\"id\":\"2508\",\"type\":\"MonthsTicker\"},{\"attributes\":{},\"id\":\"2510\",\"type\":\"YearsTicker\"},{\"attributes\":{\"bottom_units\":\"screen\",\"fill_alpha\":0.5,\"fill_color\":\"lightgrey\",\"left_units\":\"screen\",\"level\":\"overlay\",\"line_alpha\":1.0,\"line_color\":\"black\",\"line_dash\":[4,4],\"line_width\":2,\"right_units\":\"screen\",\"top_units\":\"screen\"},\"id\":\"2471\",\"type\":\"BoxAnnotation\"},{\"attributes\":{},\"id\":\"2480\",\"type\":\"Selection\"},{\"attributes\":{\"active_drag\":\"auto\",\"active_inspect\":\"auto\",\"active_multi\":null,\"active_scroll\":\"auto\",\"active_tap\":\"auto\",\"tools\":[{\"id\":\"2448\"},{\"id\":\"2466\"},{\"id\":\"2467\"},{\"id\":\"2468\"},{\"id\":\"2469\"},{\"id\":\"2470\"}]},\"id\":\"2472\",\"type\":\"Toolbar\"},{\"attributes\":{\"months\":[0,6]},\"id\":\"2509\",\"type\":\"MonthsTicker\"},{\"attributes\":{\"text\":\"\",\"text_color\":{\"value\":\"black\"},\"text_font_size\":{\"value\":\"12pt\"}},\"id\":\"2450\",\"type\":\"Title\"},{\"attributes\":{\"line_color\":\"green\",\"line_width\":2,\"x\":{\"field\":\"Date\"},\"y\":{\"field\":\"SPY Close\"}},\"id\":\"2482\",\"type\":\"Line\"},{\"attributes\":{\"children\":[{\"id\":\"2445\"},{\"id\":\"2449\"},{\"id\":\"2531\"}],\"margin\":[0,0,0,0],\"name\":\"Row02760\",\"tags\":[\"embedded\"]},\"id\":\"2444\",\"type\":\"Row\"},{\"attributes\":{\"below\":[{\"id\":\"2458\"}],\"center\":[{\"id\":\"2461\"},{\"id\":\"2465\"}],\"left\":[{\"id\":\"2462\"}],\"margin\":[5,5,5,5],\"min_border_bottom\":10,\"min_border_left\":10,\"min_border_right\":10,\"min_border_top\":10,\"plot_height\":300,\"plot_width\":700,\"renderers\":[{\"id\":\"2485\"}],\"sizing_mode\":\"fixed\",\"title\":{\"id\":\"2450\"},\"toolbar\":{\"id\":\"2472\"},\"x_range\":{\"id\":\"2446\"},\"x_scale\":{\"id\":\"2454\"},\"y_range\":{\"id\":\"2447\"},\"y_scale\":{\"id\":\"2456\"}},\"id\":\"2449\",\"subtype\":\"Figure\",\"type\":\"Plot\"},{\"attributes\":{},\"id\":\"2466\",\"type\":\"SaveTool\"},{\"attributes\":{\"margin\":[5,5,5,5],\"name\":\"HSpacer02765\",\"sizing_mode\":\"stretch_width\"},\"id\":\"2531\",\"type\":\"Spacer\"},{\"attributes\":{\"margin\":[5,5,5,5],\"name\":\"HSpacer02764\",\"sizing_mode\":\"stretch_width\"},\"id\":\"2445\",\"type\":\"Spacer\"},{\"attributes\":{},\"id\":\"2454\",\"type\":\"LinearScale\"},{\"attributes\":{},\"id\":\"2467\",\"type\":\"PanTool\"},{\"attributes\":{\"data\":{\"Date\":{\"__ndarray__\":\"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\",\"dtype\":\"float64\",\"order\":\"little\",\"shape\":[807]},\"SPY Close\":{\"__ndarray__\":\"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\",\"dtype\":\"float64\",\"order\":\"little\",\"shape\":[807]},\"SPY_Close\":{\"__ndarray__\":\"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\",\"dtype\":\"float64\",\"order\":\"little\",\"shape\":[807]}},\"selected\":{\"id\":\"2480\"},\"selection_policy\":{\"id\":\"2497\"}},\"id\":\"2479\",\"type\":\"ColumnDataSource\"},{\"attributes\":{},\"id\":\"2470\",\"type\":\"ResetTool\"},{\"attributes\":{\"days\":[1,2,3,4,5,6,7,8,9,10,11,12,13,14,15,16,17,18,19,20,21,22,23,24,25,26,27,28,29,30,31]},\"id\":\"2502\",\"type\":\"DaysTicker\"},{\"attributes\":{\"line_alpha\":0.2,\"line_color\":\"green\",\"line_width\":2,\"x\":{\"field\":\"Date\"},\"y\":{\"field\":\"SPY Close\"}},\"id\":\"2484\",\"type\":\"Line\"},{\"attributes\":{},\"id\":\"2468\",\"type\":\"WheelZoomTool\"},{\"attributes\":{},\"id\":\"2497\",\"type\":\"UnionRenderers\"},{\"attributes\":{},\"id\":\"2456\",\"type\":\"LinearScale\"},{\"attributes\":{\"overlay\":{\"id\":\"2471\"}},\"id\":\"2469\",\"type\":\"BoxZoomTool\"},{\"attributes\":{\"mantissas\":[1,2,5],\"max_interval\":500.0,\"num_minor_ticks\":0},\"id\":\"2499\",\"type\":\"AdaptiveTicker\"},{\"attributes\":{\"base\":60,\"mantissas\":[1,2,5,10,15,20,30],\"max_interval\":1800000.0,\"min_interval\":1000.0,\"num_minor_ticks\":0},\"id\":\"2500\",\"type\":\"AdaptiveTicker\"},{\"attributes\":{\"end\":1585872000000.0,\"reset_end\":1585872000000.0,\"reset_start\":1484870400000.0,\"start\":1484870400000.0,\"tags\":[[[\"Date\",\"Date\",null]]]},\"id\":\"2446\",\"type\":\"Range1d\"},{\"attributes\":{\"line_alpha\":0.1,\"line_color\":\"green\",\"line_width\":2,\"x\":{\"field\":\"Date\"},\"y\":{\"field\":\"SPY Close\"}},\"id\":\"2483\",\"type\":\"Line\"},{\"attributes\":{\"base\":24,\"mantissas\":[1,2,4,6,8,12],\"max_interval\":43200000.0,\"min_interval\":3600000.0,\"num_minor_ticks\":0},\"id\":\"2501\",\"type\":\"AdaptiveTicker\"},{\"attributes\":{\"axis_label\":\"Date\",\"bounds\":\"auto\",\"formatter\":{\"id\":\"2488\"},\"major_label_orientation\":\"horizontal\",\"ticker\":{\"id\":\"2459\"}},\"id\":\"2458\",\"type\":\"DatetimeAxis\"},{\"attributes\":{},\"id\":\"2490\",\"type\":\"BasicTickFormatter\"},{\"attributes\":{\"days\":[1,4,7,10,13,16,19,22,25,28]},\"id\":\"2503\",\"type\":\"DaysTicker\"},{\"attributes\":{\"num_minor_ticks\":5,\"tickers\":[{\"id\":\"2499\"},{\"id\":\"2500\"},{\"id\":\"2501\"},{\"id\":\"2502\"},{\"id\":\"2503\"},{\"id\":\"2504\"},{\"id\":\"2505\"},{\"id\":\"2506\"},{\"id\":\"2507\"},{\"id\":\"2508\"},{\"id\":\"2509\"},{\"id\":\"2510\"}]},\"id\":\"2459\",\"type\":\"DatetimeTicker\"},{\"attributes\":{\"axis_label\":\"SPY Close\",\"bounds\":\"auto\",\"formatter\":{\"id\":\"2490\"},\"major_label_orientation\":\"horizontal\",\"ticker\":{\"id\":\"2463\"}},\"id\":\"2462\",\"type\":\"LinearAxis\"},{\"attributes\":{},\"id\":\"2488\",\"type\":\"DatetimeTickFormatter\"},{\"attributes\":{\"months\":[0,1,2,3,4,5,6,7,8,9,10,11]},\"id\":\"2506\",\"type\":\"MonthsTicker\"},{\"attributes\":{\"end\":344.37715606689454,\"reset_end\":344.37715606689454,\"reset_start\":197.49959869384764,\"start\":197.49959869384764,\"tags\":[[[\"SPY Close\",\"SPY Close\",null]]]},\"id\":\"2447\",\"type\":\"Range1d\"},{\"attributes\":{\"axis\":{\"id\":\"2458\"},\"grid_line_color\":null,\"ticker\":null},\"id\":\"2461\",\"type\":\"Grid\"},{\"attributes\":{\"days\":[1,8,15,22]},\"id\":\"2504\",\"type\":\"DaysTicker\"},{\"attributes\":{\"callback\":null,\"formatters\":{\"@{Date}\":\"datetime\"},\"renderers\":[{\"id\":\"2485\"}],\"tags\":[\"hv_created\"],\"tooltips\":[[\"Date\",\"@{Date}{%F %T}\"],[\"SPY Close\",\"@{SPY_Close}\"]]},\"id\":\"2448\",\"type\":\"HoverTool\"},{\"attributes\":{\"days\":[1,15]},\"id\":\"2505\",\"type\":\"DaysTicker\"},{\"attributes\":{},\"id\":\"2463\",\"type\":\"BasicTicker\"},{\"attributes\":{\"axis\":{\"id\":\"2462\"},\"dimension\":1,\"grid_line_color\":null,\"ticker\":null},\"id\":\"2465\",\"type\":\"Grid\"},{\"attributes\":{\"months\":[0,2,4,6,8,10]},\"id\":\"2507\",\"type\":\"MonthsTicker\"}],\"root_ids\":[\"2444\"]},\"title\":\"Bokeh Application\",\"version\":\"2.2.3\"}};\n",
       "    var render_items = [{\"docid\":\"a5cbfc9c-8c20-4525-951c-f42966c14d0e\",\"root_ids\":[\"2444\"],\"roots\":{\"2444\":\"9d898eb7-e63d-4e5c-9afe-fa72a16c7722\"}}];\n",
       "    root.Bokeh.embed.embed_items_notebook(docs_json, render_items);\n",
       "  }\n",
       "  if (root.Bokeh !== undefined && root.Bokeh.Panel !== undefined) {\n",
       "    embed_document(root);\n",
       "  } else {\n",
       "    var attempts = 0;\n",
       "    var timer = setInterval(function(root) {\n",
       "      if (root.Bokeh !== undefined && root.Bokeh.Panel !== undefined) {\n",
       "        clearInterval(timer);\n",
       "        embed_document(root);\n",
       "      } else if (document.readyState == \"complete\") {\n",
       "        attempts++;\n",
       "        if (attempts > 100) {\n",
       "          clearInterval(timer);\n",
       "          console.log(\"Bokeh: ERROR: Unable to run BokehJS code because BokehJS library is missing\");\n",
       "        }\n",
       "      }\n",
       "    }, 10, root)\n",
       "  }\n",
       "})(window);</script>"
      ],
      "text/plain": [
       ":Curve   [Date]   (SPY Close)"
      ]
     },
     "execution_count": 27,
     "metadata": {
      "application/vnd.holoviews_exec.v0+json": {
       "id": "2444"
      }
     },
     "output_type": "execute_result"
    }
   ],
   "source": [
    "# HVPLOT SPY Close Data\n",
    "spy_data.hvplot.line(x='Date', y='SPY Close', line_color=\"green\")"
   ]
  },
  {
   "cell_type": "code",
   "execution_count": 28,
   "metadata": {},
   "outputs": [
    {
     "name": "stdout",
     "output_type": "stream",
     "text": [
      "[*********************100%***********************]  1 of 1 completed\n"
     ]
    },
    {
     "data": {
      "text/html": [
       "<div>\n",
       "<style scoped>\n",
       "    .dataframe tbody tr th:only-of-type {\n",
       "        vertical-align: middle;\n",
       "    }\n",
       "\n",
       "    .dataframe tbody tr th {\n",
       "        vertical-align: top;\n",
       "    }\n",
       "\n",
       "    .dataframe thead th {\n",
       "        text-align: right;\n",
       "    }\n",
       "</style>\n",
       "<table border=\"1\" class=\"dataframe\">\n",
       "  <thead>\n",
       "    <tr style=\"text-align: right;\">\n",
       "      <th></th>\n",
       "      <th>Open</th>\n",
       "      <th>High</th>\n",
       "      <th>Low</th>\n",
       "      <th>Close</th>\n",
       "      <th>Adj Close</th>\n",
       "      <th>Volume</th>\n",
       "    </tr>\n",
       "    <tr>\n",
       "      <th>Date</th>\n",
       "      <th></th>\n",
       "      <th></th>\n",
       "      <th></th>\n",
       "      <th></th>\n",
       "      <th></th>\n",
       "      <th></th>\n",
       "    </tr>\n",
       "  </thead>\n",
       "  <tbody>\n",
       "    <tr>\n",
       "      <th>2017-01-20</th>\n",
       "      <td>12.58</td>\n",
       "      <td>12.59</td>\n",
       "      <td>11.53</td>\n",
       "      <td>11.54</td>\n",
       "      <td>11.54</td>\n",
       "      <td>0</td>\n",
       "    </tr>\n",
       "    <tr>\n",
       "      <th>2017-01-23</th>\n",
       "      <td>12.30</td>\n",
       "      <td>12.62</td>\n",
       "      <td>11.59</td>\n",
       "      <td>11.77</td>\n",
       "      <td>11.77</td>\n",
       "      <td>0</td>\n",
       "    </tr>\n",
       "    <tr>\n",
       "      <th>2017-01-24</th>\n",
       "      <td>11.82</td>\n",
       "      <td>11.89</td>\n",
       "      <td>11.04</td>\n",
       "      <td>11.07</td>\n",
       "      <td>11.07</td>\n",
       "      <td>0</td>\n",
       "    </tr>\n",
       "    <tr>\n",
       "      <th>2017-01-25</th>\n",
       "      <td>10.79</td>\n",
       "      <td>11.05</td>\n",
       "      <td>10.51</td>\n",
       "      <td>10.81</td>\n",
       "      <td>10.81</td>\n",
       "      <td>0</td>\n",
       "    </tr>\n",
       "    <tr>\n",
       "      <th>2017-01-26</th>\n",
       "      <td>10.61</td>\n",
       "      <td>11.01</td>\n",
       "      <td>10.60</td>\n",
       "      <td>10.63</td>\n",
       "      <td>10.63</td>\n",
       "      <td>0</td>\n",
       "    </tr>\n",
       "  </tbody>\n",
       "</table>\n",
       "</div>"
      ],
      "text/plain": [
       "             Open   High    Low  Close  Adj Close  Volume\n",
       "Date                                                     \n",
       "2017-01-20  12.58  12.59  11.53  11.54      11.54       0\n",
       "2017-01-23  12.30  12.62  11.59  11.77      11.77       0\n",
       "2017-01-24  11.82  11.89  11.04  11.07      11.07       0\n",
       "2017-01-25  10.79  11.05  10.51  10.81      10.81       0\n",
       "2017-01-26  10.61  11.01  10.60  10.63      10.63       0"
      ]
     },
     "execution_count": 28,
     "metadata": {},
     "output_type": "execute_result"
    }
   ],
   "source": [
    "#Get VIX Data for last 1172 days\n",
    "vix = yf.download(\"^VIX\", start=\"2017-01-20\", end=\"2020-04-06\")\n",
    "vix.head()"
   ]
  },
  {
   "cell_type": "markdown",
   "metadata": {},
   "source": [
    "# Generate Additional Value For Neural Network"
   ]
  },
  {
   "cell_type": "code",
   "execution_count": 29,
   "metadata": {},
   "outputs": [
    {
     "data": {
      "text/html": [
       "<div>\n",
       "<style scoped>\n",
       "    .dataframe tbody tr th:only-of-type {\n",
       "        vertical-align: middle;\n",
       "    }\n",
       "\n",
       "    .dataframe tbody tr th {\n",
       "        vertical-align: top;\n",
       "    }\n",
       "\n",
       "    .dataframe thead th {\n",
       "        text-align: right;\n",
       "    }\n",
       "</style>\n",
       "<table border=\"1\" class=\"dataframe\">\n",
       "  <thead>\n",
       "    <tr style=\"text-align: right;\">\n",
       "      <th></th>\n",
       "      <th>VIX Close</th>\n",
       "    </tr>\n",
       "  </thead>\n",
       "  <tbody>\n",
       "    <tr>\n",
       "      <th>count</th>\n",
       "      <td>807.000000</td>\n",
       "    </tr>\n",
       "    <tr>\n",
       "      <th>mean</th>\n",
       "      <td>15.844833</td>\n",
       "    </tr>\n",
       "    <tr>\n",
       "      <th>std</th>\n",
       "      <td>8.838167</td>\n",
       "    </tr>\n",
       "    <tr>\n",
       "      <th>min</th>\n",
       "      <td>9.140000</td>\n",
       "    </tr>\n",
       "    <tr>\n",
       "      <th>25%</th>\n",
       "      <td>11.630000</td>\n",
       "    </tr>\n",
       "    <tr>\n",
       "      <th>50%</th>\n",
       "      <td>13.470000</td>\n",
       "    </tr>\n",
       "    <tr>\n",
       "      <th>75%</th>\n",
       "      <td>16.590000</td>\n",
       "    </tr>\n",
       "    <tr>\n",
       "      <th>max</th>\n",
       "      <td>82.690002</td>\n",
       "    </tr>\n",
       "  </tbody>\n",
       "</table>\n",
       "</div>"
      ],
      "text/plain": [
       "        VIX Close\n",
       "count  807.000000\n",
       "mean    15.844833\n",
       "std      8.838167\n",
       "min      9.140000\n",
       "25%     11.630000\n",
       "50%     13.470000\n",
       "75%     16.590000\n",
       "max     82.690002"
      ]
     },
     "execution_count": 29,
     "metadata": {},
     "output_type": "execute_result"
    }
   ],
   "source": [
    "# Put VIX Into DataFrame\n",
    "vix2 = pd.DataFrame(vix)\n",
    "# Clean Data and Drop non-essential columns\n",
    "vix_data= vix2.drop(columns=[\"High\", \"Low\", \"Open\", \"Volume\", \"Close\"])\n",
    "vix_data.columns = [\"VIX Close\"]\n",
    "vix_data.head()\n",
    "vix_data.describe()"
   ]
  },
  {
   "cell_type": "code",
   "execution_count": 30,
   "metadata": {},
   "outputs": [
    {
     "data": {
      "application/vnd.holoviews_exec.v0+json": "",
      "text/html": [
       "<div id='2633'>\n",
       "\n",
       "\n",
       "\n",
       "\n",
       "\n",
       "  <div class=\"bk-root\" id=\"6f3842ac-3c23-4f60-b8cd-e57fbc844ca8\" data-root-id=\"2633\"></div>\n",
       "</div>\n",
       "<script type=\"application/javascript\">(function(root) {\n",
       "  function embed_document(root) {\n",
       "    var docs_json = {\"4c71e6c9-6743-4363-ba60-6bc523636b31\":{\"roots\":{\"references\":[{\"attributes\":{},\"id\":\"2643\",\"type\":\"LinearScale\"},{\"attributes\":{\"axis_label\":\"VIX Close\",\"bounds\":\"auto\",\"formatter\":{\"id\":\"2679\"},\"major_label_orientation\":\"horizontal\",\"ticker\":{\"id\":\"2652\"}},\"id\":\"2651\",\"type\":\"LinearAxis\"},{\"attributes\":{\"callback\":null,\"formatters\":{\"@{Date}\":\"datetime\"},\"renderers\":[{\"id\":\"2674\"}],\"tags\":[\"hv_created\"],\"tooltips\":[[\"Date\",\"@{Date}{%F %T}\"],[\"VIX Close\",\"@{VIX_Close}\"]]},\"id\":\"2637\",\"type\":\"HoverTool\"},{\"attributes\":{\"months\":[0,1,2,3,4,5,6,7,8,9,10,11]},\"id\":\"2695\",\"type\":\"MonthsTicker\"},{\"attributes\":{\"days\":[1,4,7,10,13,16,19,22,25,28]},\"id\":\"2692\",\"type\":\"DaysTicker\"},{\"attributes\":{\"days\":[1,8,15,22]},\"id\":\"2693\",\"type\":\"DaysTicker\"},{\"attributes\":{},\"id\":\"2652\",\"type\":\"BasicTicker\"},{\"attributes\":{\"days\":[1,15]},\"id\":\"2694\",\"type\":\"DaysTicker\"},{\"attributes\":{\"end\":1585872000000.0,\"reset_end\":1585872000000.0,\"reset_start\":1484870400000.0,\"start\":1484870400000.0,\"tags\":[[[\"Date\",\"Date\",null]]]},\"id\":\"2635\",\"type\":\"Range1d\"},{\"attributes\":{\"axis\":{\"id\":\"2651\"},\"dimension\":1,\"grid_line_color\":null,\"ticker\":null},\"id\":\"2654\",\"type\":\"Grid\"},{\"attributes\":{\"active_drag\":\"auto\",\"active_inspect\":\"auto\",\"active_multi\":null,\"active_scroll\":\"auto\",\"active_tap\":\"auto\",\"tools\":[{\"id\":\"2637\"},{\"id\":\"2655\"},{\"id\":\"2656\"},{\"id\":\"2657\"},{\"id\":\"2658\"},{\"id\":\"2659\"}]},\"id\":\"2661\",\"type\":\"Toolbar\"},{\"attributes\":{},\"id\":\"2669\",\"type\":\"Selection\"},{\"attributes\":{\"months\":[0,2,4,6,8,10]},\"id\":\"2696\",\"type\":\"MonthsTicker\"},{\"attributes\":{\"children\":[{\"id\":\"2634\"},{\"id\":\"2638\"},{\"id\":\"2720\"}],\"margin\":[0,0,0,0],\"name\":\"Row02939\",\"tags\":[\"embedded\"]},\"id\":\"2633\",\"type\":\"Row\"},{\"attributes\":{\"bottom_units\":\"screen\",\"fill_alpha\":0.5,\"fill_color\":\"lightgrey\",\"left_units\":\"screen\",\"level\":\"overlay\",\"line_alpha\":1.0,\"line_color\":\"black\",\"line_dash\":[4,4],\"line_width\":2,\"right_units\":\"screen\",\"top_units\":\"screen\"},\"id\":\"2660\",\"type\":\"BoxAnnotation\"},{\"attributes\":{\"text\":\"\",\"text_color\":{\"value\":\"black\"},\"text_font_size\":{\"value\":\"12pt\"}},\"id\":\"2639\",\"type\":\"Title\"},{\"attributes\":{\"months\":[0,4,8]},\"id\":\"2697\",\"type\":\"MonthsTicker\"},{\"attributes\":{\"below\":[{\"id\":\"2647\"}],\"center\":[{\"id\":\"2650\"},{\"id\":\"2654\"}],\"left\":[{\"id\":\"2651\"}],\"margin\":[5,5,5,5],\"min_border_bottom\":10,\"min_border_left\":10,\"min_border_right\":10,\"min_border_top\":10,\"plot_height\":300,\"plot_width\":700,\"renderers\":[{\"id\":\"2674\"}],\"sizing_mode\":\"fixed\",\"title\":{\"id\":\"2639\"},\"toolbar\":{\"id\":\"2661\"},\"x_range\":{\"id\":\"2635\"},\"x_scale\":{\"id\":\"2643\"},\"y_range\":{\"id\":\"2636\"},\"y_scale\":{\"id\":\"2645\"}},\"id\":\"2638\",\"subtype\":\"Figure\",\"type\":\"Plot\"},{\"attributes\":{},\"id\":\"2677\",\"type\":\"DatetimeTickFormatter\"},{\"attributes\":{\"line_alpha\":0.2,\"line_color\":\"blue\",\"line_width\":2,\"x\":{\"field\":\"Date\"},\"y\":{\"field\":\"VIX Close\"}},\"id\":\"2673\",\"type\":\"Line\"},{\"attributes\":{\"months\":[0,6]},\"id\":\"2698\",\"type\":\"MonthsTicker\"},{\"attributes\":{\"data_source\":{\"id\":\"2668\"},\"glyph\":{\"id\":\"2671\"},\"hover_glyph\":null,\"muted_glyph\":{\"id\":\"2673\"},\"nonselection_glyph\":{\"id\":\"2672\"},\"selection_glyph\":null,\"view\":{\"id\":\"2675\"}},\"id\":\"2674\",\"type\":\"GlyphRenderer\"},{\"attributes\":{\"margin\":[5,5,5,5],\"name\":\"HSpacer02943\",\"sizing_mode\":\"stretch_width\"},\"id\":\"2634\",\"type\":\"Spacer\"},{\"attributes\":{\"line_alpha\":0.1,\"line_color\":\"blue\",\"line_width\":2,\"x\":{\"field\":\"Date\"},\"y\":{\"field\":\"VIX Close\"}},\"id\":\"2672\",\"type\":\"Line\"},{\"attributes\":{},\"id\":\"2679\",\"type\":\"BasicTickFormatter\"},{\"attributes\":{\"line_color\":\"blue\",\"line_width\":2,\"x\":{\"field\":\"Date\"},\"y\":{\"field\":\"VIX Close\"}},\"id\":\"2671\",\"type\":\"Line\"},{\"attributes\":{\"data\":{\"Date\":{\"__ndarray__\":\"AACAw5KbdUIAAMD0iZx1QgAAgFrcnHVCAABAwC6ddUIAAAAmgZ11QgAAwIvTnXVCAAAAvcqedUIAAMAiHZ91QgAAgIhvn3VCAABA7sGfdUIAAABUFKB1QgAAQIULoXVCAAAA612hdUIAAMBQsKF1QgAAgLYConVCAABAHFWidUIAAIBNTKN1QgAAQLOeo3VCAAAAGfGjdUIAAMB+Q6R1QgAAgOSVpHVCAACAe9+ldUIAAEDhMaZ1QgAAAEeEpnVCAADArNamdUIAAADezad1QgAAwEMgqHVCAACAqXKodUIAAEAPxah1QgAAAHUXqXVCAABApg6qdUIAAAAMYap1QgAAwHGzqnVCAACA1wWrdUIAAEA9WKt1QgAAgG5PrHVCAABA1KGsdUIAAAA69Kx1QgAAwJ9GrXVCAACABZmtdUIAAMA2kK51QgAAgJzirnVCAABAAjWvdUIAAABoh691QgAAwM3Zr3VCAAAA/9CwdUIAAMBkI7F1QgAAgMp1sXVCAABAMMixdUIAAACWGrJ1QgAAQMcRs3VCAAAALWSzdUIAAMCStrN1QgAAgPgItHVCAABAXlu0dUIAAICPUrV1QgAAQPWktXVCAAAAW/e1dUIAAMDASbZ1QgAAwFeTt3VCAACAveW3dUIAAEAjOLh1QgAAAImKuHVCAADA7ty4dUIAAAAg1Ll1QgAAwIUmunVCAACA63i6dUIAAEBRy7p1QgAAALcdu3VCAABA6BS8dUIAAABOZ7x1QgAAwLO5vHVCAACAGQy9dUIAAEB/Xr11QgAAgLBVvnVCAABAFqi+dUIAAAB8+r51QgAAwOFMv3VCAACAR5+/dUIAAMB4lsB1QgAAgN7owHVCAABARDvBdUIAAACqjcF1QgAAwA/gwXVCAAAAQdfCdUIAAMCmKcN1QgAAgAx8w3VCAABAcs7DdUIAAADYIMR1QgAAAG9qxXVCAADA1LzFdUIAAIA6D8Z1QgAAQKBhxnVCAACA0VjHdUIAAEA3q8d1QgAAAJ39x3VCAADAAlDIdUIAAIBoosh1QgAAwJmZyXVCAACA/+vJdUIAAEBlPsp1QgAAAMuQynVCAADAMOPKdUIAAABi2st1QgAAwMcszHVCAACALX/MdUIAAECT0cx1QgAAAPkjzXVCAABAKhvOdUIAAACQbc51QgAAwPW/znVCAACAWxLPdUIAAEDBZM91QgAAgPJb0HVCAAAAvgDRdUIAAMAjU9F1QgAAgIml0XVCAADAupzSdUIAAIAg79J1QgAAQIZB03VCAAAA7JPTdUIAAMBR5tN1QgAAAIPd1HVCAADA6C/VdUIAAIBOgtV1QgAAQLTU1XVCAAAAGifWdUIAAEBLHtd1QgAAALFw13VCAADAFsPXdUIAAIB8Fdh1QgAAQOJn2HVCAACAE1/ZdUIAAEB5sdl1QgAAAN8D2nVCAADARFbadUIAAICqqNp1QgAAwNuf23VCAACAQfLbdUIAAECnRNx1QgAAAA2X3HVCAADAcuncdUIAAACk4N11QgAAwAkz3nVCAACAb4XedUIAAEDV1951QgAAADsq33VCAABAbCHgdUIAAADSc+B1QgAAwDfG4HVCAACAnRjhdUIAAEADa+F1QgAAgDRi4nVCAABAmrTidUIAAAAAB+N1QgAAwGVZ43VCAACAy6vjdUIAAIBi9eR1QgAAQMhH5XVCAAAALprldUIAAMCT7OV1QgAAAMXj5nVCAADAKjbndUIAAICQiOd1QgAAQPba53VCAAAAXC3odUIAAECNJOl1QgAAAPN26XVCAADAWMnpdUIAAIC+G+p1QgAAQCRu6nVCAACAVWXrdUIAAEC7t+t1QgAAACEK7HVCAADAhlzsdUIAAIDsrux1QgAAwB2m7XVCAACAg/jtdUIAAEDpSu51QgAAAE+d7nVCAADAtO/udUIAAADm5u91QgAAwEs58HVCAACAsYvwdUIAAEAX3vB1QgAAAH0w8XVCAABArifydUIAAAAUevJ1QgAAwHnM8nVCAACA3x7zdUIAAEBFcfN1QgAAgHZo9HVCAABA3Lr0dUIAAABCDfV1QgAAwKdf9XVCAACADbL1dUIAAMA+qfZ1QgAAgKT79nVCAABACk73dUIAAABwoPd1QgAAwNXy93VCAAAAB+r4dUIAAMBsPPl1QgAAgNKO+XVCAABAOOH5dUIAAACeM/p1QgAAQM8q+3VCAAAANX37dUIAAMCaz/t1QgAAgAAi/HVCAABAZnT8dUIAAICXa/11QgAAQP29/XVCAAAAYxD+dUIAAIAutf51QgAAwF+s/3VCAACAxf7/dUIAAEArUQB2QgAAAJGjAHZCAADA9vUAdkIAAAAo7QF2QgAAwI0/AnZCAACA85ECdkIAAEBZ5AJ2QgAAAL82A3ZCAABA8C0EdkIAAABWgAR2QgAAwLvSBHZCAACAISUFdkIAAECHdwV2QgAAgLhuBnZCAABAHsEGdkIAAACEEwd2QgAAwOllB3ZCAACAT7gHdkIAAIDmAQl2QgAAQExUCXZCAAAAsqYJdkIAAMAX+Ql2QgAAwK5CC3ZCAACAFJULdkIAAEB65wt2QgAAAOA5DHZCAABAETENdkIAAAB3gw12QgAAwNzVDXZCAACAQigOdkIAAECoeg52QgAAQD/ED3ZCAAAApRYQdkIAAMAKaRB2QgAAgHC7EHZCAADAobIRdkIAAIAHBRJ2QgAAQG1XEnZCAAAA06kSdkIAAMA4/BJ2QgAAAGrzE3ZCAADAz0UUdkIAAIA1mBR2QgAAQJvqFHZCAAAAAT0VdkIAAEAyNBZ2QgAAAJiGFnZCAADA/dgWdkIAAIBjKxd2QgAAQMl9F3ZCAACA+nQYdkIAAEBgxxh2QgAAAMYZGXZCAADAK2wZdkIAAICRvhl2QgAAgCgIG3ZCAABAjlobdkIAAAD0rBt2QgAAwFn/G3ZCAAAAi/YcdkIAAMDwSB12QgAAgFabHXZCAABAvO0ddkIAAAAiQB52QgAAQFM3H3ZCAAAAuYkfdkIAAMAe3B92QgAAgIQuIHZCAABA6oAgdkIAAIAbeCF2QgAAQIHKIXZCAAAA5xwidkIAAMBMbyJ2QgAAgLLBInZCAADA47gjdkIAAIBJCyR2QgAAQK9dJHZCAAAAFbAkdkIAAMB6AiV2QgAAAKz5JXZCAADAEUwmdkIAAIB3niZ2QgAAQN3wJnZCAABAdDoodkIAAADajCh2QgAAwD/fKHZCAACApTEpdkIAAEALhCl2QgAAgDx7KnZCAABAos0qdkIAAAAIICt2QgAAwG1yK3ZCAACA08QrdkIAAMAEvCx2QgAAgGoOLXZCAABA0GAtdkIAAAA2sy12QgAAwJsFLnZCAAAAzfwudkIAAMAyTy92QgAAgJihL3ZCAABA/vMvdkIAAABkRjB2QgAAQJU9MXZCAAAA+48xdkIAAMBg4jF2QgAAgMY0MnZCAABALIcydkIAAIBdfjN2QgAAQMPQM3ZCAAAAKSM0dkIAAMCOdTR2QgAAgPTHNHZCAADAJb81dkIAAICLETZ2QgAAQPFjNnZCAAAAV7Y2dkIAAMC8CDd2QgAAAO7/N3ZCAADAU1I4dkIAAIC5pDh2QgAAQB/3OHZCAAAAhUk5dkIAAAAckzp2QgAAwIHlOnZCAACA5zc7dkIAAEBNijt2QgAAgH6BPHZCAABA5NM8dkIAAABKJj12QgAAwK94PXZCAACAFcs9dkIAAMBGwj52QgAAgKwUP3ZCAABAEmc/dkIAAAB4uT92QgAAwN0LQHZCAAAADwNBdkIAAMB0VUF2QgAAgNqnQXZCAABAQPpBdkIAAACmTEJ2QgAAQNdDQ3ZCAAAAPZZDdkIAAMCi6EN2QgAAgAg7RHZCAABAbo1EdkIAAICfhEV2QgAAQAXXRXZCAADA0HtGdkIAAIA2zkZ2QgAAwGfFR3ZCAACAzRdIdkIAAEAzakh2QgAAAJm8SHZCAADA/g5JdkIAAAAwBkp2QgAAwJVYSnZCAACA+6pKdkIAAEBh/Up2QgAAAMdPS3ZCAABA+EZMdkIAAABemUx2QgAAwMPrTHZCAACAKT5NdkIAAECPkE12QgAAgMCHTnZCAABAJtpOdkIAAACMLE92QgAAwPF+T3ZCAACAV9FPdkIAAMCIyFB2QgAAgO4aUXZCAABAVG1RdkIAAAC6v1F2QgAAwB8SUnZCAAAAUQlTdkIAAMC2W1N2QgAAgByuU3ZCAABAggBUdkIAAADoUlR2QgAAQBlKVXZCAAAAf5xVdkIAAMDk7lV2QgAAgEpBVnZCAABAsJNWdkIAAIDhild2QgAAQEfdV3ZCAAAArS9YdkIAAMASglh2QgAAgHjUWHZCAACADx5adkIAAEB1cFp2QgAAANvCWnZCAADAQBVbdkIAAAByDFx2QgAAwNdeXHZCAACAPbFcdkIAAECjA112QgAAAAlWXXZCAABAOk1edkIAAACgn152QgAAwAXyXnZCAACAa0RfdkIAAEDRll92QgAAgAKOYHZCAABAaOBgdkIAAADOMmF2QgAAwDOFYXZCAACAmddhdkIAAMDKzmJ2QgAAgDAhY3ZCAABAlnNjdkIAAAD8xWN2QgAAwGEYZHZCAAAAkw9ldkIAAMD4YWV2QgAAgF60ZXZCAABAxAZmdkIAAAAqWWZ2QgAAQFtQZ3ZCAAAAwaJndkIAAMAm9Wd2QgAAgIxHaHZCAABA8plodkIAAIAjkWl2QgAAQInjaXZCAAAA7zVqdkIAAMBUiGp2QgAAgLraanZCAADA69FrdkIAAIBRJGx2QgAAQLd2bHZCAAAAHclsdkIAAMCCG212QgAAALQSbnZCAADAGWVudkIAAIB/t252QgAAQOUJb3ZCAAAAS1xvdkIAAEB8U3B2QgAAAOKlcHZCAADAR/hwdkIAAICtSnF2QgAAQBOdcXZCAACARJRydkIAAECq5nJ2QgAAABA5c3ZCAACA291zdkIAAMAM1XR2QgAAgHIndXZCAABA2Hl1dkIAAAA+zHV2QgAAwKMednZCAAAA1RV3dkIAAMA6aHd2QgAAQAYNeHZCAAAAbF94dkIAAECdVnl2QgAAAAOpeXZCAADAaPt5dkIAAIDOTXp2QgAAQDSgenZCAACAZZd7dkIAAEDL6Xt2QgAAADE8fHZCAADAlo58dkIAAID84Hx2QgAAwC3YfXZCAABA+Xx+dkIAAABfz352QgAAwMQhf3ZCAAAA9hiAdkIAAIDBvYB2QgAAQCcQgXZCAAAAjWKBdkIAAEC+WYJ2QgAAACSsgnZCAADAif6CdkIAAIDvUIN2QgAAQFWjg3ZCAACAhpqEdkIAAEDs7IR2QgAAAFI/hXZCAADAt5GFdkIAAIAd5IV2QgAAgLQth3ZCAABAGoCHdkIAAACA0od2QgAAwOUkiHZCAAAAFxyJdkIAAMB8bol2QgAAgOLAiXZCAABASBOKdkIAAACuZYp2QgAAQN9ci3ZCAAAARa+LdkIAAMCqAYx2QgAAgBBUjHZCAABAdqaMdkIAAICnnY12QgAAQA3wjXZCAAAAc0KOdkIAAMDYlI52QgAAgD7njnZCAACA1TCQdkIAAEA7g5B2QgAAAKHVkHZCAADABiiRdkIAAAA4H5J2QgAAwJ1xknZCAACAA8SSdkIAAEBpFpN2QgAAAM9ok3ZCAABAAGCUdkIAAABmspR2QgAAwMsElXZCAACAMVeVdkIAAECXqZV2QgAAgMiglnZCAABALvOWdkIAAACURZd2QgAAwPmXl3ZCAACAX+qXdkIAAMCQ4Zh2QgAAgPYzmXZCAABAXIaZdkIAAADC2Jl2QgAAwCcrmnZCAAAAWSKbdkIAAMC+dJt2QgAAgCTHm3ZCAABAihmcdkIAAADwa5x2QgAAQCFjnXZCAAAAh7WddkIAAMDsB552QgAAgFJannZCAABAuKyedkIAAIDpo592QgAAQE/2n3ZCAAAAtUigdkIAAMAam6B2QgAAgIDtoHZCAADAseShdkIAAIAXN6J2QgAAQH2JonZCAAAA49uidkIAAAB6JaR2QgAAwN93pHZCAACARcqkdkIAAECrHKV2QgAAABFvpXZCAABAQmamdkIAAACouKZ2QgAAwA0Lp3ZCAACAc12ndkIAAEDZr6d2QgAAgAqnqHZCAABAcPmodkIAAADWS6l2QgAAwDueqXZCAACAofCpdkIAAMDS56p2QgAAgDg6q3ZCAABAnoyrdkIAAAAE36t2QgAAwGkxrHZCAAAAmyitdkIAAMAAe612QgAAgGbNrXZCAABAzB+udkIAAAAycq52QgAAAMm7r3ZCAADALg6wdkIAAICUYLB2QgAAQPqysHZCAACAK6qxdkIAAECR/LF2QgAAAPdOsnZCAADAXKGydkIAAIDC87J2QgAAwPPqs3ZCAACAWT20dkIAAEC/j7R2QgAAACXitHZCAADAijS1dkIAAAC8K7Z2QgAAwCF+tnZCAACAh9C2dkIAAEDtIrd2QgAAAFN1t3ZCAABAhGy4dkIAAADqvrh2QgAAwE8RuXZCAACAtWO5dkIAAEAbtrl2QgAAgEytunZCAABAsv+6dkIAAAAYUrt2QgAAgOP2u3ZCAADAFO68dkIAAIB6QL12QgAAQOCSvXZCAAAARuW9dkIAAMCrN752QgAAAN0uv3ZCAADAQoG/dkIAAICo0792QgAAQA4mwHZCAAAAdHjAdkIAAEClb8F2QgAAAAvCwXZCAADAcBTCdkIAAIDWZsJ2QgAAQDy5wnZCAACAbbDDdkIAAEDTAsR2QgAAADlVxHZCAADAnqfEdkIAAIAE+sR2QgAAwDXxxXZCAACAm0PGdkIAAEABlsZ2QgAAAGfoxnZCAADAzDrHdkIAAAD+Mch2QgAAwGOEyHZCAACAydbIdkIAAEAvKcl2QgAAAJV7yXZCAABAxnLKdkIAAAAsxcp2QgAAwJEXy3ZCAACA92nLdkIAAEBdvMt2QgAAgI6zzHZCAABA9AXNdkIAAABaWM12QgAAwL+qzXZCAACAJf3NdkIAAIC8Rs92QgAAQCKZz3ZCAAAAiOvPdkIAAMDtPdB2QgAAAB810XZCAADAhIfRdkIAAIDq2dF2QgAAQFAs0nZCAAAAtn7SdkIAAEDnddN2QgAAAE3I03ZCAADAshrUdkIAAIAYbdR2QgAAQH6/1HZCAACAr7bVdkIAAEAVCdZ2QgAAAHtb1nZCAADA4K3WdkIAAIBGANd2QgAAwHf313ZCAACA3UnYdkIAAEBDnNh2QgAAAKnu2HZCAADADkHZdkIAAABAONp2QgAAwKWK2nZCAACAC93adkIAAEBxL9t2QgAAANeB23ZCAABACHncdkIAAABuy9x2QgAAwNMd3XZCAACAOXDddkIAAECfwt12QgAAgNC53nZCAABANgzfdkIAAACcXt92QgAAwAGx33ZCAACAZwPgdkIAAMCY+uB2QgAAgP5M4XZCAABAZJ/hdkIAAADK8eF2QgAAwC9E4nZCAAAAYTvjdkIAAMDGjeN2QgAAgCzg43ZCAABAkjLkdkIAAAD4hOR2QgAAQCl85XZCAAAAj87ldkIAAMD0IOZ2QgAAgFpz5nZCAABAwMXmdkIAAIDxvOd2QgAAQFcP6HZCAAAAvWHodkIAAMAitOh2QgAAgIgG6XZCAADAuf3pdkIAAIAfUOp2QgAAQIWi6nZCAADAUEfrdkIAAACCPux2QgAAwOeQ7HZCAACATePsdkIAAECzNe12QgAAABmI7XZCAABASn/udkIAAACw0e52QgAAwBUk73ZCAACAe3bvdkIAAEDhyO92QgAAgBLA8HZCAABAeBLxdkIAAADeZPF2QgAAwEO38XZCAACAqQnydkIAAMDaAPN2QgAAgEBT83ZCAAAADPjzdkIAAMBxSvR2QgAAAKNB9XZCAADACJT1dkIAAEDUOPZ2QgAAADqL9nZCAABAa4L3dkIAAADR1Pd2QgAAwDYn+HZCAACAnHn4dkIAAEACzPh2QgAAgDPD+XZCAABAmRX6dkIAAAD/Z/p2QgAAwGS6+nZCAACAygz7dkIAAIBhVvx2QgAAQMeo/HZCAAAALfv8dkIAAMCSTf12QgAAAMRE/nZCAADAKZf+dkIAAICP6f52QgAAQPU7/3ZCAAAAW47/dkIAAECMhQB3QgAAAPLXAHdCAADAVyoBd0IAAIC9fAF3QgAAQCPPAXdCAACAVMYCd0IAAEC6GAN3QgAAACBrA3dCAADAhb0Dd0IAAIDrDwR3QgAAgIJZBXdCAABA6KsFd0IAAABO/gV3QgAAwLNQBndCAAAA5UcHd0IAAMBKmgd3QgAAgLDsB3dCAABAFj8Id0IAAAB8kQh3QgAAQK2ICXdCAAAAE9sJd0IAAMB4LQp3QgAAgN5/CndCAABARNIKd0IAAIB1yQt3QgAAQNsbDHdCAAAAQW4Md0IAAMCmwAx3QgAAgAwTDXdCAADAPQoOd0IAAICjXA53QgAAQAmvDndCAAAAbwEPd0IAAMDUUw93QgAAAAZLEHdCAADAa50Qd0IAAIDR7xB3QgAAQDdCEXdCAAAAnZQRd0IAAEDOixJ3QgAAADTeEndCAADAmTATd0IAAID/ghN3QgAAQGXVE3dC\",\"dtype\":\"float64\",\"order\":\"little\",\"shape\":[807]},\"VIX Close\":{\"__ndarray__\":\"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\",\"dtype\":\"float64\",\"order\":\"little\",\"shape\":[807]},\"VIX_Close\":{\"__ndarray__\":\"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\",\"dtype\":\"float64\",\"order\":\"little\",\"shape\":[807]}},\"selected\":{\"id\":\"2669\"},\"selection_policy\":{\"id\":\"2686\"}},\"id\":\"2668\",\"type\":\"ColumnDataSource\"},{\"attributes\":{},\"id\":\"2655\",\"type\":\"SaveTool\"},{\"attributes\":{\"source\":{\"id\":\"2668\"}},\"id\":\"2675\",\"type\":\"CDSView\"},{\"attributes\":{},\"id\":\"2656\",\"type\":\"PanTool\"},{\"attributes\":{},\"id\":\"2699\",\"type\":\"YearsTicker\"},{\"attributes\":{},\"id\":\"2659\",\"type\":\"ResetTool\"},{\"attributes\":{\"axis_label\":\"Date\",\"bounds\":\"auto\",\"formatter\":{\"id\":\"2677\"},\"major_label_orientation\":\"horizontal\",\"ticker\":{\"id\":\"2648\"}},\"id\":\"2647\",\"type\":\"DatetimeAxis\"},{\"attributes\":{},\"id\":\"2657\",\"type\":\"WheelZoomTool\"},{\"attributes\":{},\"id\":\"2645\",\"type\":\"LinearScale\"},{\"attributes\":{\"overlay\":{\"id\":\"2660\"}},\"id\":\"2658\",\"type\":\"BoxZoomTool\"},{\"attributes\":{\"mantissas\":[1,2,5],\"max_interval\":500.0,\"num_minor_ticks\":0},\"id\":\"2688\",\"type\":\"AdaptiveTicker\"},{\"attributes\":{},\"id\":\"2686\",\"type\":\"UnionRenderers\"},{\"attributes\":{\"margin\":[5,5,5,5],\"name\":\"HSpacer02944\",\"sizing_mode\":\"stretch_width\"},\"id\":\"2720\",\"type\":\"Spacer\"},{\"attributes\":{\"base\":60,\"mantissas\":[1,2,5,10,15,20,30],\"max_interval\":1800000.0,\"min_interval\":1000.0,\"num_minor_ticks\":0},\"id\":\"2689\",\"type\":\"AdaptiveTicker\"},{\"attributes\":{\"days\":[1,2,3,4,5,6,7,8,9,10,11,12,13,14,15,16,17,18,19,20,21,22,23,24,25,26,27,28,29,30,31]},\"id\":\"2691\",\"type\":\"DaysTicker\"},{\"attributes\":{\"base\":24,\"mantissas\":[1,2,4,6,8,12],\"max_interval\":43200000.0,\"min_interval\":3600000.0,\"num_minor_ticks\":0},\"id\":\"2690\",\"type\":\"AdaptiveTicker\"},{\"attributes\":{\"num_minor_ticks\":5,\"tickers\":[{\"id\":\"2688\"},{\"id\":\"2689\"},{\"id\":\"2690\"},{\"id\":\"2691\"},{\"id\":\"2692\"},{\"id\":\"2693\"},{\"id\":\"2694\"},{\"id\":\"2695\"},{\"id\":\"2696\"},{\"id\":\"2697\"},{\"id\":\"2698\"},{\"id\":\"2699\"}]},\"id\":\"2648\",\"type\":\"DatetimeTicker\"},{\"attributes\":{\"axis\":{\"id\":\"2647\"},\"grid_line_color\":null,\"ticker\":null},\"id\":\"2650\",\"type\":\"Grid\"},{\"attributes\":{\"end\":90.0450026512146,\"reset_end\":90.0450026512146,\"reset_start\":1.7850001335144041,\"start\":1.7850001335144041,\"tags\":[[[\"VIX Close\",\"VIX Close\",null]]]},\"id\":\"2636\",\"type\":\"Range1d\"}],\"root_ids\":[\"2633\"]},\"title\":\"Bokeh Application\",\"version\":\"2.2.3\"}};\n",
       "    var render_items = [{\"docid\":\"4c71e6c9-6743-4363-ba60-6bc523636b31\",\"root_ids\":[\"2633\"],\"roots\":{\"2633\":\"6f3842ac-3c23-4f60-b8cd-e57fbc844ca8\"}}];\n",
       "    root.Bokeh.embed.embed_items_notebook(docs_json, render_items);\n",
       "  }\n",
       "  if (root.Bokeh !== undefined && root.Bokeh.Panel !== undefined) {\n",
       "    embed_document(root);\n",
       "  } else {\n",
       "    var attempts = 0;\n",
       "    var timer = setInterval(function(root) {\n",
       "      if (root.Bokeh !== undefined && root.Bokeh.Panel !== undefined) {\n",
       "        clearInterval(timer);\n",
       "        embed_document(root);\n",
       "      } else if (document.readyState == \"complete\") {\n",
       "        attempts++;\n",
       "        if (attempts > 100) {\n",
       "          clearInterval(timer);\n",
       "          console.log(\"Bokeh: ERROR: Unable to run BokehJS code because BokehJS library is missing\");\n",
       "        }\n",
       "      }\n",
       "    }, 10, root)\n",
       "  }\n",
       "})(window);</script>"
      ],
      "text/plain": [
       ":Curve   [Date]   (VIX Close)"
      ]
     },
     "execution_count": 30,
     "metadata": {
      "application/vnd.holoviews_exec.v0+json": {
       "id": "2633"
      }
     },
     "output_type": "execute_result"
    }
   ],
   "source": [
    "# HVPLOT VIX Index Close Data\n",
    "vix_data.hvplot.line(x='Date', y='VIX Close', line_color=\"blue\")"
   ]
  },
  {
   "cell_type": "code",
   "execution_count": 31,
   "metadata": {},
   "outputs": [
    {
     "data": {
      "text/html": [
       "<div>\n",
       "<style scoped>\n",
       "    .dataframe tbody tr th:only-of-type {\n",
       "        vertical-align: middle;\n",
       "    }\n",
       "\n",
       "    .dataframe tbody tr th {\n",
       "        vertical-align: top;\n",
       "    }\n",
       "\n",
       "    .dataframe thead th {\n",
       "        text-align: right;\n",
       "    }\n",
       "</style>\n",
       "<table border=\"1\" class=\"dataframe\">\n",
       "  <thead>\n",
       "    <tr style=\"text-align: right;\">\n",
       "      <th></th>\n",
       "      <th>SPY Close</th>\n",
       "      <th>Daily Returns</th>\n",
       "      <th>Cumulative Returns</th>\n",
       "      <th>VIX Close</th>\n",
       "    </tr>\n",
       "    <tr>\n",
       "      <th>Date</th>\n",
       "      <th></th>\n",
       "      <th></th>\n",
       "      <th></th>\n",
       "      <th></th>\n",
       "    </tr>\n",
       "  </thead>\n",
       "  <tbody>\n",
       "    <tr>\n",
       "      <th>2017-01-20</th>\n",
       "      <td>210.286606</td>\n",
       "      <td>NaN</td>\n",
       "      <td>NaN</td>\n",
       "      <td>11.54</td>\n",
       "    </tr>\n",
       "    <tr>\n",
       "      <th>2017-01-23</th>\n",
       "      <td>209.739395</td>\n",
       "      <td>-0.002602</td>\n",
       "      <td>-0.002602</td>\n",
       "      <td>11.77</td>\n",
       "    </tr>\n",
       "    <tr>\n",
       "      <th>2017-01-24</th>\n",
       "      <td>211.084198</td>\n",
       "      <td>0.006412</td>\n",
       "      <td>0.003793</td>\n",
       "      <td>11.07</td>\n",
       "    </tr>\n",
       "    <tr>\n",
       "      <th>2017-01-25</th>\n",
       "      <td>212.911209</td>\n",
       "      <td>0.008655</td>\n",
       "      <td>0.012481</td>\n",
       "      <td>10.81</td>\n",
       "    </tr>\n",
       "    <tr>\n",
       "      <th>2017-01-26</th>\n",
       "      <td>212.688675</td>\n",
       "      <td>-0.001045</td>\n",
       "      <td>0.011423</td>\n",
       "      <td>10.63</td>\n",
       "    </tr>\n",
       "  </tbody>\n",
       "</table>\n",
       "</div>"
      ],
      "text/plain": [
       "             SPY Close  Daily Returns  Cumulative Returns  VIX Close\n",
       "Date                                                                \n",
       "2017-01-20  210.286606            NaN                 NaN      11.54\n",
       "2017-01-23  209.739395      -0.002602           -0.002602      11.77\n",
       "2017-01-24  211.084198       0.006412            0.003793      11.07\n",
       "2017-01-25  212.911209       0.008655            0.012481      10.81\n",
       "2017-01-26  212.688675      -0.001045            0.011423      10.63"
      ]
     },
     "execution_count": 31,
     "metadata": {},
     "output_type": "execute_result"
    }
   ],
   "source": [
    "# Combine SPY & VIX Dataframes\n",
    "all_data = pd.concat([spy_data, vix_data],axis=\"columns\", join=\"inner\")\n",
    "all_data.head()"
   ]
  },
  {
   "cell_type": "code",
   "execution_count": 32,
   "metadata": {},
   "outputs": [
    {
     "data": {
      "application/vnd.holoviews_exec.v0+json": "",
      "text/html": [
       "<div id='2822'>\n",
       "\n",
       "\n",
       "\n",
       "\n",
       "\n",
       "  <div class=\"bk-root\" id=\"738e11b2-c448-4054-a998-91630dfd876f\" data-root-id=\"2822\"></div>\n",
       "</div>\n",
       "<script type=\"application/javascript\">(function(root) {\n",
       "  function embed_document(root) {\n",
       "    var docs_json = {\"63f8e15e-cd74-421f-8c78-b577bb85148c\":{\"roots\":{\"references\":[{\"attributes\":{},\"id\":\"2862\",\"type\":\"BasicTickFormatter\"},{\"attributes\":{\"num_minor_ticks\":5,\"tickers\":[{\"id\":\"2889\"},{\"id\":\"2890\"},{\"id\":\"2891\"},{\"id\":\"2892\"},{\"id\":\"2893\"},{\"id\":\"2894\"},{\"id\":\"2895\"},{\"id\":\"2896\"},{\"id\":\"2897\"},{\"id\":\"2898\"},{\"id\":\"2899\"},{\"id\":\"2900\"}]},\"id\":\"2838\",\"type\":\"DatetimeTicker\"},{\"attributes\":{},\"id\":\"2900\",\"type\":\"YearsTicker\"},{\"attributes\":{\"axis\":{\"id\":\"2841\"},\"dimension\":1,\"grid_line_color\":null,\"ticker\":null},\"id\":\"2844\",\"type\":\"Grid\"},{\"attributes\":{\"callback\":null,\"formatters\":{\"@{Date}\":\"datetime\"},\"renderers\":[{\"id\":\"2869\"}],\"tags\":[\"hv_created\"],\"tooltips\":[[\"Date\",\"@{Date}{%F %T}\"],[\"SPY Close\",\"@{SPY_Close}\"]]},\"id\":\"2826\",\"type\":\"HoverTool\"},{\"attributes\":{\"axis\":{\"id\":\"2837\"},\"grid_line_color\":null,\"ticker\":null},\"id\":\"2840\",\"type\":\"Grid\"},{\"attributes\":{\"data_source\":{\"id\":\"2871\"},\"glyph\":{\"id\":\"2874\"},\"hover_glyph\":null,\"muted_glyph\":{\"id\":\"2876\"},\"nonselection_glyph\":{\"id\":\"2875\"},\"selection_glyph\":null,\"view\":{\"id\":\"2878\"}},\"id\":\"2877\",\"type\":\"GlyphRenderer\"},{\"attributes\":{\"base\":24,\"mantissas\":[1,2,4,6,8,12],\"max_interval\":43200000.0,\"min_interval\":3600000.0,\"num_minor_ticks\":0},\"id\":\"2891\",\"type\":\"AdaptiveTicker\"},{\"attributes\":{\"margin\":[5,5,5,5],\"name\":\"HSpacer03200\",\"sizing_mode\":\"stretch_width\"},\"id\":\"2823\",\"type\":\"Spacer\"},{\"attributes\":{\"days\":[1,2,3,4,5,6,7,8,9,10,11,12,13,14,15,16,17,18,19,20,21,22,23,24,25,26,27,28,29,30,31]},\"id\":\"2892\",\"type\":\"DaysTicker\"},{\"attributes\":{},\"id\":\"2842\",\"type\":\"BasicTicker\"},{\"attributes\":{\"base\":60,\"mantissas\":[1,2,5,10,15,20,30],\"max_interval\":1800000.0,\"min_interval\":1000.0,\"num_minor_ticks\":0},\"id\":\"2890\",\"type\":\"AdaptiveTicker\"},{\"attributes\":{\"axis_label\":\"SPY Close\",\"bounds\":\"auto\",\"formatter\":{\"id\":\"2862\"},\"major_label_orientation\":\"horizontal\",\"ticker\":{\"id\":\"2842\"}},\"id\":\"2841\",\"type\":\"LinearAxis\"},{\"attributes\":{\"active_drag\":\"auto\",\"active_inspect\":\"auto\",\"active_multi\":null,\"active_scroll\":\"auto\",\"active_tap\":\"auto\",\"tools\":[{\"id\":\"2826\"},{\"id\":\"2827\"},{\"id\":\"2845\"},{\"id\":\"2846\"},{\"id\":\"2847\"},{\"id\":\"2848\"},{\"id\":\"2849\"}]},\"id\":\"2851\",\"type\":\"Toolbar\"},{\"attributes\":{},\"id\":\"2833\",\"type\":\"LinearScale\"},{\"attributes\":{\"callback\":null,\"formatters\":{\"@{Date}\":\"datetime\"},\"renderers\":[{\"id\":\"2877\"}],\"tags\":[\"hv_created\"],\"tooltips\":[[\"Date\",\"@{Date}{%F %T}\"],[\"VIX Close\",\"@{VIX_Close}\"]]},\"id\":\"2827\",\"type\":\"HoverTool\"},{\"attributes\":{},\"id\":\"2864\",\"type\":\"Selection\"},{\"attributes\":{},\"id\":\"2885\",\"type\":\"UnionRenderers\"},{\"attributes\":{\"end\":1585872000000.0,\"reset_end\":1585872000000.0,\"reset_start\":1484870400000.0,\"start\":1484870400000.0,\"tags\":[[[\"Date\",\"Date\",null]]]},\"id\":\"2824\",\"type\":\"Range1d\"},{\"attributes\":{\"bottom_units\":\"screen\",\"fill_alpha\":0.5,\"fill_color\":\"lightgrey\",\"left_units\":\"screen\",\"level\":\"overlay\",\"line_alpha\":1.0,\"line_color\":\"black\",\"line_dash\":[4,4],\"line_width\":2,\"right_units\":\"screen\",\"top_units\":\"screen\"},\"id\":\"2850\",\"type\":\"BoxAnnotation\"},{\"attributes\":{\"line_alpha\":0.2,\"line_color\":\"green\",\"line_width\":2,\"x\":{\"field\":\"Date\"},\"y\":{\"field\":\"SPY Close\"}},\"id\":\"2868\",\"type\":\"Line\"},{\"attributes\":{\"children\":[{\"id\":\"2823\"},{\"id\":\"2828\"},{\"id\":\"3077\"}],\"margin\":[0,0,0,0],\"name\":\"Row03196\",\"tags\":[\"embedded\"]},\"id\":\"2822\",\"type\":\"Row\"},{\"attributes\":{\"source\":{\"id\":\"2871\"}},\"id\":\"2878\",\"type\":\"CDSView\"},{\"attributes\":{\"data_source\":{\"id\":\"2863\"},\"glyph\":{\"id\":\"2866\"},\"hover_glyph\":null,\"muted_glyph\":{\"id\":\"2868\"},\"nonselection_glyph\":{\"id\":\"2867\"},\"selection_glyph\":null,\"view\":{\"id\":\"2870\"}},\"id\":\"2869\",\"type\":\"GlyphRenderer\"},{\"attributes\":{\"text\":\"\",\"text_color\":{\"value\":\"black\"},\"text_font_size\":{\"value\":\"12pt\"}},\"id\":\"2829\",\"type\":\"Title\"},{\"attributes\":{},\"id\":\"2872\",\"type\":\"Selection\"},{\"attributes\":{\"line_color\":\"blue\",\"line_width\":2,\"x\":{\"field\":\"Date\"},\"y\":{\"field\":\"VIX Close\"}},\"id\":\"2874\",\"type\":\"Line\"},{\"attributes\":{\"months\":[0,1,2,3,4,5,6,7,8,9,10,11]},\"id\":\"2896\",\"type\":\"MonthsTicker\"},{\"attributes\":{\"source\":{\"id\":\"2863\"}},\"id\":\"2870\",\"type\":\"CDSView\"},{\"attributes\":{\"days\":[1,15]},\"id\":\"2895\",\"type\":\"DaysTicker\"},{\"attributes\":{},\"id\":\"2835\",\"type\":\"LinearScale\"},{\"attributes\":{\"mantissas\":[1,2,5],\"max_interval\":500.0,\"num_minor_ticks\":0},\"id\":\"2889\",\"type\":\"AdaptiveTicker\"},{\"attributes\":{\"days\":[1,8,15,22]},\"id\":\"2894\",\"type\":\"DaysTicker\"},{\"attributes\":{\"line_alpha\":0.1,\"line_color\":\"green\",\"line_width\":2,\"x\":{\"field\":\"Date\"},\"y\":{\"field\":\"SPY Close\"}},\"id\":\"2867\",\"type\":\"Line\"},{\"attributes\":{},\"id\":\"2845\",\"type\":\"SaveTool\"},{\"attributes\":{\"days\":[1,4,7,10,13,16,19,22,25,28]},\"id\":\"2893\",\"type\":\"DaysTicker\"},{\"attributes\":{},\"id\":\"2846\",\"type\":\"PanTool\"},{\"attributes\":{},\"id\":\"2860\",\"type\":\"DatetimeTickFormatter\"},{\"attributes\":{\"overlay\":{\"id\":\"2850\"}},\"id\":\"2848\",\"type\":\"BoxZoomTool\"},{\"attributes\":{},\"id\":\"2887\",\"type\":\"UnionRenderers\"},{\"attributes\":{\"end\":364.4370955467224,\"reset_end\":364.4370955467224,\"reset_start\":-23.159735584259032,\"start\":-23.159735584259032,\"tags\":[[[\"SPY Close\",\"SPY Close\",null]]]},\"id\":\"2825\",\"type\":\"Range1d\"},{\"attributes\":{\"line_color\":\"green\",\"line_width\":2,\"x\":{\"field\":\"Date\"},\"y\":{\"field\":\"SPY Close\"}},\"id\":\"2866\",\"type\":\"Line\"},{\"attributes\":{},\"id\":\"2847\",\"type\":\"WheelZoomTool\"},{\"attributes\":{\"months\":[0,2,4,6,8,10]},\"id\":\"2897\",\"type\":\"MonthsTicker\"},{\"attributes\":{\"axis_label\":\"Date\",\"bounds\":\"auto\",\"formatter\":{\"id\":\"2860\"},\"major_label_orientation\":\"horizontal\",\"ticker\":{\"id\":\"2838\"}},\"id\":\"2837\",\"type\":\"DatetimeAxis\"},{\"attributes\":{\"data\":{\"Date\":{\"__ndarray__\":\"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\",\"dtype\":\"float64\",\"order\":\"little\",\"shape\":[807]},\"SPY Close\":{\"__ndarray__\":\"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\",\"dtype\":\"float64\",\"order\":\"little\",\"shape\":[807]},\"SPY_Close\":{\"__ndarray__\":\"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\",\"dtype\":\"float64\",\"order\":\"little\",\"shape\":[807]}},\"selected\":{\"id\":\"2864\"},\"selection_policy\":{\"id\":\"2885\"}},\"id\":\"2863\",\"type\":\"ColumnDataSource\"},{\"attributes\":{\"margin\":[5,5,5,5],\"name\":\"HSpacer03201\",\"sizing_mode\":\"stretch_width\"},\"id\":\"3077\",\"type\":\"Spacer\"},{\"attributes\":{\"months\":[0,4,8]},\"id\":\"2898\",\"type\":\"MonthsTicker\"},{\"attributes\":{\"line_alpha\":0.2,\"line_color\":\"blue\",\"line_width\":2,\"x\":{\"field\":\"Date\"},\"y\":{\"field\":\"VIX Close\"}},\"id\":\"2876\",\"type\":\"Line\"},{\"attributes\":{},\"id\":\"2849\",\"type\":\"ResetTool\"},{\"attributes\":{\"months\":[0,6]},\"id\":\"2899\",\"type\":\"MonthsTicker\"},{\"attributes\":{\"line_alpha\":0.1,\"line_color\":\"blue\",\"line_width\":2,\"x\":{\"field\":\"Date\"},\"y\":{\"field\":\"VIX Close\"}},\"id\":\"2875\",\"type\":\"Line\"},{\"attributes\":{\"below\":[{\"id\":\"2837\"}],\"center\":[{\"id\":\"2840\"},{\"id\":\"2844\"}],\"left\":[{\"id\":\"2841\"}],\"margin\":[5,5,5,5],\"min_border_bottom\":10,\"min_border_left\":10,\"min_border_right\":10,\"min_border_top\":10,\"plot_height\":300,\"plot_width\":700,\"renderers\":[{\"id\":\"2869\"},{\"id\":\"2877\"}],\"sizing_mode\":\"fixed\",\"title\":{\"id\":\"2829\"},\"toolbar\":{\"id\":\"2851\"},\"x_range\":{\"id\":\"2824\"},\"x_scale\":{\"id\":\"2833\"},\"y_range\":{\"id\":\"2825\"},\"y_scale\":{\"id\":\"2835\"}},\"id\":\"2828\",\"subtype\":\"Figure\",\"type\":\"Plot\"},{\"attributes\":{\"data\":{\"Date\":{\"__ndarray__\":\"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\",\"dtype\":\"float64\",\"order\":\"little\",\"shape\":[807]},\"VIX Close\":{\"__ndarray__\":\"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\",\"dtype\":\"float64\",\"order\":\"little\",\"shape\":[807]},\"VIX_Close\":{\"__ndarray__\":\"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\",\"dtype\":\"float64\",\"order\":\"little\",\"shape\":[807]}},\"selected\":{\"id\":\"2872\"},\"selection_policy\":{\"id\":\"2887\"}},\"id\":\"2871\",\"type\":\"ColumnDataSource\"}],\"root_ids\":[\"2822\"]},\"title\":\"Bokeh Application\",\"version\":\"2.2.3\"}};\n",
       "    var render_items = [{\"docid\":\"63f8e15e-cd74-421f-8c78-b577bb85148c\",\"root_ids\":[\"2822\"],\"roots\":{\"2822\":\"738e11b2-c448-4054-a998-91630dfd876f\"}}];\n",
       "    root.Bokeh.embed.embed_items_notebook(docs_json, render_items);\n",
       "  }\n",
       "  if (root.Bokeh !== undefined && root.Bokeh.Panel !== undefined) {\n",
       "    embed_document(root);\n",
       "  } else {\n",
       "    var attempts = 0;\n",
       "    var timer = setInterval(function(root) {\n",
       "      if (root.Bokeh !== undefined && root.Bokeh.Panel !== undefined) {\n",
       "        clearInterval(timer);\n",
       "        embed_document(root);\n",
       "      } else if (document.readyState == \"complete\") {\n",
       "        attempts++;\n",
       "        if (attempts > 100) {\n",
       "          clearInterval(timer);\n",
       "          console.log(\"Bokeh: ERROR: Unable to run BokehJS code because BokehJS library is missing\");\n",
       "        }\n",
       "      }\n",
       "    }, 10, root)\n",
       "  }\n",
       "})(window);</script>"
      ],
      "text/plain": [
       ":Overlay\n",
       "   .Curve.I  :Curve   [Date]   (SPY Close)\n",
       "   .Curve.II :Curve   [Date]   (VIX Close)"
      ]
     },
     "execution_count": 32,
     "metadata": {
      "application/vnd.holoviews_exec.v0+json": {
       "id": "2822"
      }
     },
     "output_type": "execute_result"
    }
   ],
   "source": [
    "\n",
    "spy_data.hvplot.line(x='Date', y='SPY Close',\n",
    "                     line_color=\"green\") * vix_data.hvplot.line(\n",
    "                    x='Date', y='VIX Close', line_color=\"blue\")"
   ]
  },
  {
   "cell_type": "code",
   "execution_count": 33,
   "metadata": {},
   "outputs": [
    {
     "data": {
      "application/vnd.holoviews_exec.v0+json": "",
      "text/html": [
       "<div id='3189'>\n",
       "\n",
       "\n",
       "\n",
       "\n",
       "\n",
       "  <div class=\"bk-root\" id=\"54c9e872-e015-4c35-b5b6-ed4a5677fd12\" data-root-id=\"3189\"></div>\n",
       "</div>\n",
       "<script type=\"application/javascript\">(function(root) {\n",
       "  function embed_document(root) {\n",
       "    var docs_json = {\"9d0dcc7a-1348-4832-a28f-dbf9d4cecfd7\":{\"roots\":{\"references\":[{\"attributes\":{\"days\":[1,8,15,22]},\"id\":\"3313\",\"type\":\"DaysTicker\"},{\"attributes\":{\"axis_label\":\"Close Price\",\"bounds\":\"auto\",\"formatter\":{\"id\":\"3278\"},\"major_label_orientation\":\"horizontal\",\"ticker\":{\"id\":\"3251\"}},\"id\":\"3250\",\"type\":\"LinearAxis\"},{\"attributes\":{},\"id\":\"3298\",\"type\":\"YearsTicker\"},{\"attributes\":{\"bottom_units\":\"screen\",\"fill_alpha\":0.5,\"fill_color\":\"lightgrey\",\"left_units\":\"screen\",\"level\":\"overlay\",\"line_alpha\":1.0,\"line_color\":\"black\",\"line_dash\":[4,4],\"line_width\":2,\"right_units\":\"screen\",\"top_units\":\"screen\"},\"id\":\"3216\",\"type\":\"BoxAnnotation\"},{\"attributes\":{\"days\":[1,4,7,10,13,16,19,22,25,28]},\"id\":\"3312\",\"type\":\"DaysTicker\"},{\"attributes\":{\"active_drag\":\"auto\",\"active_inspect\":\"auto\",\"active_multi\":null,\"active_scroll\":\"auto\",\"active_tap\":\"auto\",\"tools\":[{\"id\":\"3193\"},{\"id\":\"3211\"},{\"id\":\"3212\"},{\"id\":\"3213\"},{\"id\":\"3214\"},{\"id\":\"3215\"}]},\"id\":\"3217\",\"type\":\"Toolbar\"},{\"attributes\":{\"base\":24,\"mantissas\":[1,2,4,6,8,12],\"max_interval\":43200000.0,\"min_interval\":3600000.0,\"num_minor_ticks\":0},\"id\":\"3310\",\"type\":\"AdaptiveTicker\"},{\"attributes\":{\"text\":\"Variable: SPY Close\",\"text_color\":{\"value\":\"black\"},\"text_font_size\":{\"value\":\"12pt\"}},\"id\":\"3195\",\"type\":\"Title\"},{\"attributes\":{\"months\":[0,1,2,3,4,5,6,7,8,9,10,11]},\"id\":\"3315\",\"type\":\"MonthsTicker\"},{\"attributes\":{\"active_drag\":\"auto\",\"active_inspect\":\"auto\",\"active_multi\":null,\"active_scroll\":\"auto\",\"active_tap\":\"auto\",\"tools\":[{\"id\":\"3236\"},{\"id\":\"3254\"},{\"id\":\"3255\"},{\"id\":\"3256\"},{\"id\":\"3257\"},{\"id\":\"3258\"}]},\"id\":\"3260\",\"type\":\"Toolbar\"},{\"attributes\":{},\"id\":\"3251\",\"type\":\"BasicTicker\"},{\"attributes\":{\"days\":[1,2,3,4,5,6,7,8,9,10,11,12,13,14,15,16,17,18,19,20,21,22,23,24,25,26,27,28,29,30,31]},\"id\":\"3311\",\"type\":\"DaysTicker\"},{\"attributes\":{},\"id\":\"3233\",\"type\":\"DatetimeTickFormatter\"},{\"attributes\":{\"days\":[1,15]},\"id\":\"3314\",\"type\":\"DaysTicker\"},{\"attributes\":{\"bottom_units\":\"screen\",\"fill_alpha\":0.5,\"fill_color\":\"lightgrey\",\"left_units\":\"screen\",\"level\":\"overlay\",\"line_alpha\":1.0,\"line_color\":\"black\",\"line_dash\":[4,4],\"line_width\":2,\"right_units\":\"screen\",\"top_units\":\"screen\"},\"id\":\"3259\",\"type\":\"BoxAnnotation\"},{\"attributes\":{\"source\":{\"id\":\"3224\"}},\"id\":\"3231\",\"type\":\"CDSView\"},{\"attributes\":{\"end\":364.4370955467224,\"reset_end\":364.4370955467224,\"reset_start\":-23.159735584259032,\"start\":-23.159735584259032,\"tags\":[[[\"Close Price\",\"Close Price\",null]]]},\"id\":\"3192\",\"type\":\"Range1d\"},{\"attributes\":{},\"id\":\"3235\",\"type\":\"BasicTickFormatter\"},{\"attributes\":{\"below\":[{\"id\":\"3203\"}],\"center\":[{\"id\":\"3206\"},{\"id\":\"3210\"}],\"left\":[{\"id\":\"3207\"}],\"margin\":null,\"min_border_bottom\":10,\"min_border_left\":10,\"min_border_right\":10,\"min_border_top\":10,\"plot_height\":200,\"plot_width\":300,\"renderers\":[{\"id\":\"3230\"}],\"sizing_mode\":\"fixed\",\"title\":{\"id\":\"3195\"},\"toolbar\":{\"id\":\"3217\"},\"toolbar_location\":null,\"x_range\":{\"id\":\"3191\"},\"x_scale\":{\"id\":\"3199\"},\"y_range\":{\"id\":\"3192\"},\"y_scale\":{\"id\":\"3201\"}},\"id\":\"3194\",\"subtype\":\"Figure\",\"type\":\"Plot\"},{\"attributes\":{\"months\":[0,2,4,6,8,10]},\"id\":\"3316\",\"type\":\"MonthsTicker\"},{\"attributes\":{\"axis\":{\"id\":\"3250\"},\"dimension\":1,\"grid_line_color\":null,\"ticker\":null},\"id\":\"3253\",\"type\":\"Grid\"},{\"attributes\":{\"axis_label\":\"Date\",\"bounds\":\"auto\",\"formatter\":{\"id\":\"3233\"},\"major_label_orientation\":\"horizontal\",\"ticker\":{\"id\":\"3204\"}},\"id\":\"3203\",\"type\":\"DatetimeAxis\"},{\"attributes\":{\"months\":[0,4,8]},\"id\":\"3317\",\"type\":\"MonthsTicker\"},{\"attributes\":{\"children\":[[{\"id\":\"3194\"},0,0],[{\"id\":\"3237\"},0,1]]},\"id\":\"3321\",\"type\":\"GridBox\"},{\"attributes\":{\"months\":[0,6]},\"id\":\"3318\",\"type\":\"MonthsTicker\"},{\"attributes\":{},\"id\":\"3285\",\"type\":\"UnionRenderers\"},{\"attributes\":{\"callback\":null,\"formatters\":{\"@{Date}\":\"datetime\"},\"renderers\":[{\"id\":\"3230\"}],\"tags\":[\"hv_created\"],\"tooltips\":[[\"Date\",\"@{Date}{%F %T}\"],[\"Close Price\",\"@{Close_Price}\"]]},\"id\":\"3193\",\"type\":\"HoverTool\"},{\"attributes\":{},\"id\":\"3201\",\"type\":\"LinearScale\"},{\"attributes\":{\"data\":{\"Close Price\":{\"__ndarray__\":\"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\",\"dtype\":\"float64\",\"order\":\"little\",\"shape\":[807]},\"Close_Price\":{\"__ndarray__\":\"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\",\"dtype\":\"float64\",\"order\":\"little\",\"shape\":[807]},\"Date\":{\"__ndarray__\":\"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\",\"dtype\":\"float64\",\"order\":\"little\",\"shape\":[807]}},\"selected\":{\"id\":\"3268\"},\"selection_policy\":{\"id\":\"3306\"}},\"id\":\"3267\",\"type\":\"ColumnDataSource\"},{\"attributes\":{\"toolbars\":[{\"id\":\"3217\"},{\"id\":\"3260\"}],\"tools\":[{\"id\":\"3193\"},{\"id\":\"3211\"},{\"id\":\"3212\"},{\"id\":\"3213\"},{\"id\":\"3214\"},{\"id\":\"3215\"},{\"id\":\"3236\"},{\"id\":\"3254\"},{\"id\":\"3255\"},{\"id\":\"3256\"},{\"id\":\"3257\"},{\"id\":\"3258\"}]},\"id\":\"3322\",\"type\":\"ProxyToolbar\"},{\"attributes\":{\"line_alpha\":0.1,\"line_color\":\"#1f77b3\",\"line_width\":2,\"x\":{\"field\":\"Date\"},\"y\":{\"field\":\"Close Price\"}},\"id\":\"3228\",\"type\":\"Line\"},{\"attributes\":{},\"id\":\"3278\",\"type\":\"BasicTickFormatter\"},{\"attributes\":{\"months\":[0,6]},\"id\":\"3297\",\"type\":\"MonthsTicker\"},{\"attributes\":{},\"id\":\"3319\",\"type\":\"YearsTicker\"},{\"attributes\":{\"toolbar\":{\"id\":\"3322\"},\"toolbar_location\":\"above\"},\"id\":\"3323\",\"type\":\"ToolbarBox\"},{\"attributes\":{\"num_minor_ticks\":5,\"tickers\":[{\"id\":\"3287\"},{\"id\":\"3288\"},{\"id\":\"3289\"},{\"id\":\"3290\"},{\"id\":\"3291\"},{\"id\":\"3292\"},{\"id\":\"3293\"},{\"id\":\"3294\"},{\"id\":\"3295\"},{\"id\":\"3296\"},{\"id\":\"3297\"},{\"id\":\"3298\"}]},\"id\":\"3204\",\"type\":\"DatetimeTicker\"},{\"attributes\":{\"mantissas\":[1,2,5],\"max_interval\":500.0,\"num_minor_ticks\":0},\"id\":\"3308\",\"type\":\"AdaptiveTicker\"},{\"attributes\":{\"axis\":{\"id\":\"3207\"},\"dimension\":1,\"grid_line_color\":null,\"ticker\":null},\"id\":\"3210\",\"type\":\"Grid\"},{\"attributes\":{\"children\":[{\"id\":\"3190\"},{\"id\":\"3324\"},{\"id\":\"3685\"}],\"margin\":[0,0,0,0],\"name\":\"Row03627\",\"tags\":[\"embedded\"]},\"id\":\"3189\",\"type\":\"Row\"},{\"attributes\":{\"text\":\"Variable: VIX Close\",\"text_color\":{\"value\":\"black\"},\"text_font_size\":{\"value\":\"12pt\"}},\"id\":\"3238\",\"type\":\"Title\"},{\"attributes\":{\"axis\":{\"id\":\"3203\"},\"grid_line_color\":null,\"ticker\":null},\"id\":\"3206\",\"type\":\"Grid\"},{\"attributes\":{\"children\":[{\"id\":\"3323\"},{\"id\":\"3321\"}]},\"id\":\"3324\",\"type\":\"Column\"},{\"attributes\":{\"line_alpha\":0.2,\"line_color\":\"#1f77b3\",\"line_width\":2,\"x\":{\"field\":\"Date\"},\"y\":{\"field\":\"Close Price\"}},\"id\":\"3272\",\"type\":\"Line\"},{\"attributes\":{\"below\":[{\"id\":\"3246\"}],\"center\":[{\"id\":\"3249\"},{\"id\":\"3253\"}],\"left\":[{\"id\":\"3250\"}],\"margin\":null,\"min_border_bottom\":10,\"min_border_left\":10,\"min_border_right\":10,\"min_border_top\":10,\"plot_height\":200,\"plot_width\":300,\"renderers\":[{\"id\":\"3273\"}],\"sizing_mode\":\"fixed\",\"title\":{\"id\":\"3238\"},\"toolbar\":{\"id\":\"3260\"},\"toolbar_location\":null,\"x_range\":{\"id\":\"3191\"},\"x_scale\":{\"id\":\"3242\"},\"y_range\":{\"id\":\"3192\"},\"y_scale\":{\"id\":\"3244\"}},\"id\":\"3237\",\"subtype\":\"Figure\",\"type\":\"Plot\"},{\"attributes\":{},\"id\":\"3208\",\"type\":\"BasicTicker\"},{\"attributes\":{\"axis_label\":\"Close Price\",\"bounds\":\"auto\",\"formatter\":{\"id\":\"3235\"},\"major_label_orientation\":\"horizontal\",\"ticker\":{\"id\":\"3208\"}},\"id\":\"3207\",\"type\":\"LinearAxis\"},{\"attributes\":{\"axis_label\":\"Date\",\"bounds\":\"auto\",\"formatter\":{\"id\":\"3276\"},\"major_label_orientation\":\"horizontal\",\"ticker\":{\"id\":\"3247\"}},\"id\":\"3246\",\"type\":\"DatetimeAxis\"},{\"attributes\":{\"line_alpha\":0.2,\"line_color\":\"#1f77b3\",\"line_width\":2,\"x\":{\"field\":\"Date\"},\"y\":{\"field\":\"Close Price\"}},\"id\":\"3229\",\"type\":\"Line\"},{\"attributes\":{\"margin\":[5,5,5,5],\"name\":\"HSpacer03631\",\"sizing_mode\":\"stretch_width\"},\"id\":\"3190\",\"type\":\"Spacer\"},{\"attributes\":{\"line_alpha\":0.1,\"line_color\":\"#1f77b3\",\"line_width\":2,\"x\":{\"field\":\"Date\"},\"y\":{\"field\":\"Close Price\"}},\"id\":\"3271\",\"type\":\"Line\"},{\"attributes\":{\"callback\":null,\"formatters\":{\"@{Date}\":\"datetime\"},\"renderers\":[{\"id\":\"3273\"}],\"tags\":[\"hv_created\"],\"tooltips\":[[\"Date\",\"@{Date}{%F %T}\"],[\"Close Price\",\"@{Close_Price}\"]]},\"id\":\"3236\",\"type\":\"HoverTool\"},{\"attributes\":{\"days\":[1,2,3,4,5,6,7,8,9,10,11,12,13,14,15,16,17,18,19,20,21,22,23,24,25,26,27,28,29,30,31]},\"id\":\"3290\",\"type\":\"DaysTicker\"},{\"attributes\":{\"line_color\":\"#1f77b3\",\"line_width\":2,\"x\":{\"field\":\"Date\"},\"y\":{\"field\":\"Close Price\"}},\"id\":\"3227\",\"type\":\"Line\"},{\"attributes\":{\"line_color\":\"#1f77b3\",\"line_width\":2,\"x\":{\"field\":\"Date\"},\"y\":{\"field\":\"Close Price\"}},\"id\":\"3270\",\"type\":\"Line\"},{\"attributes\":{},\"id\":\"3244\",\"type\":\"LinearScale\"},{\"attributes\":{\"data_source\":{\"id\":\"3224\"},\"glyph\":{\"id\":\"3227\"},\"hover_glyph\":null,\"muted_glyph\":{\"id\":\"3229\"},\"nonselection_glyph\":{\"id\":\"3228\"},\"selection_glyph\":null,\"view\":{\"id\":\"3231\"}},\"id\":\"3230\",\"type\":\"GlyphRenderer\"},{\"attributes\":{\"days\":[1,4,7,10,13,16,19,22,25,28]},\"id\":\"3291\",\"type\":\"DaysTicker\"},{\"attributes\":{},\"id\":\"3306\",\"type\":\"UnionRenderers\"},{\"attributes\":{},\"id\":\"3268\",\"type\":\"Selection\"},{\"attributes\":{},\"id\":\"3211\",\"type\":\"SaveTool\"},{\"attributes\":{},\"id\":\"3199\",\"type\":\"LinearScale\"},{\"attributes\":{\"base\":60,\"mantissas\":[1,2,5,10,15,20,30],\"max_interval\":1800000.0,\"min_interval\":1000.0,\"num_minor_ticks\":0},\"id\":\"3288\",\"type\":\"AdaptiveTicker\"},{\"attributes\":{},\"id\":\"3212\",\"type\":\"PanTool\"},{\"attributes\":{\"num_minor_ticks\":5,\"tickers\":[{\"id\":\"3308\"},{\"id\":\"3309\"},{\"id\":\"3310\"},{\"id\":\"3311\"},{\"id\":\"3312\"},{\"id\":\"3313\"},{\"id\":\"3314\"},{\"id\":\"3315\"},{\"id\":\"3316\"},{\"id\":\"3317\"},{\"id\":\"3318\"},{\"id\":\"3319\"}]},\"id\":\"3247\",\"type\":\"DatetimeTicker\"},{\"attributes\":{},\"id\":\"3215\",\"type\":\"ResetTool\"},{\"attributes\":{\"mantissas\":[1,2,5],\"max_interval\":500.0,\"num_minor_ticks\":0},\"id\":\"3287\",\"type\":\"AdaptiveTicker\"},{\"attributes\":{},\"id\":\"3255\",\"type\":\"PanTool\"},{\"attributes\":{},\"id\":\"3213\",\"type\":\"WheelZoomTool\"},{\"attributes\":{\"axis\":{\"id\":\"3246\"},\"grid_line_color\":null,\"ticker\":null},\"id\":\"3249\",\"type\":\"Grid\"},{\"attributes\":{\"base\":24,\"mantissas\":[1,2,4,6,8,12],\"max_interval\":43200000.0,\"min_interval\":3600000.0,\"num_minor_ticks\":0},\"id\":\"3289\",\"type\":\"AdaptiveTicker\"},{\"attributes\":{\"overlay\":{\"id\":\"3216\"}},\"id\":\"3214\",\"type\":\"BoxZoomTool\"},{\"attributes\":{\"months\":[0,1,2,3,4,5,6,7,8,9,10,11]},\"id\":\"3294\",\"type\":\"MonthsTicker\"},{\"attributes\":{},\"id\":\"3254\",\"type\":\"SaveTool\"},{\"attributes\":{\"days\":[1,8,15,22]},\"id\":\"3292\",\"type\":\"DaysTicker\"},{\"attributes\":{\"margin\":[5,5,5,5],\"name\":\"HSpacer03632\",\"sizing_mode\":\"stretch_width\"},\"id\":\"3685\",\"type\":\"Spacer\"},{\"attributes\":{},\"id\":\"3258\",\"type\":\"ResetTool\"},{\"attributes\":{\"days\":[1,15]},\"id\":\"3293\",\"type\":\"DaysTicker\"},{\"attributes\":{},\"id\":\"3256\",\"type\":\"WheelZoomTool\"},{\"attributes\":{\"overlay\":{\"id\":\"3259\"}},\"id\":\"3257\",\"type\":\"BoxZoomTool\"},{\"attributes\":{\"data_source\":{\"id\":\"3267\"},\"glyph\":{\"id\":\"3270\"},\"hover_glyph\":null,\"muted_glyph\":{\"id\":\"3272\"},\"nonselection_glyph\":{\"id\":\"3271\"},\"selection_glyph\":null,\"view\":{\"id\":\"3274\"}},\"id\":\"3273\",\"type\":\"GlyphRenderer\"},{\"attributes\":{},\"id\":\"3242\",\"type\":\"LinearScale\"},{\"attributes\":{\"months\":[0,2,4,6,8,10]},\"id\":\"3295\",\"type\":\"MonthsTicker\"},{\"attributes\":{},\"id\":\"3225\",\"type\":\"Selection\"},{\"attributes\":{\"months\":[0,4,8]},\"id\":\"3296\",\"type\":\"MonthsTicker\"},{\"attributes\":{\"data\":{\"Close Price\":{\"__ndarray__\":\"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\",\"dtype\":\"float64\",\"order\":\"little\",\"shape\":[807]},\"Close_Price\":{\"__ndarray__\":\"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\",\"dtype\":\"float64\",\"order\":\"little\",\"shape\":[807]},\"Date\":{\"__ndarray__\":\"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\",\"dtype\":\"float64\",\"order\":\"little\",\"shape\":[807]}},\"selected\":{\"id\":\"3225\"},\"selection_policy\":{\"id\":\"3285\"}},\"id\":\"3224\",\"type\":\"ColumnDataSource\"},{\"attributes\":{\"end\":1585872000000.0,\"reset_end\":1585872000000.0,\"reset_start\":1484870400000.0,\"start\":1484870400000.0,\"tags\":[[[\"Date\",\"Date\",null]]]},\"id\":\"3191\",\"type\":\"Range1d\"},{\"attributes\":{\"base\":60,\"mantissas\":[1,2,5,10,15,20,30],\"max_interval\":1800000.0,\"min_interval\":1000.0,\"num_minor_ticks\":0},\"id\":\"3309\",\"type\":\"AdaptiveTicker\"},{\"attributes\":{\"source\":{\"id\":\"3267\"}},\"id\":\"3274\",\"type\":\"CDSView\"},{\"attributes\":{},\"id\":\"3276\",\"type\":\"DatetimeTickFormatter\"}],\"root_ids\":[\"3189\"]},\"title\":\"Bokeh Application\",\"version\":\"2.2.3\"}};\n",
       "    var render_items = [{\"docid\":\"9d0dcc7a-1348-4832-a28f-dbf9d4cecfd7\",\"root_ids\":[\"3189\"],\"roots\":{\"3189\":\"54c9e872-e015-4c35-b5b6-ed4a5677fd12\"}}];\n",
       "    root.Bokeh.embed.embed_items_notebook(docs_json, render_items);\n",
       "  }\n",
       "  if (root.Bokeh !== undefined && root.Bokeh.Panel !== undefined) {\n",
       "    embed_document(root);\n",
       "  } else {\n",
       "    var attempts = 0;\n",
       "    var timer = setInterval(function(root) {\n",
       "      if (root.Bokeh !== undefined && root.Bokeh.Panel !== undefined) {\n",
       "        clearInterval(timer);\n",
       "        embed_document(root);\n",
       "      } else if (document.readyState == \"complete\") {\n",
       "        attempts++;\n",
       "        if (attempts > 100) {\n",
       "          clearInterval(timer);\n",
       "          console.log(\"Bokeh: ERROR: Unable to run BokehJS code because BokehJS library is missing\");\n",
       "        }\n",
       "      }\n",
       "    }, 10, root)\n",
       "  }\n",
       "})(window);</script>"
      ],
      "text/plain": [
       ":NdLayout   [Variable]\n",
       "   :Curve   [Date]   (Close Price)"
      ]
     },
     "execution_count": 33,
     "metadata": {
      "application/vnd.holoviews_exec.v0+json": {
       "id": "3189"
      }
     },
     "output_type": "execute_result"
    }
   ],
   "source": [
    "all_data.hvplot(x='Date', y=['SPY Close', 'VIX Close'],\n",
    "                value_label='Close Price', subplots=True, width=300, height=200)"
   ]
  },
  {
   "cell_type": "code",
   "execution_count": 34,
   "metadata": {},
   "outputs": [
    {
     "data": {
      "image/png": "[encoded data removed]",
      "text/plain": [
       "<Figure size 1152x576 with 2 Axes>"
      ]
     },
     "metadata": {
      "needs_background": "light"
     },
     "output_type": "display_data"
    }
   ],
   "source": [
    "# Overlay Charts of SPY and VIX with a secondary y-axis\n",
    "data1 = spy_data\n",
    "data2 = vix_data\n",
    "\n",
    "fig, ax1 = plt.subplots()\n",
    "\n",
    "color = 'tab:red'\n",
    "ax1.set_xlabel('Date')\n",
    "ax1.set_ylabel('SPY Close', color=color)\n",
    "ax1.plot(data1, color=color)\n",
    "ax1.tick_params(axis='y', labelcolor=color)\n",
    "\n",
    "ax2 = ax1.twinx()  # instantiate a second axes that shares the same x-axis\n",
    "\n",
    "color = 'tab:blue'\n",
    "ax2.set_ylabel('VIX Close', color=color)  # we already handled the x-label with ax1\n",
    "ax2.plot(data2, color=color)\n",
    "ax2.tick_params(axis='y', labelcolor=color)\n",
    "\n",
    "\n",
    "plt.gcf().set_size_inches(16, 8)\n",
    "plt.show()"
   ]
  },
  {
   "cell_type": "code",
   "execution_count": 35,
   "metadata": {},
   "outputs": [
    {
     "data": {
      "text/html": [
       "<div>\n",
       "<style scoped>\n",
       "    .dataframe tbody tr th:only-of-type {\n",
       "        vertical-align: middle;\n",
       "    }\n",
       "\n",
       "    .dataframe tbody tr th {\n",
       "        vertical-align: top;\n",
       "    }\n",
       "\n",
       "    .dataframe thead th {\n",
       "        text-align: right;\n",
       "    }\n",
       "</style>\n",
       "<table border=\"1\" class=\"dataframe\">\n",
       "  <thead>\n",
       "    <tr style=\"text-align: right;\">\n",
       "      <th></th>\n",
       "      <th>SPY Close</th>\n",
       "      <th>Daily Returns</th>\n",
       "      <th>Cumulative Returns</th>\n",
       "      <th>VIX Close</th>\n",
       "    </tr>\n",
       "  </thead>\n",
       "  <tbody>\n",
       "    <tr>\n",
       "      <th>SPY Close</th>\n",
       "      <td>1.000000</td>\n",
       "      <td>0.039166</td>\n",
       "      <td>1.000000</td>\n",
       "      <td>0.037505</td>\n",
       "    </tr>\n",
       "    <tr>\n",
       "      <th>Daily Returns</th>\n",
       "      <td>0.039166</td>\n",
       "      <td>1.000000</td>\n",
       "      <td>0.039166</td>\n",
       "      <td>-0.221599</td>\n",
       "    </tr>\n",
       "    <tr>\n",
       "      <th>Cumulative Returns</th>\n",
       "      <td>1.000000</td>\n",
       "      <td>0.039166</td>\n",
       "      <td>1.000000</td>\n",
       "      <td>0.036479</td>\n",
       "    </tr>\n",
       "    <tr>\n",
       "      <th>VIX Close</th>\n",
       "      <td>0.037505</td>\n",
       "      <td>-0.221599</td>\n",
       "      <td>0.036479</td>\n",
       "      <td>1.000000</td>\n",
       "    </tr>\n",
       "  </tbody>\n",
       "</table>\n",
       "</div>"
      ],
      "text/plain": [
       "                    SPY Close  Daily Returns  Cumulative Returns  VIX Close\n",
       "SPY Close            1.000000       0.039166            1.000000   0.037505\n",
       "Daily Returns        0.039166       1.000000            0.039166  -0.221599\n",
       "Cumulative Returns   1.000000       0.039166            1.000000   0.036479\n",
       "VIX Close            0.037505      -0.221599            0.036479   1.000000"
      ]
     },
     "execution_count": 35,
     "metadata": {},
     "output_type": "execute_result"
    }
   ],
   "source": [
    "# Evaluate Correlations between SPY & VIX (Inversely Correlated)\n",
    "all_data.corr()"
   ]
  },
  {
   "cell_type": "markdown",
   "metadata": {},
   "source": [
    "# Add New Features Options Sentiment SPX"
   ]
  },
  {
   "cell_type": "code",
   "execution_count": 36,
   "metadata": {},
   "outputs": [
    {
     "data": {
      "text/html": [
       "<div>\n",
       "<style scoped>\n",
       "    .dataframe tbody tr th:only-of-type {\n",
       "        vertical-align: middle;\n",
       "    }\n",
       "\n",
       "    .dataframe tbody tr th {\n",
       "        vertical-align: top;\n",
       "    }\n",
       "\n",
       "    .dataframe thead th {\n",
       "        text-align: right;\n",
       "    }\n",
       "</style>\n",
       "<table border=\"1\" class=\"dataframe\">\n",
       "  <thead>\n",
       "    <tr style=\"text-align: right;\">\n",
       "      <th></th>\n",
       "      <th>SPX 1M 25DP Vol BVOL INDEX</th>\n",
       "      <th>SPX 1M 25DC Vol BVOL INDEX</th>\n",
       "      <th>SPX 1M 100 Vol BVOL INDEX</th>\n",
       "      <th>P/C Ratio</th>\n",
       "      <th>P/C Spread</th>\n",
       "      <th>P/ATM Ratio</th>\n",
       "      <th>P/ATM Spread</th>\n",
       "      <th>ATM/C Ratio</th>\n",
       "      <th>ATM/C Spread</th>\n",
       "    </tr>\n",
       "    <tr>\n",
       "      <th>Date</th>\n",
       "      <th></th>\n",
       "      <th></th>\n",
       "      <th></th>\n",
       "      <th></th>\n",
       "      <th></th>\n",
       "      <th></th>\n",
       "      <th></th>\n",
       "      <th></th>\n",
       "      <th></th>\n",
       "    </tr>\n",
       "  </thead>\n",
       "  <tbody>\n",
       "    <tr>\n",
       "      <th>2006-01-30</th>\n",
       "      <td>16.6034</td>\n",
       "      <td>11.4682</td>\n",
       "      <td>13.9688</td>\n",
       "      <td>1.45</td>\n",
       "      <td>5.14</td>\n",
       "      <td>1.19</td>\n",
       "      <td>2.63</td>\n",
       "      <td>1.22</td>\n",
       "      <td>2.50</td>\n",
       "    </tr>\n",
       "    <tr>\n",
       "      <th>2006-03-27</th>\n",
       "      <td>16.4509</td>\n",
       "      <td>11.6610</td>\n",
       "      <td>14.0590</td>\n",
       "      <td>1.41</td>\n",
       "      <td>4.79</td>\n",
       "      <td>1.17</td>\n",
       "      <td>2.39</td>\n",
       "      <td>1.21</td>\n",
       "      <td>2.40</td>\n",
       "    </tr>\n",
       "    <tr>\n",
       "      <th>2006-03-30</th>\n",
       "      <td>13.6402</td>\n",
       "      <td>9.8711</td>\n",
       "      <td>11.6972</td>\n",
       "      <td>1.38</td>\n",
       "      <td>3.77</td>\n",
       "      <td>1.17</td>\n",
       "      <td>1.94</td>\n",
       "      <td>1.18</td>\n",
       "      <td>1.83</td>\n",
       "    </tr>\n",
       "    <tr>\n",
       "      <th>2006-05-26</th>\n",
       "      <td>14.5851</td>\n",
       "      <td>10.5401</td>\n",
       "      <td>12.5388</td>\n",
       "      <td>1.38</td>\n",
       "      <td>4.05</td>\n",
       "      <td>1.16</td>\n",
       "      <td>2.05</td>\n",
       "      <td>1.19</td>\n",
       "      <td>2.00</td>\n",
       "    </tr>\n",
       "    <tr>\n",
       "      <th>2006-05-31</th>\n",
       "      <td>12.1362</td>\n",
       "      <td>9.2226</td>\n",
       "      <td>10.5372</td>\n",
       "      <td>1.32</td>\n",
       "      <td>2.91</td>\n",
       "      <td>1.15</td>\n",
       "      <td>1.60</td>\n",
       "      <td>1.14</td>\n",
       "      <td>1.31</td>\n",
       "    </tr>\n",
       "  </tbody>\n",
       "</table>\n",
       "</div>"
      ],
      "text/plain": [
       "            SPX 1M 25DP Vol BVOL INDEX  SPX 1M 25DC Vol BVOL INDEX  \\\n",
       "Date                                                                 \n",
       "2006-01-30                     16.6034                     11.4682   \n",
       "2006-03-27                     16.4509                     11.6610   \n",
       "2006-03-30                     13.6402                      9.8711   \n",
       "2006-05-26                     14.5851                     10.5401   \n",
       "2006-05-31                     12.1362                      9.2226   \n",
       "\n",
       "            SPX 1M 100 Vol BVOL INDEX  P/C Ratio  P/C Spread  P/ATM Ratio  \\\n",
       "Date                                                                        \n",
       "2006-01-30                    13.9688       1.45        5.14         1.19   \n",
       "2006-03-27                    14.0590       1.41        4.79         1.17   \n",
       "2006-03-30                    11.6972       1.38        3.77         1.17   \n",
       "2006-05-26                    12.5388       1.38        4.05         1.16   \n",
       "2006-05-31                    10.5372       1.32        2.91         1.15   \n",
       "\n",
       "            P/ATM Spread  ATM/C Ratio  ATM/C Spread  \n",
       "Date                                                 \n",
       "2006-01-30          2.63         1.22          2.50  \n",
       "2006-03-27          2.39         1.21          2.40  \n",
       "2006-03-30          1.94         1.18          1.83  \n",
       "2006-05-26          2.05         1.19          2.00  \n",
       "2006-05-31          1.60         1.14          1.31  "
      ]
     },
     "execution_count": 36,
     "metadata": {},
     "output_type": "execute_result"
    }
   ],
   "source": [
    "# Import Option Sentiment (1M 25 Delta Puts and Calls along with Spread and Ratios)\n",
    "from pathlib import Path\n",
    "filepath = (\"ling.csv\")\n",
    "spyopt_df=pd.read_csv(filepath)\n",
    "spyopt_df[\"Date\"] = pd.to_datetime(spyopt_df[\"Date\"]).dt.strftime('%Y-%m-%d')\n",
    "spyopt_df.set_index((\"Date\"), inplace=True)\n",
    "spyopt_df.head()"
   ]
  },
  {
   "cell_type": "code",
   "execution_count": 37,
   "metadata": {},
   "outputs": [
    {
     "data": {
      "text/html": [
       "<div>\n",
       "<style scoped>\n",
       "    .dataframe tbody tr th:only-of-type {\n",
       "        vertical-align: middle;\n",
       "    }\n",
       "\n",
       "    .dataframe tbody tr th {\n",
       "        vertical-align: top;\n",
       "    }\n",
       "\n",
       "    .dataframe thead th {\n",
       "        text-align: right;\n",
       "    }\n",
       "</style>\n",
       "<table border=\"1\" class=\"dataframe\">\n",
       "  <thead>\n",
       "    <tr style=\"text-align: right;\">\n",
       "      <th></th>\n",
       "      <th>SPY Close</th>\n",
       "      <th>Daily Returns</th>\n",
       "      <th>Cumulative Returns</th>\n",
       "      <th>VIX Close</th>\n",
       "      <th>SPX 1M 25DP Vol BVOL INDEX</th>\n",
       "      <th>SPX 1M 25DC Vol BVOL INDEX</th>\n",
       "      <th>SPX 1M 100 Vol BVOL INDEX</th>\n",
       "      <th>P/C Ratio</th>\n",
       "      <th>P/C Spread</th>\n",
       "      <th>P/ATM Ratio</th>\n",
       "      <th>P/ATM Spread</th>\n",
       "      <th>ATM/C Ratio</th>\n",
       "      <th>ATM/C Spread</th>\n",
       "    </tr>\n",
       "  </thead>\n",
       "  <tbody>\n",
       "    <tr>\n",
       "      <th>SPY Close</th>\n",
       "      <td>NaN</td>\n",
       "      <td>NaN</td>\n",
       "      <td>NaN</td>\n",
       "      <td>NaN</td>\n",
       "      <td>NaN</td>\n",
       "      <td>NaN</td>\n",
       "      <td>NaN</td>\n",
       "      <td>NaN</td>\n",
       "      <td>NaN</td>\n",
       "      <td>NaN</td>\n",
       "      <td>NaN</td>\n",
       "      <td>NaN</td>\n",
       "      <td>NaN</td>\n",
       "    </tr>\n",
       "    <tr>\n",
       "      <th>Daily Returns</th>\n",
       "      <td>NaN</td>\n",
       "      <td>NaN</td>\n",
       "      <td>NaN</td>\n",
       "      <td>NaN</td>\n",
       "      <td>NaN</td>\n",
       "      <td>NaN</td>\n",
       "      <td>NaN</td>\n",
       "      <td>NaN</td>\n",
       "      <td>NaN</td>\n",
       "      <td>NaN</td>\n",
       "      <td>NaN</td>\n",
       "      <td>NaN</td>\n",
       "      <td>NaN</td>\n",
       "    </tr>\n",
       "    <tr>\n",
       "      <th>Cumulative Returns</th>\n",
       "      <td>NaN</td>\n",
       "      <td>NaN</td>\n",
       "      <td>NaN</td>\n",
       "      <td>NaN</td>\n",
       "      <td>NaN</td>\n",
       "      <td>NaN</td>\n",
       "      <td>NaN</td>\n",
       "      <td>NaN</td>\n",
       "      <td>NaN</td>\n",
       "      <td>NaN</td>\n",
       "      <td>NaN</td>\n",
       "      <td>NaN</td>\n",
       "      <td>NaN</td>\n",
       "    </tr>\n",
       "    <tr>\n",
       "      <th>VIX Close</th>\n",
       "      <td>NaN</td>\n",
       "      <td>NaN</td>\n",
       "      <td>NaN</td>\n",
       "      <td>NaN</td>\n",
       "      <td>NaN</td>\n",
       "      <td>NaN</td>\n",
       "      <td>NaN</td>\n",
       "      <td>NaN</td>\n",
       "      <td>NaN</td>\n",
       "      <td>NaN</td>\n",
       "      <td>NaN</td>\n",
       "      <td>NaN</td>\n",
       "      <td>NaN</td>\n",
       "    </tr>\n",
       "    <tr>\n",
       "      <th>SPX 1M 25DP Vol BVOL INDEX</th>\n",
       "      <td>NaN</td>\n",
       "      <td>NaN</td>\n",
       "      <td>NaN</td>\n",
       "      <td>NaN</td>\n",
       "      <td>NaN</td>\n",
       "      <td>NaN</td>\n",
       "      <td>NaN</td>\n",
       "      <td>NaN</td>\n",
       "      <td>NaN</td>\n",
       "      <td>NaN</td>\n",
       "      <td>NaN</td>\n",
       "      <td>NaN</td>\n",
       "      <td>NaN</td>\n",
       "    </tr>\n",
       "    <tr>\n",
       "      <th>SPX 1M 25DC Vol BVOL INDEX</th>\n",
       "      <td>NaN</td>\n",
       "      <td>NaN</td>\n",
       "      <td>NaN</td>\n",
       "      <td>NaN</td>\n",
       "      <td>NaN</td>\n",
       "      <td>NaN</td>\n",
       "      <td>NaN</td>\n",
       "      <td>NaN</td>\n",
       "      <td>NaN</td>\n",
       "      <td>NaN</td>\n",
       "      <td>NaN</td>\n",
       "      <td>NaN</td>\n",
       "      <td>NaN</td>\n",
       "    </tr>\n",
       "    <tr>\n",
       "      <th>SPX 1M 100 Vol BVOL INDEX</th>\n",
       "      <td>NaN</td>\n",
       "      <td>NaN</td>\n",
       "      <td>NaN</td>\n",
       "      <td>NaN</td>\n",
       "      <td>NaN</td>\n",
       "      <td>NaN</td>\n",
       "      <td>NaN</td>\n",
       "      <td>NaN</td>\n",
       "      <td>NaN</td>\n",
       "      <td>NaN</td>\n",
       "      <td>NaN</td>\n",
       "      <td>NaN</td>\n",
       "      <td>NaN</td>\n",
       "    </tr>\n",
       "    <tr>\n",
       "      <th>P/C Ratio</th>\n",
       "      <td>NaN</td>\n",
       "      <td>NaN</td>\n",
       "      <td>NaN</td>\n",
       "      <td>NaN</td>\n",
       "      <td>NaN</td>\n",
       "      <td>NaN</td>\n",
       "      <td>NaN</td>\n",
       "      <td>NaN</td>\n",
       "      <td>NaN</td>\n",
       "      <td>NaN</td>\n",
       "      <td>NaN</td>\n",
       "      <td>NaN</td>\n",
       "      <td>NaN</td>\n",
       "    </tr>\n",
       "    <tr>\n",
       "      <th>P/C Spread</th>\n",
       "      <td>NaN</td>\n",
       "      <td>NaN</td>\n",
       "      <td>NaN</td>\n",
       "      <td>NaN</td>\n",
       "      <td>NaN</td>\n",
       "      <td>NaN</td>\n",
       "      <td>NaN</td>\n",
       "      <td>NaN</td>\n",
       "      <td>NaN</td>\n",
       "      <td>NaN</td>\n",
       "      <td>NaN</td>\n",
       "      <td>NaN</td>\n",
       "      <td>NaN</td>\n",
       "    </tr>\n",
       "    <tr>\n",
       "      <th>P/ATM Ratio</th>\n",
       "      <td>NaN</td>\n",
       "      <td>NaN</td>\n",
       "      <td>NaN</td>\n",
       "      <td>NaN</td>\n",
       "      <td>NaN</td>\n",
       "      <td>NaN</td>\n",
       "      <td>NaN</td>\n",
       "      <td>NaN</td>\n",
       "      <td>NaN</td>\n",
       "      <td>NaN</td>\n",
       "      <td>NaN</td>\n",
       "      <td>NaN</td>\n",
       "      <td>NaN</td>\n",
       "    </tr>\n",
       "    <tr>\n",
       "      <th>P/ATM Spread</th>\n",
       "      <td>NaN</td>\n",
       "      <td>NaN</td>\n",
       "      <td>NaN</td>\n",
       "      <td>NaN</td>\n",
       "      <td>NaN</td>\n",
       "      <td>NaN</td>\n",
       "      <td>NaN</td>\n",
       "      <td>NaN</td>\n",
       "      <td>NaN</td>\n",
       "      <td>NaN</td>\n",
       "      <td>NaN</td>\n",
       "      <td>NaN</td>\n",
       "      <td>NaN</td>\n",
       "    </tr>\n",
       "    <tr>\n",
       "      <th>ATM/C Ratio</th>\n",
       "      <td>NaN</td>\n",
       "      <td>NaN</td>\n",
       "      <td>NaN</td>\n",
       "      <td>NaN</td>\n",
       "      <td>NaN</td>\n",
       "      <td>NaN</td>\n",
       "      <td>NaN</td>\n",
       "      <td>NaN</td>\n",
       "      <td>NaN</td>\n",
       "      <td>NaN</td>\n",
       "      <td>NaN</td>\n",
       "      <td>NaN</td>\n",
       "      <td>NaN</td>\n",
       "    </tr>\n",
       "    <tr>\n",
       "      <th>ATM/C Spread</th>\n",
       "      <td>NaN</td>\n",
       "      <td>NaN</td>\n",
       "      <td>NaN</td>\n",
       "      <td>NaN</td>\n",
       "      <td>NaN</td>\n",
       "      <td>NaN</td>\n",
       "      <td>NaN</td>\n",
       "      <td>NaN</td>\n",
       "      <td>NaN</td>\n",
       "      <td>NaN</td>\n",
       "      <td>NaN</td>\n",
       "      <td>NaN</td>\n",
       "      <td>NaN</td>\n",
       "    </tr>\n",
       "  </tbody>\n",
       "</table>\n",
       "</div>"
      ],
      "text/plain": [
       "                            SPY Close  Daily Returns  Cumulative Returns  \\\n",
       "SPY Close                         NaN            NaN                 NaN   \n",
       "Daily Returns                     NaN            NaN                 NaN   \n",
       "Cumulative Returns                NaN            NaN                 NaN   \n",
       "VIX Close                         NaN            NaN                 NaN   \n",
       "SPX 1M 25DP Vol BVOL INDEX        NaN            NaN                 NaN   \n",
       "SPX 1M 25DC Vol BVOL INDEX        NaN            NaN                 NaN   \n",
       "SPX 1M 100 Vol BVOL INDEX         NaN            NaN                 NaN   \n",
       "P/C Ratio                         NaN            NaN                 NaN   \n",
       "P/C Spread                        NaN            NaN                 NaN   \n",
       "P/ATM Ratio                       NaN            NaN                 NaN   \n",
       "P/ATM Spread                      NaN            NaN                 NaN   \n",
       "ATM/C Ratio                       NaN            NaN                 NaN   \n",
       "ATM/C Spread                      NaN            NaN                 NaN   \n",
       "\n",
       "                            VIX Close  SPX 1M 25DP Vol BVOL INDEX  \\\n",
       "SPY Close                         NaN                         NaN   \n",
       "Daily Returns                     NaN                         NaN   \n",
       "Cumulative Returns                NaN                         NaN   \n",
       "VIX Close                         NaN                         NaN   \n",
       "SPX 1M 25DP Vol BVOL INDEX        NaN                         NaN   \n",
       "SPX 1M 25DC Vol BVOL INDEX        NaN                         NaN   \n",
       "SPX 1M 100 Vol BVOL INDEX         NaN                         NaN   \n",
       "P/C Ratio                         NaN                         NaN   \n",
       "P/C Spread                        NaN                         NaN   \n",
       "P/ATM Ratio                       NaN                         NaN   \n",
       "P/ATM Spread                      NaN                         NaN   \n",
       "ATM/C Ratio                       NaN                         NaN   \n",
       "ATM/C Spread                      NaN                         NaN   \n",
       "\n",
       "                            SPX 1M 25DC Vol BVOL INDEX  \\\n",
       "SPY Close                                          NaN   \n",
       "Daily Returns                                      NaN   \n",
       "Cumulative Returns                                 NaN   \n",
       "VIX Close                                          NaN   \n",
       "SPX 1M 25DP Vol BVOL INDEX                         NaN   \n",
       "SPX 1M 25DC Vol BVOL INDEX                         NaN   \n",
       "SPX 1M 100 Vol BVOL INDEX                          NaN   \n",
       "P/C Ratio                                          NaN   \n",
       "P/C Spread                                         NaN   \n",
       "P/ATM Ratio                                        NaN   \n",
       "P/ATM Spread                                       NaN   \n",
       "ATM/C Ratio                                        NaN   \n",
       "ATM/C Spread                                       NaN   \n",
       "\n",
       "                            SPX 1M 100 Vol BVOL INDEX  P/C Ratio  P/C Spread  \\\n",
       "SPY Close                                         NaN        NaN         NaN   \n",
       "Daily Returns                                     NaN        NaN         NaN   \n",
       "Cumulative Returns                                NaN        NaN         NaN   \n",
       "VIX Close                                         NaN        NaN         NaN   \n",
       "SPX 1M 25DP Vol BVOL INDEX                        NaN        NaN         NaN   \n",
       "SPX 1M 25DC Vol BVOL INDEX                        NaN        NaN         NaN   \n",
       "SPX 1M 100 Vol BVOL INDEX                         NaN        NaN         NaN   \n",
       "P/C Ratio                                         NaN        NaN         NaN   \n",
       "P/C Spread                                        NaN        NaN         NaN   \n",
       "P/ATM Ratio                                       NaN        NaN         NaN   \n",
       "P/ATM Spread                                      NaN        NaN         NaN   \n",
       "ATM/C Ratio                                       NaN        NaN         NaN   \n",
       "ATM/C Spread                                      NaN        NaN         NaN   \n",
       "\n",
       "                            P/ATM Ratio  P/ATM Spread  ATM/C Ratio  \\\n",
       "SPY Close                           NaN           NaN          NaN   \n",
       "Daily Returns                       NaN           NaN          NaN   \n",
       "Cumulative Returns                  NaN           NaN          NaN   \n",
       "VIX Close                           NaN           NaN          NaN   \n",
       "SPX 1M 25DP Vol BVOL INDEX          NaN           NaN          NaN   \n",
       "SPX 1M 25DC Vol BVOL INDEX          NaN           NaN          NaN   \n",
       "SPX 1M 100 Vol BVOL INDEX           NaN           NaN          NaN   \n",
       "P/C Ratio                           NaN           NaN          NaN   \n",
       "P/C Spread                          NaN           NaN          NaN   \n",
       "P/ATM Ratio                         NaN           NaN          NaN   \n",
       "P/ATM Spread                        NaN           NaN          NaN   \n",
       "ATM/C Ratio                         NaN           NaN          NaN   \n",
       "ATM/C Spread                        NaN           NaN          NaN   \n",
       "\n",
       "                            ATM/C Spread  \n",
       "SPY Close                            NaN  \n",
       "Daily Returns                        NaN  \n",
       "Cumulative Returns                   NaN  \n",
       "VIX Close                            NaN  \n",
       "SPX 1M 25DP Vol BVOL INDEX           NaN  \n",
       "SPX 1M 25DC Vol BVOL INDEX           NaN  \n",
       "SPX 1M 100 Vol BVOL INDEX            NaN  \n",
       "P/C Ratio                            NaN  \n",
       "P/C Spread                           NaN  \n",
       "P/ATM Ratio                          NaN  \n",
       "P/ATM Spread                         NaN  \n",
       "ATM/C Ratio                          NaN  \n",
       "ATM/C Spread                         NaN  "
      ]
     },
     "execution_count": 37,
     "metadata": {},
     "output_type": "execute_result"
    }
   ],
   "source": [
    "# Concat all Dataframes Drop Null Values and Run Correlation\n",
    "all_data2 = pd.concat([all_data, spyopt_df], axis=1)\n",
    "all_data2.isnull().sum()\n",
    "all_data2.dropna(inplace=True)\n",
    "all_data2.head()\n",
    "all_data2.describe()\n",
    "all_data2.corr()"
   ]
  },
  {
   "cell_type": "code",
   "execution_count": 38,
   "metadata": {},
   "outputs": [
    {
     "data": {
      "text/plain": [
       "SPY Close                     0.0\n",
       "Daily Returns                 0.0\n",
       "Cumulative Returns            0.0\n",
       "VIX Close                     0.0\n",
       "SPX 1M 25DP Vol BVOL INDEX    0.0\n",
       "SPX 1M 25DC Vol BVOL INDEX    0.0\n",
       "SPX 1M 100 Vol BVOL INDEX     0.0\n",
       "P/C Ratio                     0.0\n",
       "P/C Spread                    0.0\n",
       "P/ATM Ratio                   0.0\n",
       "P/ATM Spread                  0.0\n",
       "ATM/C Ratio                   0.0\n",
       "ATM/C Spread                  0.0\n",
       "dtype: float64"
      ]
     },
     "execution_count": 38,
     "metadata": {},
     "output_type": "execute_result"
    }
   ],
   "source": [
    "# Check to ensure NA's dropped and persisted\n",
    "all_data2.isnull().sum()"
   ]
  },
  {
   "cell_type": "code",
   "execution_count": 39,
   "metadata": {},
   "outputs": [
    {
     "data": {
      "text/html": [
       "<div>\n",
       "<style scoped>\n",
       "    .dataframe tbody tr th:only-of-type {\n",
       "        vertical-align: middle;\n",
       "    }\n",
       "\n",
       "    .dataframe tbody tr th {\n",
       "        vertical-align: top;\n",
       "    }\n",
       "\n",
       "    .dataframe thead th {\n",
       "        text-align: right;\n",
       "    }\n",
       "</style>\n",
       "<table border=\"1\" class=\"dataframe\">\n",
       "  <thead>\n",
       "    <tr style=\"text-align: right;\">\n",
       "      <th></th>\n",
       "      <th>SPY Close</th>\n",
       "      <th>Daily Returns</th>\n",
       "      <th>Cumulative Returns</th>\n",
       "      <th>VIX Close</th>\n",
       "      <th>SPX 1M 25DP Vol BVOL INDEX</th>\n",
       "      <th>SPX 1M 25DC Vol BVOL INDEX</th>\n",
       "      <th>SPX 1M 100 Vol BVOL INDEX</th>\n",
       "      <th>P/C Ratio</th>\n",
       "      <th>P/C Spread</th>\n",
       "      <th>P/ATM Ratio</th>\n",
       "      <th>P/ATM Spread</th>\n",
       "      <th>ATM/C Ratio</th>\n",
       "      <th>ATM/C Spread</th>\n",
       "    </tr>\n",
       "    <tr>\n",
       "      <th>Date</th>\n",
       "      <th></th>\n",
       "      <th></th>\n",
       "      <th></th>\n",
       "      <th></th>\n",
       "      <th></th>\n",
       "      <th></th>\n",
       "      <th></th>\n",
       "      <th></th>\n",
       "      <th></th>\n",
       "      <th></th>\n",
       "      <th></th>\n",
       "      <th></th>\n",
       "      <th></th>\n",
       "    </tr>\n",
       "  </thead>\n",
       "  <tbody>\n",
       "  </tbody>\n",
       "</table>\n",
       "</div>"
      ],
      "text/plain": [
       "Empty DataFrame\n",
       "Columns: [SPY Close, Daily Returns, Cumulative Returns, VIX Close, SPX 1M 25DP Vol BVOL INDEX, SPX 1M 25DC Vol BVOL INDEX, SPX 1M 100 Vol BVOL INDEX, P/C Ratio, P/C Spread, P/ATM Ratio, P/ATM Spread, ATM/C Ratio, ATM/C Spread]\n",
       "Index: []"
      ]
     },
     "execution_count": 39,
     "metadata": {},
     "output_type": "execute_result"
    }
   ],
   "source": [
    "# Key Values for Options Portion of the Data\n",
    "'''\n",
    "KEY\n",
    "SPX 1M 25DP Vol BVOL INDEX = 1 Month 25 Delta Put Implied Volatility for SPX\n",
    "SPX 1M 25DC Vol BVOL INDEX = 1 Month 25 Delta Call Implied Volatility for SPX\n",
    "SPX 1M 100 Vol BVOL INDEX = 1 Month 100% Moneyness Implied Volatility for SPX\n",
    "PC Ratio = Put/Call Ratio\n",
    "P/C Spread = Put Call Spread \n",
    "P/ATM Ratio = Put ATM Ratio\n",
    "P/ATM Spread = Put ATM Spread\n",
    "ATM / C Ratio = Call ATM Ratio\n",
    "ATM / C Spread = Call ATM Spread\n",
    "'''\n",
    "all_data2\n"
   ]
  },
  {
   "cell_type": "markdown",
   "metadata": {},
   "source": [
    "# Visualizng All Data"
   ]
  },
  {
   "cell_type": "code",
   "execution_count": 40,
   "metadata": {},
   "outputs": [
    {
     "data": {
      "application/vnd.holoviews_exec.v0+json": "",
      "text/html": [
       "<div id='3887'>\n",
       "\n",
       "\n",
       "\n",
       "\n",
       "\n",
       "  <div class=\"bk-root\" id=\"b7bd177b-05de-4004-bf4a-ad2a1c02d5fb\" data-root-id=\"3887\"></div>\n",
       "</div>\n",
       "<script type=\"application/javascript\">(function(root) {\n",
       "  function embed_document(root) {\n",
       "    var docs_json = {\"ef98f12c-1b6c-4fcc-8097-2e339a07d756\":{\"roots\":{\"references\":[{\"attributes\":{\"axis\":{\"id\":\"3908\"},\"dimension\":1,\"grid_line_color\":null,\"ticker\":null},\"id\":\"3911\",\"type\":\"Grid\"},{\"attributes\":{\"axis\":{\"id\":\"3904\"},\"grid_line_color\":null,\"ticker\":null},\"id\":\"3907\",\"type\":\"Grid\"},{\"attributes\":{},\"id\":\"3943\",\"type\":\"UnionRenderers\"},{\"attributes\":{\"months\":[0,1,2,3,4,5,6,7,8,9,10,11]},\"id\":\"3952\",\"type\":\"MonthsTicker\"},{\"attributes\":{\"label\":{\"value\":\"P/C Ratio\"},\"renderers\":[{\"id\":\"4029\"}]},\"id\":\"4057\",\"type\":\"LegendItem\"},{\"attributes\":{\"data\":{\"Date\":{\"__ndarray__\":\"\",\"dtype\":\"float64\",\"order\":\"little\",\"shape\":[0]},\"Implied Vol\":{\"__ndarray__\":\"\",\"dtype\":\"float64\",\"order\":\"little\",\"shape\":[0]},\"Implied_Vol\":{\"__ndarray__\":\"\",\"dtype\":\"float64\",\"order\":\"little\",\"shape\":[0]},\"Variable\":[]},\"selected\":{\"id\":\"3960\"},\"selection_policy\":{\"id\":\"3975\"}},\"id\":\"3959\",\"type\":\"ColumnDataSource\"},{\"attributes\":{},\"id\":\"3909\",\"type\":\"BasicTicker\"},{\"attributes\":{\"axis_label\":\"Implied Vol\",\"bounds\":\"auto\",\"formatter\":{\"id\":\"3928\"},\"major_label_orientation\":\"horizontal\",\"ticker\":{\"id\":\"3909\"}},\"id\":\"3908\",\"type\":\"LinearAxis\"},{\"attributes\":{\"mantissas\":[1,2,5],\"max_interval\":500.0,\"num_minor_ticks\":0},\"id\":\"3945\",\"type\":\"AdaptiveTicker\"},{\"attributes\":{\"label\":{\"value\":\"SPX 1M 100 Vol BVOL INDEX\"},\"renderers\":[{\"id\":\"3996\"}]},\"id\":\"4022\",\"type\":\"LegendItem\"},{\"attributes\":{\"base\":60,\"mantissas\":[1,2,5,10,15,20,30],\"max_interval\":1800000.0,\"min_interval\":1000.0,\"num_minor_ticks\":0},\"id\":\"3946\",\"type\":\"AdaptiveTicker\"},{\"attributes\":{\"below\":[{\"id\":\"3904\"}],\"center\":[{\"id\":\"3907\"},{\"id\":\"3911\"}],\"left\":[{\"id\":\"3908\"}],\"margin\":[5,5,5,5],\"min_border_bottom\":10,\"min_border_left\":10,\"min_border_right\":10,\"min_border_top\":10,\"plot_height\":300,\"plot_width\":700,\"renderers\":[{\"id\":\"3935\"},{\"id\":\"3965\"},{\"id\":\"3996\"},{\"id\":\"4029\"}],\"right\":[{\"id\":\"3957\"}],\"sizing_mode\":\"fixed\",\"title\":{\"id\":\"3896\"},\"toolbar\":{\"id\":\"3918\"},\"x_range\":{\"id\":\"3889\"},\"x_scale\":{\"id\":\"3900\"},\"y_range\":{\"id\":\"3890\"},\"y_scale\":{\"id\":\"3902\"}},\"id\":\"3895\",\"subtype\":\"Figure\",\"type\":\"Plot\"},{\"attributes\":{\"text\":\"\",\"text_color\":{\"value\":\"black\"},\"text_font_size\":{\"value\":\"12pt\"}},\"id\":\"3896\",\"type\":\"Title\"},{\"attributes\":{\"base\":24,\"mantissas\":[1,2,4,6,8,12],\"max_interval\":43200000.0,\"min_interval\":3600000.0,\"num_minor_ticks\":0},\"id\":\"3947\",\"type\":\"AdaptiveTicker\"},{\"attributes\":{\"months\":[0,4,8]},\"id\":\"3954\",\"type\":\"MonthsTicker\"},{\"attributes\":{\"months\":[0,2,4,6,8,10]},\"id\":\"3953\",\"type\":\"MonthsTicker\"},{\"attributes\":{\"tags\":[[[\"Implied Vol\",\"Implied Vol\",null]]]},\"id\":\"3890\",\"type\":\"Range1d\"},{\"attributes\":{\"data\":{\"Date\":{\"__ndarray__\":\"\",\"dtype\":\"float64\",\"order\":\"little\",\"shape\":[0]},\"Implied Vol\":{\"__ndarray__\":\"\",\"dtype\":\"float64\",\"order\":\"little\",\"shape\":[0]},\"Implied_Vol\":{\"__ndarray__\":\"\",\"dtype\":\"float64\",\"order\":\"little\",\"shape\":[0]},\"Variable\":[]},\"selected\":{\"id\":\"3991\"},\"selection_policy\":{\"id\":\"4008\"}},\"id\":\"3990\",\"type\":\"ColumnDataSource\"},{\"attributes\":{\"days\":[1,8,15,22]},\"id\":\"3950\",\"type\":\"DaysTicker\"},{\"attributes\":{},\"id\":\"3912\",\"type\":\"SaveTool\"},{\"attributes\":{\"months\":[0,6]},\"id\":\"3955\",\"type\":\"MonthsTicker\"},{\"attributes\":{},\"id\":\"3913\",\"type\":\"PanTool\"},{\"attributes\":{},\"id\":\"3916\",\"type\":\"ResetTool\"},{\"attributes\":{\"click_policy\":\"mute\",\"items\":[{\"id\":\"3958\"},{\"id\":\"3989\"},{\"id\":\"4022\"},{\"id\":\"4057\"}],\"location\":[0,0],\"title\":\"Variable\"},\"id\":\"3957\",\"type\":\"Legend\"},{\"attributes\":{\"source\":{\"id\":\"3929\"}},\"id\":\"3936\",\"type\":\"CDSView\"},{\"attributes\":{},\"id\":\"3914\",\"type\":\"WheelZoomTool\"},{\"attributes\":{\"line_color\":\"#1f77b3\",\"line_width\":2,\"x\":{\"field\":\"Date\"},\"y\":{\"field\":\"Implied Vol\"}},\"id\":\"3932\",\"type\":\"Line\"},{\"attributes\":{\"overlay\":{\"id\":\"3917\"}},\"id\":\"3915\",\"type\":\"BoxZoomTool\"},{\"attributes\":{},\"id\":\"3956\",\"type\":\"YearsTicker\"},{\"attributes\":{\"children\":[{\"id\":\"3888\"},{\"id\":\"3895\"},{\"id\":\"4292\"}],\"margin\":[0,0,0,0],\"name\":\"Row04063\",\"tags\":[\"embedded\"]},\"id\":\"3887\",\"type\":\"Row\"},{\"attributes\":{},\"id\":\"4008\",\"type\":\"UnionRenderers\"},{\"attributes\":{\"data\":{\"Date\":{\"__ndarray__\":\"\",\"dtype\":\"float64\",\"order\":\"little\",\"shape\":[0]},\"Implied Vol\":{\"__ndarray__\":\"\",\"dtype\":\"float64\",\"order\":\"little\",\"shape\":[0]},\"Implied_Vol\":{\"__ndarray__\":\"\",\"dtype\":\"float64\",\"order\":\"little\",\"shape\":[0]},\"Variable\":[]},\"selected\":{\"id\":\"3930\"},\"selection_policy\":{\"id\":\"3943\"}},\"id\":\"3929\",\"type\":\"ColumnDataSource\"},{\"attributes\":{\"line_alpha\":0.1,\"line_color\":\"#1f77b3\",\"line_width\":2,\"x\":{\"field\":\"Date\"},\"y\":{\"field\":\"Implied Vol\"}},\"id\":\"3933\",\"type\":\"Line\"},{\"attributes\":{\"data\":{\"Date\":{\"__ndarray__\":\"\",\"dtype\":\"float64\",\"order\":\"little\",\"shape\":[0]},\"Implied Vol\":{\"__ndarray__\":\"\",\"dtype\":\"float64\",\"order\":\"little\",\"shape\":[0]},\"Implied_Vol\":{\"__ndarray__\":\"\",\"dtype\":\"float64\",\"order\":\"little\",\"shape\":[0]},\"Variable\":[]},\"selected\":{\"id\":\"4024\"},\"selection_policy\":{\"id\":\"4043\"}},\"id\":\"4023\",\"type\":\"ColumnDataSource\"},{\"attributes\":{},\"id\":\"3975\",\"type\":\"UnionRenderers\"},{\"attributes\":{\"margin\":[5,5,5,5],\"name\":\"HSpacer04067\",\"sizing_mode\":\"stretch_width\"},\"id\":\"3888\",\"type\":\"Spacer\"},{\"attributes\":{\"source\":{\"id\":\"3990\"}},\"id\":\"3997\",\"type\":\"CDSView\"},{\"attributes\":{\"data_source\":{\"id\":\"3929\"},\"glyph\":{\"id\":\"3932\"},\"hover_glyph\":null,\"muted_glyph\":{\"id\":\"3934\"},\"nonselection_glyph\":{\"id\":\"3933\"},\"selection_glyph\":null,\"view\":{\"id\":\"3936\"}},\"id\":\"3935\",\"type\":\"GlyphRenderer\"},{\"attributes\":{\"label\":{\"value\":\"SPX 1M 25DP Vol BVOL INDEX\"},\"renderers\":[{\"id\":\"3935\"}]},\"id\":\"3958\",\"type\":\"LegendItem\"},{\"attributes\":{},\"id\":\"3960\",\"type\":\"Selection\"},{\"attributes\":{\"source\":{\"id\":\"4023\"}},\"id\":\"4030\",\"type\":\"CDSView\"},{\"attributes\":{\"days\":[1,15]},\"id\":\"3951\",\"type\":\"DaysTicker\"},{\"attributes\":{\"callback\":null,\"renderers\":[{\"id\":\"3935\"},{\"id\":\"3965\"},{\"id\":\"3996\"},{\"id\":\"4029\"}],\"tags\":[\"hv_created\"],\"tooltips\":[[\"Variable\",\"@{Variable}\"],[\"Date\",\"@{Date}\"],[\"Implied Vol\",\"@{Implied_Vol}\"]]},\"id\":\"3891\",\"type\":\"HoverTool\"},{\"attributes\":{\"line_alpha\":0.2,\"line_color\":\"#1f77b3\",\"line_width\":2,\"x\":{\"field\":\"Date\"},\"y\":{\"field\":\"Implied Vol\"}},\"id\":\"3934\",\"type\":\"Line\"},{\"attributes\":{\"line_alpha\":0.2,\"line_color\":\"#ff7e0e\",\"line_width\":2,\"x\":{\"field\":\"Date\"},\"y\":{\"field\":\"Implied Vol\"}},\"id\":\"3964\",\"type\":\"Line\"},{\"attributes\":{\"line_alpha\":0.1,\"line_color\":\"#d62628\",\"line_width\":2,\"x\":{\"field\":\"Date\"},\"y\":{\"field\":\"Implied Vol\"}},\"id\":\"4027\",\"type\":\"Line\"},{\"attributes\":{},\"id\":\"3991\",\"type\":\"Selection\"},{\"attributes\":{\"data_source\":{\"id\":\"4023\"},\"glyph\":{\"id\":\"4026\"},\"hover_glyph\":null,\"muted_glyph\":{\"id\":\"4028\"},\"nonselection_glyph\":{\"id\":\"4027\"},\"selection_glyph\":null,\"view\":{\"id\":\"4030\"}},\"id\":\"4029\",\"type\":\"GlyphRenderer\"},{\"attributes\":{\"days\":[1,4,7,10,13,16,19,22,25,28]},\"id\":\"3949\",\"type\":\"DaysTicker\"},{\"attributes\":{\"active_drag\":\"auto\",\"active_inspect\":\"auto\",\"active_multi\":null,\"active_scroll\":\"auto\",\"active_tap\":\"auto\",\"tools\":[{\"id\":\"3891\"},{\"id\":\"3912\"},{\"id\":\"3913\"},{\"id\":\"3914\"},{\"id\":\"3915\"},{\"id\":\"3916\"}]},\"id\":\"3918\",\"type\":\"Toolbar\"},{\"attributes\":{\"label\":{\"value\":\"SPX 1M 25DC Vol BVOL INDEX\"},\"renderers\":[{\"id\":\"3965\"}]},\"id\":\"3989\",\"type\":\"LegendItem\"},{\"attributes\":{\"line_color\":\"#d62628\",\"line_width\":2,\"x\":{\"field\":\"Date\"},\"y\":{\"field\":\"Implied Vol\"}},\"id\":\"4026\",\"type\":\"Line\"},{\"attributes\":{},\"id\":\"4043\",\"type\":\"UnionRenderers\"},{\"attributes\":{\"days\":[1,2,3,4,5,6,7,8,9,10,11,12,13,14,15,16,17,18,19,20,21,22,23,24,25,26,27,28,29,30,31]},\"id\":\"3948\",\"type\":\"DaysTicker\"},{\"attributes\":{\"line_alpha\":0.1,\"line_color\":\"#2ba02b\",\"line_width\":2,\"x\":{\"field\":\"Date\"},\"y\":{\"field\":\"Implied Vol\"}},\"id\":\"3994\",\"type\":\"Line\"},{\"attributes\":{\"bottom_units\":\"screen\",\"fill_alpha\":0.5,\"fill_color\":\"lightgrey\",\"left_units\":\"screen\",\"level\":\"overlay\",\"line_alpha\":1.0,\"line_color\":\"black\",\"line_dash\":[4,4],\"line_width\":2,\"right_units\":\"screen\",\"top_units\":\"screen\"},\"id\":\"3917\",\"type\":\"BoxAnnotation\"},{\"attributes\":{\"data_source\":{\"id\":\"3990\"},\"glyph\":{\"id\":\"3993\"},\"hover_glyph\":null,\"muted_glyph\":{\"id\":\"3995\"},\"nonselection_glyph\":{\"id\":\"3994\"},\"selection_glyph\":null,\"view\":{\"id\":\"3997\"}},\"id\":\"3996\",\"type\":\"GlyphRenderer\"},{\"attributes\":{\"line_color\":\"#2ba02b\",\"line_width\":2,\"x\":{\"field\":\"Date\"},\"y\":{\"field\":\"Implied Vol\"}},\"id\":\"3993\",\"type\":\"Line\"},{\"attributes\":{},\"id\":\"4024\",\"type\":\"Selection\"},{\"attributes\":{\"line_color\":\"#ff7e0e\",\"line_width\":2,\"x\":{\"field\":\"Date\"},\"y\":{\"field\":\"Implied Vol\"}},\"id\":\"3962\",\"type\":\"Line\"},{\"attributes\":{\"line_alpha\":0.2,\"line_color\":\"#d62628\",\"line_width\":2,\"x\":{\"field\":\"Date\"},\"y\":{\"field\":\"Implied Vol\"}},\"id\":\"4028\",\"type\":\"Line\"},{\"attributes\":{},\"id\":\"3926\",\"type\":\"DatetimeTickFormatter\"},{\"attributes\":{},\"id\":\"3930\",\"type\":\"Selection\"},{\"attributes\":{\"data_source\":{\"id\":\"3959\"},\"glyph\":{\"id\":\"3962\"},\"hover_glyph\":null,\"muted_glyph\":{\"id\":\"3964\"},\"nonselection_glyph\":{\"id\":\"3963\"},\"selection_glyph\":null,\"view\":{\"id\":\"3966\"}},\"id\":\"3965\",\"type\":\"GlyphRenderer\"},{\"attributes\":{\"tags\":[[[\"Date\",\"Date\",null]]]},\"id\":\"3889\",\"type\":\"Range1d\"},{\"attributes\":{\"line_alpha\":0.1,\"line_color\":\"#ff7e0e\",\"line_width\":2,\"x\":{\"field\":\"Date\"},\"y\":{\"field\":\"Implied Vol\"}},\"id\":\"3963\",\"type\":\"Line\"},{\"attributes\":{\"margin\":[5,5,5,5],\"name\":\"HSpacer04068\",\"sizing_mode\":\"stretch_width\"},\"id\":\"4292\",\"type\":\"Spacer\"},{\"attributes\":{\"source\":{\"id\":\"3959\"}},\"id\":\"3966\",\"type\":\"CDSView\"},{\"attributes\":{\"line_alpha\":0.2,\"line_color\":\"#2ba02b\",\"line_width\":2,\"x\":{\"field\":\"Date\"},\"y\":{\"field\":\"Implied Vol\"}},\"id\":\"3995\",\"type\":\"Line\"},{\"attributes\":{\"num_minor_ticks\":5,\"tickers\":[{\"id\":\"3945\"},{\"id\":\"3946\"},{\"id\":\"3947\"},{\"id\":\"3948\"},{\"id\":\"3949\"},{\"id\":\"3950\"},{\"id\":\"3951\"},{\"id\":\"3952\"},{\"id\":\"3953\"},{\"id\":\"3954\"},{\"id\":\"3955\"},{\"id\":\"3956\"}]},\"id\":\"3905\",\"type\":\"DatetimeTicker\"},{\"attributes\":{\"axis_label\":\"Date\",\"bounds\":\"auto\",\"formatter\":{\"id\":\"3926\"},\"major_label_orientation\":\"horizontal\",\"ticker\":{\"id\":\"3905\"}},\"id\":\"3904\",\"type\":\"DatetimeAxis\"},{\"attributes\":{},\"id\":\"3902\",\"type\":\"LinearScale\"},{\"attributes\":{},\"id\":\"3900\",\"type\":\"LinearScale\"},{\"attributes\":{},\"id\":\"3928\",\"type\":\"BasicTickFormatter\"}],\"root_ids\":[\"3887\"]},\"title\":\"Bokeh Application\",\"version\":\"2.2.3\"}};\n",
       "    var render_items = [{\"docid\":\"ef98f12c-1b6c-4fcc-8097-2e339a07d756\",\"root_ids\":[\"3887\"],\"roots\":{\"3887\":\"b7bd177b-05de-4004-bf4a-ad2a1c02d5fb\"}}];\n",
       "    root.Bokeh.embed.embed_items_notebook(docs_json, render_items);\n",
       "  }\n",
       "  if (root.Bokeh !== undefined && root.Bokeh.Panel !== undefined) {\n",
       "    embed_document(root);\n",
       "  } else {\n",
       "    var attempts = 0;\n",
       "    var timer = setInterval(function(root) {\n",
       "      if (root.Bokeh !== undefined && root.Bokeh.Panel !== undefined) {\n",
       "        clearInterval(timer);\n",
       "        embed_document(root);\n",
       "      } else if (document.readyState == \"complete\") {\n",
       "        attempts++;\n",
       "        if (attempts > 100) {\n",
       "          clearInterval(timer);\n",
       "          console.log(\"Bokeh: ERROR: Unable to run BokehJS code because BokehJS library is missing\");\n",
       "        }\n",
       "      }\n",
       "    }, 10, root)\n",
       "  }\n",
       "})(window);</script>"
      ],
      "text/plain": [
       ":NdOverlay   [Variable]\n",
       "   :Curve   [Date]   (Implied Vol)"
      ]
     },
     "execution_count": 40,
     "metadata": {
      "application/vnd.holoviews_exec.v0+json": {
       "id": "3887"
      }
     },
     "output_type": "execute_result"
    }
   ],
   "source": [
    "all_data2.hvplot(x='Date', y=[\"SPX 1M 25DP Vol BVOL INDEX\", \"SPX 1M 25DC Vol BVOL INDEX\",\n",
    "                             \"SPX 1M 100 Vol BVOL INDEX\",\"P/C Ratio\"], value_label='Implied Vol')"
   ]
  },
  {
   "cell_type": "code",
   "execution_count": 41,
   "metadata": {},
   "outputs": [
    {
     "data": {
      "application/vnd.holoviews_exec.v0+json": "",
      "text/html": [
       "<div id='4424'>\n",
       "\n",
       "\n",
       "\n",
       "\n",
       "\n",
       "  <div class=\"bk-root\" id=\"19622495-4b0c-4494-92ab-f3094280109b\" data-root-id=\"4424\"></div>\n",
       "</div>\n",
       "<script type=\"application/javascript\">(function(root) {\n",
       "  function embed_document(root) {\n",
       "    var docs_json = {\"4b166455-f6a9-4884-84f3-9b52fd467ca5\":{\"roots\":{\"references\":[{\"attributes\":{\"base\":24,\"mantissas\":[1,2,4,6,8,12],\"max_interval\":43200000.0,\"min_interval\":3600000.0,\"num_minor_ticks\":0},\"id\":\"4952\",\"type\":\"AdaptiveTicker\"},{\"attributes\":{\"months\":[0,6]},\"id\":\"5086\",\"type\":\"MonthsTicker\"},{\"attributes\":{},\"id\":\"5095\",\"type\":\"UnionRenderers\"},{\"attributes\":{\"text\":\"Variable: VIX Close\",\"text_color\":{\"value\":\"black\"},\"text_font_size\":{\"value\":\"12pt\"}},\"id\":\"4610\",\"type\":\"Title\"},{\"attributes\":{\"months\":[0,4,8]},\"id\":\"4980\",\"type\":\"MonthsTicker\"},{\"attributes\":{\"months\":[0,1,2,3,4,5,6,7,8,9,10,11]},\"id\":\"5020\",\"type\":\"MonthsTicker\"},{\"attributes\":{\"line_alpha\":0.1,\"line_color\":\"midnightblue\",\"line_width\":2,\"x\":{\"field\":\"Date\"},\"y\":{\"field\":\"value\"}},\"id\":\"4643\",\"type\":\"Line\"},{\"attributes\":{},\"id\":\"4581\",\"type\":\"SaveTool\"},{\"attributes\":{},\"id\":\"4582\",\"type\":\"PanTool\"},{\"attributes\":{},\"id\":\"4616\",\"type\":\"LinearScale\"},{\"attributes\":{\"months\":[0,4,8]},\"id\":\"5085\",\"type\":\"MonthsTicker\"},{\"attributes\":{\"months\":[0,1,2,3,4,5,6,7,8,9,10,11]},\"id\":\"4978\",\"type\":\"MonthsTicker\"},{\"attributes\":{},\"id\":\"4585\",\"type\":\"ResetTool\"},{\"attributes\":{},\"id\":\"4583\",\"type\":\"WheelZoomTool\"},{\"attributes\":{\"callback\":null,\"renderers\":[{\"id\":\"4735\"}],\"tags\":[\"hv_created\"],\"tooltips\":[[\"Date\",\"@{Date}\"],[\"value\",\"@{value}\"]]},\"id\":\"4698\",\"type\":\"HoverTool\"},{\"attributes\":{\"axis_label\":\"Date\",\"bounds\":\"auto\",\"formatter\":{\"id\":\"4648\"},\"major_label_orientation\":\"horizontal\",\"ticker\":{\"id\":\"4619\"}},\"id\":\"4618\",\"type\":\"DatetimeAxis\"},{\"attributes\":{\"source\":{\"id\":\"4909\"}},\"id\":\"4916\",\"type\":\"CDSView\"},{\"attributes\":{\"overlay\":{\"id\":\"4586\"}},\"id\":\"4584\",\"type\":\"BoxZoomTool\"},{\"attributes\":{},\"id\":\"5087\",\"type\":\"YearsTicker\"},{\"attributes\":{},\"id\":\"4614\",\"type\":\"LinearScale\"},{\"attributes\":{\"days\":[1,2,3,4,5,6,7,8,9,10,11,12,13,14,15,16,17,18,19,20,21,22,23,24,25,26,27,28,29,30,31]},\"id\":\"4953\",\"type\":\"DaysTicker\"},{\"attributes\":{\"months\":[0,2,4,6,8,10]},\"id\":\"5021\",\"type\":\"MonthsTicker\"},{\"attributes\":{\"num_minor_ticks\":5,\"tickers\":[{\"id\":\"5013\"},{\"id\":\"5014\"},{\"id\":\"5015\"},{\"id\":\"5016\"},{\"id\":\"5017\"},{\"id\":\"5018\"},{\"id\":\"5019\"},{\"id\":\"5020\"},{\"id\":\"5021\"},{\"id\":\"5022\"},{\"id\":\"5023\"},{\"id\":\"5024\"}]},\"id\":\"4619\",\"type\":\"DatetimeTicker\"},{\"attributes\":{\"axis\":{\"id\":\"4622\"},\"dimension\":1,\"grid_line_color\":null,\"ticker\":null},\"id\":\"4625\",\"type\":\"Grid\"},{\"attributes\":{\"axis\":{\"id\":\"4618\"},\"grid_line_color\":null,\"ticker\":null},\"id\":\"4621\",\"type\":\"Grid\"},{\"attributes\":{},\"id\":\"4685\",\"type\":\"Selection\"},{\"attributes\":{},\"id\":\"4900\",\"type\":\"ResetTool\"},{\"attributes\":{\"data_source\":{\"id\":\"4639\"},\"glyph\":{\"id\":\"4642\"},\"hover_glyph\":null,\"muted_glyph\":{\"id\":\"4644\"},\"nonselection_glyph\":{\"id\":\"4643\"},\"selection_glyph\":null,\"view\":{\"id\":\"4646\"}},\"id\":\"4645\",\"type\":\"GlyphRenderer\"},{\"attributes\":{},\"id\":\"4623\",\"type\":\"BasicTicker\"},{\"attributes\":{\"months\":[0,6]},\"id\":\"5023\",\"type\":\"MonthsTicker\"},{\"attributes\":{\"months\":[0,1,2,3,4,5,6,7,8,9,10,11]},\"id\":\"5041\",\"type\":\"MonthsTicker\"},{\"attributes\":{\"axis_label\":\"\",\"bounds\":\"auto\",\"formatter\":{\"id\":\"4650\"},\"major_label_orientation\":\"horizontal\",\"ticker\":{\"id\":\"4623\"}},\"id\":\"4622\",\"type\":\"LinearAxis\"},{\"attributes\":{\"source\":{\"id\":\"4639\"}},\"id\":\"4646\",\"type\":\"CDSView\"},{\"attributes\":{},\"id\":\"4927\",\"type\":\"UnionRenderers\"},{\"attributes\":{\"line_alpha\":0.1,\"line_color\":\"midnightblue\",\"line_width\":2,\"x\":{\"field\":\"Date\"},\"y\":{\"field\":\"value\"}},\"id\":\"4778\",\"type\":\"Line\"},{\"attributes\":{\"active_drag\":\"auto\",\"active_inspect\":\"auto\",\"active_multi\":null,\"active_scroll\":\"auto\",\"active_tap\":\"auto\",\"tools\":[{\"id\":\"4743\"},{\"id\":\"4761\"},{\"id\":\"4762\"},{\"id\":\"4763\"},{\"id\":\"4764\"},{\"id\":\"4765\"}]},\"id\":\"4767\",\"type\":\"Toolbar\"},{\"attributes\":{},\"id\":\"4920\",\"type\":\"BasicTickFormatter\"},{\"attributes\":{},\"id\":\"5024\",\"type\":\"YearsTicker\"},{\"attributes\":{\"line_alpha\":0.2,\"line_color\":\"midnightblue\",\"line_width\":2,\"x\":{\"field\":\"Date\"},\"y\":{\"field\":\"value\"}},\"id\":\"4644\",\"type\":\"Line\"},{\"attributes\":{\"months\":[0,2,4,6,8,10]},\"id\":\"4979\",\"type\":\"MonthsTicker\"},{\"attributes\":{\"months\":[0,4,8]},\"id\":\"5022\",\"type\":\"MonthsTicker\"},{\"attributes\":{\"active_drag\":\"auto\",\"active_inspect\":\"auto\",\"active_multi\":null,\"active_scroll\":\"auto\",\"active_tap\":\"auto\",\"tools\":[{\"id\":\"4563\"},{\"id\":\"4581\"},{\"id\":\"4582\"},{\"id\":\"4583\"},{\"id\":\"4584\"},{\"id\":\"4585\"}]},\"id\":\"4587\",\"type\":\"Toolbar\"},{\"attributes\":{\"active_drag\":\"auto\",\"active_inspect\":\"auto\",\"active_multi\":null,\"active_scroll\":\"auto\",\"active_tap\":\"auto\",\"tools\":[{\"id\":\"4878\"},{\"id\":\"4896\"},{\"id\":\"4897\"},{\"id\":\"4898\"},{\"id\":\"4899\"},{\"id\":\"4900\"}]},\"id\":\"4902\",\"type\":\"Toolbar\"},{\"attributes\":{},\"id\":\"4785\",\"type\":\"BasicTickFormatter\"},{\"attributes\":{\"bottom_units\":\"screen\",\"fill_alpha\":0.5,\"fill_color\":\"lightgrey\",\"left_units\":\"screen\",\"level\":\"overlay\",\"line_alpha\":1.0,\"line_color\":\"black\",\"line_dash\":[4,4],\"line_width\":2,\"right_units\":\"screen\",\"top_units\":\"screen\"},\"id\":\"4586\",\"type\":\"BoxAnnotation\"},{\"attributes\":{\"tags\":[[[\"value\",\"value\",null]]]},\"id\":\"4742\",\"type\":\"Range1d\"},{\"attributes\":{},\"id\":\"4626\",\"type\":\"SaveTool\"},{\"attributes\":{\"bottom_units\":\"screen\",\"fill_alpha\":0.5,\"fill_color\":\"lightgrey\",\"left_units\":\"screen\",\"level\":\"overlay\",\"line_alpha\":1.0,\"line_color\":\"black\",\"line_dash\":[4,4],\"line_width\":2,\"right_units\":\"screen\",\"top_units\":\"screen\"},\"id\":\"4901\",\"type\":\"BoxAnnotation\"},{\"attributes\":{},\"id\":\"4627\",\"type\":\"PanTool\"},{\"attributes\":{\"text\":\"Variable: P/ATM Ratio\",\"text_color\":{\"value\":\"black\"},\"text_font_size\":{\"value\":\"12pt\"}},\"id\":\"4745\",\"type\":\"Title\"},{\"attributes\":{\"data_source\":{\"id\":\"4909\"},\"glyph\":{\"id\":\"4912\"},\"hover_glyph\":null,\"muted_glyph\":{\"id\":\"4914\"},\"nonselection_glyph\":{\"id\":\"4913\"},\"selection_glyph\":null,\"view\":{\"id\":\"4916\"}},\"id\":\"4915\",\"type\":\"GlyphRenderer\"},{\"attributes\":{},\"id\":\"4630\",\"type\":\"ResetTool\"},{\"attributes\":{},\"id\":\"4898\",\"type\":\"WheelZoomTool\"},{\"attributes\":{},\"id\":\"4628\",\"type\":\"WheelZoomTool\"},{\"attributes\":{\"data\":{\"Date\":{\"__ndarray__\":\"\",\"dtype\":\"float64\",\"order\":\"little\",\"shape\":[0]},\"value\":{\"__ndarray__\":\"\",\"dtype\":\"float64\",\"order\":\"little\",\"shape\":[0]}},\"selected\":{\"id\":\"4910\"},\"selection_policy\":{\"id\":\"5137\"}},\"id\":\"4909\",\"type\":\"ColumnDataSource\"},{\"attributes\":{\"data_source\":{\"id\":\"4774\"},\"glyph\":{\"id\":\"4777\"},\"hover_glyph\":null,\"muted_glyph\":{\"id\":\"4779\"},\"nonselection_glyph\":{\"id\":\"4778\"},\"selection_glyph\":null,\"view\":{\"id\":\"4781\"}},\"id\":\"4780\",\"type\":\"GlyphRenderer\"},{\"attributes\":{},\"id\":\"4783\",\"type\":\"DatetimeTickFormatter\"},{\"attributes\":{\"overlay\":{\"id\":\"4631\"}},\"id\":\"4629\",\"type\":\"BoxZoomTool\"},{\"attributes\":{\"line_alpha\":0.2,\"line_color\":\"midnightblue\",\"line_width\":2,\"x\":{\"field\":\"Date\"},\"y\":{\"field\":\"value\"}},\"id\":\"4914\",\"type\":\"Line\"},{\"attributes\":{\"below\":[{\"id\":\"4753\"}],\"center\":[{\"id\":\"4756\"},{\"id\":\"4760\"}],\"left\":[{\"id\":\"4757\"}],\"margin\":null,\"min_border_bottom\":10,\"min_border_left\":10,\"min_border_right\":10,\"min_border_top\":10,\"plot_height\":300,\"plot_width\":450,\"renderers\":[{\"id\":\"4780\"}],\"sizing_mode\":\"fixed\",\"title\":{\"id\":\"4745\"},\"toolbar\":{\"id\":\"4767\"},\"toolbar_location\":null,\"x_range\":{\"id\":\"4741\"},\"x_scale\":{\"id\":\"4749\"},\"y_range\":{\"id\":\"4742\"},\"y_scale\":{\"id\":\"4751\"}},\"id\":\"4744\",\"subtype\":\"Figure\",\"type\":\"Plot\"},{\"attributes\":{},\"id\":\"4875\",\"type\":\"BasicTickFormatter\"},{\"attributes\":{\"line_alpha\":0.2,\"line_color\":\"midnightblue\",\"line_width\":2,\"x\":{\"field\":\"Date\"},\"y\":{\"field\":\"value\"}},\"id\":\"4779\",\"type\":\"Line\"},{\"attributes\":{\"months\":[0,2,4,6,8,10]},\"id\":\"5042\",\"type\":\"MonthsTicker\"},{\"attributes\":{},\"id\":\"4897\",\"type\":\"PanTool\"},{\"attributes\":{},\"id\":\"4751\",\"type\":\"LinearScale\"},{\"attributes\":{\"tags\":[[[\"Date\",\"Date\",null]]]},\"id\":\"4651\",\"type\":\"Range1d\"},{\"attributes\":{\"axis_label\":\"Date\",\"bounds\":\"auto\",\"formatter\":{\"id\":\"4783\"},\"major_label_orientation\":\"horizontal\",\"ticker\":{\"id\":\"4754\"}},\"id\":\"4753\",\"type\":\"DatetimeAxis\"},{\"attributes\":{\"months\":[0,6]},\"id\":\"4981\",\"type\":\"MonthsTicker\"},{\"attributes\":{\"active_drag\":\"auto\",\"active_inspect\":\"auto\",\"active_multi\":null,\"active_scroll\":\"auto\",\"active_tap\":\"auto\",\"tools\":[{\"id\":\"4608\"},{\"id\":\"4626\"},{\"id\":\"4627\"},{\"id\":\"4628\"},{\"id\":\"4629\"},{\"id\":\"4630\"}]},\"id\":\"4632\",\"type\":\"Toolbar\"},{\"attributes\":{},\"id\":\"4749\",\"type\":\"LinearScale\"},{\"attributes\":{},\"id\":\"4828\",\"type\":\"DatetimeTickFormatter\"},{\"attributes\":{\"days\":[1,4,7,10,13,16,19,22,25,28]},\"id\":\"4975\",\"type\":\"DaysTicker\"},{\"attributes\":{\"num_minor_ticks\":5,\"tickers\":[{\"id\":\"5076\"},{\"id\":\"5077\"},{\"id\":\"5078\"},{\"id\":\"5079\"},{\"id\":\"5080\"},{\"id\":\"5081\"},{\"id\":\"5082\"},{\"id\":\"5083\"},{\"id\":\"5084\"},{\"id\":\"5085\"},{\"id\":\"5086\"},{\"id\":\"5087\"}]},\"id\":\"4754\",\"type\":\"DatetimeTicker\"},{\"attributes\":{\"bottom_units\":\"screen\",\"fill_alpha\":0.5,\"fill_color\":\"lightgrey\",\"left_units\":\"screen\",\"level\":\"overlay\",\"line_alpha\":1.0,\"line_color\":\"black\",\"line_dash\":[4,4],\"line_width\":2,\"right_units\":\"screen\",\"top_units\":\"screen\"},\"id\":\"4631\",\"type\":\"BoxAnnotation\"},{\"attributes\":{},\"id\":\"4693\",\"type\":\"DatetimeTickFormatter\"},{\"attributes\":{\"axis\":{\"id\":\"4757\"},\"dimension\":1,\"grid_line_color\":null,\"ticker\":null},\"id\":\"4760\",\"type\":\"Grid\"},{\"attributes\":{\"tags\":[[[\"value\",\"value\",null]]]},\"id\":\"4652\",\"type\":\"Range1d\"},{\"attributes\":{\"axis\":{\"id\":\"4753\"},\"grid_line_color\":null,\"ticker\":null},\"id\":\"4756\",\"type\":\"Grid\"},{\"attributes\":{\"base\":60,\"mantissas\":[1,2,5,10,15,20,30],\"max_interval\":1800000.0,\"min_interval\":1000.0,\"num_minor_ticks\":0},\"id\":\"4951\",\"type\":\"AdaptiveTicker\"},{\"attributes\":{},\"id\":\"4758\",\"type\":\"BasicTicker\"},{\"attributes\":{\"below\":[{\"id\":\"4663\"}],\"center\":[{\"id\":\"4666\"},{\"id\":\"4670\"}],\"left\":[{\"id\":\"4667\"}],\"margin\":null,\"min_border_bottom\":10,\"min_border_left\":10,\"min_border_right\":10,\"min_border_top\":10,\"plot_height\":300,\"plot_width\":450,\"renderers\":[{\"id\":\"4690\"}],\"sizing_mode\":\"fixed\",\"title\":{\"id\":\"4655\"},\"toolbar\":{\"id\":\"4677\"},\"toolbar_location\":null,\"x_range\":{\"id\":\"4651\"},\"x_scale\":{\"id\":\"4659\"},\"y_range\":{\"id\":\"4652\"},\"y_scale\":{\"id\":\"4661\"}},\"id\":\"4654\",\"subtype\":\"Figure\",\"type\":\"Plot\"},{\"attributes\":{\"line_color\":\"midnightblue\",\"line_width\":2,\"x\":{\"field\":\"Date\"},\"y\":{\"field\":\"value\"}},\"id\":\"4687\",\"type\":\"Line\"},{\"attributes\":{\"mantissas\":[1,2,5],\"max_interval\":500.0,\"num_minor_ticks\":0},\"id\":\"4950\",\"type\":\"AdaptiveTicker\"},{\"attributes\":{\"axis_label\":\"\",\"bounds\":\"auto\",\"formatter\":{\"id\":\"4785\"},\"major_label_orientation\":\"horizontal\",\"ticker\":{\"id\":\"4758\"}},\"id\":\"4757\",\"type\":\"LinearAxis\"},{\"attributes\":{},\"id\":\"4730\",\"type\":\"Selection\"},{\"attributes\":{\"line_color\":\"midnightblue\",\"line_width\":2,\"x\":{\"field\":\"Date\"},\"y\":{\"field\":\"value\"}},\"id\":\"4777\",\"type\":\"Line\"},{\"attributes\":{\"overlay\":{\"id\":\"4901\"}},\"id\":\"4899\",\"type\":\"BoxZoomTool\"},{\"attributes\":{\"days\":[1,8,15,22]},\"id\":\"4976\",\"type\":\"DaysTicker\"},{\"attributes\":{\"below\":[{\"id\":\"4708\"}],\"center\":[{\"id\":\"4711\"},{\"id\":\"4715\"}],\"left\":[{\"id\":\"4712\"}],\"margin\":null,\"min_border_bottom\":10,\"min_border_left\":10,\"min_border_right\":10,\"min_border_top\":10,\"plot_height\":300,\"plot_width\":450,\"renderers\":[{\"id\":\"4735\"}],\"sizing_mode\":\"fixed\",\"title\":{\"id\":\"4700\"},\"toolbar\":{\"id\":\"4722\"},\"toolbar_location\":null,\"x_range\":{\"id\":\"4696\"},\"x_scale\":{\"id\":\"4704\"},\"y_range\":{\"id\":\"4697\"},\"y_scale\":{\"id\":\"4706\"}},\"id\":\"4699\",\"subtype\":\"Figure\",\"type\":\"Plot\"},{\"attributes\":{\"text\":\"Variable: SPX 1M 25DP Vol BVOL INDEX\",\"text_color\":{\"value\":\"black\"},\"text_font_size\":{\"value\":\"12pt\"}},\"id\":\"4430\",\"type\":\"Title\"},{\"attributes\":{\"months\":[0,1,2,3,4,5,6,7,8,9,10,11]},\"id\":\"5146\",\"type\":\"MonthsTicker\"},{\"attributes\":{\"line_alpha\":0.2,\"line_color\":\"midnightblue\",\"line_width\":2,\"x\":{\"field\":\"Date\"},\"y\":{\"field\":\"value\"}},\"id\":\"4689\",\"type\":\"Line\"},{\"attributes\":{},\"id\":\"5116\",\"type\":\"UnionRenderers\"},{\"attributes\":{\"callback\":null,\"renderers\":[{\"id\":\"4870\"}],\"tags\":[\"hv_created\"],\"tooltips\":[[\"Date\",\"@{Date}\"],[\"value\",\"@{value}\"]]},\"id\":\"4833\",\"type\":\"HoverTool\"},{\"attributes\":{\"days\":[1,15]},\"id\":\"5145\",\"type\":\"DaysTicker\"},{\"attributes\":{\"text\":\"Variable: P/C Ratio\",\"text_color\":{\"value\":\"black\"},\"text_font_size\":{\"value\":\"12pt\"}},\"id\":\"4655\",\"type\":\"Title\"},{\"attributes\":{},\"id\":\"4436\",\"type\":\"LinearScale\"},{\"attributes\":{\"callback\":null,\"renderers\":[{\"id\":\"4690\"}],\"tags\":[\"hv_created\"],\"tooltips\":[[\"Date\",\"@{Date}\"],[\"value\",\"@{value}\"]]},\"id\":\"4653\",\"type\":\"HoverTool\"},{\"attributes\":{},\"id\":\"4695\",\"type\":\"BasicTickFormatter\"},{\"attributes\":{\"months\":[0,4,8]},\"id\":\"5148\",\"type\":\"MonthsTicker\"},{\"attributes\":{\"months\":[0,2,4,6,8,10]},\"id\":\"5147\",\"type\":\"MonthsTicker\"},{\"attributes\":{\"axis_label\":\"Date\",\"bounds\":\"auto\",\"formatter\":{\"id\":\"4468\"},\"major_label_orientation\":\"horizontal\",\"ticker\":{\"id\":\"4439\"}},\"id\":\"4438\",\"type\":\"DatetimeAxis\"},{\"attributes\":{\"days\":[1,8,15,22]},\"id\":\"5039\",\"type\":\"DaysTicker\"},{\"attributes\":{},\"id\":\"4661\",\"type\":\"LinearScale\"},{\"attributes\":{\"base\":24,\"mantissas\":[1,2,4,6,8,12],\"max_interval\":43200000.0,\"min_interval\":3600000.0,\"num_minor_ticks\":0},\"id\":\"5099\",\"type\":\"AdaptiveTicker\"},{\"attributes\":{\"days\":[1,4,7,10,13,16,19,22,25,28]},\"id\":\"5017\",\"type\":\"DaysTicker\"},{\"attributes\":{},\"id\":\"4434\",\"type\":\"LinearScale\"},{\"attributes\":{\"overlay\":{\"id\":\"4856\"}},\"id\":\"4854\",\"type\":\"BoxZoomTool\"},{\"attributes\":{\"axis_label\":\"Date\",\"bounds\":\"auto\",\"formatter\":{\"id\":\"4693\"},\"major_label_orientation\":\"horizontal\",\"ticker\":{\"id\":\"4664\"}},\"id\":\"4663\",\"type\":\"DatetimeAxis\"},{\"attributes\":{},\"id\":\"4640\",\"type\":\"Selection\"},{\"attributes\":{\"num_minor_ticks\":5,\"tickers\":[{\"id\":\"4929\"},{\"id\":\"4930\"},{\"id\":\"4931\"},{\"id\":\"4932\"},{\"id\":\"4933\"},{\"id\":\"4934\"},{\"id\":\"4935\"},{\"id\":\"4936\"},{\"id\":\"4937\"},{\"id\":\"4938\"},{\"id\":\"4939\"},{\"id\":\"4940\"}]},\"id\":\"4439\",\"type\":\"DatetimeTicker\"},{\"attributes\":{\"data_source\":{\"id\":\"4684\"},\"glyph\":{\"id\":\"4687\"},\"hover_glyph\":null,\"muted_glyph\":{\"id\":\"4689\"},\"nonselection_glyph\":{\"id\":\"4688\"},\"selection_glyph\":null,\"view\":{\"id\":\"4691\"}},\"id\":\"4690\",\"type\":\"GlyphRenderer\"},{\"attributes\":{\"mantissas\":[1,2,5],\"max_interval\":500.0,\"num_minor_ticks\":0},\"id\":\"5034\",\"type\":\"AdaptiveTicker\"},{\"attributes\":{\"axis_label\":\"\",\"bounds\":\"auto\",\"formatter\":{\"id\":\"4470\"},\"major_label_orientation\":\"horizontal\",\"ticker\":{\"id\":\"4443\"}},\"id\":\"4442\",\"type\":\"LinearAxis\"},{\"attributes\":{\"months\":[0,6]},\"id\":\"5149\",\"type\":\"MonthsTicker\"},{\"attributes\":{},\"id\":\"4659\",\"type\":\"LinearScale\"},{\"attributes\":{\"base\":60,\"mantissas\":[1,2,5,10,15,20,30],\"max_interval\":1800000.0,\"min_interval\":1000.0,\"num_minor_ticks\":0},\"id\":\"5098\",\"type\":\"AdaptiveTicker\"},{\"attributes\":{\"axis\":{\"id\":\"4438\"},\"grid_line_color\":null,\"ticker\":null},\"id\":\"4441\",\"type\":\"Grid\"},{\"attributes\":{\"days\":[1,15]},\"id\":\"4956\",\"type\":\"DaysTicker\"},{\"attributes\":{},\"id\":\"4982\",\"type\":\"YearsTicker\"},{\"attributes\":{\"num_minor_ticks\":5,\"tickers\":[{\"id\":\"5034\"},{\"id\":\"5035\"},{\"id\":\"5036\"},{\"id\":\"5037\"},{\"id\":\"5038\"},{\"id\":\"5039\"},{\"id\":\"5040\"},{\"id\":\"5041\"},{\"id\":\"5042\"},{\"id\":\"5043\"},{\"id\":\"5044\"},{\"id\":\"5045\"}]},\"id\":\"4664\",\"type\":\"DatetimeTicker\"},{\"attributes\":{\"axis\":{\"id\":\"4667\"},\"dimension\":1,\"grid_line_color\":null,\"ticker\":null},\"id\":\"4670\",\"type\":\"Grid\"},{\"attributes\":{\"axis\":{\"id\":\"4663\"},\"grid_line_color\":null,\"ticker\":null},\"id\":\"4666\",\"type\":\"Grid\"},{\"attributes\":{\"days\":[1,2,3,4,5,6,7,8,9,10,11,12,13,14,15,16,17,18,19,20,21,22,23,24,25,26,27,28,29,30,31]},\"id\":\"5100\",\"type\":\"DaysTicker\"},{\"attributes\":{},\"id\":\"4443\",\"type\":\"BasicTicker\"},{\"attributes\":{\"months\":[0,1,2,3,4,5,6,7,8,9,10,11]},\"id\":\"4957\",\"type\":\"MonthsTicker\"},{\"attributes\":{\"callback\":null,\"renderers\":[{\"id\":\"4915\"}],\"tags\":[\"hv_created\"],\"tooltips\":[[\"Date\",\"@{Date}\"],[\"value\",\"@{value}\"]]},\"id\":\"4878\",\"type\":\"HoverTool\"},{\"attributes\":{\"axis\":{\"id\":\"4442\"},\"dimension\":1,\"grid_line_color\":null,\"ticker\":null},\"id\":\"4445\",\"type\":\"Grid\"},{\"attributes\":{},\"id\":\"4855\",\"type\":\"ResetTool\"},{\"attributes\":{\"tags\":[[[\"Date\",\"Date\",null]]]},\"id\":\"4876\",\"type\":\"Range1d\"},{\"attributes\":{\"line_alpha\":0.2,\"line_color\":\"midnightblue\",\"line_width\":2,\"x\":{\"field\":\"Date\"},\"y\":{\"field\":\"value\"}},\"id\":\"4464\",\"type\":\"Line\"},{\"attributes\":{},\"id\":\"4668\",\"type\":\"BasicTicker\"},{\"attributes\":{},\"id\":\"4533\",\"type\":\"BasicTicker\"},{\"attributes\":{\"months\":[0,2,4,6,8,10]},\"id\":\"4958\",\"type\":\"MonthsTicker\"},{\"attributes\":{\"axis_label\":\"\",\"bounds\":\"auto\",\"formatter\":{\"id\":\"4695\"},\"major_label_orientation\":\"horizontal\",\"ticker\":{\"id\":\"4668\"}},\"id\":\"4667\",\"type\":\"LinearAxis\"},{\"attributes\":{},\"id\":\"5032\",\"type\":\"UnionRenderers\"},{\"attributes\":{\"days\":[1,2,3,4,5,6,7,8,9,10,11,12,13,14,15,16,17,18,19,20,21,22,23,24,25,26,27,28,29,30,31]},\"id\":\"5037\",\"type\":\"DaysTicker\"},{\"attributes\":{},\"id\":\"4853\",\"type\":\"WheelZoomTool\"},{\"attributes\":{\"base\":60,\"mantissas\":[1,2,5,10,15,20,30],\"max_interval\":1800000.0,\"min_interval\":1000.0,\"num_minor_ticks\":0},\"id\":\"5035\",\"type\":\"AdaptiveTicker\"},{\"attributes\":{\"line_alpha\":0.1,\"line_color\":\"midnightblue\",\"line_width\":2,\"x\":{\"field\":\"Date\"},\"y\":{\"field\":\"value\"}},\"id\":\"4688\",\"type\":\"Line\"},{\"attributes\":{\"mantissas\":[1,2,5],\"max_interval\":500.0,\"num_minor_ticks\":0},\"id\":\"5118\",\"type\":\"AdaptiveTicker\"},{\"attributes\":{\"days\":[1,4,7,10,13,16,19,22,25,28]},\"id\":\"5038\",\"type\":\"DaysTicker\"},{\"attributes\":{\"mantissas\":[1,2,5],\"max_interval\":500.0,\"num_minor_ticks\":0},\"id\":\"5055\",\"type\":\"AdaptiveTicker\"},{\"attributes\":{\"data\":{\"Date\":{\"__ndarray__\":\"\",\"dtype\":\"float64\",\"order\":\"little\",\"shape\":[0]},\"value\":{\"__ndarray__\":\"\",\"dtype\":\"float64\",\"order\":\"little\",\"shape\":[0]}},\"selected\":{\"id\":\"4595\"},\"selection_policy\":{\"id\":\"4990\"}},\"id\":\"4594\",\"type\":\"ColumnDataSource\"},{\"attributes\":{\"data\":{\"Date\":{\"__ndarray__\":\"\",\"dtype\":\"float64\",\"order\":\"little\",\"shape\":[0]},\"value\":{\"__ndarray__\":\"\",\"dtype\":\"float64\",\"order\":\"little\",\"shape\":[0]}},\"selected\":{\"id\":\"4865\"},\"selection_policy\":{\"id\":\"5116\"}},\"id\":\"4864\",\"type\":\"ColumnDataSource\"},{\"attributes\":{\"base\":60,\"mantissas\":[1,2,5,10,15,20,30],\"max_interval\":1800000.0,\"min_interval\":1000.0,\"num_minor_ticks\":0},\"id\":\"5119\",\"type\":\"AdaptiveTicker\"},{\"attributes\":{\"data_source\":{\"id\":\"4459\"},\"glyph\":{\"id\":\"4462\"},\"hover_glyph\":null,\"muted_glyph\":{\"id\":\"4464\"},\"nonselection_glyph\":{\"id\":\"4463\"},\"selection_glyph\":null,\"view\":{\"id\":\"4466\"}},\"id\":\"4465\",\"type\":\"GlyphRenderer\"},{\"attributes\":{\"source\":{\"id\":\"4684\"}},\"id\":\"4691\",\"type\":\"CDSView\"},{\"attributes\":{\"base\":24,\"mantissas\":[1,2,4,6,8,12],\"max_interval\":43200000.0,\"min_interval\":3600000.0,\"num_minor_ticks\":0},\"id\":\"5120\",\"type\":\"AdaptiveTicker\"},{\"attributes\":{\"source\":{\"id\":\"4459\"}},\"id\":\"4466\",\"type\":\"CDSView\"},{\"attributes\":{\"source\":{\"id\":\"4774\"}},\"id\":\"4781\",\"type\":\"CDSView\"},{\"attributes\":{\"bottom_units\":\"screen\",\"fill_alpha\":0.5,\"fill_color\":\"lightgrey\",\"left_units\":\"screen\",\"level\":\"overlay\",\"line_alpha\":1.0,\"line_color\":\"black\",\"line_dash\":[4,4],\"line_width\":2,\"right_units\":\"screen\",\"top_units\":\"screen\"},\"id\":\"4856\",\"type\":\"BoxAnnotation\"},{\"attributes\":{},\"id\":\"4775\",\"type\":\"Selection\"},{\"attributes\":{\"days\":[1,2,3,4,5,6,7,8,9,10,11,12,13,14,15,16,17,18,19,20,21,22,23,24,25,26,27,28,29,30,31]},\"id\":\"5121\",\"type\":\"DaysTicker\"},{\"attributes\":{},\"id\":\"4446\",\"type\":\"SaveTool\"},{\"attributes\":{},\"id\":\"4671\",\"type\":\"SaveTool\"},{\"attributes\":{},\"id\":\"4447\",\"type\":\"PanTool\"},{\"attributes\":{\"months\":[0,4,8]},\"id\":\"4959\",\"type\":\"MonthsTicker\"},{\"attributes\":{},\"id\":\"4672\",\"type\":\"PanTool\"},{\"attributes\":{},\"id\":\"4450\",\"type\":\"ResetTool\"},{\"attributes\":{},\"id\":\"4675\",\"type\":\"ResetTool\"},{\"attributes\":{\"days\":[1,4,7,10,13,16,19,22,25,28]},\"id\":\"5122\",\"type\":\"DaysTicker\"},{\"attributes\":{},\"id\":\"4448\",\"type\":\"WheelZoomTool\"},{\"attributes\":{\"days\":[1,15]},\"id\":\"5040\",\"type\":\"DaysTicker\"},{\"attributes\":{},\"id\":\"4673\",\"type\":\"WheelZoomTool\"},{\"attributes\":{\"months\":[0,6]},\"id\":\"4960\",\"type\":\"MonthsTicker\"},{\"attributes\":{\"overlay\":{\"id\":\"4451\"}},\"id\":\"4449\",\"type\":\"BoxZoomTool\"},{\"attributes\":{\"overlay\":{\"id\":\"4676\"}},\"id\":\"4674\",\"type\":\"BoxZoomTool\"},{\"attributes\":{\"data\":{\"Date\":{\"__ndarray__\":\"\",\"dtype\":\"float64\",\"order\":\"little\",\"shape\":[0]},\"value\":{\"__ndarray__\":\"\",\"dtype\":\"float64\",\"order\":\"little\",\"shape\":[0]}},\"selected\":{\"id\":\"4730\"},\"selection_policy\":{\"id\":\"5053\"}},\"id\":\"4729\",\"type\":\"ColumnDataSource\"},{\"attributes\":{\"days\":[1,8,15,22]},\"id\":\"5123\",\"type\":\"DaysTicker\"},{\"attributes\":{},\"id\":\"4969\",\"type\":\"UnionRenderers\"},{\"attributes\":{\"callback\":null,\"renderers\":[{\"id\":\"4780\"}],\"tags\":[\"hv_created\"],\"tooltips\":[[\"Date\",\"@{Date}\"],[\"value\",\"@{value}\"]]},\"id\":\"4743\",\"type\":\"HoverTool\"},{\"attributes\":{\"months\":[0,1,2,3,4,5,6,7,8,9,10,11]},\"id\":\"5125\",\"type\":\"MonthsTicker\"},{\"attributes\":{\"days\":[1,15]},\"id\":\"5124\",\"type\":\"DaysTicker\"},{\"attributes\":{\"tags\":[[[\"Date\",\"Date\",null]]]},\"id\":\"4606\",\"type\":\"Range1d\"},{\"attributes\":{},\"id\":\"5053\",\"type\":\"UnionRenderers\"},{\"attributes\":{\"months\":[0,4,8]},\"id\":\"5127\",\"type\":\"MonthsTicker\"},{\"attributes\":{\"mantissas\":[1,2,5],\"max_interval\":500.0,\"num_minor_ticks\":0},\"id\":\"5097\",\"type\":\"AdaptiveTicker\"},{\"attributes\":{\"line_alpha\":0.1,\"line_color\":\"midnightblue\",\"line_width\":2,\"x\":{\"field\":\"Date\"},\"y\":{\"field\":\"value\"}},\"id\":\"4733\",\"type\":\"Line\"},{\"attributes\":{\"months\":[0,2,4,6,8,10]},\"id\":\"5126\",\"type\":\"MonthsTicker\"},{\"attributes\":{},\"id\":\"4961\",\"type\":\"YearsTicker\"},{\"attributes\":{},\"id\":\"4648\",\"type\":\"DatetimeTickFormatter\"},{\"attributes\":{\"tags\":[[[\"value\",\"value\",null]]]},\"id\":\"4607\",\"type\":\"Range1d\"},{\"attributes\":{\"text\":\"Variable: P/C Spread\",\"text_color\":{\"value\":\"black\"},\"text_font_size\":{\"value\":\"12pt\"}},\"id\":\"4700\",\"type\":\"Title\"},{\"attributes\":{\"line_color\":\"midnightblue\",\"line_width\":2,\"x\":{\"field\":\"Date\"},\"y\":{\"field\":\"value\"}},\"id\":\"4732\",\"type\":\"Line\"},{\"attributes\":{\"active_drag\":\"auto\",\"active_inspect\":\"auto\",\"active_multi\":null,\"active_scroll\":\"auto\",\"active_tap\":\"auto\",\"tools\":[{\"id\":\"4428\"},{\"id\":\"4446\"},{\"id\":\"4447\"},{\"id\":\"4448\"},{\"id\":\"4449\"},{\"id\":\"4450\"}]},\"id\":\"4452\",\"type\":\"Toolbar\"},{\"attributes\":{\"active_drag\":\"auto\",\"active_inspect\":\"auto\",\"active_multi\":null,\"active_scroll\":\"auto\",\"active_tap\":\"auto\",\"tools\":[{\"id\":\"4653\"},{\"id\":\"4671\"},{\"id\":\"4672\"},{\"id\":\"4673\"},{\"id\":\"4674\"},{\"id\":\"4675\"}]},\"id\":\"4677\",\"type\":\"Toolbar\"},{\"attributes\":{},\"id\":\"5129\",\"type\":\"YearsTicker\"},{\"attributes\":{},\"id\":\"5137\",\"type\":\"UnionRenderers\"},{\"attributes\":{\"days\":[1,15]},\"id\":\"5019\",\"type\":\"DaysTicker\"},{\"attributes\":{\"base\":24,\"mantissas\":[1,2,4,6,8,12],\"max_interval\":43200000.0,\"min_interval\":3600000.0,\"num_minor_ticks\":0},\"id\":\"5036\",\"type\":\"AdaptiveTicker\"},{\"attributes\":{\"months\":[0,6]},\"id\":\"5128\",\"type\":\"MonthsTicker\"},{\"attributes\":{\"bottom_units\":\"screen\",\"fill_alpha\":0.5,\"fill_color\":\"lightgrey\",\"left_units\":\"screen\",\"level\":\"overlay\",\"line_alpha\":1.0,\"line_color\":\"black\",\"line_dash\":[4,4],\"line_width\":2,\"right_units\":\"screen\",\"top_units\":\"screen\"},\"id\":\"4451\",\"type\":\"BoxAnnotation\"},{\"attributes\":{\"bottom_units\":\"screen\",\"fill_alpha\":0.5,\"fill_color\":\"lightgrey\",\"left_units\":\"screen\",\"level\":\"overlay\",\"line_alpha\":1.0,\"line_color\":\"black\",\"line_dash\":[4,4],\"line_width\":2,\"right_units\":\"screen\",\"top_units\":\"screen\"},\"id\":\"4676\",\"type\":\"BoxAnnotation\"},{\"attributes\":{},\"id\":\"4940\",\"type\":\"YearsTicker\"},{\"attributes\":{\"axis\":{\"id\":\"4892\"},\"dimension\":1,\"grid_line_color\":null,\"ticker\":null},\"id\":\"4895\",\"type\":\"Grid\"},{\"attributes\":{},\"id\":\"4738\",\"type\":\"DatetimeTickFormatter\"},{\"attributes\":{\"tags\":[[[\"Date\",\"Date\",null]]]},\"id\":\"4831\",\"type\":\"Range1d\"},{\"attributes\":{\"base\":60,\"mantissas\":[1,2,5,10,15,20,30],\"max_interval\":1800000.0,\"min_interval\":1000.0,\"num_minor_ticks\":0},\"id\":\"4972\",\"type\":\"AdaptiveTicker\"},{\"attributes\":{\"days\":[1,8,15,22]},\"id\":\"5018\",\"type\":\"DaysTicker\"},{\"attributes\":{\"margin\":[5,5,5,5],\"name\":\"HSpacer05002\",\"sizing_mode\":\"stretch_width\"},\"id\":\"7136\",\"type\":\"Spacer\"},{\"attributes\":{\"tags\":[[[\"Date\",\"Date\",null]]]},\"id\":\"4696\",\"type\":\"Range1d\"},{\"attributes\":{\"mantissas\":[1,2,5],\"max_interval\":500.0,\"num_minor_ticks\":0},\"id\":\"4971\",\"type\":\"AdaptiveTicker\"},{\"attributes\":{},\"id\":\"4650\",\"type\":\"BasicTickFormatter\"},{\"attributes\":{},\"id\":\"5074\",\"type\":\"UnionRenderers\"},{\"attributes\":{\"days\":[1,8,15,22]},\"id\":\"5144\",\"type\":\"DaysTicker\"},{\"attributes\":{},\"id\":\"4540\",\"type\":\"ResetTool\"},{\"attributes\":{\"months\":[0,6]},\"id\":\"4939\",\"type\":\"MonthsTicker\"},{\"attributes\":{\"mantissas\":[1,2,5],\"max_interval\":500.0,\"num_minor_ticks\":0},\"id\":\"5076\",\"type\":\"AdaptiveTicker\"},{\"attributes\":{\"tags\":[[[\"value\",\"value\",null]]]},\"id\":\"4832\",\"type\":\"Range1d\"},{\"attributes\":{\"days\":[1,4,7,10,13,16,19,22,25,28]},\"id\":\"4954\",\"type\":\"DaysTicker\"},{\"attributes\":{},\"id\":\"4578\",\"type\":\"BasicTicker\"},{\"attributes\":{},\"id\":\"4848\",\"type\":\"BasicTicker\"},{\"attributes\":{\"months\":[0,4,8]},\"id\":\"4938\",\"type\":\"MonthsTicker\"},{\"attributes\":{\"days\":[1,8,15,22]},\"id\":\"4955\",\"type\":\"DaysTicker\"},{\"attributes\":{\"axis_label\":\"\",\"bounds\":\"auto\",\"formatter\":{\"id\":\"4605\"},\"major_label_orientation\":\"horizontal\",\"ticker\":{\"id\":\"4578\"}},\"id\":\"4577\",\"type\":\"LinearAxis\"},{\"attributes\":{\"axis_label\":\"Date\",\"bounds\":\"auto\",\"formatter\":{\"id\":\"4738\"},\"major_label_orientation\":\"horizontal\",\"ticker\":{\"id\":\"4709\"}},\"id\":\"4708\",\"type\":\"DatetimeAxis\"},{\"attributes\":{\"axis\":{\"id\":\"4847\"},\"dimension\":1,\"grid_line_color\":null,\"ticker\":null},\"id\":\"4850\",\"type\":\"Grid\"},{\"attributes\":{},\"id\":\"4865\",\"type\":\"Selection\"},{\"attributes\":{\"axis\":{\"id\":\"4573\"},\"grid_line_color\":null,\"ticker\":null},\"id\":\"4576\",\"type\":\"Grid\"},{\"attributes\":{\"source\":{\"id\":\"4729\"}},\"id\":\"4736\",\"type\":\"CDSView\"},{\"attributes\":{\"active_drag\":\"auto\",\"active_inspect\":\"auto\",\"active_multi\":null,\"active_scroll\":\"auto\",\"active_tap\":\"auto\",\"tools\":[{\"id\":\"4518\"},{\"id\":\"4536\"},{\"id\":\"4537\"},{\"id\":\"4538\"},{\"id\":\"4539\"},{\"id\":\"4540\"}]},\"id\":\"4542\",\"type\":\"Toolbar\"},{\"attributes\":{},\"id\":\"4740\",\"type\":\"BasicTickFormatter\"},{\"attributes\":{\"days\":[1,2,3,4,5,6,7,8,9,10,11,12,13,14,15,16,17,18,19,20,21,22,23,24,25,26,27,28,29,30,31]},\"id\":\"4974\",\"type\":\"DaysTicker\"},{\"attributes\":{\"tags\":[[[\"value\",\"value\",null]]]},\"id\":\"4472\",\"type\":\"Range1d\"},{\"attributes\":{},\"id\":\"5011\",\"type\":\"UnionRenderers\"},{\"attributes\":{\"tags\":[[[\"value\",\"value\",null]]]},\"id\":\"4517\",\"type\":\"Range1d\"},{\"attributes\":{\"axis\":{\"id\":\"4577\"},\"dimension\":1,\"grid_line_color\":null,\"ticker\":null},\"id\":\"4580\",\"type\":\"Grid\"},{\"attributes\":{\"tags\":[[[\"value\",\"value\",null]]]},\"id\":\"4697\",\"type\":\"Range1d\"},{\"attributes\":{\"bottom_units\":\"screen\",\"fill_alpha\":0.5,\"fill_color\":\"lightgrey\",\"left_units\":\"screen\",\"level\":\"overlay\",\"line_alpha\":1.0,\"line_color\":\"black\",\"line_dash\":[4,4],\"line_width\":2,\"right_units\":\"screen\",\"top_units\":\"screen\"},\"id\":\"4541\",\"type\":\"BoxAnnotation\"},{\"attributes\":{},\"id\":\"5066\",\"type\":\"YearsTicker\"},{\"attributes\":{\"tags\":[[[\"value\",\"value\",null]]]},\"id\":\"4877\",\"type\":\"Range1d\"},{\"attributes\":{\"text\":\"Variable: SPX 1M 25DC Vol BVOL INDEX\",\"text_color\":{\"value\":\"black\"},\"text_font_size\":{\"value\":\"12pt\"}},\"id\":\"4475\",\"type\":\"Title\"},{\"attributes\":{\"text\":\"Variable: SPX 1M 100 Vol BVOL INDEX\",\"text_color\":{\"value\":\"black\"},\"text_font_size\":{\"value\":\"12pt\"}},\"id\":\"4520\",\"type\":\"Title\"},{\"attributes\":{\"days\":[1,15]},\"id\":\"4977\",\"type\":\"DaysTicker\"},{\"attributes\":{\"children\":[[{\"id\":\"4429\"},0,0],[{\"id\":\"4474\"},0,1],[{\"id\":\"4519\"},1,0],[{\"id\":\"4564\"},1,1],[{\"id\":\"4609\"},2,0],[{\"id\":\"4654\"},2,1],[{\"id\":\"4699\"},3,0],[{\"id\":\"4744\"},3,1],[{\"id\":\"4789\"},4,0],[{\"id\":\"4834\"},4,1],[{\"id\":\"4879\"},5,0]]},\"id\":\"5152\",\"type\":\"GridBox\"},{\"attributes\":{},\"id\":\"4704\",\"type\":\"LinearScale\"},{\"attributes\":{},\"id\":\"4851\",\"type\":\"SaveTool\"},{\"attributes\":{},\"id\":\"4706\",\"type\":\"LinearScale\"},{\"attributes\":{},\"id\":\"4560\",\"type\":\"BasicTickFormatter\"},{\"attributes\":{},\"id\":\"4550\",\"type\":\"Selection\"},{\"attributes\":{\"days\":[1,4,7,10,13,16,19,22,25,28]},\"id\":\"5101\",\"type\":\"DaysTicker\"},{\"attributes\":{\"base\":60,\"mantissas\":[1,2,5,10,15,20,30],\"max_interval\":1800000.0,\"min_interval\":1000.0,\"num_minor_ticks\":0},\"id\":\"5077\",\"type\":\"AdaptiveTicker\"},{\"attributes\":{\"months\":[0,1,2,3,4,5,6,7,8,9,10,11]},\"id\":\"5104\",\"type\":\"MonthsTicker\"},{\"attributes\":{\"mantissas\":[1,2,5],\"max_interval\":500.0,\"num_minor_ticks\":0},\"id\":\"5139\",\"type\":\"AdaptiveTicker\"},{\"attributes\":{\"source\":{\"id\":\"4504\"}},\"id\":\"4511\",\"type\":\"CDSView\"},{\"attributes\":{\"source\":{\"id\":\"4549\"}},\"id\":\"4556\",\"type\":\"CDSView\"},{\"attributes\":{\"line_alpha\":0.2,\"line_color\":\"midnightblue\",\"line_width\":2,\"x\":{\"field\":\"Date\"},\"y\":{\"field\":\"value\"}},\"id\":\"4734\",\"type\":\"Line\"},{\"attributes\":{\"days\":[1,15]},\"id\":\"5103\",\"type\":\"DaysTicker\"},{\"attributes\":{\"base\":60,\"mantissas\":[1,2,5,10,15,20,30],\"max_interval\":1800000.0,\"min_interval\":1000.0,\"num_minor_ticks\":0},\"id\":\"5140\",\"type\":\"AdaptiveTicker\"},{\"attributes\":{\"below\":[{\"id\":\"4483\"}],\"center\":[{\"id\":\"4486\"},{\"id\":\"4490\"}],\"left\":[{\"id\":\"4487\"}],\"margin\":null,\"min_border_bottom\":10,\"min_border_left\":10,\"min_border_right\":10,\"min_border_top\":10,\"plot_height\":300,\"plot_width\":450,\"renderers\":[{\"id\":\"4510\"}],\"sizing_mode\":\"fixed\",\"title\":{\"id\":\"4475\"},\"toolbar\":{\"id\":\"4497\"},\"toolbar_location\":null,\"x_range\":{\"id\":\"4471\"},\"x_scale\":{\"id\":\"4479\"},\"y_range\":{\"id\":\"4472\"},\"y_scale\":{\"id\":\"4481\"}},\"id\":\"4474\",\"subtype\":\"Figure\",\"type\":\"Plot\"},{\"attributes\":{\"below\":[{\"id\":\"4528\"}],\"center\":[{\"id\":\"4531\"},{\"id\":\"4535\"}],\"left\":[{\"id\":\"4532\"}],\"margin\":null,\"min_border_bottom\":10,\"min_border_left\":10,\"min_border_right\":10,\"min_border_top\":10,\"plot_height\":300,\"plot_width\":450,\"renderers\":[{\"id\":\"4555\"}],\"sizing_mode\":\"fixed\",\"title\":{\"id\":\"4520\"},\"toolbar\":{\"id\":\"4542\"},\"toolbar_location\":null,\"x_range\":{\"id\":\"4516\"},\"x_scale\":{\"id\":\"4524\"},\"y_range\":{\"id\":\"4517\"},\"y_scale\":{\"id\":\"4526\"}},\"id\":\"4519\",\"subtype\":\"Figure\",\"type\":\"Plot\"},{\"attributes\":{\"base\":24,\"mantissas\":[1,2,4,6,8,12],\"max_interval\":43200000.0,\"min_interval\":3600000.0,\"num_minor_ticks\":0},\"id\":\"5078\",\"type\":\"AdaptiveTicker\"},{\"attributes\":{\"line_alpha\":0.2,\"line_color\":\"midnightblue\",\"line_width\":2,\"x\":{\"field\":\"Date\"},\"y\":{\"field\":\"value\"}},\"id\":\"4509\",\"type\":\"Line\"},{\"attributes\":{},\"id\":\"4852\",\"type\":\"PanTool\"},{\"attributes\":{\"line_alpha\":0.2,\"line_color\":\"midnightblue\",\"line_width\":2,\"x\":{\"field\":\"Date\"},\"y\":{\"field\":\"value\"}},\"id\":\"4554\",\"type\":\"Line\"},{\"attributes\":{\"num_minor_ticks\":5,\"tickers\":[{\"id\":\"5055\"},{\"id\":\"5056\"},{\"id\":\"5057\"},{\"id\":\"5058\"},{\"id\":\"5059\"},{\"id\":\"5060\"},{\"id\":\"5061\"},{\"id\":\"5062\"},{\"id\":\"5063\"},{\"id\":\"5064\"},{\"id\":\"5065\"},{\"id\":\"5066\"}]},\"id\":\"4709\",\"type\":\"DatetimeTicker\"},{\"attributes\":{\"axis\":{\"id\":\"4712\"},\"dimension\":1,\"grid_line_color\":null,\"ticker\":null},\"id\":\"4715\",\"type\":\"Grid\"},{\"attributes\":{\"days\":[1,2,3,4,5,6,7,8,9,10,11,12,13,14,15,16,17,18,19,20,21,22,23,24,25,26,27,28,29,30,31]},\"id\":\"5142\",\"type\":\"DaysTicker\"},{\"attributes\":{\"base\":24,\"mantissas\":[1,2,4,6,8,12],\"max_interval\":43200000.0,\"min_interval\":3600000.0,\"num_minor_ticks\":0},\"id\":\"5015\",\"type\":\"AdaptiveTicker\"},{\"attributes\":{\"axis_label\":\"Date\",\"bounds\":\"auto\",\"formatter\":{\"id\":\"4603\"},\"major_label_orientation\":\"horizontal\",\"ticker\":{\"id\":\"4574\"}},\"id\":\"4573\",\"type\":\"DatetimeAxis\"},{\"attributes\":{\"axis\":{\"id\":\"4708\"},\"grid_line_color\":null,\"ticker\":null},\"id\":\"4711\",\"type\":\"Grid\"},{\"attributes\":{},\"id\":\"4918\",\"type\":\"DatetimeTickFormatter\"},{\"attributes\":{\"months\":[0,2,4,6,8,10]},\"id\":\"5105\",\"type\":\"MonthsTicker\"},{\"attributes\":{},\"id\":\"4481\",\"type\":\"LinearScale\"},{\"attributes\":{},\"id\":\"4526\",\"type\":\"LinearScale\"},{\"attributes\":{},\"id\":\"4713\",\"type\":\"BasicTicker\"},{\"attributes\":{\"axis_label\":\"\",\"bounds\":\"auto\",\"formatter\":{\"id\":\"4740\"},\"major_label_orientation\":\"horizontal\",\"ticker\":{\"id\":\"4713\"}},\"id\":\"4712\",\"type\":\"LinearAxis\"},{\"attributes\":{\"mantissas\":[1,2,5],\"max_interval\":500.0,\"num_minor_ticks\":0},\"id\":\"4929\",\"type\":\"AdaptiveTicker\"},{\"attributes\":{\"axis_label\":\"Date\",\"bounds\":\"auto\",\"formatter\":{\"id\":\"4513\"},\"major_label_orientation\":\"horizontal\",\"ticker\":{\"id\":\"4484\"}},\"id\":\"4483\",\"type\":\"DatetimeAxis\"},{\"attributes\":{\"axis_label\":\"Date\",\"bounds\":\"auto\",\"formatter\":{\"id\":\"4558\"},\"major_label_orientation\":\"horizontal\",\"ticker\":{\"id\":\"4529\"}},\"id\":\"4528\",\"type\":\"DatetimeAxis\"},{\"attributes\":{\"data\":{\"Date\":{\"__ndarray__\":\"\",\"dtype\":\"float64\",\"order\":\"little\",\"shape\":[0]},\"value\":{\"__ndarray__\":\"\",\"dtype\":\"float64\",\"order\":\"little\",\"shape\":[0]}},\"selected\":{\"id\":\"4505\"},\"selection_policy\":{\"id\":\"4948\"}},\"id\":\"4504\",\"type\":\"ColumnDataSource\"},{\"attributes\":{\"line_alpha\":0.1,\"line_color\":\"midnightblue\",\"line_width\":2,\"x\":{\"field\":\"Date\"},\"y\":{\"field\":\"value\"}},\"id\":\"4508\",\"type\":\"Line\"},{\"attributes\":{\"days\":[1,4,7,10,13,16,19,22,25,28]},\"id\":\"4933\",\"type\":\"DaysTicker\"},{\"attributes\":{\"line_alpha\":0.1,\"line_color\":\"midnightblue\",\"line_width\":2,\"x\":{\"field\":\"Date\"},\"y\":{\"field\":\"value\"}},\"id\":\"4553\",\"type\":\"Line\"},{\"attributes\":{},\"id\":\"4479\",\"type\":\"LinearScale\"},{\"attributes\":{},\"id\":\"4524\",\"type\":\"LinearScale\"},{\"attributes\":{\"text\":\"Variable: ATM/C Ratio\",\"text_color\":{\"value\":\"black\"},\"text_font_size\":{\"value\":\"12pt\"}},\"id\":\"4835\",\"type\":\"Title\"},{\"attributes\":{},\"id\":\"5045\",\"type\":\"YearsTicker\"},{\"attributes\":{\"tags\":[[[\"value\",\"value\",null]]]},\"id\":\"4562\",\"type\":\"Range1d\"},{\"attributes\":{\"num_minor_ticks\":5,\"tickers\":[{\"id\":\"4950\"},{\"id\":\"4951\"},{\"id\":\"4952\"},{\"id\":\"4953\"},{\"id\":\"4954\"},{\"id\":\"4955\"},{\"id\":\"4956\"},{\"id\":\"4957\"},{\"id\":\"4958\"},{\"id\":\"4959\"},{\"id\":\"4960\"},{\"id\":\"4961\"}]},\"id\":\"4484\",\"type\":\"DatetimeTicker\"},{\"attributes\":{\"tags\":[[[\"Date\",\"Date\",null]]]},\"id\":\"4426\",\"type\":\"Range1d\"},{\"attributes\":{\"num_minor_ticks\":5,\"tickers\":[{\"id\":\"4971\"},{\"id\":\"4972\"},{\"id\":\"4973\"},{\"id\":\"4974\"},{\"id\":\"4975\"},{\"id\":\"4976\"},{\"id\":\"4977\"},{\"id\":\"4978\"},{\"id\":\"4979\"},{\"id\":\"4980\"},{\"id\":\"4981\"},{\"id\":\"4982\"}]},\"id\":\"4529\",\"type\":\"DatetimeTicker\"},{\"attributes\":{\"axis\":{\"id\":\"4487\"},\"dimension\":1,\"grid_line_color\":null,\"ticker\":null},\"id\":\"4490\",\"type\":\"Grid\"},{\"attributes\":{\"days\":[1,2,3,4,5,6,7,8,9,10,11,12,13,14,15,16,17,18,19,20,21,22,23,24,25,26,27,28,29,30,31]},\"id\":\"4932\",\"type\":\"DaysTicker\"},{\"attributes\":{\"callback\":null,\"renderers\":[{\"id\":\"4555\"}],\"tags\":[\"hv_created\"],\"tooltips\":[[\"Date\",\"@{Date}\"],[\"value\",\"@{value}\"]]},\"id\":\"4518\",\"type\":\"HoverTool\"},{\"attributes\":{\"axis\":{\"id\":\"4532\"},\"dimension\":1,\"grid_line_color\":null,\"ticker\":null},\"id\":\"4535\",\"type\":\"Grid\"},{\"attributes\":{\"axis\":{\"id\":\"4483\"},\"grid_line_color\":null,\"ticker\":null},\"id\":\"4486\",\"type\":\"Grid\"},{\"attributes\":{\"days\":[1,4,7,10,13,16,19,22,25,28]},\"id\":\"5143\",\"type\":\"DaysTicker\"},{\"attributes\":{\"axis\":{\"id\":\"4528\"},\"grid_line_color\":null,\"ticker\":null},\"id\":\"4531\",\"type\":\"Grid\"},{\"attributes\":{\"data_source\":{\"id\":\"4729\"},\"glyph\":{\"id\":\"4732\"},\"hover_glyph\":null,\"muted_glyph\":{\"id\":\"4734\"},\"nonselection_glyph\":{\"id\":\"4733\"},\"selection_glyph\":null,\"view\":{\"id\":\"4736\"}},\"id\":\"4735\",\"type\":\"GlyphRenderer\"},{\"attributes\":{\"text\":\"Variable: SPY Close\",\"text_color\":{\"value\":\"black\"},\"text_font_size\":{\"value\":\"12pt\"}},\"id\":\"4565\",\"type\":\"Title\"},{\"attributes\":{},\"id\":\"4460\",\"type\":\"Selection\"},{\"attributes\":{\"below\":[{\"id\":\"4618\"}],\"center\":[{\"id\":\"4621\"},{\"id\":\"4625\"}],\"left\":[{\"id\":\"4622\"}],\"margin\":null,\"min_border_bottom\":10,\"min_border_left\":10,\"min_border_right\":10,\"min_border_top\":10,\"plot_height\":300,\"plot_width\":450,\"renderers\":[{\"id\":\"4645\"}],\"sizing_mode\":\"fixed\",\"title\":{\"id\":\"4610\"},\"toolbar\":{\"id\":\"4632\"},\"toolbar_location\":null,\"x_range\":{\"id\":\"4606\"},\"x_scale\":{\"id\":\"4614\"},\"y_range\":{\"id\":\"4607\"},\"y_scale\":{\"id\":\"4616\"}},\"id\":\"4609\",\"subtype\":\"Figure\",\"type\":\"Plot\"},{\"attributes\":{\"line_color\":\"midnightblue\",\"line_width\":2,\"x\":{\"field\":\"Date\"},\"y\":{\"field\":\"value\"}},\"id\":\"4462\",\"type\":\"Line\"},{\"attributes\":{},\"id\":\"4488\",\"type\":\"BasicTicker\"},{\"attributes\":{\"line_alpha\":0.1,\"line_color\":\"midnightblue\",\"line_width\":2,\"x\":{\"field\":\"Date\"},\"y\":{\"field\":\"value\"}},\"id\":\"4598\",\"type\":\"Line\"},{\"attributes\":{},\"id\":\"4716\",\"type\":\"SaveTool\"},{\"attributes\":{},\"id\":\"4468\",\"type\":\"DatetimeTickFormatter\"},{\"attributes\":{},\"id\":\"4605\",\"type\":\"BasicTickFormatter\"},{\"attributes\":{\"axis_label\":\"\",\"bounds\":\"auto\",\"formatter\":{\"id\":\"4515\"},\"major_label_orientation\":\"horizontal\",\"ticker\":{\"id\":\"4488\"}},\"id\":\"4487\",\"type\":\"LinearAxis\"},{\"attributes\":{\"days\":[1,8,15,22]},\"id\":\"4934\",\"type\":\"DaysTicker\"},{\"attributes\":{\"months\":[0,4,8]},\"id\":\"5043\",\"type\":\"MonthsTicker\"},{\"attributes\":{\"data_source\":{\"id\":\"4504\"},\"glyph\":{\"id\":\"4507\"},\"hover_glyph\":null,\"muted_glyph\":{\"id\":\"4509\"},\"nonselection_glyph\":{\"id\":\"4508\"},\"selection_glyph\":null,\"view\":{\"id\":\"4511\"}},\"id\":\"4510\",\"type\":\"GlyphRenderer\"},{\"attributes\":{\"days\":[1,8,15,22]},\"id\":\"5102\",\"type\":\"DaysTicker\"},{\"attributes\":{},\"id\":\"4717\",\"type\":\"PanTool\"},{\"attributes\":{\"tags\":[[[\"value\",\"value\",null]]]},\"id\":\"4427\",\"type\":\"Range1d\"},{\"attributes\":{\"axis_label\":\"\",\"bounds\":\"auto\",\"formatter\":{\"id\":\"4560\"},\"major_label_orientation\":\"horizontal\",\"ticker\":{\"id\":\"4533\"}},\"id\":\"4532\",\"type\":\"LinearAxis\"},{\"attributes\":{},\"id\":\"4720\",\"type\":\"ResetTool\"},{\"attributes\":{\"data_source\":{\"id\":\"4549\"},\"glyph\":{\"id\":\"4552\"},\"hover_glyph\":null,\"muted_glyph\":{\"id\":\"4554\"},\"nonselection_glyph\":{\"id\":\"4553\"},\"selection_glyph\":null,\"view\":{\"id\":\"4556\"}},\"id\":\"4555\",\"type\":\"GlyphRenderer\"},{\"attributes\":{},\"id\":\"4718\",\"type\":\"WheelZoomTool\"},{\"attributes\":{},\"id\":\"4841\",\"type\":\"LinearScale\"},{\"attributes\":{\"line_color\":\"midnightblue\",\"line_width\":2,\"x\":{\"field\":\"Date\"},\"y\":{\"field\":\"value\"}},\"id\":\"4507\",\"type\":\"Line\"},{\"attributes\":{\"tags\":[[[\"Date\",\"Date\",null]]]},\"id\":\"4786\",\"type\":\"Range1d\"},{\"attributes\":{\"callback\":null,\"renderers\":[{\"id\":\"4465\"}],\"tags\":[\"hv_created\"],\"tooltips\":[[\"Date\",\"@{Date}\"],[\"value\",\"@{value}\"]]},\"id\":\"4428\",\"type\":\"HoverTool\"},{\"attributes\":{\"below\":[{\"id\":\"4573\"}],\"center\":[{\"id\":\"4576\"},{\"id\":\"4580\"}],\"left\":[{\"id\":\"4577\"}],\"margin\":null,\"min_border_bottom\":10,\"min_border_left\":10,\"min_border_right\":10,\"min_border_top\":10,\"plot_height\":300,\"plot_width\":450,\"renderers\":[{\"id\":\"4600\"}],\"sizing_mode\":\"fixed\",\"title\":{\"id\":\"4565\"},\"toolbar\":{\"id\":\"4587\"},\"toolbar_location\":null,\"x_range\":{\"id\":\"4561\"},\"x_scale\":{\"id\":\"4569\"},\"y_range\":{\"id\":\"4562\"},\"y_scale\":{\"id\":\"4571\"}},\"id\":\"4564\",\"subtype\":\"Figure\",\"type\":\"Plot\"},{\"attributes\":{\"line_color\":\"midnightblue\",\"line_width\":2,\"x\":{\"field\":\"Date\"},\"y\":{\"field\":\"value\"}},\"id\":\"4552\",\"type\":\"Line\"},{\"attributes\":{\"overlay\":{\"id\":\"4721\"}},\"id\":\"4719\",\"type\":\"BoxZoomTool\"},{\"attributes\":{\"base\":60,\"mantissas\":[1,2,5,10,15,20,30],\"max_interval\":1800000.0,\"min_interval\":1000.0,\"num_minor_ticks\":0},\"id\":\"4930\",\"type\":\"AdaptiveTicker\"},{\"attributes\":{\"below\":[{\"id\":\"4843\"}],\"center\":[{\"id\":\"4846\"},{\"id\":\"4850\"}],\"left\":[{\"id\":\"4847\"}],\"margin\":null,\"min_border_bottom\":10,\"min_border_left\":10,\"min_border_right\":10,\"min_border_top\":10,\"plot_height\":300,\"plot_width\":450,\"renderers\":[{\"id\":\"4870\"}],\"sizing_mode\":\"fixed\",\"title\":{\"id\":\"4835\"},\"toolbar\":{\"id\":\"4857\"},\"toolbar_location\":null,\"x_range\":{\"id\":\"4831\"},\"x_scale\":{\"id\":\"4839\"},\"y_range\":{\"id\":\"4832\"},\"y_scale\":{\"id\":\"4841\"}},\"id\":\"4834\",\"subtype\":\"Figure\",\"type\":\"Plot\"},{\"attributes\":{\"line_color\":\"midnightblue\",\"line_width\":2,\"x\":{\"field\":\"Date\"},\"y\":{\"field\":\"value\"}},\"id\":\"4642\",\"type\":\"Line\"},{\"attributes\":{\"base\":60,\"mantissas\":[1,2,5,10,15,20,30],\"max_interval\":1800000.0,\"min_interval\":1000.0,\"num_minor_ticks\":0},\"id\":\"5014\",\"type\":\"AdaptiveTicker\"},{\"attributes\":{\"months\":[0,6]},\"id\":\"5044\",\"type\":\"MonthsTicker\"},{\"attributes\":{\"tags\":[[[\"Date\",\"Date\",null]]]},\"id\":\"4561\",\"type\":\"Range1d\"},{\"attributes\":{},\"id\":\"4515\",\"type\":\"BasicTickFormatter\"},{\"attributes\":{\"base\":24,\"mantissas\":[1,2,4,6,8,12],\"max_interval\":43200000.0,\"min_interval\":3600000.0,\"num_minor_ticks\":0},\"id\":\"5141\",\"type\":\"AdaptiveTicker\"},{\"attributes\":{\"line_alpha\":0.2,\"line_color\":\"midnightblue\",\"line_width\":2,\"x\":{\"field\":\"Date\"},\"y\":{\"field\":\"value\"}},\"id\":\"4599\",\"type\":\"Line\"},{\"attributes\":{\"num_minor_ticks\":5,\"tickers\":[{\"id\":\"4992\"},{\"id\":\"4993\"},{\"id\":\"4994\"},{\"id\":\"4995\"},{\"id\":\"4996\"},{\"id\":\"4997\"},{\"id\":\"4998\"},{\"id\":\"4999\"},{\"id\":\"5000\"},{\"id\":\"5001\"},{\"id\":\"5002\"},{\"id\":\"5003\"}]},\"id\":\"4574\",\"type\":\"DatetimeTicker\"},{\"attributes\":{},\"id\":\"4491\",\"type\":\"SaveTool\"},{\"attributes\":{},\"id\":\"4571\",\"type\":\"LinearScale\"},{\"attributes\":{},\"id\":\"4536\",\"type\":\"SaveTool\"},{\"attributes\":{},\"id\":\"4492\",\"type\":\"PanTool\"},{\"attributes\":{\"below\":[{\"id\":\"4438\"}],\"center\":[{\"id\":\"4441\"},{\"id\":\"4445\"}],\"left\":[{\"id\":\"4442\"}],\"margin\":null,\"min_border_bottom\":10,\"min_border_left\":10,\"min_border_right\":10,\"min_border_top\":10,\"plot_height\":300,\"plot_width\":450,\"renderers\":[{\"id\":\"4465\"}],\"sizing_mode\":\"fixed\",\"title\":{\"id\":\"4430\"},\"toolbar\":{\"id\":\"4452\"},\"toolbar_location\":null,\"x_range\":{\"id\":\"4426\"},\"x_scale\":{\"id\":\"4434\"},\"y_range\":{\"id\":\"4427\"},\"y_scale\":{\"id\":\"4436\"}},\"id\":\"4429\",\"subtype\":\"Figure\",\"type\":\"Plot\"},{\"attributes\":{},\"id\":\"4537\",\"type\":\"PanTool\"},{\"attributes\":{},\"id\":\"4513\",\"type\":\"DatetimeTickFormatter\"},{\"attributes\":{},\"id\":\"4603\",\"type\":\"DatetimeTickFormatter\"},{\"attributes\":{},\"id\":\"4493\",\"type\":\"WheelZoomTool\"},{\"attributes\":{\"data_source\":{\"id\":\"4594\"},\"glyph\":{\"id\":\"4597\"},\"hover_glyph\":null,\"muted_glyph\":{\"id\":\"4599\"},\"nonselection_glyph\":{\"id\":\"4598\"},\"selection_glyph\":null,\"view\":{\"id\":\"4601\"}},\"id\":\"4600\",\"type\":\"GlyphRenderer\"},{\"attributes\":{\"mantissas\":[1,2,5],\"max_interval\":500.0,\"num_minor_ticks\":0},\"id\":\"5013\",\"type\":\"AdaptiveTicker\"},{\"attributes\":{},\"id\":\"4538\",\"type\":\"WheelZoomTool\"},{\"attributes\":{},\"id\":\"4595\",\"type\":\"Selection\"},{\"attributes\":{\"overlay\":{\"id\":\"4496\"}},\"id\":\"4494\",\"type\":\"BoxZoomTool\"},{\"attributes\":{},\"id\":\"4569\",\"type\":\"LinearScale\"},{\"attributes\":{\"base\":24,\"mantissas\":[1,2,4,6,8,12],\"max_interval\":43200000.0,\"min_interval\":3600000.0,\"num_minor_ticks\":0},\"id\":\"4931\",\"type\":\"AdaptiveTicker\"},{\"attributes\":{\"overlay\":{\"id\":\"4541\"}},\"id\":\"4539\",\"type\":\"BoxZoomTool\"},{\"attributes\":{},\"id\":\"4839\",\"type\":\"LinearScale\"},{\"attributes\":{\"tags\":[[[\"Date\",\"Date\",null]]]},\"id\":\"4471\",\"type\":\"Range1d\"},{\"attributes\":{\"line_color\":\"midnightblue\",\"line_width\":2,\"x\":{\"field\":\"Date\"},\"y\":{\"field\":\"value\"}},\"id\":\"4867\",\"type\":\"Line\"},{\"attributes\":{\"line_color\":\"midnightblue\",\"line_width\":2,\"x\":{\"field\":\"Date\"},\"y\":{\"field\":\"value\"}},\"id\":\"4597\",\"type\":\"Line\"},{\"attributes\":{\"line_alpha\":0.1,\"line_color\":\"midnightblue\",\"line_width\":2,\"x\":{\"field\":\"Date\"},\"y\":{\"field\":\"value\"}},\"id\":\"4463\",\"type\":\"Line\"},{\"attributes\":{\"axis_label\":\"Date\",\"bounds\":\"auto\",\"formatter\":{\"id\":\"4873\"},\"major_label_orientation\":\"horizontal\",\"ticker\":{\"id\":\"4844\"}},\"id\":\"4843\",\"type\":\"DatetimeAxis\"},{\"attributes\":{\"source\":{\"id\":\"4594\"}},\"id\":\"4601\",\"type\":\"CDSView\"},{\"attributes\":{\"callback\":null,\"renderers\":[{\"id\":\"4645\"}],\"tags\":[\"hv_created\"],\"tooltips\":[[\"Date\",\"@{Date}\"],[\"value\",\"@{value}\"]]},\"id\":\"4608\",\"type\":\"HoverTool\"},{\"attributes\":{},\"id\":\"4495\",\"type\":\"ResetTool\"},{\"attributes\":{\"base\":24,\"mantissas\":[1,2,4,6,8,12],\"max_interval\":43200000.0,\"min_interval\":3600000.0,\"num_minor_ticks\":0},\"id\":\"4994\",\"type\":\"AdaptiveTicker\"},{\"attributes\":{\"source\":{\"id\":\"4819\"}},\"id\":\"4826\",\"type\":\"CDSView\"},{\"attributes\":{\"children\":[{\"id\":\"4425\"},{\"id\":\"5155\"},{\"id\":\"7136\"}],\"margin\":[0,0,0,0],\"name\":\"Row04997\",\"tags\":[\"embedded\"]},\"id\":\"4424\",\"type\":\"Row\"},{\"attributes\":{\"days\":[1,15]},\"id\":\"4935\",\"type\":\"DaysTicker\"},{\"attributes\":{\"days\":[1,2,3,4,5,6,7,8,9,10,11,12,13,14,15,16,17,18,19,20,21,22,23,24,25,26,27,28,29,30,31]},\"id\":\"5058\",\"type\":\"DaysTicker\"},{\"attributes\":{\"days\":[1,15]},\"id\":\"4998\",\"type\":\"DaysTicker\"},{\"attributes\":{\"bottom_units\":\"screen\",\"fill_alpha\":0.5,\"fill_color\":\"lightgrey\",\"left_units\":\"screen\",\"level\":\"overlay\",\"line_alpha\":1.0,\"line_color\":\"black\",\"line_dash\":[4,4],\"line_width\":2,\"right_units\":\"screen\",\"top_units\":\"screen\"},\"id\":\"4721\",\"type\":\"BoxAnnotation\"},{\"attributes\":{},\"id\":\"4990\",\"type\":\"UnionRenderers\"},{\"attributes\":{},\"id\":\"4761\",\"type\":\"SaveTool\"},{\"attributes\":{\"data_source\":{\"id\":\"4819\"},\"glyph\":{\"id\":\"4822\"},\"hover_glyph\":null,\"muted_glyph\":{\"id\":\"4824\"},\"nonselection_glyph\":{\"id\":\"4823\"},\"selection_glyph\":null,\"view\":{\"id\":\"4826\"}},\"id\":\"4825\",\"type\":\"GlyphRenderer\"},{\"attributes\":{\"data\":{\"Date\":{\"__ndarray__\":\"\",\"dtype\":\"float64\",\"order\":\"little\",\"shape\":[0]},\"value\":{\"__ndarray__\":\"\",\"dtype\":\"float64\",\"order\":\"little\",\"shape\":[0]}},\"selected\":{\"id\":\"4685\"},\"selection_policy\":{\"id\":\"5032\"}},\"id\":\"4684\",\"type\":\"ColumnDataSource\"},{\"attributes\":{\"data\":{\"Date\":{\"__ndarray__\":\"\",\"dtype\":\"float64\",\"order\":\"little\",\"shape\":[0]},\"value\":{\"__ndarray__\":\"\",\"dtype\":\"float64\",\"order\":\"little\",\"shape\":[0]}},\"selected\":{\"id\":\"4820\"},\"selection_policy\":{\"id\":\"5095\"}},\"id\":\"4819\",\"type\":\"ColumnDataSource\"},{\"attributes\":{},\"id\":\"4762\",\"type\":\"PanTool\"},{\"attributes\":{\"axis\":{\"id\":\"4843\"},\"grid_line_color\":null,\"ticker\":null},\"id\":\"4846\",\"type\":\"Grid\"},{\"attributes\":{\"active_drag\":\"auto\",\"active_inspect\":\"auto\",\"active_multi\":null,\"active_scroll\":\"auto\",\"active_tap\":\"auto\",\"tools\":[{\"id\":\"4698\"},{\"id\":\"4716\"},{\"id\":\"4717\"},{\"id\":\"4718\"},{\"id\":\"4719\"},{\"id\":\"4720\"}]},\"id\":\"4722\",\"type\":\"Toolbar\"},{\"attributes\":{\"axis\":{\"id\":\"4888\"},\"grid_line_color\":null,\"ticker\":null},\"id\":\"4891\",\"type\":\"Grid\"},{\"attributes\":{},\"id\":\"4765\",\"type\":\"ResetTool\"},{\"attributes\":{\"data\":{\"Date\":{\"__ndarray__\":\"\",\"dtype\":\"float64\",\"order\":\"little\",\"shape\":[0]},\"value\":{\"__ndarray__\":\"\",\"dtype\":\"float64\",\"order\":\"little\",\"shape\":[0]}},\"selected\":{\"id\":\"4775\"},\"selection_policy\":{\"id\":\"5074\"}},\"id\":\"4774\",\"type\":\"ColumnDataSource\"},{\"attributes\":{},\"id\":\"4763\",\"type\":\"WheelZoomTool\"},{\"attributes\":{},\"id\":\"4806\",\"type\":\"SaveTool\"},{\"attributes\":{\"axis_label\":\"\",\"bounds\":\"auto\",\"formatter\":{\"id\":\"4875\"},\"major_label_orientation\":\"horizontal\",\"ticker\":{\"id\":\"4848\"}},\"id\":\"4847\",\"type\":\"LinearAxis\"},{\"attributes\":{\"days\":[1,2,3,4,5,6,7,8,9,10,11,12,13,14,15,16,17,18,19,20,21,22,23,24,25,26,27,28,29,30,31]},\"id\":\"5079\",\"type\":\"DaysTicker\"},{\"attributes\":{},\"id\":\"4807\",\"type\":\"PanTool\"},{\"attributes\":{\"margin\":[5,5,5,5],\"name\":\"HSpacer05001\",\"sizing_mode\":\"stretch_width\"},\"id\":\"4425\",\"type\":\"Spacer\"},{\"attributes\":{\"overlay\":{\"id\":\"4766\"}},\"id\":\"4764\",\"type\":\"BoxZoomTool\"},{\"attributes\":{},\"id\":\"4810\",\"type\":\"ResetTool\"},{\"attributes\":{\"months\":[0,4,8]},\"id\":\"5064\",\"type\":\"MonthsTicker\"},{\"attributes\":{},\"id\":\"4808\",\"type\":\"WheelZoomTool\"},{\"attributes\":{\"days\":[1,2,3,4,5,6,7,8,9,10,11,12,13,14,15,16,17,18,19,20,21,22,23,24,25,26,27,28,29,30,31]},\"id\":\"4995\",\"type\":\"DaysTicker\"},{\"attributes\":{\"active_drag\":\"auto\",\"active_inspect\":\"auto\",\"active_multi\":null,\"active_scroll\":\"auto\",\"active_tap\":\"auto\",\"tools\":[{\"id\":\"4473\"},{\"id\":\"4491\"},{\"id\":\"4492\"},{\"id\":\"4493\"},{\"id\":\"4494\"},{\"id\":\"4495\"}]},\"id\":\"4497\",\"type\":\"Toolbar\"},{\"attributes\":{\"data\":{\"Date\":{\"__ndarray__\":\"\",\"dtype\":\"float64\",\"order\":\"little\",\"shape\":[0]},\"value\":{\"__ndarray__\":\"\",\"dtype\":\"float64\",\"order\":\"little\",\"shape\":[0]}},\"selected\":{\"id\":\"4640\"},\"selection_policy\":{\"id\":\"5011\"}},\"id\":\"4639\",\"type\":\"ColumnDataSource\"},{\"attributes\":{\"line_alpha\":0.2,\"line_color\":\"midnightblue\",\"line_width\":2,\"x\":{\"field\":\"Date\"},\"y\":{\"field\":\"value\"}},\"id\":\"4824\",\"type\":\"Line\"},{\"attributes\":{\"overlay\":{\"id\":\"4811\"}},\"id\":\"4809\",\"type\":\"BoxZoomTool\"},{\"attributes\":{\"days\":[1,4,7,10,13,16,19,22,25,28]},\"id\":\"4996\",\"type\":\"DaysTicker\"},{\"attributes\":{\"bottom_units\":\"screen\",\"fill_alpha\":0.5,\"fill_color\":\"lightgrey\",\"left_units\":\"screen\",\"level\":\"overlay\",\"line_alpha\":1.0,\"line_color\":\"black\",\"line_dash\":[4,4],\"line_width\":2,\"right_units\":\"screen\",\"top_units\":\"screen\"},\"id\":\"4496\",\"type\":\"BoxAnnotation\"},{\"attributes\":{},\"id\":\"4948\",\"type\":\"UnionRenderers\"},{\"attributes\":{\"data_source\":{\"id\":\"4864\"},\"glyph\":{\"id\":\"4867\"},\"hover_glyph\":null,\"muted_glyph\":{\"id\":\"4869\"},\"nonselection_glyph\":{\"id\":\"4868\"},\"selection_glyph\":null,\"view\":{\"id\":\"4871\"}},\"id\":\"4870\",\"type\":\"GlyphRenderer\"},{\"attributes\":{\"num_minor_ticks\":5,\"tickers\":[{\"id\":\"5139\"},{\"id\":\"5140\"},{\"id\":\"5141\"},{\"id\":\"5142\"},{\"id\":\"5143\"},{\"id\":\"5144\"},{\"id\":\"5145\"},{\"id\":\"5146\"},{\"id\":\"5147\"},{\"id\":\"5148\"},{\"id\":\"5149\"},{\"id\":\"5150\"}]},\"id\":\"4889\",\"type\":\"DatetimeTicker\"},{\"attributes\":{},\"id\":\"5150\",\"type\":\"YearsTicker\"},{\"attributes\":{\"toolbars\":[{\"id\":\"4452\"},{\"id\":\"4497\"},{\"id\":\"4542\"},{\"id\":\"4587\"},{\"id\":\"4632\"},{\"id\":\"4677\"},{\"id\":\"4722\"},{\"id\":\"4767\"},{\"id\":\"4812\"},{\"id\":\"4857\"},{\"id\":\"4902\"}],\"tools\":[{\"id\":\"4428\"},{\"id\":\"4446\"},{\"id\":\"4447\"},{\"id\":\"4448\"},{\"id\":\"4449\"},{\"id\":\"4450\"},{\"id\":\"4473\"},{\"id\":\"4491\"},{\"id\":\"4492\"},{\"id\":\"4493\"},{\"id\":\"4494\"},{\"id\":\"4495\"},{\"id\":\"4518\"},{\"id\":\"4536\"},{\"id\":\"4537\"},{\"id\":\"4538\"},{\"id\":\"4539\"},{\"id\":\"4540\"},{\"id\":\"4563\"},{\"id\":\"4581\"},{\"id\":\"4582\"},{\"id\":\"4583\"},{\"id\":\"4584\"},{\"id\":\"4585\"},{\"id\":\"4608\"},{\"id\":\"4626\"},{\"id\":\"4627\"},{\"id\":\"4628\"},{\"id\":\"4629\"},{\"id\":\"4630\"},{\"id\":\"4653\"},{\"id\":\"4671\"},{\"id\":\"4672\"},{\"id\":\"4673\"},{\"id\":\"4674\"},{\"id\":\"4675\"},{\"id\":\"4698\"},{\"id\":\"4716\"},{\"id\":\"4717\"},{\"id\":\"4718\"},{\"id\":\"4719\"},{\"id\":\"4720\"},{\"id\":\"4743\"},{\"id\":\"4761\"},{\"id\":\"4762\"},{\"id\":\"4763\"},{\"id\":\"4764\"},{\"id\":\"4765\"},{\"id\":\"4788\"},{\"id\":\"4806\"},{\"id\":\"4807\"},{\"id\":\"4808\"},{\"id\":\"4809\"},{\"id\":\"4810\"},{\"id\":\"4833\"},{\"id\":\"4851\"},{\"id\":\"4852\"},{\"id\":\"4853\"},{\"id\":\"4854\"},{\"id\":\"4855\"},{\"id\":\"4878\"},{\"id\":\"4896\"},{\"id\":\"4897\"},{\"id\":\"4898\"},{\"id\":\"4899\"},{\"id\":\"4900\"}]},\"id\":\"5153\",\"type\":\"ProxyToolbar\"},{\"attributes\":{},\"id\":\"4470\",\"type\":\"BasicTickFormatter\"},{\"attributes\":{\"line_alpha\":0.2,\"line_color\":\"midnightblue\",\"line_width\":2,\"x\":{\"field\":\"Date\"},\"y\":{\"field\":\"value\"}},\"id\":\"4869\",\"type\":\"Line\"},{\"attributes\":{\"months\":[0,1,2,3,4,5,6,7,8,9,10,11]},\"id\":\"5062\",\"type\":\"MonthsTicker\"},{\"attributes\":{\"days\":[1,8,15,22]},\"id\":\"4997\",\"type\":\"DaysTicker\"},{\"attributes\":{\"months\":[0,1,2,3,4,5,6,7,8,9,10,11]},\"id\":\"4936\",\"type\":\"MonthsTicker\"},{\"attributes\":{\"source\":{\"id\":\"4864\"}},\"id\":\"4871\",\"type\":\"CDSView\"},{\"attributes\":{},\"id\":\"4893\",\"type\":\"BasicTicker\"},{\"attributes\":{\"days\":[1,4,7,10,13,16,19,22,25,28]},\"id\":\"5059\",\"type\":\"DaysTicker\"},{\"attributes\":{},\"id\":\"4873\",\"type\":\"DatetimeTickFormatter\"},{\"attributes\":{\"axis_label\":\"\",\"bounds\":\"auto\",\"formatter\":{\"id\":\"4920\"},\"major_label_orientation\":\"horizontal\",\"ticker\":{\"id\":\"4893\"}},\"id\":\"4892\",\"type\":\"LinearAxis\"},{\"attributes\":{\"days\":[1,15]},\"id\":\"5061\",\"type\":\"DaysTicker\"},{\"attributes\":{\"active_drag\":\"auto\",\"active_inspect\":\"auto\",\"active_multi\":null,\"active_scroll\":\"auto\",\"active_tap\":\"auto\",\"tools\":[{\"id\":\"4788\"},{\"id\":\"4806\"},{\"id\":\"4807\"},{\"id\":\"4808\"},{\"id\":\"4809\"},{\"id\":\"4810\"}]},\"id\":\"4812\",\"type\":\"Toolbar\"},{\"attributes\":{\"bottom_units\":\"screen\",\"fill_alpha\":0.5,\"fill_color\":\"lightgrey\",\"left_units\":\"screen\",\"level\":\"overlay\",\"line_alpha\":1.0,\"line_color\":\"black\",\"line_dash\":[4,4],\"line_width\":2,\"right_units\":\"screen\",\"top_units\":\"screen\"},\"id\":\"4766\",\"type\":\"BoxAnnotation\"},{\"attributes\":{\"months\":[0,1,2,3,4,5,6,7,8,9,10,11]},\"id\":\"4999\",\"type\":\"MonthsTicker\"},{\"attributes\":{},\"id\":\"4886\",\"type\":\"LinearScale\"},{\"attributes\":{\"tags\":[[[\"value\",\"value\",null]]]},\"id\":\"4787\",\"type\":\"Range1d\"},{\"attributes\":{\"base\":60,\"mantissas\":[1,2,5,10,15,20,30],\"max_interval\":1800000.0,\"min_interval\":1000.0,\"num_minor_ticks\":0},\"id\":\"5056\",\"type\":\"AdaptiveTicker\"},{\"attributes\":{\"num_minor_ticks\":5,\"tickers\":[{\"id\":\"5118\"},{\"id\":\"5119\"},{\"id\":\"5120\"},{\"id\":\"5121\"},{\"id\":\"5122\"},{\"id\":\"5123\"},{\"id\":\"5124\"},{\"id\":\"5125\"},{\"id\":\"5126\"},{\"id\":\"5127\"},{\"id\":\"5128\"},{\"id\":\"5129\"}]},\"id\":\"4844\",\"type\":\"DatetimeTicker\"},{\"attributes\":{\"days\":[1,2,3,4,5,6,7,8,9,10,11,12,13,14,15,16,17,18,19,20,21,22,23,24,25,26,27,28,29,30,31]},\"id\":\"5016\",\"type\":\"DaysTicker\"},{\"attributes\":{\"bottom_units\":\"screen\",\"fill_alpha\":0.5,\"fill_color\":\"lightgrey\",\"left_units\":\"screen\",\"level\":\"overlay\",\"line_alpha\":1.0,\"line_color\":\"black\",\"line_dash\":[4,4],\"line_width\":2,\"right_units\":\"screen\",\"top_units\":\"screen\"},\"id\":\"4811\",\"type\":\"BoxAnnotation\"},{\"attributes\":{\"line_alpha\":0.1,\"line_color\":\"midnightblue\",\"line_width\":2,\"x\":{\"field\":\"Date\"},\"y\":{\"field\":\"value\"}},\"id\":\"4868\",\"type\":\"Line\"},{\"attributes\":{\"months\":[0,6]},\"id\":\"5107\",\"type\":\"MonthsTicker\"},{\"attributes\":{\"text\":\"Variable: P/ATM Spread\",\"text_color\":{\"value\":\"black\"},\"text_font_size\":{\"value\":\"12pt\"}},\"id\":\"4790\",\"type\":\"Title\"},{\"attributes\":{\"months\":[0,2,4,6,8,10]},\"id\":\"5000\",\"type\":\"MonthsTicker\"},{\"attributes\":{},\"id\":\"4820\",\"type\":\"Selection\"},{\"attributes\":{},\"id\":\"5108\",\"type\":\"YearsTicker\"},{\"attributes\":{\"line_alpha\":0.1,\"line_color\":\"midnightblue\",\"line_width\":2,\"x\":{\"field\":\"Date\"},\"y\":{\"field\":\"value\"}},\"id\":\"4823\",\"type\":\"Line\"},{\"attributes\":{\"active_drag\":\"auto\",\"active_inspect\":\"auto\",\"active_multi\":null,\"active_scroll\":\"auto\",\"active_tap\":\"auto\",\"tools\":[{\"id\":\"4833\"},{\"id\":\"4851\"},{\"id\":\"4852\"},{\"id\":\"4853\"},{\"id\":\"4854\"},{\"id\":\"4855\"}]},\"id\":\"4857\",\"type\":\"Toolbar\"},{\"attributes\":{},\"id\":\"4830\",\"type\":\"BasicTickFormatter\"},{\"attributes\":{\"months\":[0,4,8]},\"id\":\"5106\",\"type\":\"MonthsTicker\"},{\"attributes\":{\"data\":{\"Date\":{\"__ndarray__\":\"\",\"dtype\":\"float64\",\"order\":\"little\",\"shape\":[0]},\"value\":{\"__ndarray__\":\"\",\"dtype\":\"float64\",\"order\":\"little\",\"shape\":[0]}},\"selected\":{\"id\":\"4550\"},\"selection_policy\":{\"id\":\"4969\"}},\"id\":\"4549\",\"type\":\"ColumnDataSource\"},{\"attributes\":{\"months\":[0,4,8]},\"id\":\"5001\",\"type\":\"MonthsTicker\"},{\"attributes\":{\"months\":[0,6]},\"id\":\"5065\",\"type\":\"MonthsTicker\"},{\"attributes\":{\"callback\":null,\"renderers\":[{\"id\":\"4510\"}],\"tags\":[\"hv_created\"],\"tooltips\":[[\"Date\",\"@{Date}\"],[\"value\",\"@{value}\"]]},\"id\":\"4473\",\"type\":\"HoverTool\"},{\"attributes\":{\"axis_label\":\"Date\",\"bounds\":\"auto\",\"formatter\":{\"id\":\"4918\"},\"major_label_orientation\":\"horizontal\",\"ticker\":{\"id\":\"4889\"}},\"id\":\"4888\",\"type\":\"DatetimeAxis\"},{\"attributes\":{\"below\":[{\"id\":\"4798\"}],\"center\":[{\"id\":\"4801\"},{\"id\":\"4805\"}],\"left\":[{\"id\":\"4802\"}],\"margin\":null,\"min_border_bottom\":10,\"min_border_left\":10,\"min_border_right\":10,\"min_border_top\":10,\"plot_height\":300,\"plot_width\":450,\"renderers\":[{\"id\":\"4825\"}],\"sizing_mode\":\"fixed\",\"title\":{\"id\":\"4790\"},\"toolbar\":{\"id\":\"4812\"},\"toolbar_location\":null,\"x_range\":{\"id\":\"4786\"},\"x_scale\":{\"id\":\"4794\"},\"y_range\":{\"id\":\"4787\"},\"y_scale\":{\"id\":\"4796\"}},\"id\":\"4789\",\"subtype\":\"Figure\",\"type\":\"Plot\"},{\"attributes\":{\"line_alpha\":0.1,\"line_color\":\"midnightblue\",\"line_width\":2,\"x\":{\"field\":\"Date\"},\"y\":{\"field\":\"value\"}},\"id\":\"4913\",\"type\":\"Line\"},{\"attributes\":{\"base\":60,\"mantissas\":[1,2,5,10,15,20,30],\"max_interval\":1800000.0,\"min_interval\":1000.0,\"num_minor_ticks\":0},\"id\":\"4993\",\"type\":\"AdaptiveTicker\"},{\"attributes\":{\"callback\":null,\"renderers\":[{\"id\":\"4600\"}],\"tags\":[\"hv_created\"],\"tooltips\":[[\"Date\",\"@{Date}\"],[\"value\",\"@{value}\"]]},\"id\":\"4563\",\"type\":\"HoverTool\"},{\"attributes\":{\"line_color\":\"midnightblue\",\"line_width\":2,\"x\":{\"field\":\"Date\"},\"y\":{\"field\":\"value\"}},\"id\":\"4822\",\"type\":\"Line\"},{\"attributes\":{\"months\":[0,6]},\"id\":\"5002\",\"type\":\"MonthsTicker\"},{\"attributes\":{\"data\":{\"Date\":{\"__ndarray__\":\"\",\"dtype\":\"float64\",\"order\":\"little\",\"shape\":[0]},\"value\":{\"__ndarray__\":\"\",\"dtype\":\"float64\",\"order\":\"little\",\"shape\":[0]}},\"selected\":{\"id\":\"4460\"},\"selection_policy\":{\"id\":\"4927\"}},\"id\":\"4459\",\"type\":\"ColumnDataSource\"},{\"attributes\":{\"tags\":[[[\"Date\",\"Date\",null]]]},\"id\":\"4741\",\"type\":\"Range1d\"},{\"attributes\":{},\"id\":\"4796\",\"type\":\"LinearScale\"},{\"attributes\":{},\"id\":\"5003\",\"type\":\"YearsTicker\"},{\"attributes\":{\"days\":[1,4,7,10,13,16,19,22,25,28]},\"id\":\"5080\",\"type\":\"DaysTicker\"},{\"attributes\":{\"toolbar\":{\"id\":\"5153\"},\"toolbar_location\":\"above\"},\"id\":\"5154\",\"type\":\"ToolbarBox\"},{\"attributes\":{},\"id\":\"4910\",\"type\":\"Selection\"},{\"attributes\":{\"days\":[1,8,15,22]},\"id\":\"5060\",\"type\":\"DaysTicker\"},{\"attributes\":{\"axis_label\":\"Date\",\"bounds\":\"auto\",\"formatter\":{\"id\":\"4828\"},\"major_label_orientation\":\"horizontal\",\"ticker\":{\"id\":\"4799\"}},\"id\":\"4798\",\"type\":\"DatetimeAxis\"},{\"attributes\":{\"months\":[0,2,4,6,8,10]},\"id\":\"5063\",\"type\":\"MonthsTicker\"},{\"attributes\":{},\"id\":\"4794\",\"type\":\"LinearScale\"},{\"attributes\":{\"callback\":null,\"renderers\":[{\"id\":\"4825\"}],\"tags\":[\"hv_created\"],\"tooltips\":[[\"Date\",\"@{Date}\"],[\"value\",\"@{value}\"]]},\"id\":\"4788\",\"type\":\"HoverTool\"},{\"attributes\":{\"months\":[0,2,4,6,8,10]},\"id\":\"4937\",\"type\":\"MonthsTicker\"},{\"attributes\":{\"days\":[1,15]},\"id\":\"5082\",\"type\":\"DaysTicker\"},{\"attributes\":{\"num_minor_ticks\":5,\"tickers\":[{\"id\":\"5097\"},{\"id\":\"5098\"},{\"id\":\"5099\"},{\"id\":\"5100\"},{\"id\":\"5101\"},{\"id\":\"5102\"},{\"id\":\"5103\"},{\"id\":\"5104\"},{\"id\":\"5105\"},{\"id\":\"5106\"},{\"id\":\"5107\"},{\"id\":\"5108\"}]},\"id\":\"4799\",\"type\":\"DatetimeTicker\"},{\"attributes\":{\"text\":\"Variable: ATM/C Spread\",\"text_color\":{\"value\":\"black\"},\"text_font_size\":{\"value\":\"12pt\"}},\"id\":\"4880\",\"type\":\"Title\"},{\"attributes\":{\"children\":[{\"id\":\"5154\"},{\"id\":\"5152\"}]},\"id\":\"5155\",\"type\":\"Column\"},{\"attributes\":{\"mantissas\":[1,2,5],\"max_interval\":500.0,\"num_minor_ticks\":0},\"id\":\"4992\",\"type\":\"AdaptiveTicker\"},{\"attributes\":{\"base\":24,\"mantissas\":[1,2,4,6,8,12],\"max_interval\":43200000.0,\"min_interval\":3600000.0,\"num_minor_ticks\":0},\"id\":\"4973\",\"type\":\"AdaptiveTicker\"},{\"attributes\":{\"axis\":{\"id\":\"4798\"},\"grid_line_color\":null,\"ticker\":null},\"id\":\"4801\",\"type\":\"Grid\"},{\"attributes\":{},\"id\":\"4558\",\"type\":\"DatetimeTickFormatter\"},{\"attributes\":{\"days\":[1,8,15,22]},\"id\":\"5081\",\"type\":\"DaysTicker\"},{\"attributes\":{\"months\":[0,1,2,3,4,5,6,7,8,9,10,11]},\"id\":\"5083\",\"type\":\"MonthsTicker\"},{\"attributes\":{},\"id\":\"4884\",\"type\":\"LinearScale\"},{\"attributes\":{\"line_color\":\"midnightblue\",\"line_width\":2,\"x\":{\"field\":\"Date\"},\"y\":{\"field\":\"value\"}},\"id\":\"4912\",\"type\":\"Line\"},{\"attributes\":{},\"id\":\"4803\",\"type\":\"BasicTicker\"},{\"attributes\":{\"months\":[0,2,4,6,8,10]},\"id\":\"5084\",\"type\":\"MonthsTicker\"},{\"attributes\":{\"axis_label\":\"\",\"bounds\":\"auto\",\"formatter\":{\"id\":\"4830\"},\"major_label_orientation\":\"horizontal\",\"ticker\":{\"id\":\"4803\"}},\"id\":\"4802\",\"type\":\"LinearAxis\"},{\"attributes\":{\"tags\":[[[\"Date\",\"Date\",null]]]},\"id\":\"4516\",\"type\":\"Range1d\"},{\"attributes\":{\"axis\":{\"id\":\"4802\"},\"dimension\":1,\"grid_line_color\":null,\"ticker\":null},\"id\":\"4805\",\"type\":\"Grid\"},{\"attributes\":{\"below\":[{\"id\":\"4888\"}],\"center\":[{\"id\":\"4891\"},{\"id\":\"4895\"}],\"left\":[{\"id\":\"4892\"}],\"margin\":null,\"min_border_bottom\":10,\"min_border_left\":10,\"min_border_right\":10,\"min_border_top\":10,\"plot_height\":300,\"plot_width\":450,\"renderers\":[{\"id\":\"4915\"}],\"sizing_mode\":\"fixed\",\"title\":{\"id\":\"4880\"},\"toolbar\":{\"id\":\"4902\"},\"toolbar_location\":null,\"x_range\":{\"id\":\"4876\"},\"x_scale\":{\"id\":\"4884\"},\"y_range\":{\"id\":\"4877\"},\"y_scale\":{\"id\":\"4886\"}},\"id\":\"4879\",\"subtype\":\"Figure\",\"type\":\"Plot\"},{\"attributes\":{},\"id\":\"4896\",\"type\":\"SaveTool\"},{\"attributes\":{\"base\":24,\"mantissas\":[1,2,4,6,8,12],\"max_interval\":43200000.0,\"min_interval\":3600000.0,\"num_minor_ticks\":0},\"id\":\"5057\",\"type\":\"AdaptiveTicker\"},{\"attributes\":{},\"id\":\"4505\",\"type\":\"Selection\"}],\"root_ids\":[\"4424\"]},\"title\":\"Bokeh Application\",\"version\":\"2.2.3\"}};\n",
       "    var render_items = [{\"docid\":\"4b166455-f6a9-4884-84f3-9b52fd467ca5\",\"root_ids\":[\"4424\"],\"roots\":{\"4424\":\"19622495-4b0c-4494-92ab-f3094280109b\"}}];\n",
       "    root.Bokeh.embed.embed_items_notebook(docs_json, render_items);\n",
       "  }\n",
       "  if (root.Bokeh !== undefined && root.Bokeh.Panel !== undefined) {\n",
       "    embed_document(root);\n",
       "  } else {\n",
       "    var attempts = 0;\n",
       "    var timer = setInterval(function(root) {\n",
       "      if (root.Bokeh !== undefined && root.Bokeh.Panel !== undefined) {\n",
       "        clearInterval(timer);\n",
       "        embed_document(root);\n",
       "      } else if (document.readyState == \"complete\") {\n",
       "        attempts++;\n",
       "        if (attempts > 100) {\n",
       "          clearInterval(timer);\n",
       "          console.log(\"Bokeh: ERROR: Unable to run BokehJS code because BokehJS library is missing\");\n",
       "        }\n",
       "      }\n",
       "    }, 10, root)\n",
       "  }\n",
       "})(window);</script>"
      ],
      "text/plain": [
       ":NdLayout   [Variable]\n",
       "   :Curve   [Date]   (value)"
      ]
     },
     "execution_count": 41,
     "metadata": {
      "application/vnd.holoviews_exec.v0+json": {
       "id": "4424"
      }
     },
     "output_type": "execute_result"
    }
   ],
   "source": [
    "# Adding Subplots for Presentation Purposes\n",
    "all_data2.hvplot(x='Date', y=['SPX 1M 25DP Vol BVOL INDEX','SPX 1M 25DC Vol BVOL INDEX', \n",
    "                              'SPX 1M 100 Vol BVOL INDEX','SPY Close','VIX Close','P/C Ratio',\n",
    "                              'P/C Spread','P/ATM Ratio','P/ATM Spread','ATM/C Ratio','ATM/C Spread'], \n",
    "                width=450, height=300, subplots=True, shared_axes=False, color=\"midnightblue\").cols(2)"
   ]
  },
  {
   "cell_type": "code",
   "execution_count": 42,
   "metadata": {},
   "outputs": [],
   "source": [
    "# Import required Keras modules\n",
    "from tensorflow.keras.models import Sequential\n",
    "from tensorflow.keras.layers import LSTM, Dense, Dropout"
   ]
  },
  {
   "cell_type": "code",
   "execution_count": 43,
   "metadata": {},
   "outputs": [
    {
     "data": {
      "text/plain": [
       "'\\nfrom numpy.random import seed\\n\\nseed(1)\\nfrom tensorflow import random\\n\\nrandom.set_seed(2)\\n'"
      ]
     },
     "execution_count": 43,
     "metadata": {},
     "output_type": "execute_result"
    }
   ],
   "source": [
    "# Set the random seed for reproducibility\n",
    "# Note: This is used for model prototyping, but it is good practice to comment this out and run multiple experiments to evaluate your model.\n",
    "'''\n",
    "from numpy.random import seed\n",
    "\n",
    "seed(1)\n",
    "from tensorflow import random\n",
    "\n",
    "random.set_seed(2)\n",
    "'''"
   ]
  },
  {
   "cell_type": "code",
   "execution_count": 44,
   "metadata": {},
   "outputs": [
    {
     "data": {
      "text/plain": [
       "0.0"
      ]
     },
     "execution_count": 44,
     "metadata": {},
     "output_type": "execute_result"
    }
   ],
   "source": [
    "# Looking for missing values\n",
    "all_data2.isnull().sum().sum()"
   ]
  },
  {
   "cell_type": "code",
   "execution_count": 53,
   "metadata": {},
   "outputs": [],
   "source": [
    "\n",
    "def window_data(all_data2, window, feature_col_number, target_col_number):\n",
    "#def window_data(df, window, all_data2.drop(columns=[\"SPY Close\"]) , all_data2[\"SPY Close\"]):\n",
    "    \"\"\"\n",
    "    This function accepts the column number for the features (X) and the target (y).\n",
    "    It chunks the data up with a rolling window of Xt - window to predict Xt.\n",
    "    It returns two numpy arrays of X and y.\n",
    "    \"\"\"\n",
    "    X = []\n",
    "    y = []\n",
    "    for i in range(len(all_data2) - window - 1):\n",
    "        features = all_data2.iloc[i : (i + window), feature_col_number]\n",
    "        target = all_data2.iloc[(i + window), target_col_number]\n",
    "        X.append(features)\n",
    "        y.append(target)\n",
    "    return np.array(X), np.array(y).reshape(-1, 1)\n",
    "\n",
    "# X feature everything but SPY Closing and - 10 days lookback to train\n",
    "X1 = all_data2.copy()\n",
    "X1 = all_data2.drop(columns=[\"SPY Close\"], axis=1)\n",
    "\n",
    "X1 = X1.shift(5).values.reshape(-1,1)\n",
    "#X1.dropna(axis = 1, how='all')\n",
    "y1 = all_data2['SPY Close'].values.reshape(-1,1)"
   ]
  },
  {
   "cell_type": "code",
   "execution_count": 55,
   "metadata": {},
   "outputs": [
    {
     "name": "stdout",
     "output_type": "stream",
     "text": [
      "X sample values:\n",
      "[] \n",
      "\n",
      "y sample values:\n",
      "[]\n"
     ]
    }
   ],
   "source": [
    "# Creating the features (X) and target (y) data using the window_data() function.\n",
    "window_size = 10\n",
    "\n",
    "feature_column = 0\n",
    "target_column = 0\n",
    "X, y = window_data(all_data2, window_size, feature_column, target_column)\n",
    "print (f\"X sample values:\\n{X[:5]} \\n\")\n",
    "print (f\"y sample values:\\n{y[:5]}\")\n"
   ]
  },
  {
   "cell_type": "code",
   "execution_count": 56,
   "metadata": {},
   "outputs": [],
   "source": [
    "# Use 70% of the data for training and the remainder for testing\n",
    "split = int(0.7 * len(X1))\n",
    "X_train = X1[: split - 1]\n",
    "X_test = X1[split:]\n",
    "y_train = y1[: split - 1]\n",
    "y_test = y1[split:]"
   ]
  },
  {
   "cell_type": "code",
   "execution_count": 57,
   "metadata": {},
   "outputs": [
    {
     "ename": "ValueError",
     "evalue": "Found array with 0 sample(s) (shape=(0, 1)) while a minimum of 1 is required by MinMaxScaler.",
     "output_type": "error",
     "traceback": [
      "\u001b[1;31m---------------------------------------------------------------------------\u001b[0m",
      "\u001b[1;31mValueError\u001b[0m                                Traceback (most recent call last)",
      "\u001b[1;32m<ipython-input-57-d79ad4cb301d>\u001b[0m in \u001b[0;36m<module>\u001b[1;34m\u001b[0m\n\u001b[0;32m      3\u001b[0m \u001b[1;33m\u001b[0m\u001b[0m\n\u001b[0;32m      4\u001b[0m \u001b[0mscaler\u001b[0m \u001b[1;33m=\u001b[0m \u001b[0mMinMaxScaler\u001b[0m\u001b[1;33m(\u001b[0m\u001b[1;33m)\u001b[0m\u001b[1;33m\u001b[0m\u001b[1;33m\u001b[0m\u001b[0m\n\u001b[1;32m----> 5\u001b[1;33m \u001b[0mscaler\u001b[0m\u001b[1;33m.\u001b[0m\u001b[0mfit\u001b[0m\u001b[1;33m(\u001b[0m\u001b[0mX1\u001b[0m\u001b[1;33m)\u001b[0m\u001b[1;33m\u001b[0m\u001b[1;33m\u001b[0m\u001b[0m\n\u001b[0m\u001b[0;32m      6\u001b[0m \u001b[0mX_train\u001b[0m \u001b[1;33m=\u001b[0m \u001b[0mscaler\u001b[0m\u001b[1;33m.\u001b[0m\u001b[0mtransform\u001b[0m\u001b[1;33m(\u001b[0m\u001b[0mX_train\u001b[0m\u001b[1;33m)\u001b[0m\u001b[1;33m\u001b[0m\u001b[1;33m\u001b[0m\u001b[0m\n\u001b[0;32m      7\u001b[0m \u001b[0mX_test\u001b[0m \u001b[1;33m=\u001b[0m \u001b[0mscaler\u001b[0m\u001b[1;33m.\u001b[0m\u001b[0mtransform\u001b[0m\u001b[1;33m(\u001b[0m\u001b[0mX_test\u001b[0m\u001b[1;33m)\u001b[0m\u001b[1;33m\u001b[0m\u001b[1;33m\u001b[0m\u001b[0m\n",
      "\u001b[1;32m~\\anaconda3\\envs\\alpacaenv\\lib\\site-packages\\sklearn\\preprocessing\\_data.py\u001b[0m in \u001b[0;36mfit\u001b[1;34m(self, X, y)\u001b[0m\n\u001b[0;32m    334\u001b[0m         \u001b[1;31m# Reset internal state before fitting\u001b[0m\u001b[1;33m\u001b[0m\u001b[1;33m\u001b[0m\u001b[1;33m\u001b[0m\u001b[0m\n\u001b[0;32m    335\u001b[0m         \u001b[0mself\u001b[0m\u001b[1;33m.\u001b[0m\u001b[0m_reset\u001b[0m\u001b[1;33m(\u001b[0m\u001b[1;33m)\u001b[0m\u001b[1;33m\u001b[0m\u001b[1;33m\u001b[0m\u001b[0m\n\u001b[1;32m--> 336\u001b[1;33m         \u001b[1;32mreturn\u001b[0m \u001b[0mself\u001b[0m\u001b[1;33m.\u001b[0m\u001b[0mpartial_fit\u001b[0m\u001b[1;33m(\u001b[0m\u001b[0mX\u001b[0m\u001b[1;33m,\u001b[0m \u001b[0my\u001b[0m\u001b[1;33m)\u001b[0m\u001b[1;33m\u001b[0m\u001b[1;33m\u001b[0m\u001b[0m\n\u001b[0m\u001b[0;32m    337\u001b[0m \u001b[1;33m\u001b[0m\u001b[0m\n\u001b[0;32m    338\u001b[0m     \u001b[1;32mdef\u001b[0m \u001b[0mpartial_fit\u001b[0m\u001b[1;33m(\u001b[0m\u001b[0mself\u001b[0m\u001b[1;33m,\u001b[0m \u001b[0mX\u001b[0m\u001b[1;33m,\u001b[0m \u001b[0my\u001b[0m\u001b[1;33m=\u001b[0m\u001b[1;32mNone\u001b[0m\u001b[1;33m)\u001b[0m\u001b[1;33m:\u001b[0m\u001b[1;33m\u001b[0m\u001b[1;33m\u001b[0m\u001b[0m\n",
      "\u001b[1;32m~\\anaconda3\\envs\\alpacaenv\\lib\\site-packages\\sklearn\\preprocessing\\_data.py\u001b[0m in \u001b[0;36mpartial_fit\u001b[1;34m(self, X, y)\u001b[0m\n\u001b[0;32m    369\u001b[0m         X = self._validate_data(X, reset=first_pass,\n\u001b[0;32m    370\u001b[0m                                 \u001b[0mestimator\u001b[0m\u001b[1;33m=\u001b[0m\u001b[0mself\u001b[0m\u001b[1;33m,\u001b[0m \u001b[0mdtype\u001b[0m\u001b[1;33m=\u001b[0m\u001b[0mFLOAT_DTYPES\u001b[0m\u001b[1;33m,\u001b[0m\u001b[1;33m\u001b[0m\u001b[1;33m\u001b[0m\u001b[0m\n\u001b[1;32m--> 371\u001b[1;33m                                 force_all_finite=\"allow-nan\")\n\u001b[0m\u001b[0;32m    372\u001b[0m \u001b[1;33m\u001b[0m\u001b[0m\n\u001b[0;32m    373\u001b[0m         \u001b[0mdata_min\u001b[0m \u001b[1;33m=\u001b[0m \u001b[0mnp\u001b[0m\u001b[1;33m.\u001b[0m\u001b[0mnanmin\u001b[0m\u001b[1;33m(\u001b[0m\u001b[0mX\u001b[0m\u001b[1;33m,\u001b[0m \u001b[0maxis\u001b[0m\u001b[1;33m=\u001b[0m\u001b[1;36m0\u001b[0m\u001b[1;33m)\u001b[0m\u001b[1;33m\u001b[0m\u001b[1;33m\u001b[0m\u001b[0m\n",
      "\u001b[1;32m~\\anaconda3\\envs\\alpacaenv\\lib\\site-packages\\sklearn\\base.py\u001b[0m in \u001b[0;36m_validate_data\u001b[1;34m(self, X, y, reset, validate_separately, **check_params)\u001b[0m\n\u001b[0;32m    418\u001b[0m                     \u001b[1;34mf\"requires y to be passed, but the target y is None.\"\u001b[0m\u001b[1;33m\u001b[0m\u001b[1;33m\u001b[0m\u001b[0m\n\u001b[0;32m    419\u001b[0m                 )\n\u001b[1;32m--> 420\u001b[1;33m             \u001b[0mX\u001b[0m \u001b[1;33m=\u001b[0m \u001b[0mcheck_array\u001b[0m\u001b[1;33m(\u001b[0m\u001b[0mX\u001b[0m\u001b[1;33m,\u001b[0m \u001b[1;33m**\u001b[0m\u001b[0mcheck_params\u001b[0m\u001b[1;33m)\u001b[0m\u001b[1;33m\u001b[0m\u001b[1;33m\u001b[0m\u001b[0m\n\u001b[0m\u001b[0;32m    421\u001b[0m             \u001b[0mout\u001b[0m \u001b[1;33m=\u001b[0m \u001b[0mX\u001b[0m\u001b[1;33m\u001b[0m\u001b[1;33m\u001b[0m\u001b[0m\n\u001b[0;32m    422\u001b[0m         \u001b[1;32melse\u001b[0m\u001b[1;33m:\u001b[0m\u001b[1;33m\u001b[0m\u001b[1;33m\u001b[0m\u001b[0m\n",
      "\u001b[1;32m~\\anaconda3\\envs\\alpacaenv\\lib\\site-packages\\sklearn\\utils\\validation.py\u001b[0m in \u001b[0;36minner_f\u001b[1;34m(*args, **kwargs)\u001b[0m\n\u001b[0;32m     70\u001b[0m                           FutureWarning)\n\u001b[0;32m     71\u001b[0m         \u001b[0mkwargs\u001b[0m\u001b[1;33m.\u001b[0m\u001b[0mupdate\u001b[0m\u001b[1;33m(\u001b[0m\u001b[1;33m{\u001b[0m\u001b[0mk\u001b[0m\u001b[1;33m:\u001b[0m \u001b[0marg\u001b[0m \u001b[1;32mfor\u001b[0m \u001b[0mk\u001b[0m\u001b[1;33m,\u001b[0m \u001b[0marg\u001b[0m \u001b[1;32min\u001b[0m \u001b[0mzip\u001b[0m\u001b[1;33m(\u001b[0m\u001b[0msig\u001b[0m\u001b[1;33m.\u001b[0m\u001b[0mparameters\u001b[0m\u001b[1;33m,\u001b[0m \u001b[0margs\u001b[0m\u001b[1;33m)\u001b[0m\u001b[1;33m}\u001b[0m\u001b[1;33m)\u001b[0m\u001b[1;33m\u001b[0m\u001b[1;33m\u001b[0m\u001b[0m\n\u001b[1;32m---> 72\u001b[1;33m         \u001b[1;32mreturn\u001b[0m \u001b[0mf\u001b[0m\u001b[1;33m(\u001b[0m\u001b[1;33m**\u001b[0m\u001b[0mkwargs\u001b[0m\u001b[1;33m)\u001b[0m\u001b[1;33m\u001b[0m\u001b[1;33m\u001b[0m\u001b[0m\n\u001b[0m\u001b[0;32m     73\u001b[0m     \u001b[1;32mreturn\u001b[0m \u001b[0minner_f\u001b[0m\u001b[1;33m\u001b[0m\u001b[1;33m\u001b[0m\u001b[0m\n\u001b[0;32m     74\u001b[0m \u001b[1;33m\u001b[0m\u001b[0m\n",
      "\u001b[1;32m~\\anaconda3\\envs\\alpacaenv\\lib\\site-packages\\sklearn\\utils\\validation.py\u001b[0m in \u001b[0;36mcheck_array\u001b[1;34m(array, accept_sparse, accept_large_sparse, dtype, order, copy, force_all_finite, ensure_2d, allow_nd, ensure_min_samples, ensure_min_features, estimator)\u001b[0m\n\u001b[0;32m    651\u001b[0m                              \u001b[1;34m\" minimum of %d is required%s.\"\u001b[0m\u001b[1;33m\u001b[0m\u001b[1;33m\u001b[0m\u001b[0m\n\u001b[0;32m    652\u001b[0m                              % (n_samples, array.shape, ensure_min_samples,\n\u001b[1;32m--> 653\u001b[1;33m                                 context))\n\u001b[0m\u001b[0;32m    654\u001b[0m \u001b[1;33m\u001b[0m\u001b[0m\n\u001b[0;32m    655\u001b[0m     \u001b[1;32mif\u001b[0m \u001b[0mensure_min_features\u001b[0m \u001b[1;33m>\u001b[0m \u001b[1;36m0\u001b[0m \u001b[1;32mand\u001b[0m \u001b[0marray\u001b[0m\u001b[1;33m.\u001b[0m\u001b[0mndim\u001b[0m \u001b[1;33m==\u001b[0m \u001b[1;36m2\u001b[0m\u001b[1;33m:\u001b[0m\u001b[1;33m\u001b[0m\u001b[1;33m\u001b[0m\u001b[0m\n",
      "\u001b[1;31mValueError\u001b[0m: Found array with 0 sample(s) (shape=(0, 1)) while a minimum of 1 is required by MinMaxScaler."
     ]
    }
   ],
   "source": [
    "# Use the MinMaxScaler to scale data between 0 and 1.\n",
    "from sklearn.preprocessing import MinMaxScaler\n",
    "\n",
    "scaler = MinMaxScaler()\n",
    "scaler.fit(X1)\n",
    "X_train = scaler.transform(X_train)\n",
    "X_test = scaler.transform(X_test)\n",
    "scaler.fit(y1)\n",
    "y_train = scaler.transform(y_train)\n",
    "y_test = scaler.transform(y_test)"
   ]
  },
  {
   "cell_type": "code",
   "execution_count": 59,
   "metadata": {},
   "outputs": [
    {
     "name": "stdout",
     "output_type": "stream",
     "text": [
      "X_train sample values:\n",
      "[] \n",
      "\n",
      "X_test sample values:\n",
      "[]\n"
     ]
    }
   ],
   "source": [
    "# Reshape the features for the model\n",
    "X_train = X_train.reshape((X_train.shape[0], X_train.shape[1], 1))\n",
    "X_test = X_test.reshape((X_test.shape[0], X_test.shape[1], 1))\n",
    "print (f\"X_train sample values:\\n{X_train[:5]} \\n\")\n",
    "print (f\"X_test sample values:\\n{X_test[:5]}\")"
   ]
  },
  {
   "cell_type": "code",
   "execution_count": 60,
   "metadata": {},
   "outputs": [],
   "source": [
    "# Import required Keras modules\n",
    "from tensorflow.keras.models import Sequential\n",
    "from tensorflow.keras.layers import LSTM, Dense, Dropout"
   ]
  },
  {
   "cell_type": "code",
   "execution_count": 61,
   "metadata": {},
   "outputs": [],
   "source": [
    "# Define the LSTM RNN model.\n",
    "model = Sequential()\n",
    "\n",
    "number_units = 5\n",
    "dropout_fraction = 0.2\n",
    "\n",
    "# Layer 1\n",
    "model.add(LSTM(\n",
    "    units=number_units,\n",
    "    return_sequences=True,\n",
    "    input_shape=(X_train.shape[1], 1))\n",
    "    )\n",
    "model.add(Dropout(dropout_fraction))\n",
    "# Layer 2\n",
    "model.add(LSTM(units=number_units, return_sequences=True))\n",
    "model.add(Dropout(dropout_fraction))\n",
    "# Layer 3\n",
    "model.add(LSTM(units=number_units))\n",
    "model.add(Dropout(dropout_fraction))\n",
    "# Output layer\n",
    "model.add(Dense(1))"
   ]
  },
  {
   "cell_type": "code",
   "execution_count": 62,
   "metadata": {},
   "outputs": [
    {
     "name": "stdout",
     "output_type": "stream",
     "text": [
      "Model: \"sequential\"\n",
      "_________________________________________________________________\n",
      "Layer (type)                 Output Shape              Param #   \n",
      "=================================================================\n",
      "lstm (LSTM)                  (None, 1, 5)              140       \n",
      "_________________________________________________________________\n",
      "dropout (Dropout)            (None, 1, 5)              0         \n",
      "_________________________________________________________________\n",
      "lstm_1 (LSTM)                (None, 1, 5)              220       \n",
      "_________________________________________________________________\n",
      "dropout_1 (Dropout)          (None, 1, 5)              0         \n",
      "_________________________________________________________________\n",
      "lstm_2 (LSTM)                (None, 5)                 220       \n",
      "_________________________________________________________________\n",
      "dropout_2 (Dropout)          (None, 5)                 0         \n",
      "_________________________________________________________________\n",
      "dense (Dense)                (None, 1)                 6         \n",
      "=================================================================\n",
      "Total params: 586\n",
      "Trainable params: 586\n",
      "Non-trainable params: 0\n",
      "_________________________________________________________________\n"
     ]
    }
   ],
   "source": [
    "# Compile the model\n",
    "model.compile(optimizer=\"adam\", loss=\"mean_squared_error\")\n",
    "\n",
    "# Summarize the model\n",
    "model.summary()"
   ]
  },
  {
   "cell_type": "code",
   "execution_count": 63,
   "metadata": {},
   "outputs": [
    {
     "name": "stdout",
     "output_type": "stream",
     "text": [
      "Epoch 1/10\n"
     ]
    },
    {
     "ename": "UnboundLocalError",
     "evalue": "local variable 'logs' referenced before assignment",
     "output_type": "error",
     "traceback": [
      "\u001b[1;31m---------------------------------------------------------------------------\u001b[0m",
      "\u001b[1;31mUnboundLocalError\u001b[0m                         Traceback (most recent call last)",
      "\u001b[1;32m<ipython-input-63-b53a50f8278e>\u001b[0m in \u001b[0;36m<module>\u001b[1;34m\u001b[0m\n\u001b[0;32m      1\u001b[0m \u001b[1;31m# Train the model\u001b[0m\u001b[1;33m\u001b[0m\u001b[1;33m\u001b[0m\u001b[1;33m\u001b[0m\u001b[0m\n\u001b[1;32m----> 2\u001b[1;33m \u001b[0mmodel\u001b[0m\u001b[1;33m.\u001b[0m\u001b[0mfit\u001b[0m\u001b[1;33m(\u001b[0m\u001b[0mX_train\u001b[0m\u001b[1;33m,\u001b[0m \u001b[0my_train\u001b[0m\u001b[1;33m,\u001b[0m \u001b[0mepochs\u001b[0m\u001b[1;33m=\u001b[0m\u001b[1;36m10\u001b[0m\u001b[1;33m,\u001b[0m \u001b[0mshuffle\u001b[0m\u001b[1;33m=\u001b[0m\u001b[1;32mFalse\u001b[0m\u001b[1;33m,\u001b[0m \u001b[0mbatch_size\u001b[0m\u001b[1;33m=\u001b[0m\u001b[1;36m1\u001b[0m\u001b[1;33m,\u001b[0m \u001b[0mverbose\u001b[0m\u001b[1;33m=\u001b[0m\u001b[1;36m1\u001b[0m\u001b[1;33m)\u001b[0m\u001b[1;33m\u001b[0m\u001b[1;33m\u001b[0m\u001b[0m\n\u001b[0m",
      "\u001b[1;32m~\\anaconda3\\envs\\alpacaenv\\lib\\site-packages\\tensorflow\\python\\keras\\engine\\training.py\u001b[0m in \u001b[0;36m_method_wrapper\u001b[1;34m(self, *args, **kwargs)\u001b[0m\n\u001b[0;32m    106\u001b[0m   \u001b[1;32mdef\u001b[0m \u001b[0m_method_wrapper\u001b[0m\u001b[1;33m(\u001b[0m\u001b[0mself\u001b[0m\u001b[1;33m,\u001b[0m \u001b[1;33m*\u001b[0m\u001b[0margs\u001b[0m\u001b[1;33m,\u001b[0m \u001b[1;33m**\u001b[0m\u001b[0mkwargs\u001b[0m\u001b[1;33m)\u001b[0m\u001b[1;33m:\u001b[0m\u001b[1;33m\u001b[0m\u001b[1;33m\u001b[0m\u001b[0m\n\u001b[0;32m    107\u001b[0m     \u001b[1;32mif\u001b[0m \u001b[1;32mnot\u001b[0m \u001b[0mself\u001b[0m\u001b[1;33m.\u001b[0m\u001b[0m_in_multi_worker_mode\u001b[0m\u001b[1;33m(\u001b[0m\u001b[1;33m)\u001b[0m\u001b[1;33m:\u001b[0m  \u001b[1;31m# pylint: disable=protected-access\u001b[0m\u001b[1;33m\u001b[0m\u001b[1;33m\u001b[0m\u001b[0m\n\u001b[1;32m--> 108\u001b[1;33m       \u001b[1;32mreturn\u001b[0m \u001b[0mmethod\u001b[0m\u001b[1;33m(\u001b[0m\u001b[0mself\u001b[0m\u001b[1;33m,\u001b[0m \u001b[1;33m*\u001b[0m\u001b[0margs\u001b[0m\u001b[1;33m,\u001b[0m \u001b[1;33m**\u001b[0m\u001b[0mkwargs\u001b[0m\u001b[1;33m)\u001b[0m\u001b[1;33m\u001b[0m\u001b[1;33m\u001b[0m\u001b[0m\n\u001b[0m\u001b[0;32m    109\u001b[0m \u001b[1;33m\u001b[0m\u001b[0m\n\u001b[0;32m    110\u001b[0m     \u001b[1;31m# Running inside `run_distribute_coordinator` already.\u001b[0m\u001b[1;33m\u001b[0m\u001b[1;33m\u001b[0m\u001b[1;33m\u001b[0m\u001b[0m\n",
      "\u001b[1;32m~\\anaconda3\\envs\\alpacaenv\\lib\\site-packages\\tensorflow\\python\\keras\\engine\\training.py\u001b[0m in \u001b[0;36mfit\u001b[1;34m(self, x, y, batch_size, epochs, verbose, callbacks, validation_split, validation_data, shuffle, class_weight, sample_weight, initial_epoch, steps_per_epoch, validation_steps, validation_batch_size, validation_freq, max_queue_size, workers, use_multiprocessing)\u001b[0m\n\u001b[0;32m   1102\u001b[0m               \u001b[0mend_step\u001b[0m \u001b[1;33m=\u001b[0m \u001b[0mstep\u001b[0m \u001b[1;33m+\u001b[0m \u001b[0mdata_handler\u001b[0m\u001b[1;33m.\u001b[0m\u001b[0mstep_increment\u001b[0m\u001b[1;33m\u001b[0m\u001b[1;33m\u001b[0m\u001b[0m\n\u001b[0;32m   1103\u001b[0m               \u001b[0mcallbacks\u001b[0m\u001b[1;33m.\u001b[0m\u001b[0mon_train_batch_end\u001b[0m\u001b[1;33m(\u001b[0m\u001b[0mend_step\u001b[0m\u001b[1;33m,\u001b[0m \u001b[0mlogs\u001b[0m\u001b[1;33m)\u001b[0m\u001b[1;33m\u001b[0m\u001b[1;33m\u001b[0m\u001b[0m\n\u001b[1;32m-> 1104\u001b[1;33m         \u001b[0mepoch_logs\u001b[0m \u001b[1;33m=\u001b[0m \u001b[0mcopy\u001b[0m\u001b[1;33m.\u001b[0m\u001b[0mcopy\u001b[0m\u001b[1;33m(\u001b[0m\u001b[0mlogs\u001b[0m\u001b[1;33m)\u001b[0m\u001b[1;33m\u001b[0m\u001b[1;33m\u001b[0m\u001b[0m\n\u001b[0m\u001b[0;32m   1105\u001b[0m \u001b[1;33m\u001b[0m\u001b[0m\n\u001b[0;32m   1106\u001b[0m         \u001b[1;31m# Run validation.\u001b[0m\u001b[1;33m\u001b[0m\u001b[1;33m\u001b[0m\u001b[1;33m\u001b[0m\u001b[0m\n",
      "\u001b[1;31mUnboundLocalError\u001b[0m: local variable 'logs' referenced before assignment"
     ]
    }
   ],
   "source": [
    "# Train the model\n",
    "model.fit(X_train, y_train, epochs=10, shuffle=False, batch_size=1, verbose=1)"
   ]
  },
  {
   "cell_type": "code",
   "execution_count": 64,
   "metadata": {},
   "outputs": [
    {
     "name": "stdout",
     "output_type": "stream",
     "text": [
      "\r"
     ]
    },
    {
     "ename": "OverflowError",
     "evalue": "cannot convert float infinity to integer",
     "output_type": "error",
     "traceback": [
      "\u001b[1;31m---------------------------------------------------------------------------\u001b[0m",
      "\u001b[1;31mOverflowError\u001b[0m                             Traceback (most recent call last)",
      "\u001b[1;32m<ipython-input-64-a8c86a8d7008>\u001b[0m in \u001b[0;36m<module>\u001b[1;34m\u001b[0m\n\u001b[0;32m      1\u001b[0m \u001b[1;31m# Evaluate the model\u001b[0m\u001b[1;33m\u001b[0m\u001b[1;33m\u001b[0m\u001b[1;33m\u001b[0m\u001b[0m\n\u001b[1;32m----> 2\u001b[1;33m \u001b[0mmodel\u001b[0m\u001b[1;33m.\u001b[0m\u001b[0mevaluate\u001b[0m\u001b[1;33m(\u001b[0m\u001b[0mX_test\u001b[0m\u001b[1;33m,\u001b[0m \u001b[0my_test\u001b[0m\u001b[1;33m)\u001b[0m\u001b[1;33m\u001b[0m\u001b[1;33m\u001b[0m\u001b[0m\n\u001b[0m",
      "\u001b[1;32m~\\anaconda3\\envs\\alpacaenv\\lib\\site-packages\\tensorflow\\python\\keras\\engine\\training.py\u001b[0m in \u001b[0;36m_method_wrapper\u001b[1;34m(self, *args, **kwargs)\u001b[0m\n\u001b[0;32m    106\u001b[0m   \u001b[1;32mdef\u001b[0m \u001b[0m_method_wrapper\u001b[0m\u001b[1;33m(\u001b[0m\u001b[0mself\u001b[0m\u001b[1;33m,\u001b[0m \u001b[1;33m*\u001b[0m\u001b[0margs\u001b[0m\u001b[1;33m,\u001b[0m \u001b[1;33m**\u001b[0m\u001b[0mkwargs\u001b[0m\u001b[1;33m)\u001b[0m\u001b[1;33m:\u001b[0m\u001b[1;33m\u001b[0m\u001b[1;33m\u001b[0m\u001b[0m\n\u001b[0;32m    107\u001b[0m     \u001b[1;32mif\u001b[0m \u001b[1;32mnot\u001b[0m \u001b[0mself\u001b[0m\u001b[1;33m.\u001b[0m\u001b[0m_in_multi_worker_mode\u001b[0m\u001b[1;33m(\u001b[0m\u001b[1;33m)\u001b[0m\u001b[1;33m:\u001b[0m  \u001b[1;31m# pylint: disable=protected-access\u001b[0m\u001b[1;33m\u001b[0m\u001b[1;33m\u001b[0m\u001b[0m\n\u001b[1;32m--> 108\u001b[1;33m       \u001b[1;32mreturn\u001b[0m \u001b[0mmethod\u001b[0m\u001b[1;33m(\u001b[0m\u001b[0mself\u001b[0m\u001b[1;33m,\u001b[0m \u001b[1;33m*\u001b[0m\u001b[0margs\u001b[0m\u001b[1;33m,\u001b[0m \u001b[1;33m**\u001b[0m\u001b[0mkwargs\u001b[0m\u001b[1;33m)\u001b[0m\u001b[1;33m\u001b[0m\u001b[1;33m\u001b[0m\u001b[0m\n\u001b[0m\u001b[0;32m    109\u001b[0m \u001b[1;33m\u001b[0m\u001b[0m\n\u001b[0;32m    110\u001b[0m     \u001b[1;31m# Running inside `run_distribute_coordinator` already.\u001b[0m\u001b[1;33m\u001b[0m\u001b[1;33m\u001b[0m\u001b[1;33m\u001b[0m\u001b[0m\n",
      "\u001b[1;32m~\\anaconda3\\envs\\alpacaenv\\lib\\site-packages\\tensorflow\\python\\keras\\engine\\training.py\u001b[0m in \u001b[0;36mevaluate\u001b[1;34m(self, x, y, batch_size, verbose, sample_weight, steps, callbacks, max_queue_size, workers, use_multiprocessing, return_dict)\u001b[0m\n\u001b[0;32m   1384\u001b[0m               \u001b[0mcallbacks\u001b[0m\u001b[1;33m.\u001b[0m\u001b[0mon_test_batch_end\u001b[0m\u001b[1;33m(\u001b[0m\u001b[0mend_step\u001b[0m\u001b[1;33m,\u001b[0m \u001b[0mlogs\u001b[0m\u001b[1;33m)\u001b[0m\u001b[1;33m\u001b[0m\u001b[1;33m\u001b[0m\u001b[0m\n\u001b[0;32m   1385\u001b[0m       \u001b[0mlogs\u001b[0m \u001b[1;33m=\u001b[0m \u001b[0mtf_utils\u001b[0m\u001b[1;33m.\u001b[0m\u001b[0mto_numpy_or_python_type\u001b[0m\u001b[1;33m(\u001b[0m\u001b[0mlogs\u001b[0m\u001b[1;33m)\u001b[0m\u001b[1;33m\u001b[0m\u001b[1;33m\u001b[0m\u001b[0m\n\u001b[1;32m-> 1386\u001b[1;33m       \u001b[0mcallbacks\u001b[0m\u001b[1;33m.\u001b[0m\u001b[0mon_test_end\u001b[0m\u001b[1;33m(\u001b[0m\u001b[0mlogs\u001b[0m\u001b[1;33m=\u001b[0m\u001b[0mlogs\u001b[0m\u001b[1;33m)\u001b[0m\u001b[1;33m\u001b[0m\u001b[1;33m\u001b[0m\u001b[0m\n\u001b[0m\u001b[0;32m   1387\u001b[0m \u001b[1;33m\u001b[0m\u001b[0m\n\u001b[0;32m   1388\u001b[0m       \u001b[1;32mif\u001b[0m \u001b[0mreturn_dict\u001b[0m\u001b[1;33m:\u001b[0m\u001b[1;33m\u001b[0m\u001b[1;33m\u001b[0m\u001b[0m\n",
      "\u001b[1;32m~\\anaconda3\\envs\\alpacaenv\\lib\\site-packages\\tensorflow\\python\\keras\\callbacks.py\u001b[0m in \u001b[0;36mon_test_end\u001b[1;34m(self, logs)\u001b[0m\n\u001b[0;32m    546\u001b[0m     \u001b[1;32mfor\u001b[0m \u001b[0mcallback\u001b[0m \u001b[1;32min\u001b[0m \u001b[0mself\u001b[0m\u001b[1;33m.\u001b[0m\u001b[0mcallbacks\u001b[0m\u001b[1;33m:\u001b[0m\u001b[1;33m\u001b[0m\u001b[1;33m\u001b[0m\u001b[0m\n\u001b[0;32m    547\u001b[0m       \u001b[1;32mif\u001b[0m \u001b[0mgetattr\u001b[0m\u001b[1;33m(\u001b[0m\u001b[0mcallback\u001b[0m\u001b[1;33m,\u001b[0m \u001b[1;34m'_supports_tf_logs'\u001b[0m\u001b[1;33m,\u001b[0m \u001b[1;32mFalse\u001b[0m\u001b[1;33m)\u001b[0m\u001b[1;33m:\u001b[0m\u001b[1;33m\u001b[0m\u001b[1;33m\u001b[0m\u001b[0m\n\u001b[1;32m--> 548\u001b[1;33m         \u001b[0mcallback\u001b[0m\u001b[1;33m.\u001b[0m\u001b[0mon_test_end\u001b[0m\u001b[1;33m(\u001b[0m\u001b[0mlogs\u001b[0m\u001b[1;33m)\u001b[0m\u001b[1;33m\u001b[0m\u001b[1;33m\u001b[0m\u001b[0m\n\u001b[0m\u001b[0;32m    549\u001b[0m       \u001b[1;32melse\u001b[0m\u001b[1;33m:\u001b[0m\u001b[1;33m\u001b[0m\u001b[1;33m\u001b[0m\u001b[0m\n\u001b[0;32m    550\u001b[0m         \u001b[1;32mif\u001b[0m \u001b[0mnumpy_logs\u001b[0m \u001b[1;32mis\u001b[0m \u001b[1;32mNone\u001b[0m\u001b[1;33m:\u001b[0m  \u001b[1;31m# Only convert once.\u001b[0m\u001b[1;33m\u001b[0m\u001b[1;33m\u001b[0m\u001b[0m\n",
      "\u001b[1;32m~\\anaconda3\\envs\\alpacaenv\\lib\\site-packages\\tensorflow\\python\\keras\\callbacks.py\u001b[0m in \u001b[0;36mon_test_end\u001b[1;34m(self, logs)\u001b[0m\n\u001b[0;32m    974\u001b[0m   \u001b[1;32mdef\u001b[0m \u001b[0mon_test_end\u001b[0m\u001b[1;33m(\u001b[0m\u001b[0mself\u001b[0m\u001b[1;33m,\u001b[0m \u001b[0mlogs\u001b[0m\u001b[1;33m=\u001b[0m\u001b[1;32mNone\u001b[0m\u001b[1;33m)\u001b[0m\u001b[1;33m:\u001b[0m\u001b[1;33m\u001b[0m\u001b[1;33m\u001b[0m\u001b[0m\n\u001b[0;32m    975\u001b[0m     \u001b[1;32mif\u001b[0m \u001b[1;32mnot\u001b[0m \u001b[0mself\u001b[0m\u001b[1;33m.\u001b[0m\u001b[0m_called_in_fit\u001b[0m\u001b[1;33m:\u001b[0m\u001b[1;33m\u001b[0m\u001b[1;33m\u001b[0m\u001b[0m\n\u001b[1;32m--> 976\u001b[1;33m       \u001b[0mself\u001b[0m\u001b[1;33m.\u001b[0m\u001b[0m_finalize_progbar\u001b[0m\u001b[1;33m(\u001b[0m\u001b[0mlogs\u001b[0m\u001b[1;33m)\u001b[0m\u001b[1;33m\u001b[0m\u001b[1;33m\u001b[0m\u001b[0m\n\u001b[0m\u001b[0;32m    977\u001b[0m \u001b[1;33m\u001b[0m\u001b[0m\n\u001b[0;32m    978\u001b[0m   \u001b[1;32mdef\u001b[0m \u001b[0mon_predict_end\u001b[0m\u001b[1;33m(\u001b[0m\u001b[0mself\u001b[0m\u001b[1;33m,\u001b[0m \u001b[0mlogs\u001b[0m\u001b[1;33m=\u001b[0m\u001b[1;32mNone\u001b[0m\u001b[1;33m)\u001b[0m\u001b[1;33m:\u001b[0m\u001b[1;33m\u001b[0m\u001b[1;33m\u001b[0m\u001b[0m\n",
      "\u001b[1;32m~\\anaconda3\\envs\\alpacaenv\\lib\\site-packages\\tensorflow\\python\\keras\\callbacks.py\u001b[0m in \u001b[0;36m_finalize_progbar\u001b[1;34m(self, logs)\u001b[0m\n\u001b[0;32m   1024\u001b[0m       \u001b[0mself\u001b[0m\u001b[1;33m.\u001b[0m\u001b[0mprogbar\u001b[0m\u001b[1;33m.\u001b[0m\u001b[0mtarget\u001b[0m \u001b[1;33m=\u001b[0m \u001b[0mself\u001b[0m\u001b[1;33m.\u001b[0m\u001b[0mseen\u001b[0m\u001b[1;33m\u001b[0m\u001b[1;33m\u001b[0m\u001b[0m\n\u001b[0;32m   1025\u001b[0m     \u001b[0mlogs\u001b[0m \u001b[1;33m=\u001b[0m \u001b[0mtf_utils\u001b[0m\u001b[1;33m.\u001b[0m\u001b[0mto_numpy_or_python_type\u001b[0m\u001b[1;33m(\u001b[0m\u001b[0mlogs\u001b[0m\u001b[1;33m)\u001b[0m\u001b[1;33m\u001b[0m\u001b[1;33m\u001b[0m\u001b[0m\n\u001b[1;32m-> 1026\u001b[1;33m     \u001b[0mself\u001b[0m\u001b[1;33m.\u001b[0m\u001b[0mprogbar\u001b[0m\u001b[1;33m.\u001b[0m\u001b[0mupdate\u001b[0m\u001b[1;33m(\u001b[0m\u001b[0mself\u001b[0m\u001b[1;33m.\u001b[0m\u001b[0mseen\u001b[0m\u001b[1;33m,\u001b[0m \u001b[0mlist\u001b[0m\u001b[1;33m(\u001b[0m\u001b[0mlogs\u001b[0m\u001b[1;33m.\u001b[0m\u001b[0mitems\u001b[0m\u001b[1;33m(\u001b[0m\u001b[1;33m)\u001b[0m\u001b[1;33m)\u001b[0m\u001b[1;33m,\u001b[0m \u001b[0mfinalize\u001b[0m\u001b[1;33m=\u001b[0m\u001b[1;32mTrue\u001b[0m\u001b[1;33m)\u001b[0m\u001b[1;33m\u001b[0m\u001b[1;33m\u001b[0m\u001b[0m\n\u001b[0m\u001b[0;32m   1027\u001b[0m \u001b[1;33m\u001b[0m\u001b[0m\n\u001b[0;32m   1028\u001b[0m \u001b[1;33m\u001b[0m\u001b[0m\n",
      "\u001b[1;32m~\\anaconda3\\envs\\alpacaenv\\lib\\site-packages\\tensorflow\\python\\keras\\utils\\generic_utils.py\u001b[0m in \u001b[0;36mupdate\u001b[1;34m(self, current, values, finalize)\u001b[0m\n\u001b[0;32m    579\u001b[0m \u001b[1;33m\u001b[0m\u001b[0m\n\u001b[0;32m    580\u001b[0m       \u001b[1;32mif\u001b[0m \u001b[0mself\u001b[0m\u001b[1;33m.\u001b[0m\u001b[0mtarget\u001b[0m \u001b[1;32mis\u001b[0m \u001b[1;32mnot\u001b[0m \u001b[1;32mNone\u001b[0m\u001b[1;33m:\u001b[0m\u001b[1;33m\u001b[0m\u001b[1;33m\u001b[0m\u001b[0m\n\u001b[1;32m--> 581\u001b[1;33m         \u001b[0mnumdigits\u001b[0m \u001b[1;33m=\u001b[0m \u001b[0mint\u001b[0m\u001b[1;33m(\u001b[0m\u001b[0mnp\u001b[0m\u001b[1;33m.\u001b[0m\u001b[0mlog10\u001b[0m\u001b[1;33m(\u001b[0m\u001b[0mself\u001b[0m\u001b[1;33m.\u001b[0m\u001b[0mtarget\u001b[0m\u001b[1;33m)\u001b[0m\u001b[1;33m)\u001b[0m \u001b[1;33m+\u001b[0m \u001b[1;36m1\u001b[0m\u001b[1;33m\u001b[0m\u001b[1;33m\u001b[0m\u001b[0m\n\u001b[0m\u001b[0;32m    582\u001b[0m         \u001b[0mbar\u001b[0m \u001b[1;33m=\u001b[0m \u001b[1;33m(\u001b[0m\u001b[1;34m'%'\u001b[0m \u001b[1;33m+\u001b[0m \u001b[0mstr\u001b[0m\u001b[1;33m(\u001b[0m\u001b[0mnumdigits\u001b[0m\u001b[1;33m)\u001b[0m \u001b[1;33m+\u001b[0m \u001b[1;34m'd/%d ['\u001b[0m\u001b[1;33m)\u001b[0m \u001b[1;33m%\u001b[0m \u001b[1;33m(\u001b[0m\u001b[0mcurrent\u001b[0m\u001b[1;33m,\u001b[0m \u001b[0mself\u001b[0m\u001b[1;33m.\u001b[0m\u001b[0mtarget\u001b[0m\u001b[1;33m)\u001b[0m\u001b[1;33m\u001b[0m\u001b[1;33m\u001b[0m\u001b[0m\n\u001b[0;32m    583\u001b[0m         \u001b[0mprog\u001b[0m \u001b[1;33m=\u001b[0m \u001b[0mfloat\u001b[0m\u001b[1;33m(\u001b[0m\u001b[0mcurrent\u001b[0m\u001b[1;33m)\u001b[0m \u001b[1;33m/\u001b[0m \u001b[0mself\u001b[0m\u001b[1;33m.\u001b[0m\u001b[0mtarget\u001b[0m\u001b[1;33m\u001b[0m\u001b[1;33m\u001b[0m\u001b[0m\n",
      "\u001b[1;31mOverflowError\u001b[0m: cannot convert float infinity to integer"
     ]
    }
   ],
   "source": [
    "# Evaluate the model\n",
    "model.evaluate(X_test, y_test)"
   ]
  },
  {
   "cell_type": "code",
   "execution_count": 65,
   "metadata": {},
   "outputs": [
    {
     "ename": "UnboundLocalError",
     "evalue": "local variable 'batch_outputs' referenced before assignment",
     "output_type": "error",
     "traceback": [
      "\u001b[1;31m---------------------------------------------------------------------------\u001b[0m",
      "\u001b[1;31mUnboundLocalError\u001b[0m                         Traceback (most recent call last)",
      "\u001b[1;32m<ipython-input-65-346ad0df6b03>\u001b[0m in \u001b[0;36m<module>\u001b[1;34m\u001b[0m\n\u001b[0;32m      1\u001b[0m \u001b[1;31m# Make some predictions\u001b[0m\u001b[1;33m\u001b[0m\u001b[1;33m\u001b[0m\u001b[1;33m\u001b[0m\u001b[0m\n\u001b[1;32m----> 2\u001b[1;33m \u001b[0mpredicted\u001b[0m \u001b[1;33m=\u001b[0m \u001b[0mmodel\u001b[0m\u001b[1;33m.\u001b[0m\u001b[0mpredict\u001b[0m\u001b[1;33m(\u001b[0m\u001b[0mX_test\u001b[0m\u001b[1;33m)\u001b[0m\u001b[1;33m\u001b[0m\u001b[1;33m\u001b[0m\u001b[0m\n\u001b[0m",
      "\u001b[1;32m~\\anaconda3\\envs\\alpacaenv\\lib\\site-packages\\tensorflow\\python\\keras\\engine\\training.py\u001b[0m in \u001b[0;36m_method_wrapper\u001b[1;34m(self, *args, **kwargs)\u001b[0m\n\u001b[0;32m    128\u001b[0m       raise ValueError('{} is not supported in multi-worker mode.'.format(\n\u001b[0;32m    129\u001b[0m           method.__name__))\n\u001b[1;32m--> 130\u001b[1;33m     \u001b[1;32mreturn\u001b[0m \u001b[0mmethod\u001b[0m\u001b[1;33m(\u001b[0m\u001b[0mself\u001b[0m\u001b[1;33m,\u001b[0m \u001b[1;33m*\u001b[0m\u001b[0margs\u001b[0m\u001b[1;33m,\u001b[0m \u001b[1;33m**\u001b[0m\u001b[0mkwargs\u001b[0m\u001b[1;33m)\u001b[0m\u001b[1;33m\u001b[0m\u001b[1;33m\u001b[0m\u001b[0m\n\u001b[0m\u001b[0;32m    131\u001b[0m \u001b[1;33m\u001b[0m\u001b[0m\n\u001b[0;32m    132\u001b[0m   return tf_decorator.make_decorator(\n",
      "\u001b[1;32m~\\anaconda3\\envs\\alpacaenv\\lib\\site-packages\\tensorflow\\python\\keras\\engine\\training.py\u001b[0m in \u001b[0;36mpredict\u001b[1;34m(self, x, batch_size, verbose, steps, callbacks, max_queue_size, workers, use_multiprocessing)\u001b[0m\n\u001b[0;32m   1612\u001b[0m             \u001b[0mcallbacks\u001b[0m\u001b[1;33m.\u001b[0m\u001b[0mon_predict_batch_end\u001b[0m\u001b[1;33m(\u001b[0m\u001b[0mend_step\u001b[0m\u001b[1;33m,\u001b[0m \u001b[1;33m{\u001b[0m\u001b[1;34m'outputs'\u001b[0m\u001b[1;33m:\u001b[0m \u001b[0mbatch_outputs\u001b[0m\u001b[1;33m}\u001b[0m\u001b[1;33m)\u001b[0m\u001b[1;33m\u001b[0m\u001b[1;33m\u001b[0m\u001b[0m\n\u001b[0;32m   1613\u001b[0m       \u001b[0mcallbacks\u001b[0m\u001b[1;33m.\u001b[0m\u001b[0mon_predict_end\u001b[0m\u001b[1;33m(\u001b[0m\u001b[1;33m)\u001b[0m\u001b[1;33m\u001b[0m\u001b[1;33m\u001b[0m\u001b[0m\n\u001b[1;32m-> 1614\u001b[1;33m     \u001b[0mall_outputs\u001b[0m \u001b[1;33m=\u001b[0m \u001b[0mnest\u001b[0m\u001b[1;33m.\u001b[0m\u001b[0mmap_structure_up_to\u001b[0m\u001b[1;33m(\u001b[0m\u001b[0mbatch_outputs\u001b[0m\u001b[1;33m,\u001b[0m \u001b[0mconcat\u001b[0m\u001b[1;33m,\u001b[0m \u001b[0moutputs\u001b[0m\u001b[1;33m)\u001b[0m\u001b[1;33m\u001b[0m\u001b[1;33m\u001b[0m\u001b[0m\n\u001b[0m\u001b[0;32m   1615\u001b[0m     \u001b[1;32mreturn\u001b[0m \u001b[0mtf_utils\u001b[0m\u001b[1;33m.\u001b[0m\u001b[0mto_numpy_or_python_type\u001b[0m\u001b[1;33m(\u001b[0m\u001b[0mall_outputs\u001b[0m\u001b[1;33m)\u001b[0m\u001b[1;33m\u001b[0m\u001b[1;33m\u001b[0m\u001b[0m\n\u001b[0;32m   1616\u001b[0m \u001b[1;33m\u001b[0m\u001b[0m\n",
      "\u001b[1;31mUnboundLocalError\u001b[0m: local variable 'batch_outputs' referenced before assignment"
     ]
    }
   ],
   "source": [
    "# Make some predictions\n",
    "predicted = model.predict(X_test)"
   ]
  },
  {
   "cell_type": "code",
   "execution_count": 66,
   "metadata": {},
   "outputs": [
    {
     "ename": "NameError",
     "evalue": "name 'predicted' is not defined",
     "output_type": "error",
     "traceback": [
      "\u001b[1;31m---------------------------------------------------------------------------\u001b[0m",
      "\u001b[1;31mNameError\u001b[0m                                 Traceback (most recent call last)",
      "\u001b[1;32m<ipython-input-66-2c60b6890b0c>\u001b[0m in \u001b[0;36m<module>\u001b[1;34m\u001b[0m\n\u001b[0;32m      1\u001b[0m \u001b[1;31m# Recover the original prices instead of the scaled version\u001b[0m\u001b[1;33m\u001b[0m\u001b[1;33m\u001b[0m\u001b[1;33m\u001b[0m\u001b[0m\n\u001b[1;32m----> 2\u001b[1;33m \u001b[0mpredicted_prices\u001b[0m \u001b[1;33m=\u001b[0m \u001b[0mscaler\u001b[0m\u001b[1;33m.\u001b[0m\u001b[0minverse_transform\u001b[0m\u001b[1;33m(\u001b[0m\u001b[0mpredicted\u001b[0m\u001b[1;33m)\u001b[0m\u001b[1;33m\u001b[0m\u001b[1;33m\u001b[0m\u001b[0m\n\u001b[0m\u001b[0;32m      3\u001b[0m \u001b[0mreal_prices\u001b[0m \u001b[1;33m=\u001b[0m \u001b[0mscaler\u001b[0m\u001b[1;33m.\u001b[0m\u001b[0minverse_transform\u001b[0m\u001b[1;33m(\u001b[0m\u001b[0my_test\u001b[0m\u001b[1;33m.\u001b[0m\u001b[0mreshape\u001b[0m\u001b[1;33m(\u001b[0m\u001b[1;33m-\u001b[0m\u001b[1;36m1\u001b[0m\u001b[1;33m,\u001b[0m \u001b[1;36m1\u001b[0m\u001b[1;33m)\u001b[0m\u001b[1;33m)\u001b[0m\u001b[1;33m\u001b[0m\u001b[1;33m\u001b[0m\u001b[0m\n",
      "\u001b[1;31mNameError\u001b[0m: name 'predicted' is not defined"
     ]
    }
   ],
   "source": [
    " # Recover the original prices instead of the scaled version\n",
    "predicted_prices = scaler.inverse_transform(predicted)\n",
    "real_prices = scaler.inverse_transform(y_test.reshape(-1, 1))"
   ]
  },
  {
   "cell_type": "code",
   "execution_count": 67,
   "metadata": {},
   "outputs": [
    {
     "ename": "NameError",
     "evalue": "name 'real_prices' is not defined",
     "output_type": "error",
     "traceback": [
      "\u001b[1;31m---------------------------------------------------------------------------\u001b[0m",
      "\u001b[1;31mNameError\u001b[0m                                 Traceback (most recent call last)",
      "\u001b[1;32m<ipython-input-67-9c0a156bcdba>\u001b[0m in \u001b[0;36m<module>\u001b[1;34m\u001b[0m\n\u001b[0;32m      1\u001b[0m \u001b[1;31m# Create a DataFrame of Real and Predicted values\u001b[0m\u001b[1;33m\u001b[0m\u001b[1;33m\u001b[0m\u001b[1;33m\u001b[0m\u001b[0m\n\u001b[0;32m      2\u001b[0m spy_model_px = pd.DataFrame({\n\u001b[1;32m----> 3\u001b[1;33m     \u001b[1;34m\"Real\"\u001b[0m\u001b[1;33m:\u001b[0m \u001b[0mreal_prices\u001b[0m\u001b[1;33m.\u001b[0m\u001b[0mravel\u001b[0m\u001b[1;33m(\u001b[0m\u001b[1;33m)\u001b[0m\u001b[1;33m,\u001b[0m\u001b[1;33m\u001b[0m\u001b[1;33m\u001b[0m\u001b[0m\n\u001b[0m\u001b[0;32m      4\u001b[0m     \u001b[1;34m\"Predicted\"\u001b[0m\u001b[1;33m:\u001b[0m \u001b[0mpredicted_prices\u001b[0m\u001b[1;33m.\u001b[0m\u001b[0mravel\u001b[0m\u001b[1;33m(\u001b[0m\u001b[1;33m)\u001b[0m\u001b[1;33m\u001b[0m\u001b[1;33m\u001b[0m\u001b[0m\n\u001b[0;32m      5\u001b[0m })\n",
      "\u001b[1;31mNameError\u001b[0m: name 'real_prices' is not defined"
     ]
    }
   ],
   "source": [
    "# Create a DataFrame of Real and Predicted values\n",
    "spy_model_px = pd.DataFrame({\n",
    "    \"Real\": real_prices.ravel(),\n",
    "    \"Predicted\": predicted_prices.ravel()\n",
    "})\n",
    "spy_model_px.head()\n",
    "#spy_model_px.to_csv(\"RealPred.csv\")"
   ]
  },
  {
   "cell_type": "code",
   "execution_count": 68,
   "metadata": {},
   "outputs": [
    {
     "ename": "NameError",
     "evalue": "name 'spy_model_px' is not defined",
     "output_type": "error",
     "traceback": [
      "\u001b[1;31m---------------------------------------------------------------------------\u001b[0m",
      "\u001b[1;31mNameError\u001b[0m                                 Traceback (most recent call last)",
      "\u001b[1;32m<ipython-input-68-a48752aadb39>\u001b[0m in \u001b[0;36m<module>\u001b[1;34m\u001b[0m\n\u001b[1;32m----> 1\u001b[1;33m \u001b[0mspy_model_px\u001b[0m\u001b[1;33m.\u001b[0m\u001b[0mplot\u001b[0m\u001b[1;33m(\u001b[0m\u001b[1;33m)\u001b[0m\u001b[1;33m\u001b[0m\u001b[1;33m\u001b[0m\u001b[0m\n\u001b[0m",
      "\u001b[1;31mNameError\u001b[0m: name 'spy_model_px' is not defined"
     ]
    }
   ],
   "source": [
    "spy_model_px.plot()"
   ]
  },
  {
   "cell_type": "code",
   "execution_count": 69,
   "metadata": {},
   "outputs": [],
   "source": [
    "all_data2.to_csv(\"TheData.csv\")"
   ]
  },
  {
   "cell_type": "code",
   "execution_count": null,
   "metadata": {},
   "outputs": [],
   "source": []
  }
 ],
 "metadata": {
  "kernelspec": {
   "display_name": "Python 3",
   "language": "python",
   "name": "python3"
  },
  "language_info": {
   "codemirror_mode": {
    "name": "ipython",
    "version": 3
   },
   "file_extension": ".py",
   "mimetype": "text/x-python",
   "name": "python",
   "nbconvert_exporter": "python",
   "pygments_lexer": "ipython3",
   "version": "3.7.7"
  }
 },
 "nbformat": 4,
 "nbformat_minor": 4
}
