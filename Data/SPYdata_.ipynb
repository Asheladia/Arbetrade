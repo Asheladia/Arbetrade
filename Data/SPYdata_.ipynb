{
 "cells": [
  {
   "cell_type": "code",
   "execution_count": 22,
   "metadata": {},
   "outputs": [],
   "source": [
    "import numpy as np\n",
    "import pandas as pd\n",
    "from datetime import datetime, timedelta\n",
    "from iexfinance.stocks import get_historical_data\n",
    "from iexfinance.refdata import get_symbols\n",
    "import matplotlib.pyplot as plt\n",
    "%matplotlib inline"
   ]
  },
  {
   "cell_type": "code",
   "execution_count": 23,
   "metadata": {},
   "outputs": [],
   "source": [
    "from iexfinance.stocks import get_historical_data\n",
    "import iexfinance as iex"
   ]
  },
  {
   "cell_type": "code",
   "execution_count": null,
   "metadata": {},
   "outputs": [],
   "source": [
    "tickers=pd.DataFrame(get_symbols())\n",
    "tickers.head()\n",
    "\n",
    "tickers = [\"SPY\", \"IWM\"]\n",
    "end_date = datetime.now()\n",
    "# TIme Delta is based on Biden's election and inauguration\n",
    "start_date = end_date + timedelta(-1172)\n",
    "stocks_data = get_historical_data(tickers, start_date, end_date,  output_format='pandas')\n",
    "stocks_data.head()"
   ]
  },
  {
   "cell_type": "code",
   "execution_count": 26,
   "metadata": {},
   "outputs": [],
   "source": [
    "# import yfinance\n",
    "import yfinance as yf\n",
    "from pandas_datareader import data as pdr\n",
    "import numpy as np\n",
    "\n",
    "import warnings\n",
    "warnings.filterwarnings('ignore')"
   ]
  },
  {
   "cell_type": "code",
   "execution_count": 27,
   "metadata": {},
   "outputs": [
    {
     "name": "stdout",
     "output_type": "stream",
     "text": [
      "[*********************100%***********************]  1 of 1 completed\n"
     ]
    }
   ],
   "source": [
    "#Get SPY Data for last 1172 days\n",
    "data = yf.download(\"SPY\", start=\"2017-01-20\", end=\"2021-03-06\")\n",
    "#spy_data = yf.download(\"SPY\", start=\"2017-01-20\", end=\"2020-04-06\")\n",
    "#spy_data = pdr.get_data_yahoo(\"SPY\", start=\"2017-01-20\", end=\"2020-04-06\")"
   ]
  },
  {
   "cell_type": "code",
   "execution_count": 28,
   "metadata": {},
   "outputs": [
    {
     "data": {
      "text/html": [
       "<div>\n",
       "<style scoped>\n",
       "    .dataframe tbody tr th:only-of-type {\n",
       "        vertical-align: middle;\n",
       "    }\n",
       "\n",
       "    .dataframe tbody tr th {\n",
       "        vertical-align: top;\n",
       "    }\n",
       "\n",
       "    .dataframe thead th {\n",
       "        text-align: right;\n",
       "    }\n",
       "</style>\n",
       "<table border=\"1\" class=\"dataframe\">\n",
       "  <thead>\n",
       "    <tr style=\"text-align: right;\">\n",
       "      <th></th>\n",
       "      <th>Open</th>\n",
       "      <th>High</th>\n",
       "      <th>Low</th>\n",
       "      <th>Close</th>\n",
       "      <th>Adj Close</th>\n",
       "      <th>Volume</th>\n",
       "    </tr>\n",
       "    <tr>\n",
       "      <th>Date</th>\n",
       "      <th></th>\n",
       "      <th></th>\n",
       "      <th></th>\n",
       "      <th></th>\n",
       "      <th></th>\n",
       "      <th></th>\n",
       "    </tr>\n",
       "  </thead>\n",
       "  <tbody>\n",
       "    <tr>\n",
       "      <th>2021-03-01</th>\n",
       "      <td>385.589996</td>\n",
       "      <td>390.920013</td>\n",
       "      <td>380.570007</td>\n",
       "      <td>389.579987</td>\n",
       "      <td>388.308197</td>\n",
       "      <td>104945700</td>\n",
       "    </tr>\n",
       "    <tr>\n",
       "      <th>2021-03-02</th>\n",
       "      <td>389.820007</td>\n",
       "      <td>390.070007</td>\n",
       "      <td>386.000000</td>\n",
       "      <td>386.540009</td>\n",
       "      <td>385.278137</td>\n",
       "      <td>79389200</td>\n",
       "    </tr>\n",
       "    <tr>\n",
       "      <th>2021-03-03</th>\n",
       "      <td>385.790009</td>\n",
       "      <td>386.829987</td>\n",
       "      <td>381.309998</td>\n",
       "      <td>381.420013</td>\n",
       "      <td>380.174835</td>\n",
       "      <td>119482700</td>\n",
       "    </tr>\n",
       "    <tr>\n",
       "      <th>2021-03-04</th>\n",
       "      <td>381.220001</td>\n",
       "      <td>384.000000</td>\n",
       "      <td>371.880005</td>\n",
       "      <td>376.700012</td>\n",
       "      <td>375.470245</td>\n",
       "      <td>182856500</td>\n",
       "    </tr>\n",
       "    <tr>\n",
       "      <th>2021-03-05</th>\n",
       "      <td>380.459991</td>\n",
       "      <td>384.760010</td>\n",
       "      <td>372.640015</td>\n",
       "      <td>383.630005</td>\n",
       "      <td>382.377625</td>\n",
       "      <td>151959800</td>\n",
       "    </tr>\n",
       "  </tbody>\n",
       "</table>\n",
       "</div>"
      ],
      "text/plain": [
       "                  Open        High         Low       Close   Adj Close  \\\n",
       "Date                                                                     \n",
       "2021-03-01  385.589996  390.920013  380.570007  389.579987  388.308197   \n",
       "2021-03-02  389.820007  390.070007  386.000000  386.540009  385.278137   \n",
       "2021-03-03  385.790009  386.829987  381.309998  381.420013  380.174835   \n",
       "2021-03-04  381.220001  384.000000  371.880005  376.700012  375.470245   \n",
       "2021-03-05  380.459991  384.760010  372.640015  383.630005  382.377625   \n",
       "\n",
       "               Volume  \n",
       "Date                   \n",
       "2021-03-01  104945700  \n",
       "2021-03-02   79389200  \n",
       "2021-03-03  119482700  \n",
       "2021-03-04  182856500  \n",
       "2021-03-05  151959800  "
      ]
     },
     "execution_count": 28,
     "metadata": {},
     "output_type": "execute_result"
    }
   ],
   "source": [
    "# Put into Pandas DataFrame\n",
    "spy = pd.DataFrame(data)\n",
    "spy.tail()"
   ]
  },
  {
   "cell_type": "code",
   "execution_count": 29,
   "metadata": {},
   "outputs": [
    {
     "data": {
      "text/html": [
       "<div>\n",
       "<style scoped>\n",
       "    .dataframe tbody tr th:only-of-type {\n",
       "        vertical-align: middle;\n",
       "    }\n",
       "\n",
       "    .dataframe tbody tr th {\n",
       "        vertical-align: top;\n",
       "    }\n",
       "\n",
       "    .dataframe thead th {\n",
       "        text-align: right;\n",
       "    }\n",
       "</style>\n",
       "<table border=\"1\" class=\"dataframe\">\n",
       "  <thead>\n",
       "    <tr style=\"text-align: right;\">\n",
       "      <th></th>\n",
       "      <th>Close</th>\n",
       "    </tr>\n",
       "    <tr>\n",
       "      <th>Date</th>\n",
       "      <th></th>\n",
       "    </tr>\n",
       "  </thead>\n",
       "  <tbody>\n",
       "    <tr>\n",
       "      <th>2021-03-01</th>\n",
       "      <td>388.308197</td>\n",
       "    </tr>\n",
       "    <tr>\n",
       "      <th>2021-03-02</th>\n",
       "      <td>385.278137</td>\n",
       "    </tr>\n",
       "    <tr>\n",
       "      <th>2021-03-03</th>\n",
       "      <td>380.174835</td>\n",
       "    </tr>\n",
       "    <tr>\n",
       "      <th>2021-03-04</th>\n",
       "      <td>375.470245</td>\n",
       "    </tr>\n",
       "    <tr>\n",
       "      <th>2021-03-05</th>\n",
       "      <td>382.377625</td>\n",
       "    </tr>\n",
       "  </tbody>\n",
       "</table>\n",
       "</div>"
      ],
      "text/plain": [
       "                 Close\n",
       "Date                  \n",
       "2021-03-01  388.308197\n",
       "2021-03-02  385.278137\n",
       "2021-03-03  380.174835\n",
       "2021-03-04  375.470245\n",
       "2021-03-05  382.377625"
      ]
     },
     "execution_count": 29,
     "metadata": {},
     "output_type": "execute_result"
    }
   ],
   "source": [
    "# Clean Data and Drop non-essential columns\n",
    "spy_data= spy.drop(columns=[\"High\", \"Low\", \"Open\", \"Volume\", \"Close\"])\n",
    "spy_data.columns = [\"Close\"]\n",
    "spy_data.tail()"
   ]
  },
  {
   "cell_type": "code",
   "execution_count": 30,
   "metadata": {},
   "outputs": [
    {
     "data": {
      "text/html": [
       "<div>\n",
       "<style scoped>\n",
       "    .dataframe tbody tr th:only-of-type {\n",
       "        vertical-align: middle;\n",
       "    }\n",
       "\n",
       "    .dataframe tbody tr th {\n",
       "        vertical-align: top;\n",
       "    }\n",
       "\n",
       "    .dataframe thead th {\n",
       "        text-align: right;\n",
       "    }\n",
       "</style>\n",
       "<table border=\"1\" class=\"dataframe\">\n",
       "  <thead>\n",
       "    <tr style=\"text-align: right;\">\n",
       "      <th></th>\n",
       "      <th>Close</th>\n",
       "      <th>Daily Returns</th>\n",
       "      <th>Cumulative Returns</th>\n",
       "    </tr>\n",
       "    <tr>\n",
       "      <th>Date</th>\n",
       "      <th></th>\n",
       "      <th></th>\n",
       "      <th></th>\n",
       "    </tr>\n",
       "  </thead>\n",
       "  <tbody>\n",
       "    <tr>\n",
       "      <th>2021-03-01</th>\n",
       "      <td>388.308197</td>\n",
       "      <td>0.024240</td>\n",
       "      <td>0.852614</td>\n",
       "    </tr>\n",
       "    <tr>\n",
       "      <th>2021-03-02</th>\n",
       "      <td>385.278137</td>\n",
       "      <td>-0.007803</td>\n",
       "      <td>0.838158</td>\n",
       "    </tr>\n",
       "    <tr>\n",
       "      <th>2021-03-03</th>\n",
       "      <td>380.174835</td>\n",
       "      <td>-0.013246</td>\n",
       "      <td>0.813810</td>\n",
       "    </tr>\n",
       "    <tr>\n",
       "      <th>2021-03-04</th>\n",
       "      <td>375.470245</td>\n",
       "      <td>-0.012375</td>\n",
       "      <td>0.791365</td>\n",
       "    </tr>\n",
       "    <tr>\n",
       "      <th>2021-03-05</th>\n",
       "      <td>382.377625</td>\n",
       "      <td>0.018397</td>\n",
       "      <td>0.824320</td>\n",
       "    </tr>\n",
       "  </tbody>\n",
       "</table>\n",
       "</div>"
      ],
      "text/plain": [
       "                 Close  Daily Returns  Cumulative Returns\n",
       "Date                                                     \n",
       "2021-03-01  388.308197       0.024240            0.852614\n",
       "2021-03-02  385.278137      -0.007803            0.838158\n",
       "2021-03-03  380.174835      -0.013246            0.813810\n",
       "2021-03-04  375.470245      -0.012375            0.791365\n",
       "2021-03-05  382.377625       0.018397            0.824320"
      ]
     },
     "execution_count": 30,
     "metadata": {},
     "output_type": "execute_result"
    }
   ],
   "source": [
    "# Calculate the portfolio daily returns\n",
    "spy_data[\"Daily Returns\"] = spy_data[\"Close\"].pct_change()\n",
    "\n",
    "\n",
    "# Calculate the Cumulative returns\n",
    "spy_data[\"Cumulative Returns\"]= (1+ spy_data[\"Daily Returns\"]).cumprod()-1\n",
    "\n",
    "# Validate Data\n",
    "spy_data.tail()\n"
   ]
  },
  {
   "cell_type": "code",
   "execution_count": 31,
   "metadata": {},
   "outputs": [
    {
     "data": {
      "text/html": [
       "<div>\n",
       "<style scoped>\n",
       "    .dataframe tbody tr th:only-of-type {\n",
       "        vertical-align: middle;\n",
       "    }\n",
       "\n",
       "    .dataframe tbody tr th {\n",
       "        vertical-align: top;\n",
       "    }\n",
       "\n",
       "    .dataframe thead th {\n",
       "        text-align: right;\n",
       "    }\n",
       "</style>\n",
       "<table border=\"1\" class=\"dataframe\">\n",
       "  <thead>\n",
       "    <tr style=\"text-align: right;\">\n",
       "      <th></th>\n",
       "      <th>Backtest</th>\n",
       "    </tr>\n",
       "  </thead>\n",
       "  <tbody>\n",
       "    <tr>\n",
       "      <th>Annual Return</th>\n",
       "      <td>0.166375</td>\n",
       "    </tr>\n",
       "    <tr>\n",
       "      <th>Cumulative Returns</th>\n",
       "      <td>0.82432</td>\n",
       "    </tr>\n",
       "    <tr>\n",
       "      <th>Annual Volatility</th>\n",
       "      <td>0.200521</td>\n",
       "    </tr>\n",
       "    <tr>\n",
       "      <th>Sharpe Ratio</th>\n",
       "      <td>0.829713</td>\n",
       "    </tr>\n",
       "    <tr>\n",
       "      <th>Sortino Ratio</th>\n",
       "      <td>1.13812</td>\n",
       "    </tr>\n",
       "  </tbody>\n",
       "</table>\n",
       "</div>"
      ],
      "text/plain": [
       "                    Backtest\n",
       "Annual Return       0.166375\n",
       "Cumulative Returns   0.82432\n",
       "Annual Volatility   0.200521\n",
       "Sharpe Ratio        0.829713\n",
       "Sortino Ratio        1.13812"
      ]
     },
     "execution_count": 31,
     "metadata": {},
     "output_type": "execute_result"
    }
   ],
   "source": [
    "# Prepare DataFrame for metrics\n",
    "metrics = [\n",
    "    'Annual Return',\n",
    "    'Cumulative Returns',\n",
    "    'Annual Volatility',\n",
    "    'Sharpe Ratio',\n",
    "    'Sortino Ratio']\n",
    "\n",
    "columns = ['Backtest']\n",
    "\n",
    "# Initialize the DataFrame with index set to evaluation metrics and column as `Backtest` (just like PyFolio)\n",
    "spy_evaluation_df = pd.DataFrame(index=metrics, columns=columns)\n",
    "\n",
    "\n",
    "# Annualized Returns\n",
    "spy_evaluation_df.loc['Annual Return'] = (\n",
    "    spy_data['Daily Returns'].mean() * 252\n",
    ")\n",
    "\n",
    "# Calculate cumulative return\n",
    "spy_evaluation_df.loc[\"Cumulative Returns\"] =  (spy_data['Cumulative Returns'])\n",
    "\n",
    "# Calculate annual volatility\n",
    "spy_evaluation_df.loc['Annual Volatility'] = (\n",
    "    spy_data['Daily Returns'].std() * np.sqrt(252)\n",
    ")\n",
    "\n",
    "# Calculate Sharpe Ratio \n",
    "spy_evaluation_df.loc['Sharpe Ratio'] = (\n",
    "    spy_data['Daily Returns'].mean() * 252) / (\n",
    "    spy_data['Daily Returns'].std() * np.sqrt(252)\n",
    ")\n",
    "\n",
    "# Calculate cumulative return\n",
    "spy_evaluation_df.loc['Cumulative Returns'] = spy_data['Cumulative Returns'][-1]\n",
    "\n",
    "# Calculate Downside Return\n",
    "sortino_ratio_df = spy_data[['Daily Returns']]\n",
    "sortino_ratio_df.loc[:,'Downside Returns'] = 0\n",
    "sortino_ratio_df.head()\n",
    "\n",
    "target = 0\n",
    "mask = sortino_ratio_df['Daily Returns'] < target\n",
    "sortino_ratio_df.loc[mask, 'Downside Returns'] = sortino_ratio_df['Daily Returns']**2\n",
    "\n",
    "# Calculate Sortino Ratio\n",
    "down_stdev = np.sqrt(sortino_ratio_df['Downside Returns'].mean()) * np.sqrt(252)\n",
    "expected_return = sortino_ratio_df['Daily Returns'].mean() * 252\n",
    "sortino_ratio = expected_return/down_stdev\n",
    "\n",
    "spy_evaluation_df.loc['Sortino Ratio'] = sortino_ratio\n",
    "\n",
    "spy_evaluation_df"
   ]
  },
  {
   "cell_type": "code",
   "execution_count": 32,
   "metadata": {},
   "outputs": [
    {
     "data": {
      "text/plain": [
       "<matplotlib.axes._subplots.AxesSubplot at 0x18cfd5f2d08>"
      ]
     },
     "execution_count": 32,
     "metadata": {},
     "output_type": "execute_result"
    },
    {
     "data": {
      "image/png": "[encoded data removed]",
      "text/plain": [
       "<Figure size 432x288 with 1 Axes>"
      ]
     },
     "metadata": {
      "needs_background": "light"
     },
     "output_type": "display_data"
    }
   ],
   "source": [
    "spy_data['Close'].plot()"
   ]
  },
  {
   "cell_type": "code",
   "execution_count": 33,
   "metadata": {},
   "outputs": [
    {
     "data": {
      "application/vnd.holoviews_exec.v0+json": "",
      "text/html": [
       "<div id='1190'>\n",
       "\n",
       "\n",
       "\n",
       "\n",
       "\n",
       "  <div class=\"bk-root\" id=\"3672737b-fa89-4f92-908a-bad5d07d3c44\" data-root-id=\"1190\"></div>\n",
       "</div>\n",
       "<script type=\"application/javascript\">(function(root) {\n",
       "  function embed_document(root) {\n",
       "    var docs_json = {\"8bd62bf5-298a-4025-80aa-8094b888e99b\":{\"roots\":{\"references\":[{\"attributes\":{\"data_source\":{\"id\":\"1225\"},\"glyph\":{\"id\":\"1228\"},\"hover_glyph\":null,\"muted_glyph\":{\"id\":\"1230\"},\"nonselection_glyph\":{\"id\":\"1229\"},\"selection_glyph\":null,\"view\":{\"id\":\"1232\"}},\"id\":\"1231\",\"type\":\"GlyphRenderer\"},{\"attributes\":{\"text\":\"\",\"text_color\":{\"value\":\"black\"},\"text_font_size\":{\"value\":\"12pt\"}},\"id\":\"1196\",\"type\":\"Title\"},{\"attributes\":{\"line_alpha\":0.1,\"line_color\":\"green\",\"line_width\":2,\"x\":{\"field\":\"Date\"},\"y\":{\"field\":\"Close\"}},\"id\":\"1229\",\"type\":\"Line\"},{\"attributes\":{\"source\":{\"id\":\"1225\"}},\"id\":\"1232\",\"type\":\"CDSView\"},{\"attributes\":{},\"id\":\"1255\",\"type\":\"YearsTicker\"},{\"attributes\":{\"children\":[{\"id\":\"1191\"},{\"id\":\"1195\"},{\"id\":\"1277\"}],\"margin\":[0,0,0,0],\"name\":\"Row01713\",\"tags\":[\"embedded\"]},\"id\":\"1190\",\"type\":\"Row\"},{\"attributes\":{},\"id\":\"1212\",\"type\":\"SaveTool\"},{\"attributes\":{},\"id\":\"1213\",\"type\":\"PanTool\"},{\"attributes\":{\"base\":60,\"mantissas\":[1,2,5,10,15,20,30],\"max_interval\":1800000.0,\"min_interval\":1000.0,\"num_minor_ticks\":0},\"id\":\"1245\",\"type\":\"AdaptiveTicker\"},{\"attributes\":{\"below\":[{\"id\":\"1204\"}],\"center\":[{\"id\":\"1207\"},{\"id\":\"1211\"}],\"left\":[{\"id\":\"1208\"}],\"margin\":[5,5,5,5],\"min_border_bottom\":10,\"min_border_left\":10,\"min_border_right\":10,\"min_border_top\":10,\"plot_height\":300,\"plot_width\":700,\"renderers\":[{\"id\":\"1231\"}],\"sizing_mode\":\"fixed\",\"title\":{\"id\":\"1196\"},\"toolbar\":{\"id\":\"1218\"},\"x_range\":{\"id\":\"1192\"},\"x_scale\":{\"id\":\"1200\"},\"y_range\":{\"id\":\"1193\"},\"y_scale\":{\"id\":\"1202\"}},\"id\":\"1195\",\"subtype\":\"Figure\",\"type\":\"Plot\"},{\"attributes\":{\"data\":{\"Close\":{\"__ndarray__\":\"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\",\"dtype\":\"float64\",\"order\":\"little\",\"shape\":[1038]},\"Date\":{\"__ndarray__\":\"AACAw5KbdUIAAMD0iZx1QgAAgFrcnHVCAABAwC6ddUIAAAAmgZ11QgAAwIvTnXVCAAAAvcqedUIAAMAiHZ91QgAAgIhvn3VCAABA7sGfdUIAAABUFKB1QgAAQIULoXVCAAAA612hdUIAAMBQsKF1QgAAgLYConVCAABAHFWidUIAAIBNTKN1QgAAQLOeo3VCAAAAGfGjdUIAAMB+Q6R1QgAAgOSVpHVCAACAe9+ldUIAAEDhMaZ1QgAAAEeEpnVCAADArNamdUIAAADezad1QgAAwEMgqHVCAACAqXKodUIAAEAPxah1QgAAAHUXqXVCAABApg6qdUIAAAAMYap1QgAAwHGzqnVCAACA1wWrdUIAAEA9WKt1QgAAgG5PrHVCAABA1KGsdUIAAAA69Kx1QgAAwJ9GrXVCAACABZmtdUIAAMA2kK51QgAAgJzirnVCAABAAjWvdUIAAABoh691QgAAwM3Zr3VCAAAA/9CwdUIAAMBkI7F1QgAAgMp1sXVCAABAMMixdUIAAACWGrJ1QgAAQMcRs3VCAAAALWSzdUIAAMCStrN1QgAAgPgItHVCAABAXlu0dUIAAICPUrV1QgAAQPWktXVCAAAAW/e1dUIAAMDASbZ1QgAAwFeTt3VCAACAveW3dUIAAEAjOLh1QgAAAImKuHVCAADA7ty4dUIAAAAg1Ll1QgAAwIUmunVCAACA63i6dUIAAEBRy7p1QgAAALcdu3VCAABA6BS8dUIAAABOZ7x1QgAAwLO5vHVCAACAGQy9dUIAAEB/Xr11QgAAgLBVvnVCAABAFqi+dUIAAAB8+r51QgAAwOFMv3VCAACAR5+/dUIAAMB4lsB1QgAAgN7owHVCAABARDvBdUIAAACqjcF1QgAAwA/gwXVCAAAAQdfCdUIAAMCmKcN1QgAAgAx8w3VCAABAcs7DdUIAAADYIMR1QgAAAG9qxXVCAADA1LzFdUIAAIA6D8Z1QgAAQKBhxnVCAACA0VjHdUIAAEA3q8d1QgAAAJ39x3VCAADAAlDIdUIAAIBoosh1QgAAwJmZyXVCAACA/+vJdUIAAEBlPsp1QgAAAMuQynVCAADAMOPKdUIAAABi2st1QgAAwMcszHVCAACALX/MdUIAAECT0cx1QgAAAPkjzXVCAABAKhvOdUIAAACQbc51QgAAwPW/znVCAACAWxLPdUIAAEDBZM91QgAAgPJb0HVCAAAAvgDRdUIAAMAjU9F1QgAAgIml0XVCAADAupzSdUIAAIAg79J1QgAAQIZB03VCAAAA7JPTdUIAAMBR5tN1QgAAAIPd1HVCAADA6C/VdUIAAIBOgtV1QgAAQLTU1XVCAAAAGifWdUIAAEBLHtd1QgAAALFw13VCAADAFsPXdUIAAIB8Fdh1QgAAQOJn2HVCAACAE1/ZdUIAAEB5sdl1QgAAAN8D2nVCAADARFbadUIAAICqqNp1QgAAwNuf23VCAACAQfLbdUIAAECnRNx1QgAAAA2X3HVCAADAcuncdUIAAACk4N11QgAAwAkz3nVCAACAb4XedUIAAEDV1951QgAAADsq33VCAABAbCHgdUIAAADSc+B1QgAAwDfG4HVCAACAnRjhdUIAAEADa+F1QgAAgDRi4nVCAABAmrTidUIAAAAAB+N1QgAAwGVZ43VCAACAy6vjdUIAAIBi9eR1QgAAQMhH5XVCAAAALprldUIAAMCT7OV1QgAAAMXj5nVCAADAKjbndUIAAICQiOd1QgAAQPba53VCAAAAXC3odUIAAECNJOl1QgAAAPN26XVCAADAWMnpdUIAAIC+G+p1QgAAQCRu6nVCAACAVWXrdUIAAEC7t+t1QgAAACEK7HVCAADAhlzsdUIAAIDsrux1QgAAwB2m7XVCAACAg/jtdUIAAEDpSu51QgAAAE+d7nVCAADAtO/udUIAAADm5u91QgAAwEs58HVCAACAsYvwdUIAAEAX3vB1QgAAAH0w8XVCAABArifydUIAAAAUevJ1QgAAwHnM8nVCAACA3x7zdUIAAEBFcfN1QgAAgHZo9HVCAABA3Lr0dUIAAABCDfV1QgAAwKdf9XVCAACADbL1dUIAAMA+qfZ1QgAAgKT79nVCAABACk73dUIAAABwoPd1QgAAwNXy93VCAAAAB+r4dUIAAMBsPPl1QgAAgNKO+XVCAABAOOH5dUIAAACeM/p1QgAAQM8q+3VCAAAANX37dUIAAMCaz/t1QgAAgAAi/HVCAABAZnT8dUIAAICXa/11QgAAQP29/XVCAAAAYxD+dUIAAIAutf51QgAAwF+s/3VCAACAxf7/dUIAAEArUQB2QgAAAJGjAHZCAADA9vUAdkIAAAAo7QF2QgAAwI0/AnZCAACA85ECdkIAAEBZ5AJ2QgAAAL82A3ZCAABA8C0EdkIAAABWgAR2QgAAwLvSBHZCAACAISUFdkIAAECHdwV2QgAAgLhuBnZCAABAHsEGdkIAAACEEwd2QgAAwOllB3ZCAACAT7gHdkIAAIDmAQl2QgAAQExUCXZCAAAAsqYJdkIAAMAX+Ql2QgAAwK5CC3ZCAACAFJULdkIAAEB65wt2QgAAAOA5DHZCAABAETENdkIAAAB3gw12QgAAwNzVDXZCAACAQigOdkIAAECoeg52QgAAQD/ED3ZCAAAApRYQdkIAAMAKaRB2QgAAgHC7EHZCAADAobIRdkIAAIAHBRJ2QgAAQG1XEnZCAAAA06kSdkIAAMA4/BJ2QgAAAGrzE3ZCAADAz0UUdkIAAIA1mBR2QgAAQJvqFHZCAAAAAT0VdkIAAEAyNBZ2QgAAAJiGFnZCAADA/dgWdkIAAIBjKxd2QgAAQMl9F3ZCAACA+nQYdkIAAEBgxxh2QgAAAMYZGXZCAADAK2wZdkIAAICRvhl2QgAAgCgIG3ZCAABAjlobdkIAAAD0rBt2QgAAwFn/G3ZCAAAAi/YcdkIAAMDwSB12QgAAgFabHXZCAABAvO0ddkIAAAAiQB52QgAAQFM3H3ZCAAAAuYkfdkIAAMAe3B92QgAAgIQuIHZCAABA6oAgdkIAAIAbeCF2QgAAQIHKIXZCAAAA5xwidkIAAMBMbyJ2QgAAgLLBInZCAADA47gjdkIAAIBJCyR2QgAAQK9dJHZCAAAAFbAkdkIAAMB6AiV2QgAAAKz5JXZCAADAEUwmdkIAAIB3niZ2QgAAQN3wJnZCAABAdDoodkIAAADajCh2QgAAwD/fKHZCAACApTEpdkIAAEALhCl2QgAAgDx7KnZCAABAos0qdkIAAAAIICt2QgAAwG1yK3ZCAACA08QrdkIAAMAEvCx2QgAAgGoOLXZCAABA0GAtdkIAAAA2sy12QgAAwJsFLnZCAAAAzfwudkIAAMAyTy92QgAAgJihL3ZCAABA/vMvdkIAAABkRjB2QgAAQJU9MXZCAAAA+48xdkIAAMBg4jF2QgAAgMY0MnZCAABALIcydkIAAIBdfjN2QgAAQMPQM3ZCAAAAKSM0dkIAAMCOdTR2QgAAgPTHNHZCAADAJb81dkIAAICLETZ2QgAAQPFjNnZCAAAAV7Y2dkIAAMC8CDd2QgAAAO7/N3ZCAADAU1I4dkIAAIC5pDh2QgAAQB/3OHZCAAAAhUk5dkIAAAAckzp2QgAAwIHlOnZCAACA5zc7dkIAAEBNijt2QgAAgH6BPHZCAABA5NM8dkIAAABKJj12QgAAwK94PXZCAACAFcs9dkIAAMBGwj52QgAAgKwUP3ZCAABAEmc/dkIAAAB4uT92QgAAwN0LQHZCAAAADwNBdkIAAMB0VUF2QgAAgNqnQXZCAABAQPpBdkIAAACmTEJ2QgAAQNdDQ3ZCAAAAPZZDdkIAAMCi6EN2QgAAgAg7RHZCAABAbo1EdkIAAICfhEV2QgAAQAXXRXZCAADA0HtGdkIAAIA2zkZ2QgAAwGfFR3ZCAACAzRdIdkIAAEAzakh2QgAAAJm8SHZCAADA/g5JdkIAAAAwBkp2QgAAwJVYSnZCAACA+6pKdkIAAEBh/Up2QgAAAMdPS3ZCAABA+EZMdkIAAABemUx2QgAAwMPrTHZCAACAKT5NdkIAAECPkE12QgAAgMCHTnZCAABAJtpOdkIAAACMLE92QgAAwPF+T3ZCAACAV9FPdkIAAMCIyFB2QgAAgO4aUXZCAABAVG1RdkIAAAC6v1F2QgAAwB8SUnZCAAAAUQlTdkIAAMC2W1N2QgAAgByuU3ZCAABAggBUdkIAAADoUlR2QgAAQBlKVXZCAAAAf5xVdkIAAMDk7lV2QgAAgEpBVnZCAABAsJNWdkIAAIDhild2QgAAQEfdV3ZCAAAArS9YdkIAAMASglh2QgAAgHjUWHZCAACADx5adkIAAEB1cFp2QgAAANvCWnZCAADAQBVbdkIAAAByDFx2QgAAwNdeXHZCAACAPbFcdkIAAECjA112QgAAAAlWXXZCAABAOk1edkIAAACgn152QgAAwAXyXnZCAACAa0RfdkIAAEDRll92QgAAgAKOYHZCAABAaOBgdkIAAADOMmF2QgAAwDOFYXZCAACAmddhdkIAAMDKzmJ2QgAAgDAhY3ZCAABAlnNjdkIAAAD8xWN2QgAAwGEYZHZCAAAAkw9ldkIAAMD4YWV2QgAAgF60ZXZCAABAxAZmdkIAAAAqWWZ2QgAAQFtQZ3ZCAAAAwaJndkIAAMAm9Wd2QgAAgIxHaHZCAABA8plodkIAAIAjkWl2QgAAQInjaXZCAAAA7zVqdkIAAMBUiGp2QgAAgLraanZCAADA69FrdkIAAIBRJGx2QgAAQLd2bHZCAAAAHclsdkIAAMCCG212QgAAALQSbnZCAADAGWVudkIAAIB/t252QgAAQOUJb3ZCAAAAS1xvdkIAAEB8U3B2QgAAAOKlcHZCAADAR/hwdkIAAICtSnF2QgAAQBOdcXZCAACARJRydkIAAECq5nJ2QgAAABA5c3ZCAACA291zdkIAAMAM1XR2QgAAgHIndXZCAABA2Hl1dkIAAAA+zHV2QgAAwKMednZCAAAA1RV3dkIAAMA6aHd2QgAAQAYNeHZCAAAAbF94dkIAAECdVnl2QgAAAAOpeXZCAADAaPt5dkIAAIDOTXp2QgAAQDSgenZCAACAZZd7dkIAAEDL6Xt2QgAAADE8fHZCAADAlo58dkIAAID84Hx2QgAAwC3YfXZCAABA+Xx+dkIAAABfz352QgAAwMQhf3ZCAAAA9hiAdkIAAIDBvYB2QgAAQCcQgXZCAAAAjWKBdkIAAEC+WYJ2QgAAACSsgnZCAADAif6CdkIAAIDvUIN2QgAAQFWjg3ZCAACAhpqEdkIAAEDs7IR2QgAAAFI/hXZCAADAt5GFdkIAAIAd5IV2QgAAgLQth3ZCAABAGoCHdkIAAACA0od2QgAAwOUkiHZCAAAAFxyJdkIAAMB8bol2QgAAgOLAiXZCAABASBOKdkIAAACuZYp2QgAAQN9ci3ZCAAAARa+LdkIAAMCqAYx2QgAAgBBUjHZCAABAdqaMdkIAAICnnY12QgAAQA3wjXZCAAAAc0KOdkIAAMDYlI52QgAAgD7njnZCAACA1TCQdkIAAEA7g5B2QgAAAKHVkHZCAADABiiRdkIAAAA4H5J2QgAAwJ1xknZCAACAA8SSdkIAAEBpFpN2QgAAAM9ok3ZCAABAAGCUdkIAAABmspR2QgAAwMsElXZCAACAMVeVdkIAAECXqZV2QgAAgMiglnZCAABALvOWdkIAAACURZd2QgAAwPmXl3ZCAACAX+qXdkIAAMCQ4Zh2QgAAgPYzmXZCAABAXIaZdkIAAADC2Jl2QgAAwCcrmnZCAAAAWSKbdkIAAMC+dJt2QgAAgCTHm3ZCAABAihmcdkIAAADwa5x2QgAAQCFjnXZCAAAAh7WddkIAAMDsB552QgAAgFJannZCAABAuKyedkIAAIDpo592QgAAQE/2n3ZCAAAAtUigdkIAAMAam6B2QgAAgIDtoHZCAADAseShdkIAAIAXN6J2QgAAQH2JonZCAAAA49uidkIAAAB6JaR2QgAAwN93pHZCAACARcqkdkIAAECrHKV2QgAAABFvpXZCAABAQmamdkIAAACouKZ2QgAAwA0Lp3ZCAACAc12ndkIAAEDZr6d2QgAAgAqnqHZCAABAcPmodkIAAADWS6l2QgAAwDueqXZCAACAofCpdkIAAMDS56p2QgAAgDg6q3ZCAABAnoyrdkIAAAAE36t2QgAAwGkxrHZCAAAAmyitdkIAAMAAe612QgAAgGbNrXZCAABAzB+udkIAAAAycq52QgAAAMm7r3ZCAADALg6wdkIAAICUYLB2QgAAQPqysHZCAACAK6qxdkIAAECR/LF2QgAAAPdOsnZCAADAXKGydkIAAIDC87J2QgAAwPPqs3ZCAACAWT20dkIAAEC/j7R2QgAAACXitHZCAADAijS1dkIAAAC8K7Z2QgAAwCF+tnZCAACAh9C2dkIAAEDtIrd2QgAAAFN1t3ZCAABAhGy4dkIAAADqvrh2QgAAwE8RuXZCAACAtWO5dkIAAEAbtrl2QgAAgEytunZCAABAsv+6dkIAAAAYUrt2QgAAgOP2u3ZCAADAFO68dkIAAIB6QL12QgAAQOCSvXZCAAAARuW9dkIAAMCrN752QgAAAN0uv3ZCAADAQoG/dkIAAICo0792QgAAQA4mwHZCAAAAdHjAdkIAAEClb8F2QgAAAAvCwXZCAADAcBTCdkIAAIDWZsJ2QgAAQDy5wnZCAACAbbDDdkIAAEDTAsR2QgAAADlVxHZCAADAnqfEdkIAAIAE+sR2QgAAwDXxxXZCAACAm0PGdkIAAEABlsZ2QgAAAGfoxnZCAADAzDrHdkIAAAD+Mch2QgAAwGOEyHZCAACAydbIdkIAAEAvKcl2QgAAAJV7yXZCAABAxnLKdkIAAAAsxcp2QgAAwJEXy3ZCAACA92nLdkIAAEBdvMt2QgAAgI6zzHZCAABA9AXNdkIAAABaWM12QgAAwL+qzXZCAACAJf3NdkIAAIC8Rs92QgAAQCKZz3ZCAAAAiOvPdkIAAMDtPdB2QgAAAB810XZCAADAhIfRdkIAAIDq2dF2QgAAQFAs0nZCAAAAtn7SdkIAAEDnddN2QgAAAE3I03ZCAADAshrUdkIAAIAYbdR2QgAAQH6/1HZCAACAr7bVdkIAAEAVCdZ2QgAAAHtb1nZCAADA4K3WdkIAAIBGANd2QgAAwHf313ZCAACA3UnYdkIAAEBDnNh2QgAAAKnu2HZCAADADkHZdkIAAABAONp2QgAAwKWK2nZCAACAC93adkIAAEBxL9t2QgAAANeB23ZCAABACHncdkIAAABuy9x2QgAAwNMd3XZCAACAOXDddkIAAECfwt12QgAAgNC53nZCAABANgzfdkIAAACcXt92QgAAwAGx33ZCAACAZwPgdkIAAMCY+uB2QgAAgP5M4XZCAABAZJ/hdkIAAADK8eF2QgAAwC9E4nZCAAAAYTvjdkIAAMDGjeN2QgAAgCzg43ZCAABAkjLkdkIAAAD4hOR2QgAAQCl85XZCAAAAj87ldkIAAMD0IOZ2QgAAgFpz5nZCAABAwMXmdkIAAIDxvOd2QgAAQFcP6HZCAAAAvWHodkIAAMAitOh2QgAAgIgG6XZCAADAuf3pdkIAAIAfUOp2QgAAQIWi6nZCAADAUEfrdkIAAACCPux2QgAAwOeQ7HZCAACATePsdkIAAECzNe12QgAAABmI7XZCAABASn/udkIAAACw0e52QgAAwBUk73ZCAACAe3bvdkIAAEDhyO92QgAAgBLA8HZCAABAeBLxdkIAAADeZPF2QgAAwEO38XZCAACAqQnydkIAAMDaAPN2QgAAgEBT83ZCAAAADPjzdkIAAMBxSvR2QgAAAKNB9XZCAADACJT1dkIAAEDUOPZ2QgAAADqL9nZCAABAa4L3dkIAAADR1Pd2QgAAwDYn+HZCAACAnHn4dkIAAEACzPh2QgAAgDPD+XZCAABAmRX6dkIAAAD/Z/p2QgAAwGS6+nZCAACAygz7dkIAAIBhVvx2QgAAQMeo/HZCAAAALfv8dkIAAMCSTf12QgAAAMRE/nZCAADAKZf+dkIAAICP6f52QgAAQPU7/3ZCAAAAW47/dkIAAECMhQB3QgAAAPLXAHdCAADAVyoBd0IAAIC9fAF3QgAAQCPPAXdCAACAVMYCd0IAAEC6GAN3QgAAACBrA3dCAADAhb0Dd0IAAIDrDwR3QgAAgIJZBXdCAABA6KsFd0IAAABO/gV3QgAAwLNQBndCAAAA5UcHd0IAAMBKmgd3QgAAgLDsB3dCAABAFj8Id0IAAAB8kQh3QgAAQK2ICXdCAAAAE9sJd0IAAMB4LQp3QgAAgN5/CndCAABARNIKd0IAAIB1yQt3QgAAQNsbDHdCAAAAQW4Md0IAAMCmwAx3QgAAgAwTDXdCAADAPQoOd0IAAICjXA53QgAAQAmvDndCAAAAbwEPd0IAAMDUUw93QgAAAAZLEHdCAADAa50Qd0IAAIDR7xB3QgAAQDdCEXdCAAAAnZQRd0IAAEDOixJ3QgAAADTeEndCAADAmTATd0IAAID/ghN3QgAAQGXVE3dCAACAlswUd0IAAED8HhV3QgAAAGJxFXdCAADAx8MVd0IAAMBeDRd3QgAAgMRfF3dCAABAKrIXd0IAAACQBBh3QgAAwPVWGHdCAAAAJ04Zd0IAAMCMoBl3QgAAgPLyGXdCAABAWEUad0IAAAC+lxp3QgAAQO+OG3dCAAAAVeEbd0IAAMC6Mxx3QgAAgCCGHHdCAABAhtgcd0IAAIC3zx13QgAAQB0iHndCAAAAg3Qed0IAAMDoxh53QgAAgE4ZH3dCAADAfxAgd0IAAIDlYiB3QgAAQEu1IHdCAAAAsQchd0IAAMAWWiF3QgAAAEhRIndCAADAraMid0IAAIAT9iJ3QgAAQHlII3dCAAAA35ojd0IAAAB25CR3QgAAwNs2JXdCAACAQYkld0IAAECn2yV3QgAAgNjSJndCAABAPiUnd0IAAACkdyd3QgAAwAnKJ3dCAACAbxwod0IAAMCgEyl3QgAAgAZmKXdCAABAbLgpd0IAAADSCip3QgAAwDddKndCAAAAaVQrd0IAAMDOpit3QgAAgDT5K3dCAABAmkssd0IAAAAAnix3QgAAQDGVLXdCAAAAl+ctd0IAAMD8OS53QgAAgGKMLndCAABAyN4ud0IAAID51S93QgAAQF8oMHdCAAAAxXowd0IAAMAqzTB3QgAAwMEWMndCAACAJ2kyd0IAAECNuzJ3QgAAAPMNM3dCAADAWGAzd0IAAACKVzR3QgAAwO+pNHdCAACAVfw0d0IAAEC7TjV3QgAAACGhNXdCAABAUpg2d0IAAAC46jZ3QgAAwB09N3dCAACAg483d0IAAEDp4Td3QgAAgBrZOHdCAABAgCs5d0IAAADmfTl3QgAAwEvQOXdCAACAsSI6d0IAAMDiGTt3QgAAgEhsO3dCAABArr47d0IAAAAUETx3QgAAwHljPHdCAAAAq1o9d0IAAMAQrT13QgAAgHb/PXdCAABA3FE+d0IAAABCpD53QgAAQHObP3dCAAAA2e0/d0IAAMA+QEB3QgAAgKSSQHdCAABACuVAd0IAAIA73EF3QgAAQKEuQndCAAAAB4FCd0IAAMBs00J3QgAAgNIlQ3dCAADAAx1Ed0IAAIBpb0R3QgAAQM/BRHdCAAAANRRFd0IAAMCaZkV3QgAAwDGwRndCAACAlwJHd0IAAED9VEd3QgAAAGOnR3dCAABAlJ5Id0IAAAD68Eh3QgAAwF9DSXdCAACAxZVJd0IAAEAr6El3QgAAgFzfSndCAABAwjFLd0IAAAAohEt3QgAAwI3WS3dCAACA8yhMd0IAAMAkIE13QgAAgIpyTXdCAABA8MRNd0IAAABWF053QgAAwLtpTndCAAAA7WBPd0IAAMBSs093QgAAgLgFUHdCAABAHlhQd0IAAACEqlB3QgAAQLWhUXdCAAAAG/RRd0IAAMCARlJ3QgAAgOaYUndCAABATOtSd0IAAIB94lN3QgAAQOM0VHdCAAAASYdUd0IAAMCu2VR3QgAAgBQsVXdCAADARSNWd0IAAICrdVZ3QgAAQBHIVndCAAAAdxpXd0IAAMDcbFd3QgAAAA5kWHdCAADAc7ZYd0IAAIDZCFl3QgAAQD9bWXdCAAAApa1Zd0IAAEDWpFp3QgAAADz3WndCAADAoUlbd0IAAIAHnFt3QgAAQG3uW3dCAACAnuVcd0IAAEAEOF13QgAAAGqKXXdCAADAz9xdd0IAAIA1L153QgAAwGYmX3dCAACAzHhfd0IAAEAyy193QgAAwP1vYHdCAAAAL2dhd0IAAMCUuWF3QgAAgPoLYndCAABAYF5id0IAAADGsGJ3QgAAQPenY3dCAAAAXfpjd0IAAMDCTGR3QgAAgCifZHdCAABAjvFkd0IAAIC/6GV3QgAAQCU7ZndCAAAAi41md0IAAMDw32Z3QgAAgFYyZ3dCAADAhylod0IAAIDte2h3QgAAQFPOaHdCAAAAuSBpd0IAAABQamp3QgAAwLW8andCAACAGw9rd0IAAECBYWt3QgAAQBirbHdCAAAAfv1sd0IAAMDjT213QgAAgEmibXdCAABAr/Rtd0IAAIDg6253QgAAQEY+b3dCAAAArJBvd0IAAMAR4293QgAAgHc1cHdCAACADn9xd0IAAEB00XF3QgAAANojcndCAADAP3Zyd0IAAABxbXN3QgAAwNa/c3dCAACAPBJ0d0IAAECiZHR3QgAAAAi3dHdCAABAOa51d0IAAACfAHZ3QgAAwARTdndCAACAaqV2d0IAAEDQ93Z3QgAAgAHvd3dCAABAZ0F4d0IAAADNk3h3QgAAwDLmeHdCAACAmDh5d0IAAIAvgnp3QgAAQJXUendCAAAA+yZ7d0IAAMBgeXt3QgAAAJJwfHdCAADA98J8d0IAAIBdFX13QgAAQMNnfXdCAAAAKbp9d0IAAEBasX53QgAAAMADf3dCAADAJVZ/d0IAAICLqH93QgAAQPH6f3dC\",\"dtype\":\"float64\",\"order\":\"little\",\"shape\":[1038]}},\"selected\":{\"id\":\"1226\"},\"selection_policy\":{\"id\":\"1243\"}},\"id\":\"1225\",\"type\":\"ColumnDataSource\"},{\"attributes\":{\"margin\":[5,5,5,5],\"name\":\"HSpacer01717\",\"sizing_mode\":\"stretch_width\"},\"id\":\"1191\",\"type\":\"Spacer\"},{\"attributes\":{},\"id\":\"1216\",\"type\":\"ResetTool\"},{\"attributes\":{},\"id\":\"1214\",\"type\":\"WheelZoomTool\"},{\"attributes\":{\"days\":[1,2,3,4,5,6,7,8,9,10,11,12,13,14,15,16,17,18,19,20,21,22,23,24,25,26,27,28,29,30,31]},\"id\":\"1247\",\"type\":\"DaysTicker\"},{\"attributes\":{},\"id\":\"1243\",\"type\":\"UnionRenderers\"},{\"attributes\":{\"mantissas\":[1,2,5],\"max_interval\":500.0,\"num_minor_ticks\":0},\"id\":\"1244\",\"type\":\"AdaptiveTicker\"},{\"attributes\":{},\"id\":\"1235\",\"type\":\"BasicTickFormatter\"},{\"attributes\":{\"overlay\":{\"id\":\"1217\"}},\"id\":\"1215\",\"type\":\"BoxZoomTool\"},{\"attributes\":{\"base\":24,\"mantissas\":[1,2,4,6,8,12],\"max_interval\":43200000.0,\"min_interval\":3600000.0,\"num_minor_ticks\":0},\"id\":\"1246\",\"type\":\"AdaptiveTicker\"},{\"attributes\":{\"margin\":[5,5,5,5],\"name\":\"HSpacer01718\",\"sizing_mode\":\"stretch_width\"},\"id\":\"1277\",\"type\":\"Spacer\"},{\"attributes\":{\"end\":1614902400000.0,\"reset_end\":1614902400000.0,\"reset_start\":1484870400000.0,\"start\":1484870400000.0,\"tags\":[[[\"Date\",\"Date\",null]]]},\"id\":\"1192\",\"type\":\"Range1d\"},{\"attributes\":{},\"id\":\"1202\",\"type\":\"LinearScale\"},{\"attributes\":{\"axis_label\":\"Date\",\"bounds\":\"auto\",\"formatter\":{\"id\":\"1233\"},\"major_label_orientation\":\"horizontal\",\"ticker\":{\"id\":\"1205\"}},\"id\":\"1204\",\"type\":\"DatetimeAxis\"},{\"attributes\":{\"days\":[1,4,7,10,13,16,19,22,25,28]},\"id\":\"1248\",\"type\":\"DaysTicker\"},{\"attributes\":{},\"id\":\"1200\",\"type\":\"LinearScale\"},{\"attributes\":{\"end\":409.5885665893555,\"reset_end\":409.5885665893555,\"reset_start\":190.82435150146483,\"start\":190.82435150146483,\"tags\":[[[\"Close\",\"Close\",null]]]},\"id\":\"1193\",\"type\":\"Range1d\"},{\"attributes\":{\"num_minor_ticks\":5,\"tickers\":[{\"id\":\"1244\"},{\"id\":\"1245\"},{\"id\":\"1246\"},{\"id\":\"1247\"},{\"id\":\"1248\"},{\"id\":\"1249\"},{\"id\":\"1250\"},{\"id\":\"1251\"},{\"id\":\"1252\"},{\"id\":\"1253\"},{\"id\":\"1254\"},{\"id\":\"1255\"}]},\"id\":\"1205\",\"type\":\"DatetimeTicker\"},{\"attributes\":{\"months\":[0,1,2,3,4,5,6,7,8,9,10,11]},\"id\":\"1251\",\"type\":\"MonthsTicker\"},{\"attributes\":{\"axis_label\":\"Close\",\"bounds\":\"auto\",\"formatter\":{\"id\":\"1235\"},\"major_label_orientation\":\"horizontal\",\"ticker\":{\"id\":\"1209\"}},\"id\":\"1208\",\"type\":\"LinearAxis\"},{\"attributes\":{\"active_drag\":\"auto\",\"active_inspect\":\"auto\",\"active_multi\":null,\"active_scroll\":\"auto\",\"active_tap\":\"auto\",\"tools\":[{\"id\":\"1194\"},{\"id\":\"1212\"},{\"id\":\"1213\"},{\"id\":\"1214\"},{\"id\":\"1215\"},{\"id\":\"1216\"}]},\"id\":\"1218\",\"type\":\"Toolbar\"},{\"attributes\":{\"axis\":{\"id\":\"1204\"},\"grid_line_color\":null,\"ticker\":null},\"id\":\"1207\",\"type\":\"Grid\"},{\"attributes\":{\"days\":[1,8,15,22]},\"id\":\"1249\",\"type\":\"DaysTicker\"},{\"attributes\":{\"days\":[1,15]},\"id\":\"1250\",\"type\":\"DaysTicker\"},{\"attributes\":{},\"id\":\"1233\",\"type\":\"DatetimeTickFormatter\"},{\"attributes\":{},\"id\":\"1209\",\"type\":\"BasicTicker\"},{\"attributes\":{},\"id\":\"1226\",\"type\":\"Selection\"},{\"attributes\":{\"axis\":{\"id\":\"1208\"},\"dimension\":1,\"grid_line_color\":null,\"ticker\":null},\"id\":\"1211\",\"type\":\"Grid\"},{\"attributes\":{\"callback\":null,\"formatters\":{\"@{Date}\":\"datetime\"},\"renderers\":[{\"id\":\"1231\"}],\"tags\":[\"hv_created\"],\"tooltips\":[[\"Date\",\"@{Date}{%F %T}\"],[\"Close\",\"@{Close}\"]]},\"id\":\"1194\",\"type\":\"HoverTool\"},{\"attributes\":{\"months\":[0,2,4,6,8,10]},\"id\":\"1252\",\"type\":\"MonthsTicker\"},{\"attributes\":{\"line_alpha\":0.2,\"line_color\":\"green\",\"line_width\":2,\"x\":{\"field\":\"Date\"},\"y\":{\"field\":\"Close\"}},\"id\":\"1230\",\"type\":\"Line\"},{\"attributes\":{\"line_color\":\"green\",\"line_width\":2,\"x\":{\"field\":\"Date\"},\"y\":{\"field\":\"Close\"}},\"id\":\"1228\",\"type\":\"Line\"},{\"attributes\":{\"months\":[0,4,8]},\"id\":\"1253\",\"type\":\"MonthsTicker\"},{\"attributes\":{\"bottom_units\":\"screen\",\"fill_alpha\":0.5,\"fill_color\":\"lightgrey\",\"left_units\":\"screen\",\"level\":\"overlay\",\"line_alpha\":1.0,\"line_color\":\"black\",\"line_dash\":[4,4],\"line_width\":2,\"right_units\":\"screen\",\"top_units\":\"screen\"},\"id\":\"1217\",\"type\":\"BoxAnnotation\"},{\"attributes\":{\"months\":[0,6]},\"id\":\"1254\",\"type\":\"MonthsTicker\"}],\"root_ids\":[\"1190\"]},\"title\":\"Bokeh Application\",\"version\":\"2.2.3\"}};\n",
       "    var render_items = [{\"docid\":\"8bd62bf5-298a-4025-80aa-8094b888e99b\",\"root_ids\":[\"1190\"],\"roots\":{\"1190\":\"3672737b-fa89-4f92-908a-bad5d07d3c44\"}}];\n",
       "    root.Bokeh.embed.embed_items_notebook(docs_json, render_items);\n",
       "  }\n",
       "  if (root.Bokeh !== undefined && root.Bokeh.Panel !== undefined) {\n",
       "    embed_document(root);\n",
       "  } else {\n",
       "    var attempts = 0;\n",
       "    var timer = setInterval(function(root) {\n",
       "      if (root.Bokeh !== undefined && root.Bokeh.Panel !== undefined) {\n",
       "        clearInterval(timer);\n",
       "        embed_document(root);\n",
       "      } else if (document.readyState == \"complete\") {\n",
       "        attempts++;\n",
       "        if (attempts > 100) {\n",
       "          clearInterval(timer);\n",
       "          console.log(\"Bokeh: ERROR: Unable to run BokehJS code because BokehJS library is missing\");\n",
       "        }\n",
       "      }\n",
       "    }, 10, root)\n",
       "  }\n",
       "})(window);</script>"
      ],
      "text/plain": [
       ":Curve   [Date]   (Close)"
      ]
     },
     "execution_count": 33,
     "metadata": {
      "application/vnd.holoviews_exec.v0+json": {
       "id": "1190"
      }
     },
     "output_type": "execute_result"
    }
   ],
   "source": [
    "import hvplot.pandas\n",
    "spy_data.hvplot.line(x='Date', y='Close', line_color=\"green\")"
   ]
  },
  {
   "cell_type": "code",
   "execution_count": null,
   "metadata": {},
   "outputs": [],
   "source": []
  },
  {
   "cell_type": "code",
   "execution_count": null,
   "metadata": {},
   "outputs": [],
   "source": []
  }
 ],
 "metadata": {
  "kernelspec": {
   "display_name": "Python 3",
   "language": "python",
   "name": "python3"
  },
  "language_info": {
   "codemirror_mode": {
    "name": "ipython",
    "version": 3
   },
   "file_extension": ".py",
   "mimetype": "text/x-python",
   "name": "python",
   "nbconvert_exporter": "python",
   "pygments_lexer": "ipython3",
   "version": "3.7.9"
  }
 },
 "nbformat": 4,
 "nbformat_minor": 4
}
