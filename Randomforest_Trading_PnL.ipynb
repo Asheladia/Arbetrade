{
 "cells": [
  {
   "cell_type": "markdown",
   "metadata": {},
   "source": [
    "### Technicals to Add\n",
    "#### RSI, MACD, CCI, Bollinger Bands, SMA 9, SMA 20, SMA 50, SMA 100, SMA 200"
   ]
  },
  {
   "cell_type": "code",
   "execution_count": 2,
   "metadata": {},
   "outputs": [],
   "source": [
    "import pandas as pd\n",
    "from pandas_datareader import data as web\n",
    "from pandas_datareader import data as pdr\n",
    "import matplotlib.pyplot as plt\n",
    "import datetime as dt\n",
    "import numpy as np\n",
    "from pathlib import Path\n",
    "import hvplot.pandas\n",
    "\n",
    "\n",
    "%matplotlib inline\n",
    "\n",
    "import warnings\n",
    "warnings.filterwarnings('ignore')"
   ]
  },
  {
   "cell_type": "code",
   "execution_count": null,
   "metadata": {},
   "outputs": [],
   "source": [
    "file_path = Path(\"Data/spy_data_pedro.csv\")\n",
    "spy_df = pd.read_csv(file_path)"
   ]
  },
  {
   "cell_type": "code",
   "execution_count": null,
   "metadata": {},
   "outputs": [],
   "source": [
    "spy_px = spy_df[[\"Date\", \"SPY Close\", \"High\", \"Low\"]]\n",
    "spy_px.head()"
   ]
  },
  {
   "cell_type": "markdown",
   "metadata": {},
   "source": [
    "### Bolinger"
   ]
  },
  {
   "cell_type": "code",
   "execution_count": null,
   "metadata": {},
   "outputs": [],
   "source": [
    "bollinger_window = 20\n",
    "spy_px['bollinger_mid_band'] = spy_px[\"SPY Close\"].rolling(window=bollinger_window).mean()\n",
    "spy_px.head()"
   ]
  },
  {
   "cell_type": "code",
   "execution_count": 4,
   "metadata": {},
   "outputs": [
    {
     "ename": "NameError",
     "evalue": "name 'spy_px' is not defined",
     "output_type": "error",
     "traceback": [
      "\u001b[1;31m---------------------------------------------------------------------------\u001b[0m",
      "\u001b[1;31mNameError\u001b[0m                                 Traceback (most recent call last)",
      "\u001b[1;32m<ipython-input-4-ba06d24d9a3c>\u001b[0m in \u001b[0;36m<module>\u001b[1;34m\u001b[0m\n\u001b[1;32m----> 1\u001b[1;33m \u001b[0mbollinger_std\u001b[0m \u001b[1;33m=\u001b[0m \u001b[0mspy_px\u001b[0m\u001b[1;33m[\u001b[0m\u001b[1;34m\"SPY Close\"\u001b[0m\u001b[1;33m]\u001b[0m\u001b[1;33m.\u001b[0m\u001b[0mrolling\u001b[0m\u001b[1;33m(\u001b[0m\u001b[0mwindow\u001b[0m\u001b[1;33m=\u001b[0m\u001b[1;36m20\u001b[0m\u001b[1;33m)\u001b[0m\u001b[1;33m.\u001b[0m\u001b[0mstd\u001b[0m\u001b[1;33m(\u001b[0m\u001b[1;33m)\u001b[0m\u001b[1;33m\u001b[0m\u001b[1;33m\u001b[0m\u001b[0m\n\u001b[0m\u001b[0;32m      2\u001b[0m \u001b[0mspy_px\u001b[0m\u001b[1;33m[\u001b[0m\u001b[1;34m\"bollinger_upper_band\"\u001b[0m\u001b[1;33m]\u001b[0m \u001b[1;33m=\u001b[0m \u001b[0mspy_px\u001b[0m\u001b[1;33m[\u001b[0m\u001b[1;34m\"bollinger_mid_band\"\u001b[0m\u001b[1;33m]\u001b[0m \u001b[1;33m+\u001b[0m \u001b[0mbollinger_std\u001b[0m\u001b[1;33m\u001b[0m\u001b[1;33m\u001b[0m\u001b[0m\n\u001b[0;32m      3\u001b[0m \u001b[0mspy_px\u001b[0m\u001b[1;33m[\u001b[0m\u001b[1;34m\"bollinger_lower_band\"\u001b[0m\u001b[1;33m]\u001b[0m \u001b[1;33m=\u001b[0m \u001b[0mspy_px\u001b[0m\u001b[1;33m[\u001b[0m\u001b[1;34m\"bollinger_mid_band\"\u001b[0m\u001b[1;33m]\u001b[0m \u001b[1;33m-\u001b[0m \u001b[0mbollinger_std\u001b[0m\u001b[1;33m\u001b[0m\u001b[1;33m\u001b[0m\u001b[0m\n",
      "\u001b[1;31mNameError\u001b[0m: name 'spy_px' is not defined"
     ]
    }
   ],
   "source": [
    "bollinger_std = spy_px[\"SPY Close\"].rolling(window=20).std()\n",
    "spy_px[\"bollinger_upper_band\"] = spy_px[\"bollinger_mid_band\"] + bollinger_std\n",
    "spy_px[\"bollinger_lower_band\"] = spy_px[\"bollinger_mid_band\"] - bollinger_std"
   ]
  },
  {
   "cell_type": "code",
   "execution_count": null,
   "metadata": {},
   "outputs": [],
   "source": [
    "spy_px[[\"SPY Close\",'bollinger_mid_band','bollinger_upper_band','bollinger_lower_band']].plot(figsize=(20,10))"
   ]
  },
  {
   "cell_type": "code",
   "execution_count": null,
   "metadata": {},
   "outputs": [],
   "source": [
    "\n",
    "spy_px['bollinger_long'] = np.where(spy_px['SPY Close'] < spy_px['bollinger_lower_band'], 1.0, 0.0)\n",
    "spy_px['bollinger_short'] = np.where(spy_px['SPY Close'] > spy_px['bollinger_upper_band'], -1.0, 0.0)\n",
    "spy_px['bollinger_signal'] = spy_px['bollinger_long'] + spy_px['bollinger_short']"
   ]
  },
  {
   "cell_type": "code",
   "execution_count": null,
   "metadata": {},
   "outputs": [],
   "source": [
    "spy_px.iloc[20:25, :]"
   ]
  },
  {
   "cell_type": "markdown",
   "metadata": {},
   "source": [
    "### MACD"
   ]
  },
  {
   "cell_type": "code",
   "execution_count": null,
   "metadata": {},
   "outputs": [],
   "source": [
    "\n",
    "#macd_df = pd.DataFrame(spy_px[['Date', 'SPY Close']])\n",
    "\n",
    "# Set short and long SMAs\n",
    "short_sma = 12\n",
    "long_sma = 26\n",
    "\n",
    "# Construct a 'Fast' and 'Slow' Exponentiall Moving Average from short and long windows, respectively\n",
    "spy_px['macd 12d sma'] = spy_px['SPY Close'].ewm(halflife=short_sma).mean()\n",
    "spy_px['macd 26d sma'] = spy_px['SPY Close'].ewm(halflife=long_sma).mean()\n",
    "\n",
    "# Construct a crossover trading signal\n",
    "spy_px['MACD Long'] = np.where(spy_px['macd 12d sma'] > spy_px['macd 26d sma'], 1.0, 0.0)\n",
    "spy_px['MACD Short'] = np.where(spy_px['macd 12d sma'] < spy_px['macd 26d sma'], -1.0, 0.0)\n",
    "\n",
    "# Construct MACD Signal\n",
    "spy_px['MACD Signal'] = spy_px['MACD Long'] + spy_px['MACD Short']"
   ]
  },
  {
   "cell_type": "code",
   "execution_count": null,
   "metadata": {},
   "outputs": [],
   "source": [
    "#macd_df.tail(20)\n",
    "spy_px[[\"SPY Close\",'macd 12d sma','macd 26d sma']].plot(figsize=(20,10))"
   ]
  },
  {
   "cell_type": "markdown",
   "metadata": {},
   "source": [
    "### RSI"
   ]
  },
  {
   "cell_type": "code",
   "execution_count": null,
   "metadata": {},
   "outputs": [],
   "source": [
    "#rsi_df = pd.DataFrame(spy_px[['Date', 'SPY Close']])\n",
    "\n",
    "def computeRSI(data, time_window):\n",
    "    diff = data.diff(1).dropna()        # diff in one field(one day)\n",
    "\n",
    "    #this preservers dimensions off diff values\n",
    "    up_chg = 0 * diff\n",
    "    down_chg = 0 * diff\n",
    "    \n",
    "    # up change is equal to the positive difference, otherwise equal to zero\n",
    "    up_chg[diff > 0] = diff[diff > 0]\n",
    "    \n",
    "    # down change is equal to negative deifference, otherwise equal to zero\n",
    "    down_chg[diff < 0] = diff[diff < 0]\n",
    "    \n",
    "    # check pandas documentation for ewm\n",
    "    # https://pandas.pydata.org/pandas-docs/stable/reference/api/pandas.DataFrame.ewm.html\n",
    "    # values are related to exponential decay\n",
    "    # we set com=time_window-1 so we get decay alpha=1/time_window\n",
    "    up_chg_avg   = up_chg.ewm(com=time_window-1 , min_periods=time_window).mean()\n",
    "    down_chg_avg = down_chg.ewm(com=time_window-1 , min_periods=time_window).mean()\n",
    "    \n",
    "    rs = abs(up_chg_avg/down_chg_avg)\n",
    "    rsi = 100 - 100/(1+rs)\n",
    "    return rsi\n",
    "\n",
    "spy_px['RSI'] = computeRSI(spy_px['SPY Close'], 14)"
   ]
  },
  {
   "cell_type": "code",
   "execution_count": null,
   "metadata": {},
   "outputs": [],
   "source": [
    "\n",
    "# Construct a crossover trading signal\n",
    "spy_px['RSI Long'] = np.where(spy_px['RSI'] < 30, 1.0, 0.0)\n",
    "spy_px['RSI Short'] = np.where(spy_px['RSI'] > 70, -1.0, 0.0)\n",
    "\n",
    "# Construct MACD Signal\n",
    "spy_px['RSI Signal'] = spy_px['RSI Long'] + spy_px['RSI Short']"
   ]
  },
  {
   "cell_type": "code",
   "execution_count": null,
   "metadata": {},
   "outputs": [],
   "source": [
    "spy_px.iloc[14:30, :]"
   ]
  },
  {
   "cell_type": "code",
   "execution_count": null,
   "metadata": {},
   "outputs": [],
   "source": [
    "spy_px['RSI'].plot(figsize=(20,10))"
   ]
  },
  {
   "cell_type": "markdown",
   "metadata": {},
   "source": [
    "### SMA"
   ]
  },
  {
   "cell_type": "code",
   "execution_count": null,
   "metadata": {},
   "outputs": [],
   "source": [
    "#sma_close = spy_df[[\"Date\", \"SPY Close\"]].set_index(\"Date\")\n",
    "\n",
    "spy_sma_9 = spy_px['SPY Close'].rolling(window=9).mean()\n",
    "spy_sma_20 = spy_px['SPY Close'].rolling(window=20).mean()\n",
    "spy_sma_50 = spy_px['SPY Close'].rolling(window=50).mean()\n",
    "spy_sma_100 = spy_px['SPY Close'].rolling(window=100).mean()\n",
    "spy_sma_200 = spy_px['SPY Close'].rolling(window=200).mean()\n",
    "\n",
    "#sma_df = pd.concat([[spy_sma_9, spy_sma_20, spy_sma_50, spy_sma_100, spy_sma_200]])#, index_col=\"Date\")\n",
    "#sma_df.head(10)\n",
    "#print(spy_sma_9[:20])\n",
    "\n",
    "spy_px['SMA 9'] = pd.DataFrame(spy_sma_9)\n",
    "spy_px['SMA 20'] = pd.DataFrame(spy_sma_20)\n",
    "spy_px['SMA 50'] = pd.DataFrame(spy_sma_50)\n",
    "spy_px['SMA 100'] = pd.DataFrame(spy_sma_100)\n",
    "spy_px['SMA 200'] = pd.DataFrame(spy_sma_200)\n",
    "\n",
    "#spy_close.tail()\n",
    "spy_px[[\"SPY Close\",'SMA 9','SMA 20', 'SMA 50', 'SMA 100', 'SMA 200']].plot(figsize=(20,10))"
   ]
  },
  {
   "cell_type": "code",
   "execution_count": null,
   "metadata": {},
   "outputs": [],
   "source": [
    "# Construct a crossover trading signal\n",
    "spy_px['SMA Long'] = np.where(spy_px['SPY Close'] < spy_px['SMA 200'], 1.0, 0.0)\n",
    "spy_px['SMA Short'] = np.where(spy_px['SPY Close'] > spy_px['SMA 200'] + 20, -1.0, 0.0)\n",
    "\n",
    "# Construct MACD Signal\n",
    "spy_px['SMA Signal'] = spy_px['SMA Long'] + spy_px['SMA Short']"
   ]
  },
  {
   "cell_type": "code",
   "execution_count": null,
   "metadata": {},
   "outputs": [],
   "source": [
    "spy_px.iloc[240:250, :]"
   ]
  },
  {
   "cell_type": "markdown",
   "metadata": {},
   "source": [
    "### CCI"
   ]
  },
  {
   "cell_type": "code",
   "execution_count": null,
   "metadata": {},
   "outputs": [],
   "source": [
    "# Commodity Channel Index Python Code\n",
    "\n",
    "# Retrieve the SPY data from Yahoo finance:\n",
    "data = spy_px\n",
    "#data = pdr.get_data_yahoo(\"SPY\", start=\"2014-01-01\", end=\"2020-04-06\") \n",
    "#data = pd.DataFrame(data)\n",
    "\n",
    "\n",
    "# Commodity Channel Index \n",
    "def computeCCI(data, time_window): \n",
    "    TP = (data['High'] + data['Low'] + data['SPY Close']) / 3 \n",
    "    CCI = pd.Series((TP - TP.rolling(time_window).mean()) / (0.015 * TP.rolling(time_window).std()), name = 'CCI')                   \n",
    "    data = data.join(CCI) \n",
    "    data_df = pd.DataFrame(data['CCI'])\n",
    "    return data_df\n",
    "\n",
    "\n",
    "# Compute the Commodity Channel Index(CCI) for SPY based on the 14-day Moving average\n",
    "#n = 14\n",
    "#cci_df = CCI(data, n)\n",
    "\n",
    "\n",
    "#cci_df[['CCI']].plot(figsize=(20,10))\n",
    "spy_px['CCI'] = computeCCI(spy_px, 14)"
   ]
  },
  {
   "cell_type": "code",
   "execution_count": null,
   "metadata": {},
   "outputs": [],
   "source": [
    "# Construct a CCI trading signal\n",
    "spy_px['CCI Long'] = np.where(spy_px['CCI'] < -175, 1.0, 0.0)\n",
    "spy_px['CCI Short'] = np.where(spy_px['CCI'] > 150, -1.0, 0.0)\n",
    "\n",
    "# Construct CCI Signal\n",
    "spy_px['CCI Signal'] = spy_px['CCI Long'] + spy_px['CCI Short']\n",
    "\n",
    "spy_px.tail(15)"
   ]
  },
  {
   "cell_type": "markdown",
   "metadata": {},
   "source": [
    "### Trading Signals"
   ]
  },
  {
   "cell_type": "code",
   "execution_count": null,
   "metadata": {},
   "outputs": [],
   "source": [
    "spy_px.columns"
   ]
  },
  {
   "cell_type": "code",
   "execution_count": null,
   "metadata": {},
   "outputs": [],
   "source": [
    "spy_px[['RSI Signal', 'bollinger_signal', 'MACD Signal', 'SMA Signal', 'CCI Signal']]"
   ]
  },
  {
   "cell_type": "code",
   "execution_count": null,
   "metadata": {},
   "outputs": [],
   "source": [
    "plt = spy_px[['RSI Signal', 'bollinger_signal', 'MACD Signal', 'SMA Signal', 'CCI Signal']].sum(axis=1).plot(figsize=(15,10))\n",
    "plt.hlines(3, xmin=0, xmax=1600)\n",
    "plt.hlines(-3, xmin=0, xmax=1600)"
   ]
  },
  {
   "cell_type": "code",
   "execution_count": null,
   "metadata": {},
   "outputs": [],
   "source": [
    "plt = spy_px[['RSI Signal', 'bollinger_signal', 'MACD Signal', 'SMA Signal', 'CCI Signal']].sum(axis=1).plot(figsize=(15,10))\n",
    "plt.hlines(1.5, xmin=0, xmax=1600)\n",
    "plt.hlines(-1.5, xmin=0, xmax=1600)"
   ]
  },
  {
   "cell_type": "code",
   "execution_count": null,
   "metadata": {},
   "outputs": [],
   "source": [
    "spy_px['BUY_Signal'] = np.where(spy_px[['RSI Signal', 'bollinger_signal', 'MACD Signal', 'SMA Signal', 'CCI Signal']].sum(axis=1) >= 3, 1.0, 0.0)\n",
    "spy_px['SELL_Signal'] = np.where(spy_px[['RSI Signal', 'bollinger_signal', 'MACD Signal', 'SMA Signal', 'CCI Signal']].sum(axis=1) <= -3, -1.0, 0.0)"
   ]
  },
  {
   "cell_type": "code",
   "execution_count": null,
   "metadata": {},
   "outputs": [],
   "source": [
    "print(spy_px.BUY_Signal.sum(), spy_px.SELL_Signal.sum())"
   ]
  },
  {
   "cell_type": "code",
   "execution_count": null,
   "metadata": {},
   "outputs": [],
   "source": [
    "adam_spy_px = spy_px.copy()\n",
    "adam_spy_px.set_index('Date', inplace=True)\n",
    "adam_spy_px.index = pd.to_datetime(adam_spy_px.index, infer_datetime_format=True)"
   ]
  },
  {
   "cell_type": "code",
   "execution_count": null,
   "metadata": {},
   "outputs": [],
   "source": [
    "security_close = adam_spy_px['SPY Close'].hvplot(\n",
    "    line_color='lightgray',\n",
    "    ylabel='Price in $',\n",
    "    width=1000,\n",
    "    height=400)\n",
    "\n",
    "\n",
    "\n",
    "long = (adam_spy_px[adam_spy_px['BUY_Signal'] == 1.0]['SPY Close'] - 5).hvplot.scatter(\n",
    "    marker=\"^\",\n",
    "    color='green',\n",
    "    legend=False,\n",
    "    ylabel='Price in $',\n",
    "    width=1000,\n",
    "    height=400)\n",
    "\n",
    "short = (adam_spy_px[adam_spy_px['SELL_Signal'] == -1.0]['SPY Close'] + 5).hvplot.scatter(\n",
    "    marker=\"v\",\n",
    "    color='red',\n",
    "    legend=False,\n",
    "    ylabel='Price in $',\n",
    "    width=1000,\n",
    "    height=400)\n",
    "\n",
    "\n",
    "entry_exit_plot = long * security_close * short\n",
    "#entry_exit_plot.opts()\n",
    "entry_exit_plot"
   ]
  },
  {
   "cell_type": "code",
   "execution_count": null,
   "metadata": {},
   "outputs": [],
   "source": [
    "cum_indicators = adam_spy_px.BUY_Signal.cumsum() + adam_spy_px.SELL_Signal.cumsum()"
   ]
  },
  {
   "cell_type": "code",
   "execution_count": null,
   "metadata": {},
   "outputs": [],
   "source": [
    "adam_spy_px.index"
   ]
  },
  {
   "cell_type": "code",
   "execution_count": null,
   "metadata": {},
   "outputs": [],
   "source": [
    "\n",
    "trades = [0]\n",
    "for i, position in enumerate(cum_indicators):\n",
    "    if i == 0:\n",
    "        continue\n",
    "    \n",
    "    elif adam_spy_px.BUY_Signal[i] > 0:\n",
    "        trades.append(1)\n",
    "        \n",
    "    elif adam_spy_px.SELL_Signal[i] < 0:\n",
    "        trades.append(-1)\n",
    "        \n",
    "    else:\n",
    "        trades.append(trades[i-1])\n",
    "    \n",
    "indicators_df = pd.DataFrame(trades, index = adam_spy_px.index, columns=['trade'])"
   ]
  },
  {
   "cell_type": "code",
   "execution_count": null,
   "metadata": {},
   "outputs": [],
   "source": [
    "indicators_df['trade'].value_counts()"
   ]
  },
  {
   "cell_type": "code",
   "execution_count": null,
   "metadata": {},
   "outputs": [],
   "source": [
    "indicators_df = indicators_df.diff().clip(-1,1)"
   ]
  },
  {
   "cell_type": "code",
   "execution_count": null,
   "metadata": {},
   "outputs": [],
   "source": [
    "indicators_df.iloc[0,:] = 0"
   ]
  },
  {
   "cell_type": "code",
   "execution_count": null,
   "metadata": {},
   "outputs": [],
   "source": [
    "indicators_df['trade'].value_counts()"
   ]
  },
  {
   "cell_type": "code",
   "execution_count": null,
   "metadata": {},
   "outputs": [],
   "source": [
    "indicators_df"
   ]
  },
  {
   "cell_type": "code",
   "execution_count": null,
   "metadata": {},
   "outputs": [],
   "source": [
    "security_close = adam_spy_px['SPY Close'].hvplot(\n",
    "    line_color='lightgray',\n",
    "    ylabel='Price in $',\n",
    "    width=1000,\n",
    "    height=400)\n",
    "\n",
    "\n",
    "\n",
    "long = (adam_spy_px[indicators_df.trade == 1]['SPY Close'] - 5).hvplot.scatter(\n",
    "    marker=\"^\",\n",
    "    color='green',\n",
    "    legend=False,\n",
    "    ylabel='Price in $',\n",
    "    width=1000,\n",
    "    height=400)\n",
    "\n",
    "short = (adam_spy_px[indicators_df.trade == -1]['SPY Close'] + 5).hvplot.scatter(\n",
    "    marker=\"v\",\n",
    "    color='red',\n",
    "    legend=False,\n",
    "    ylabel='Price in $',\n",
    "    width=1000,\n",
    "    height=400)\n",
    "\n",
    "\n",
    "entry_exit_plot = long * security_close * short\n",
    "#entry_exit_plot.opts()\n",
    "entry_exit_plot"
   ]
  },
  {
   "cell_type": "code",
   "execution_count": null,
   "metadata": {},
   "outputs": [],
   "source": [
    "position.index = adam_spy_px.index\n",
    "position['2015-10-23']"
   ]
  },
  {
   "cell_type": "code",
   "execution_count": null,
   "metadata": {},
   "outputs": [],
   "source": [
    "position.plot()"
   ]
  },
  {
   "cell_type": "code",
   "execution_count": null,
   "metadata": {},
   "outputs": [],
   "source": [
    "adam_spy_px.SELL_Signal.cumsum()['2015-10-23']"
   ]
  },
  {
   "cell_type": "code",
   "execution_count": null,
   "metadata": {},
   "outputs": [],
   "source": [
    "adam_spy_px.loc['2018-10':'2018-11',['SPY Close','BUY Signal','RSI Signal', 'bollinger_signal', 'MACD Signal', 'SMA Signal', 'CCI Signal']]"
   ]
  },
  {
   "cell_type": "markdown",
   "metadata": {},
   "source": [
    "## Reandom Forest Trading "
   ]
  },
  {
   "cell_type": "code",
   "execution_count": null,
   "metadata": {},
   "outputs": [],
   "source": [
    "from sklearn.ensemble import RandomForestClassifier\n",
    "from sklearn.datasets import make_classification"
   ]
  },
  {
   "cell_type": "code",
   "execution_count": null,
   "metadata": {},
   "outputs": [],
   "source": [
    "adam_spy_px.tail()"
   ]
  },
  {
   "cell_type": "code",
   "execution_count": null,
   "metadata": {},
   "outputs": [],
   "source": [
    "signals_df = adam_spy_px[['RSI Signal', 'bollinger_signal', 'MACD Signal', 'SMA Signal', 'CCI Signal']]\n",
    "signals_df.tail()"
   ]
  },
  {
   "cell_type": "markdown",
   "metadata": {},
   "source": [
    "### Shift the DataFrame Index by 1"
   ]
  },
  {
   "cell_type": "code",
   "execution_count": null,
   "metadata": {},
   "outputs": [],
   "source": [
    "signals_shifted_df = signals_df.shift(1)\n",
    "signals_shifted_df.tail()"
   ]
  },
  {
   "cell_type": "markdown",
   "metadata": {},
   "source": [
    "## Drop NAs and Replace Infs (Positive/Negative Infinity)"
   ]
  },
  {
   "cell_type": "code",
   "execution_count": null,
   "metadata": {},
   "outputs": [],
   "source": [
    "# Drop NAs and replace positive/negative infinity values\n",
    "signals_shifted_df.dropna(inplace=True)\n",
    "#signals_shifted_df.dropna(subset=['daily_return'], inplace=True)\n",
    "signals_inf_df = signals_shifted_df.replace([np.inf, -np.inf], np.nan)\n",
    "signals_inf_df.head()"
   ]
  },
  {
   "cell_type": "markdown",
   "metadata": {},
   "source": [
    "### Construct the Dependent Variable"
   ]
  },
  {
   "cell_type": "code",
   "execution_count": null,
   "metadata": {},
   "outputs": [],
   "source": [
    "signals_inf_df['Trading_Signal'] = indicators_df['trade']\n",
    "signals_inf_df.tail()"
   ]
  },
  {
   "cell_type": "code",
   "execution_count": null,
   "metadata": {},
   "outputs": [],
   "source": [
    "#signals_inf_df['Trading_Signal'] = indicators_df['trade']\n",
    "signals_inf_df['Trading_Signal'].value_counts()"
   ]
  },
  {
   "cell_type": "markdown",
   "metadata": {},
   "source": [
    "### Traning and Testing"
   ]
  },
  {
   "cell_type": "code",
   "execution_count": null,
   "metadata": {},
   "outputs": [],
   "source": [
    "# Construct training start and end dates\n",
    "training_start = signals_inf_df.index.min().strftime(format= '%Y-%m-%d')\n",
    "training_end = '2018-05-17'\n",
    "\n",
    "# Construct testing start and end dates\n",
    "testing_start =  '2018-05-18'\n",
    "testing_end = signals_inf_df.index.max().strftime(format= '%Y-%m-%d')\n",
    "\n",
    "# Print training and testing start/end dates\n",
    "print(f\"Training Start: {training_start}\")\n",
    "print(f\"Training End: {training_end}\")\n",
    "print(f\"Testing Start: {testing_start}\")\n",
    "print(f\"Testing End: {testing_end}\")"
   ]
  },
  {
   "cell_type": "markdown",
   "metadata": {},
   "source": [
    "### Separate X and Y Training Datasets"
   ]
  },
  {
   "cell_type": "code",
   "execution_count": null,
   "metadata": {},
   "outputs": [],
   "source": [
    "\n",
    "# Construct the x train and y train datasets\n",
    "x_train = signals_inf_df[['RSI Signal', 'bollinger_signal', 'MACD Signal', 'SMA Signal', 'CCI Signal']][training_start:training_end]\n",
    "y_train = signals_inf_df['Trading_Signal'][training_start:training_end]\n",
    "\n",
    "x_train.tail()"
   ]
  },
  {
   "cell_type": "code",
   "execution_count": null,
   "metadata": {},
   "outputs": [],
   "source": [
    "y_train.tail()"
   ]
  },
  {
   "cell_type": "markdown",
   "metadata": {},
   "source": [
    "### Separate X and Y Testing Datasets"
   ]
  },
  {
   "cell_type": "code",
   "execution_count": null,
   "metadata": {},
   "outputs": [],
   "source": [
    "# Construct the x train and y train datasets\n",
    "x_test = signals_inf_df[['RSI Signal', 'bollinger_signal', 'MACD Signal', 'SMA Signal', 'CCI Signal']][testing_start:testing_end]\n",
    "y_test = signals_inf_df['Trading_Signal'][testing_start:testing_end]\n",
    "\n",
    "x_test.tail()"
   ]
  },
  {
   "cell_type": "code",
   "execution_count": null,
   "metadata": {},
   "outputs": [],
   "source": [
    "y_test.tail()"
   ]
  },
  {
   "cell_type": "markdown",
   "metadata": {},
   "source": [
    "### Import SKLearn Library and Classes"
   ]
  },
  {
   "cell_type": "code",
   "execution_count": null,
   "metadata": {},
   "outputs": [],
   "source": [
    "from sklearn.ensemble import RandomForestClassifier\n",
    "from sklearn.datasets import make_classification"
   ]
  },
  {
   "cell_type": "markdown",
   "metadata": {},
   "source": [
    "### Train Random Forest Model"
   ]
  },
  {
   "cell_type": "code",
   "execution_count": null,
   "metadata": {},
   "outputs": [],
   "source": [
    "# Fit a SKLearn linear regression using just the training set (X_train, Y_train):\n",
    "model = RandomForestClassifier(n_estimators=100, max_depth=3, random_state=0)\n",
    "model.fit(x_train, y_train)\n",
    "\n",
    "# Make a prediction of \"y\" values from the x test dataset\n",
    "predictions = model.predict(x_test)\n",
    "\n",
    "# Assemble actual y data (Y_test) with predicted y data (from just above) into two columns in a dataframe:\n",
    "Results = y_test.to_frame()\n",
    "Results[\"Predicted_Signals\"] = predictions\n",
    "Results.tail()"
   ]
  },
  {
   "cell_type": "markdown",
   "metadata": {},
   "source": [
    "### Save Pre-Trained Model Using Joblib"
   ]
  },
  {
   "cell_type": "code",
   "execution_count": null,
   "metadata": {},
   "outputs": [],
   "source": [
    "# Save the pre-trained model\n",
    "from joblib import dump, load\n",
    "dump(model, 'random_forest_model.joblib')"
   ]
  },
  {
   "cell_type": "code",
   "execution_count": null,
   "metadata": {},
   "outputs": [],
   "source": [
    "x_test.head()"
   ]
  },
  {
   "cell_type": "code",
   "execution_count": null,
   "metadata": {},
   "outputs": [],
   "source": [
    "y_test.head()"
   ]
  },
  {
   "cell_type": "code",
   "execution_count": null,
   "metadata": {},
   "outputs": [],
   "source": [
    "trading_df = adam_spy_px[[\"SPY Close\"]].loc[\"2018-05-18\":\"2020-04-03\"]\n",
    "trading_df.head()"
   ]
  },
  {
   "cell_type": "code",
   "execution_count": null,
   "metadata": {},
   "outputs": [],
   "source": [
    "trading_df[\"Return\"] = trading_df[\"SPY Close\"].pct_change()\n",
    "trading_df.fillna(0, inplace=True)\n",
    "trading_df.head()"
   ]
  },
  {
   "cell_type": "code",
   "execution_count": null,
   "metadata": {},
   "outputs": [],
   "source": [
    "trading_df.columns"
   ]
  },
  {
   "cell_type": "markdown",
   "metadata": {},
   "source": [
    "### Compare Predicted Results to Y-Test (Actual Results)"
   ]
  },
  {
   "cell_type": "code",
   "execution_count": null,
   "metadata": {},
   "outputs": [],
   "source": [
    "#recreate results from the exercise\n",
    "trading_df[\"Trading_Signal\"] = Results['Trading_Signal']\n",
    "trading_df['Predicted_Signal'] = Results['Predicted_Signals']\n",
    "trading_df.head()"
   ]
  },
  {
   "cell_type": "markdown",
   "metadata": {},
   "source": [
    "### Plot Cumulative Return of Random Forest Model (In Terms of Capital)"
   ]
  },
  {
   "cell_type": "code",
   "execution_count": null,
   "metadata": {},
   "outputs": [],
   "source": [
    "\n",
    "# Set initial capital allocation\n",
    "initial_capital = 100000\n",
    "\n",
    "# Plot cumulative return of model in terms of capital\n",
    "cumulative_return_capital = initial_capital * (1 + (trading_df['Return'] * trading_df['Predicted_Signal'])).cumprod()\n",
    "cumulative_return_capital.plot()"
   ]
  },
  {
   "cell_type": "code",
   "execution_count": null,
   "metadata": {},
   "outputs": [],
   "source": [
    "Results.head()"
   ]
  },
  {
   "cell_type": "code",
   "execution_count": null,
   "metadata": {},
   "outputs": [],
   "source": [
    "signals_inf_df.head()"
   ]
  },
  {
   "cell_type": "code",
   "execution_count": null,
   "metadata": {},
   "outputs": [],
   "source": [
    "signals_inf_df.tail()"
   ]
  },
  {
   "cell_type": "code",
   "execution_count": null,
   "metadata": {},
   "outputs": [],
   "source": [
    "\n",
    "signals_inf_df[\"RSI Signal\"].count()"
   ]
  },
  {
   "cell_type": "code",
   "execution_count": null,
   "metadata": {},
   "outputs": [],
   "source": [
    "\n",
    "signals_inf_df.iloc[1100:1102, :]"
   ]
  },
  {
   "cell_type": "code",
   "execution_count": null,
   "metadata": {},
   "outputs": [],
   "source": [
    "1574 * .7"
   ]
  },
  {
   "cell_type": "code",
   "execution_count": null,
   "metadata": {},
   "outputs": [],
   "source": []
  }
 ],
 "metadata": {
  "kernelspec": {
   "display_name": "Python [conda env:alpacaenv] *",
   "language": "python",
   "name": "conda-env-alpacaenv-py"
  },
  "language_info": {
   "codemirror_mode": {
    "name": "ipython",
    "version": 3
   },
   "file_extension": ".py",
   "mimetype": "text/x-python",
   "name": "python",
   "nbconvert_exporter": "python",
   "pygments_lexer": "ipython3",
   "version": "3.7.7"
  }
 },
 "nbformat": 4,
 "nbformat_minor": 4
}